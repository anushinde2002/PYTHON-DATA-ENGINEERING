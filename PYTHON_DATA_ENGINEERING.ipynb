{
  "nbformat": 4,
  "nbformat_minor": 0,
  "metadata": {
    "colab": {
      "provenance": []
    },
    "kernelspec": {
      "name": "python3",
      "display_name": "Python 3"
    },
    "language_info": {
      "name": "python"
    }
  },
  "cells": [
    {
      "cell_type": "code",
      "execution_count": null,
      "metadata": {
        "colab": {
          "base_uri": "https://localhost:8080/"
        },
        "id": "-Dxs1jMBZxIo",
        "outputId": "54fd709e-b7f8-4a78-8420-742c715d358f"
      },
      "outputs": [
        {
          "output_type": "stream",
          "name": "stdout",
          "text": [
            "Hello Data Engineering\n"
          ]
        }
      ],
      "source": [
        "print(\"Hello Data Engineering\")"
      ]
    },
    {
      "cell_type": "code",
      "source": [
        "greeting=\"Welcome to Data Engineering\"\n",
        "print(greeting)"
      ],
      "metadata": {
        "colab": {
          "base_uri": "https://localhost:8080/"
        },
        "id": "8akGDvnrcASx",
        "outputId": "83cc5116-1d1c-4791-dca7-fabd6c31e18f"
      },
      "execution_count": null,
      "outputs": [
        {
          "output_type": "stream",
          "name": "stdout",
          "text": [
            "Welcome to Data Engineering\n"
          ]
        }
      ]
    },
    {
      "cell_type": "code",
      "source": [
        "int_var=10\n",
        "float_var=3.24\n",
        "char_var='a'\n",
        "string_var=\"Anita Shinde\"\n",
        "print(string_var)\n",
        "print(float_var)\n",
        "print(char_var)\n",
        "print(int_var)"
      ],
      "metadata": {
        "colab": {
          "base_uri": "https://localhost:8080/"
        },
        "id": "vspY-BXEcNBf",
        "outputId": "45c3edfb-f8e0-4d23-9259-1d1199ed7bd7"
      },
      "execution_count": null,
      "outputs": [
        {
          "output_type": "stream",
          "name": "stdout",
          "text": [
            "Anita Shinde\n",
            "3.24\n",
            "a\n",
            "10\n"
          ]
        }
      ]
    },
    {
      "cell_type": "code",
      "source": [
        "#operator\n",
        "num1=10\n",
        "num2=20\n",
        "sum=num1+num2\n",
        "mul=num1*num2\n",
        "sub=num1-num2\n",
        "div=num1/num2\n",
        "\n",
        "print(sum)\n",
        "print(div)\n",
        "print(mul)\n",
        "print(sub)\n"
      ],
      "metadata": {
        "colab": {
          "base_uri": "https://localhost:8080/"
        },
        "id": "sSx8MHyAdmq9",
        "outputId": "b84a8db3-5e61-4300-b6a2-cb01baad7bae"
      },
      "execution_count": null,
      "outputs": [
        {
          "output_type": "stream",
          "name": "stdout",
          "text": [
            "30\n",
            "0.5\n",
            "200\n",
            "-10\n"
          ]
        }
      ]
    },
    {
      "cell_type": "code",
      "source": [
        "#Equal Operator\n",
        "var_equal=num1==num2\n",
        "print(var_equal)\n"
      ],
      "metadata": {
        "colab": {
          "base_uri": "https://localhost:8080/"
        },
        "id": "DJR3YcK4eE8R",
        "outputId": "5c98a37b-c41d-4bfc-c65c-0247a8e086ed"
      },
      "execution_count": null,
      "outputs": [
        {
          "output_type": "stream",
          "name": "stdout",
          "text": [
            "False\n"
          ]
        }
      ]
    },
    {
      "cell_type": "code",
      "source": [
        "var_notequal=num1!=num2\n",
        "print(var_notequal)\n"
      ],
      "metadata": {
        "colab": {
          "base_uri": "https://localhost:8080/"
        },
        "id": "zrhGOQ9Oe1yK",
        "outputId": "a29efa0a-edfc-4073-bc87-33a3e3a4b596"
      },
      "execution_count": null,
      "outputs": [
        {
          "output_type": "stream",
          "name": "stdout",
          "text": [
            "True\n"
          ]
        }
      ]
    },
    {
      "cell_type": "code",
      "source": [
        "print(True and False)"
      ],
      "metadata": {
        "colab": {
          "base_uri": "https://localhost:8080/"
        },
        "id": "B31Id1A5R-pQ",
        "outputId": "7e0b9947-367f-4fe5-82c7-47586d3d2051"
      },
      "execution_count": null,
      "outputs": [
        {
          "output_type": "stream",
          "name": "stdout",
          "text": [
            "False\n"
          ]
        }
      ]
    },
    {
      "cell_type": "code",
      "source": [
        "print(True or False)"
      ],
      "metadata": {
        "colab": {
          "base_uri": "https://localhost:8080/"
        },
        "id": "xWgI_1nYR_LD",
        "outputId": "e82997b6-4231-4c88-85aa-fd940d20580d"
      },
      "execution_count": null,
      "outputs": [
        {
          "output_type": "stream",
          "name": "stdout",
          "text": [
            "True\n"
          ]
        }
      ]
    },
    {
      "cell_type": "code",
      "source": [
        "num=7\n",
        "if num>10:\n",
        "  print(\"greater\")\n",
        "else:\n",
        "  print(\"smaller\")"
      ],
      "metadata": {
        "colab": {
          "base_uri": "https://localhost:8080/"
        },
        "id": "RTXsz8CBSI2w",
        "outputId": "4dc7ee74-3e53-47a7-e909-7fc07dfc9bec"
      },
      "execution_count": null,
      "outputs": [
        {
          "output_type": "stream",
          "name": "stdout",
          "text": [
            "smaller\n"
          ]
        }
      ]
    },
    {
      "cell_type": "code",
      "source": [
        "for i in range(5):\n",
        "  print(i)\n"
      ],
      "metadata": {
        "colab": {
          "base_uri": "https://localhost:8080/"
        },
        "id": "embm8hUkSXhR",
        "outputId": "3ea4b8da-0096-4674-c31b-6fe43bbe2186"
      },
      "execution_count": null,
      "outputs": [
        {
          "output_type": "stream",
          "name": "stdout",
          "text": [
            "0\n",
            "1\n",
            "2\n",
            "3\n",
            "4\n"
          ]
        }
      ]
    },
    {
      "cell_type": "code",
      "source": [
        "number=5\n",
        "while number>0:\n",
        "  print(number)\n",
        "  number=number-1"
      ],
      "metadata": {
        "colab": {
          "base_uri": "https://localhost:8080/"
        },
        "id": "1MQmOewISXum",
        "outputId": "fb3d5c19-5ce9-472f-91ae-24daca33caf8"
      },
      "execution_count": null,
      "outputs": [
        {
          "output_type": "stream",
          "name": "stdout",
          "text": [
            "5\n",
            "4\n",
            "3\n",
            "2\n",
            "1\n"
          ]
        }
      ]
    },
    {
      "cell_type": "code",
      "source": [
        "def greet():\n",
        "    print(\"Hello World!\")"
      ],
      "metadata": {
        "id": "DW0fDHgjlklK"
      },
      "execution_count": null,
      "outputs": []
    },
    {
      "cell_type": "code",
      "source": [
        "greet()"
      ],
      "metadata": {
        "colab": {
          "base_uri": "https://localhost:8080/"
        },
        "id": "1Iqv32cblkzl",
        "outputId": "ee99f1da-140c-4fbf-a85f-09ba1a10e475"
      },
      "execution_count": null,
      "outputs": [
        {
          "output_type": "stream",
          "name": "stdout",
          "text": [
            "Hello World!\n"
          ]
        }
      ]
    },
    {
      "cell_type": "code",
      "source": [
        "def greet(name):\n",
        "  print(\"Hello\"+name)"
      ],
      "metadata": {
        "id": "-Q9p79KjmHWn"
      },
      "execution_count": null,
      "outputs": []
    },
    {
      "cell_type": "code",
      "source": [
        "greet(\"Anita\")"
      ],
      "metadata": {
        "colab": {
          "base_uri": "https://localhost:8080/"
        },
        "id": "gz5GNR3ZmH1r",
        "outputId": "a6c1244e-9f86-4754-c853-d6b7c8e34de6"
      },
      "execution_count": null,
      "outputs": [
        {
          "output_type": "stream",
          "name": "stdout",
          "text": [
            "HelloAnita\n"
          ]
        }
      ]
    },
    {
      "cell_type": "code",
      "source": [
        "def add_number(num1,num2):\n",
        "  return num1+num2\n"
      ],
      "metadata": {
        "id": "RCYJc2OHma3w"
      },
      "execution_count": null,
      "outputs": []
    },
    {
      "cell_type": "code",
      "source": [
        "sum=add_number(10,20)\n",
        "print(sum)"
      ],
      "metadata": {
        "colab": {
          "base_uri": "https://localhost:8080/"
        },
        "id": "yeCFXAi8mbDx",
        "outputId": "c663fba0-0108-409c-d95d-6b4a9572444e"
      },
      "execution_count": null,
      "outputs": [
        {
          "output_type": "stream",
          "name": "stdout",
          "text": [
            "30\n"
          ]
        }
      ]
    },
    {
      "cell_type": "code",
      "source": [
        "#MODULES AND PACKAGES\n",
        "\n",
        "import math"
      ],
      "metadata": {
        "id": "CuymlZNsn3sO"
      },
      "execution_count": null,
      "outputs": []
    },
    {
      "cell_type": "code",
      "source": [
        "print(math.sqrt(16))"
      ],
      "metadata": {
        "colab": {
          "base_uri": "https://localhost:8080/"
        },
        "id": "oNpd2N_en3-l",
        "outputId": "40786656-c156-4156-a5e5-1093b9344e1a"
      },
      "execution_count": null,
      "outputs": [
        {
          "output_type": "stream",
          "name": "stdout",
          "text": [
            "4.0\n"
          ]
        }
      ]
    },
    {
      "cell_type": "code",
      "source": [
        "!pip install pandas"
      ],
      "metadata": {
        "colab": {
          "base_uri": "https://localhost:8080/"
        },
        "id": "p_dUbDtcoKl7",
        "outputId": "4a8841b4-af3d-4e98-aef6-d33377ea8fa3"
      },
      "execution_count": null,
      "outputs": [
        {
          "output_type": "stream",
          "name": "stdout",
          "text": [
            "Requirement already satisfied: pandas in /usr/local/lib/python3.10/dist-packages (2.0.3)\n",
            "Requirement already satisfied: python-dateutil>=2.8.2 in /usr/local/lib/python3.10/dist-packages (from pandas) (2.8.2)\n",
            "Requirement already satisfied: pytz>=2020.1 in /usr/local/lib/python3.10/dist-packages (from pandas) (2023.4)\n",
            "Requirement already satisfied: tzdata>=2022.1 in /usr/local/lib/python3.10/dist-packages (from pandas) (2024.1)\n",
            "Requirement already satisfied: numpy>=1.21.0 in /usr/local/lib/python3.10/dist-packages (from pandas) (1.25.2)\n",
            "Requirement already satisfied: six>=1.5 in /usr/local/lib/python3.10/dist-packages (from python-dateutil>=2.8.2->pandas) (1.16.0)\n"
          ]
        }
      ]
    },
    {
      "cell_type": "code",
      "source": [
        "import pandas as pd"
      ],
      "metadata": {
        "id": "oWSiluedoK17"
      },
      "execution_count": null,
      "outputs": []
    },
    {
      "cell_type": "code",
      "source": [
        "data={'name':[\"Anita\",\"Aishwarya\",\"Akshada\",\"Pranali\"],'Age':[20,22,23,21]}\n",
        "df=pd.DataFrame(data)\n",
        "print(df)"
      ],
      "metadata": {
        "colab": {
          "base_uri": "https://localhost:8080/"
        },
        "id": "lWyM_tIHoLGF",
        "outputId": "309c7cea-a195-4a03-bf97-7c48609045c9"
      },
      "execution_count": null,
      "outputs": [
        {
          "output_type": "stream",
          "name": "stdout",
          "text": [
            "        name  Age\n",
            "0      Anita   20\n",
            "1  Aishwarya   22\n",
            "2    Akshada   23\n",
            "3    Pranali   21\n"
          ]
        }
      ]
    },
    {
      "cell_type": "code",
      "source": [
        "#STRINGS\n",
        "\n",
        "greeting=\"Hello! Data Engineering\"\n",
        "print(greeting)"
      ],
      "metadata": {
        "colab": {
          "base_uri": "https://localhost:8080/"
        },
        "id": "LZJZCQvyqJSe",
        "outputId": "b166829d-a6d2-48d6-e664-5ff7e7189eac"
      },
      "execution_count": null,
      "outputs": [
        {
          "output_type": "stream",
          "name": "stdout",
          "text": [
            "Hello! Data Engineering\n"
          ]
        }
      ]
    },
    {
      "cell_type": "code",
      "source": [
        "name=\"ankush\"\n",
        "message=greeting+name\n",
        "print(message)"
      ],
      "metadata": {
        "colab": {
          "base_uri": "https://localhost:8080/"
        },
        "id": "H5nHpb76qK46",
        "outputId": "f7b1d1cf-4be8-4a1f-8067-19b65e5cc969"
      },
      "execution_count": null,
      "outputs": [
        {
          "output_type": "stream",
          "name": "stdout",
          "text": [
            "Hello! Data Engineeringankush\n"
          ]
        }
      ]
    },
    {
      "cell_type": "code",
      "source": [
        "new_string=greeting.replace(\"Hello!\",\"Hi\")\n",
        "print(new_string)"
      ],
      "metadata": {
        "colab": {
          "base_uri": "https://localhost:8080/"
        },
        "id": "XDBg_X8brM5I",
        "outputId": "7d181b99-68b6-4122-a9b3-32816f7286ba"
      },
      "execution_count": null,
      "outputs": [
        {
          "output_type": "stream",
          "name": "stdout",
          "text": [
            "Hi Data Engineering\n"
          ]
        }
      ]
    },
    {
      "cell_type": "code",
      "source": [
        "sentence='  Hello World  '\n",
        "print(sentence.strip())"
      ],
      "metadata": {
        "colab": {
          "base_uri": "https://localhost:8080/"
        },
        "id": "MsMOusDcrmfR",
        "outputId": "89aa53a0-a3a4-4b26-9077-d7745311b734"
      },
      "execution_count": null,
      "outputs": [
        {
          "output_type": "stream",
          "name": "stdout",
          "text": [
            "Hello World\n"
          ]
        }
      ]
    },
    {
      "cell_type": "code",
      "source": [
        "index=greeting.find(\"Data\")\n",
        "print(index)"
      ],
      "metadata": {
        "colab": {
          "base_uri": "https://localhost:8080/"
        },
        "id": "M6tmFps9rNGb",
        "outputId": "d91e9d28-8423-4b2d-d773-8f2faf2a7fea"
      },
      "execution_count": null,
      "outputs": [
        {
          "output_type": "stream",
          "name": "stdout",
          "text": [
            "7\n"
          ]
        }
      ]
    },
    {
      "cell_type": "code",
      "source": [
        "template='hello {}'\n",
        "print(template.format(\"Anita\"))\n"
      ],
      "metadata": {
        "colab": {
          "base_uri": "https://localhost:8080/"
        },
        "id": "ZNapexZasTns",
        "outputId": "1df12373-e12e-459a-8f1e-146f32d102a6"
      },
      "execution_count": null,
      "outputs": [
        {
          "output_type": "stream",
          "name": "stdout",
          "text": [
            "hello Anita\n"
          ]
        }
      ]
    },
    {
      "cell_type": "code",
      "source": [
        "print(greeting.upper())"
      ],
      "metadata": {
        "colab": {
          "base_uri": "https://localhost:8080/"
        },
        "id": "Snyyf9crsT4p",
        "outputId": "86162286-4f0d-4405-c8b2-2e4bce909779"
      },
      "execution_count": null,
      "outputs": [
        {
          "output_type": "stream",
          "name": "stdout",
          "text": [
            "HELLO! DATA ENGINEERING\n"
          ]
        }
      ]
    },
    {
      "cell_type": "code",
      "source": [
        "print(greeting.lower())"
      ],
      "metadata": {
        "colab": {
          "base_uri": "https://localhost:8080/"
        },
        "id": "Yi0ZDyUKs1Rh",
        "outputId": "696af285-0b78-4632-df25-e2990832cd09"
      },
      "execution_count": null,
      "outputs": [
        {
          "output_type": "stream",
          "name": "stdout",
          "text": [
            "hello! data engineering\n"
          ]
        }
      ]
    },
    {
      "cell_type": "code",
      "source": [
        "words=greeting.split()\n",
        "print(words)"
      ],
      "metadata": {
        "colab": {
          "base_uri": "https://localhost:8080/"
        },
        "id": "0x0xwvQ2s1eC",
        "outputId": "36d778f0-e43c-45a3-a378-e9c13079816f"
      },
      "execution_count": null,
      "outputs": [
        {
          "output_type": "stream",
          "name": "stdout",
          "text": [
            "['Hello!', 'Data', 'Engineering']\n"
          ]
        }
      ]
    },
    {
      "cell_type": "code",
      "source": [
        "#ERROR HANDLING\n",
        "\n",
        "print(10/0)"
      ],
      "metadata": {
        "colab": {
          "base_uri": "https://localhost:8080/",
          "height": 176
        },
        "id": "2Q2CGWOJs1p7",
        "outputId": "ca235f3b-e3de-4574-adc6-2ba62c4e74dd"
      },
      "execution_count": null,
      "outputs": [
        {
          "output_type": "error",
          "ename": "ZeroDivisionError",
          "evalue": "division by zero",
          "traceback": [
            "\u001b[0;31m---------------------------------------------------------------------------\u001b[0m",
            "\u001b[0;31mZeroDivisionError\u001b[0m                         Traceback (most recent call last)",
            "\u001b[0;32m<ipython-input-28-cc31ffa1f607>\u001b[0m in \u001b[0;36m<cell line: 3>\u001b[0;34m()\u001b[0m\n\u001b[1;32m      1\u001b[0m \u001b[0;31m#ERROR HANDLING\u001b[0m\u001b[0;34m\u001b[0m\u001b[0;34m\u001b[0m\u001b[0m\n\u001b[1;32m      2\u001b[0m \u001b[0;34m\u001b[0m\u001b[0m\n\u001b[0;32m----> 3\u001b[0;31m \u001b[0mprint\u001b[0m\u001b[0;34m(\u001b[0m\u001b[0;36m10\u001b[0m\u001b[0;34m/\u001b[0m\u001b[0;36m0\u001b[0m\u001b[0;34m)\u001b[0m\u001b[0;34m\u001b[0m\u001b[0;34m\u001b[0m\u001b[0m\n\u001b[0m",
            "\u001b[0;31mZeroDivisionError\u001b[0m: division by zero"
          ]
        }
      ]
    },
    {
      "cell_type": "code",
      "source": [
        "try:\n",
        "  print(10/0)\n",
        "except ZeroDivisionError:\n",
        "  print(\"Sorry! you are dividing by zero\")"
      ],
      "metadata": {
        "colab": {
          "base_uri": "https://localhost:8080/"
        },
        "id": "Nl2ik7MLw8aL",
        "outputId": "e2f11d0b-4e37-4a36-b586-4ebdcd63a561"
      },
      "execution_count": null,
      "outputs": [
        {
          "output_type": "stream",
          "name": "stdout",
          "text": [
            "Sorry! you are dividing by zero\n"
          ]
        }
      ]
    },
    {
      "cell_type": "code",
      "source": [
        "try:\n",
        "  print(10/0)\n",
        "except:\n",
        "  print(\"Sorry! you are dividing by zero\")"
      ],
      "metadata": {
        "colab": {
          "base_uri": "https://localhost:8080/"
        },
        "id": "BdZ4225Vw9Eh",
        "outputId": "50af480f-78a8-4723-eb4c-2475240250c0"
      },
      "execution_count": null,
      "outputs": [
        {
          "output_type": "stream",
          "name": "stdout",
          "text": [
            "Sorry! you are dividing by zero\n"
          ]
        }
      ]
    },
    {
      "cell_type": "code",
      "source": [
        "try:\n",
        "  print(10/2)\n",
        "except:\n",
        "  print(\"Sorry! you are dividing by zero\")\n",
        "else:\n",
        "  print(\"nothing wrong happened\")\n",
        "finally:\n",
        "  print(\"execute always\")"
      ],
      "metadata": {
        "colab": {
          "base_uri": "https://localhost:8080/"
        },
        "id": "M8kwJHrxyBVd",
        "outputId": "6138253f-69be-46cc-bc72-38160edc1ab5"
      },
      "execution_count": null,
      "outputs": [
        {
          "output_type": "stream",
          "name": "stdout",
          "text": [
            "5.0\n",
            "nothing wrong happened\n",
            "execute always\n"
          ]
        }
      ]
    },
    {
      "cell_type": "code",
      "source": [
        "#COLLECTIONS\n",
        "\n",
        "Employee=(1,\"Ankita\",\"Indore\",9285868475)\n",
        "print(Employee)"
      ],
      "metadata": {
        "colab": {
          "base_uri": "https://localhost:8080/"
        },
        "id": "eJAsRxdcyBoU",
        "outputId": "545b9154-ddf0-47d9-ef0c-5b10068e7e19"
      },
      "execution_count": null,
      "outputs": [
        {
          "output_type": "stream",
          "name": "stdout",
          "text": [
            "(1, 'Ankita', 'Indore', 9285868475)\n"
          ]
        }
      ]
    },
    {
      "cell_type": "code",
      "source": [
        "print(Employee[2])"
      ],
      "metadata": {
        "colab": {
          "base_uri": "https://localhost:8080/"
        },
        "id": "nrl06qkv6eHO",
        "outputId": "e169056e-31a5-49a5-d34f-8d0bf3cff53c"
      },
      "execution_count": null,
      "outputs": [
        {
          "output_type": "stream",
          "name": "stdout",
          "text": [
            "Indore\n"
          ]
        }
      ]
    },
    {
      "cell_type": "code",
      "source": [
        "print(Employee[-1])"
      ],
      "metadata": {
        "colab": {
          "base_uri": "https://localhost:8080/"
        },
        "id": "TCp3g5uv6eXO",
        "outputId": "281767eb-75fd-44ed-99ae-dd5d756ad447"
      },
      "execution_count": null,
      "outputs": [
        {
          "output_type": "stream",
          "name": "stdout",
          "text": [
            "9285868475\n"
          ]
        }
      ]
    },
    {
      "cell_type": "code",
      "source": [
        "print(len(Employee))"
      ],
      "metadata": {
        "colab": {
          "base_uri": "https://localhost:8080/"
        },
        "id": "bww8TKJE6qwK",
        "outputId": "abfa2c3d-a87c-4bc5-980c-ae9611286b0b"
      },
      "execution_count": null,
      "outputs": [
        {
          "output_type": "stream",
          "name": "stdout",
          "text": [
            "4\n"
          ]
        }
      ]
    },
    {
      "cell_type": "code",
      "source": [
        "Employee=(1,\"Ankita\",\"Indore\",9495867354)\n",
        "new_emp=list(Employee)\n",
        "new_emp[1]=\"Ankita Pawar\"\n",
        "Employee=tuple(new_emp)\n",
        "print(Employee)"
      ],
      "metadata": {
        "colab": {
          "base_uri": "https://localhost:8080/"
        },
        "id": "bwsx0Tb17B8w",
        "outputId": "b89c6562-11d7-4aca-c52c-a109e310072b"
      },
      "execution_count": null,
      "outputs": [
        {
          "output_type": "stream",
          "name": "stdout",
          "text": [
            "(1, 'Ankita Pawar', 'Indore', 9495867354)\n"
          ]
        }
      ]
    },
    {
      "cell_type": "code",
      "source": [
        "for x in Employee:\n",
        "  print(x)"
      ],
      "metadata": {
        "colab": {
          "base_uri": "https://localhost:8080/"
        },
        "id": "Y3QJINMl7CJR",
        "outputId": "77badcb8-17ec-4787-f06b-11d3a99c3a57"
      },
      "execution_count": null,
      "outputs": [
        {
          "output_type": "stream",
          "name": "stdout",
          "text": [
            "1\n",
            "Ankita Pawar\n",
            "Indore\n",
            "9495867354\n"
          ]
        }
      ]
    },
    {
      "cell_type": "code",
      "source": [
        "print(Employee.index(\"Indore\"))"
      ],
      "metadata": {
        "colab": {
          "base_uri": "https://localhost:8080/"
        },
        "id": "LM8PTiVX7xgP",
        "outputId": "6907d9a1-158d-4d55-9a91-bf519894de7f"
      },
      "execution_count": null,
      "outputs": [
        {
          "output_type": "stream",
          "name": "stdout",
          "text": [
            "2\n"
          ]
        }
      ]
    },
    {
      "cell_type": "code",
      "source": [
        "#LIST\n",
        "\n",
        "Tasks=[\"Development\",\"Testing\",\"Monitoring\"]\n",
        "print(Tasks)"
      ],
      "metadata": {
        "colab": {
          "base_uri": "https://localhost:8080/"
        },
        "id": "XJMErczS7xsH",
        "outputId": "f427a156-4463-441d-b8fc-480473aded4d"
      },
      "execution_count": null,
      "outputs": [
        {
          "output_type": "stream",
          "name": "stdout",
          "text": [
            "['Development', 'Testing', 'Monitoring']\n"
          ]
        }
      ]
    },
    {
      "cell_type": "code",
      "source": [
        "print(Tasks[1])"
      ],
      "metadata": {
        "colab": {
          "base_uri": "https://localhost:8080/"
        },
        "id": "Nx1PDdhl8RSB",
        "outputId": "0cdabf90-df28-41f7-9b4a-e6c5c3cbefcb"
      },
      "execution_count": null,
      "outputs": [
        {
          "output_type": "stream",
          "name": "stdout",
          "text": [
            "Testing\n"
          ]
        }
      ]
    },
    {
      "cell_type": "code",
      "source": [
        "Tasks1='New_Testing'\n",
        "print(Tasks)"
      ],
      "metadata": {
        "colab": {
          "base_uri": "https://localhost:8080/"
        },
        "id": "Hx2p0-JG8eNz",
        "outputId": "b97c4a0c-d77d-4057-fe8b-d49ba49f327d"
      },
      "execution_count": null,
      "outputs": [
        {
          "output_type": "stream",
          "name": "stdout",
          "text": [
            "['Development', 'Testing', 'Monitoring']\n"
          ]
        }
      ]
    },
    {
      "cell_type": "code",
      "source": [
        "Tasks.append(\"Analyst\")\n",
        "print(Tasks)"
      ],
      "metadata": {
        "colab": {
          "base_uri": "https://localhost:8080/"
        },
        "id": "PtA5flSE8ea5",
        "outputId": "31791060-581c-4efa-a86a-0d44ade02975"
      },
      "execution_count": null,
      "outputs": [
        {
          "output_type": "stream",
          "name": "stdout",
          "text": [
            "['Development', 'Testing', 'Monitoring', 'Analyst', 'Analyst']\n"
          ]
        }
      ]
    },
    {
      "cell_type": "code",
      "source": [
        "Tasks.insert(1,\"Business Analyst\")\n",
        "print(Tasks)"
      ],
      "metadata": {
        "colab": {
          "base_uri": "https://localhost:8080/"
        },
        "id": "8G5CA5iE8Rby",
        "outputId": "8aa1a366-889a-45d8-af11-070f13be7207"
      },
      "execution_count": null,
      "outputs": [
        {
          "output_type": "stream",
          "name": "stdout",
          "text": [
            "['Development', 'Business Analyst', 'Testing', 'Monitoring', 'Analyst', 'Analyst']\n"
          ]
        }
      ]
    },
    {
      "cell_type": "code",
      "source": [
        "Tasks.pop()\n",
        "print(Tasks)"
      ],
      "metadata": {
        "colab": {
          "base_uri": "https://localhost:8080/"
        },
        "id": "IdOeDrvA9ZVI",
        "outputId": "103eeff9-a35a-42c6-8517-717c8ef62dee"
      },
      "execution_count": null,
      "outputs": [
        {
          "output_type": "stream",
          "name": "stdout",
          "text": [
            "['Development', 'Business Analyst', 'Testing', 'Monitoring']\n"
          ]
        }
      ]
    },
    {
      "cell_type": "code",
      "source": [
        "for x in Tasks:\n",
        "  print(x)"
      ],
      "metadata": {
        "colab": {
          "base_uri": "https://localhost:8080/"
        },
        "id": "as-W0W559fLE",
        "outputId": "14190a6e-583b-4a60-c3fa-98e0eebe0201"
      },
      "execution_count": null,
      "outputs": [
        {
          "output_type": "stream",
          "name": "stdout",
          "text": [
            "Development\n",
            "Business Analyst\n",
            "Testing\n",
            "Monitoring\n"
          ]
        }
      ]
    },
    {
      "cell_type": "code",
      "source": [
        "#SETS\n",
        "\n",
        "Tasks={\"Software Engineer\",\"Civil Engineer\",\"Business Analyst\"}\n",
        "print(Tasks)"
      ],
      "metadata": {
        "colab": {
          "base_uri": "https://localhost:8080/"
        },
        "id": "vRDTB4l69fYY",
        "outputId": "5ba50bdf-69de-4200-b48a-1f38b1ae8389"
      },
      "execution_count": null,
      "outputs": [
        {
          "output_type": "stream",
          "name": "stdout",
          "text": [
            "{'Civil Engineer', 'Software Engineer', 'Business Analyst'}\n"
          ]
        }
      ]
    },
    {
      "cell_type": "code",
      "source": [
        "Tasks={\"Software Engineer\",\"Civil Engineer\",\"Business Analyst\",\"Civil Engineer\"}\n",
        "print(Tasks)"
      ],
      "metadata": {
        "colab": {
          "base_uri": "https://localhost:8080/"
        },
        "id": "k7d8z6Km9fjU",
        "outputId": "64702391-4c5a-4cab-aa3a-10ddf2773082"
      },
      "execution_count": null,
      "outputs": [
        {
          "output_type": "stream",
          "name": "stdout",
          "text": [
            "{'Civil Engineer', 'Software Engineer', 'Business Analyst'}\n"
          ]
        }
      ]
    },
    {
      "cell_type": "code",
      "source": [
        "new_tasks={\"software testing\",\"unit testing\",\"integration testing\"}\n",
        "Tasks.update(new_tasks)\n",
        "print(Tasks)"
      ],
      "metadata": {
        "colab": {
          "base_uri": "https://localhost:8080/"
        },
        "id": "0Cj0EU-j-W3v",
        "outputId": "d615ac13-110c-4d69-b6bc-af24696ced23"
      },
      "execution_count": null,
      "outputs": [
        {
          "output_type": "stream",
          "name": "stdout",
          "text": [
            "{'software testing', 'unit testing', 'Civil Engineer', 'Software Engineer', 'integration testing', 'Business Analyst'}\n"
          ]
        }
      ]
    },
    {
      "cell_type": "code",
      "source": [
        "new_tasks.clear()\n",
        "print(new_tasks)"
      ],
      "metadata": {
        "colab": {
          "base_uri": "https://localhost:8080/"
        },
        "id": "ThySYwf3-XDR",
        "outputId": "4107ddc6-66ef-47ed-b1ed-c29b39b3b598"
      },
      "execution_count": null,
      "outputs": [
        {
          "output_type": "stream",
          "name": "stdout",
          "text": [
            "set()\n"
          ]
        }
      ]
    },
    {
      "cell_type": "code",
      "source": [
        "#Dictionaries\n",
        "\n",
        "User={'name':\"Anita\", 'age':21, 'contact':928387465}\n",
        "print(User)"
      ],
      "metadata": {
        "colab": {
          "base_uri": "https://localhost:8080/"
        },
        "id": "dALFIKdv_LNS",
        "outputId": "60382764-ff64-4164-f6ab-33ce54604d53"
      },
      "execution_count": null,
      "outputs": [
        {
          "output_type": "stream",
          "name": "stdout",
          "text": [
            "{'name': 'Anita', 'age': 21, 'contact': 928387465}\n"
          ]
        }
      ]
    },
    {
      "cell_type": "code",
      "source": [
        "print(User['age'])"
      ],
      "metadata": {
        "colab": {
          "base_uri": "https://localhost:8080/"
        },
        "id": "dIeE9tzE_LPI",
        "outputId": "e7d56a06-be39-4f2e-c638-f23fe94d2c14"
      },
      "execution_count": null,
      "outputs": [
        {
          "output_type": "stream",
          "name": "stdout",
          "text": [
            "21\n"
          ]
        }
      ]
    },
    {
      "cell_type": "code",
      "source": [
        "User.get('age')"
      ],
      "metadata": {
        "colab": {
          "base_uri": "https://localhost:8080/"
        },
        "id": "QnBiBcDZ_y5m",
        "outputId": "eec755df-04df-4720-ca04-5dfddc8a97c1"
      },
      "execution_count": null,
      "outputs": [
        {
          "output_type": "execute_result",
          "data": {
            "text/plain": [
              "21"
            ]
          },
          "metadata": {},
          "execution_count": 70
        }
      ]
    },
    {
      "cell_type": "code",
      "source": [
        "keys=User.keys()\n",
        "print(keys)"
      ],
      "metadata": {
        "colab": {
          "base_uri": "https://localhost:8080/"
        },
        "id": "ntGNNamsAGq2",
        "outputId": "eebab61e-9f10-4d98-955f-0a96789e0ae3"
      },
      "execution_count": null,
      "outputs": [
        {
          "output_type": "stream",
          "name": "stdout",
          "text": [
            "dict_keys(['name', 'age', 'contact'])\n"
          ]
        }
      ]
    },
    {
      "cell_type": "code",
      "source": [
        "values=User.values()\n",
        "print(values)"
      ],
      "metadata": {
        "colab": {
          "base_uri": "https://localhost:8080/"
        },
        "id": "4jrRIlxWAG4z",
        "outputId": "1e495bf7-b653-443c-fc17-41e5de131a0d"
      },
      "execution_count": null,
      "outputs": [
        {
          "output_type": "stream",
          "name": "stdout",
          "text": [
            "dict_values(['Anita', 21, 928387465])\n"
          ]
        }
      ]
    },
    {
      "cell_type": "code",
      "source": [
        "if 'name' in User:\n",
        "  print('Yes')"
      ],
      "metadata": {
        "colab": {
          "base_uri": "https://localhost:8080/"
        },
        "id": "oGXsAhYr_zUZ",
        "outputId": "09c847c7-1299-432e-e032-ab27616b7081"
      },
      "execution_count": null,
      "outputs": [
        {
          "output_type": "stream",
          "name": "stdout",
          "text": [
            "Yes\n"
          ]
        }
      ]
    },
    {
      "cell_type": "code",
      "source": [
        "User.pop('contact')\n",
        "print(User)"
      ],
      "metadata": {
        "colab": {
          "base_uri": "https://localhost:8080/"
        },
        "id": "coXDp384_LRt",
        "outputId": "892c3a80-04e6-49cd-e4a6-7d39a15c89b9"
      },
      "execution_count": null,
      "outputs": [
        {
          "output_type": "stream",
          "name": "stdout",
          "text": [
            "{'name': 'Anita', 'age': 21}\n"
          ]
        }
      ]
    },
    {
      "cell_type": "code",
      "source": [
        "for x in User.keys():\n",
        "  print(x)"
      ],
      "metadata": {
        "colab": {
          "base_uri": "https://localhost:8080/"
        },
        "id": "hRsJLC8MAitO",
        "outputId": "77395eb0-fbf9-4291-cf68-6ed5eb564b0a"
      },
      "execution_count": null,
      "outputs": [
        {
          "output_type": "stream",
          "name": "stdout",
          "text": [
            "name\n",
            "age\n"
          ]
        }
      ]
    },
    {
      "cell_type": "code",
      "source": [
        "#WORKING WITH CSV FILE\n",
        "\n",
        "import csv\n",
        "with open('/content/sample_data/california_housing_test.csv',mode='r') as file:\n",
        "  csv_reader=csv.reader(file)\n",
        "  for row in csv_reader:\n",
        "    print(row)"
      ],
      "metadata": {
        "id": "ePhITdOeAi5O",
        "colab": {
          "base_uri": "https://localhost:8080/"
        },
        "outputId": "65b1fc1b-1c2d-42a4-b69f-7d773c029fc7"
      },
      "execution_count": null,
      "outputs": [
        {
          "output_type": "stream",
          "name": "stdout",
          "text": [
            "['longitude', 'latitude', 'housing_median_age', 'total_rooms', 'total_bedrooms', 'population', 'households', 'median_income', 'median_house_value']\n",
            "['-122.050000', '37.370000', '27.000000', '3885.000000', '661.000000', '1537.000000', '606.000000', '6.608500', '344700.000000']\n",
            "['-118.300000', '34.260000', '43.000000', '1510.000000', '310.000000', '809.000000', '277.000000', '3.599000', '176500.000000']\n",
            "['-117.810000', '33.780000', '27.000000', '3589.000000', '507.000000', '1484.000000', '495.000000', '5.793400', '270500.000000']\n",
            "['-118.360000', '33.820000', '28.000000', '67.000000', '15.000000', '49.000000', '11.000000', '6.135900', '330000.000000']\n",
            "['-119.670000', '36.330000', '19.000000', '1241.000000', '244.000000', '850.000000', '237.000000', '2.937500', '81700.000000']\n",
            "['-119.560000', '36.510000', '37.000000', '1018.000000', '213.000000', '663.000000', '204.000000', '1.663500', '67000.000000']\n",
            "['-121.430000', '38.630000', '43.000000', '1009.000000', '225.000000', '604.000000', '218.000000', '1.664100', '67000.000000']\n",
            "['-120.650000', '35.480000', '19.000000', '2310.000000', '471.000000', '1341.000000', '441.000000', '3.225000', '166900.000000']\n",
            "['-122.840000', '38.400000', '15.000000', '3080.000000', '617.000000', '1446.000000', '599.000000', '3.669600', '194400.000000']\n",
            "['-118.020000', '34.080000', '31.000000', '2402.000000', '632.000000', '2830.000000', '603.000000', '2.333300', '164200.000000']\n",
            "['-118.240000', '33.980000', '45.000000', '972.000000', '249.000000', '1288.000000', '261.000000', '2.205400', '125000.000000']\n",
            "['-119.120000', '35.850000', '37.000000', '736.000000', '166.000000', '564.000000', '138.000000', '2.416700', '58300.000000']\n",
            "['-121.930000', '37.250000', '36.000000', '1089.000000', '182.000000', '535.000000', '170.000000', '4.690000', '252600.000000']\n",
            "['-117.030000', '32.970000', '16.000000', '3936.000000', '694.000000', '1935.000000', '659.000000', '4.562500', '231200.000000']\n",
            "['-117.970000', '33.730000', '27.000000', '2097.000000', '325.000000', '1217.000000', '331.000000', '5.712100', '222500.000000']\n",
            "['-117.990000', '33.810000', '42.000000', '161.000000', '40.000000', '157.000000', '50.000000', '2.200000', '153100.000000']\n",
            "['-120.810000', '37.530000', '15.000000', '570.000000', '123.000000', '189.000000', '107.000000', '1.875000', '181300.000000']\n",
            "['-121.200000', '38.690000', '26.000000', '3077.000000', '607.000000', '1603.000000', '595.000000', '2.717400', '137500.000000']\n",
            "['-118.880000', '34.210000', '26.000000', '1590.000000', '196.000000', '654.000000', '199.000000', '6.585100', '300000.000000']\n",
            "['-122.590000', '38.010000', '35.000000', '8814.000000', '1307.000000', '3450.000000', '1258.000000', '6.172400', '414300.000000']\n",
            "['-122.150000', '37.750000', '40.000000', '1445.000000', '256.000000', '849.000000', '255.000000', '3.891300', '126300.000000']\n",
            "['-121.370000', '38.680000', '36.000000', '1775.000000', '296.000000', '937.000000', '305.000000', '3.178600', '83400.000000']\n",
            "['-118.160000', '34.070000', '47.000000', '2994.000000', '543.000000', '1651.000000', '561.000000', '3.864400', '241500.000000']\n",
            "['-122.200000', '37.790000', '45.000000', '2021.000000', '528.000000', '1410.000000', '480.000000', '2.778800', '115400.000000']\n",
            "['-117.280000', '33.280000', '13.000000', '6131.000000', '1040.000000', '4049.000000', '940.000000', '3.815600', '150700.000000']\n",
            "['-118.030000', '34.160000', '36.000000', '1401.000000', '218.000000', '667.000000', '225.000000', '7.161500', '484700.000000']\n",
            "['-122.420000', '37.760000', '52.000000', '3587.000000', '1030.000000', '2259.000000', '979.000000', '2.540300', '250000.000000']\n",
            "['-118.390000', '33.990000', '32.000000', '2612.000000', '418.000000', '1030.000000', '402.000000', '6.603000', '369200.000000']\n",
            "['-118.450000', '34.070000', '19.000000', '4845.000000', '1609.000000', '3751.000000', '1539.000000', '1.583000', '350000.000000']\n",
            "['-118.480000', '34.010000', '30.000000', '3078.000000', '954.000000', '1561.000000', '901.000000', '3.485200', '425000.000000']\n",
            "['-119.350000', '36.330000', '14.000000', '1195.000000', '220.000000', '568.000000', '229.000000', '3.148600', '105600.000000']\n",
            "['-118.300000', '33.910000', '34.000000', '1617.000000', '493.000000', '1530.000000', '500.000000', '2.618200', '172600.000000']\n",
            "['-121.130000', '39.310000', '17.000000', '3442.000000', '705.000000', '1693.000000', '619.000000', '2.810200', '128900.000000']\n",
            "['-118.080000', '34.550000', '5.000000', '16181.000000', '2971.000000', '8152.000000', '2651.000000', '4.523700', '141800.000000']\n",
            "['-118.320000', '33.940000', '38.000000', '1067.000000', '170.000000', '499.000000', '169.000000', '4.638900', '183800.000000']\n",
            "['-118.110000', '34.000000', '33.000000', '2886.000000', '726.000000', '2650.000000', '728.000000', '2.625000', '178700.000000']\n",
            "['-122.530000', '37.970000', '52.000000', '1560.000000', '451.000000', '700.000000', '419.000000', '2.512500', '270800.000000']\n",
            "['-118.020000', '33.920000', '34.000000', '1478.000000', '251.000000', '956.000000', '277.000000', '5.523800', '185300.000000']\n",
            "['-118.050000', '33.930000', '31.000000', '894.000000', '203.000000', '883.000000', '190.000000', '3.677100', '141500.000000']\n",
            "['-119.010000', '34.230000', '11.000000', '5785.000000', '1035.000000', '2760.000000', '985.000000', '4.693000', '232200.000000']\n",
            "['-119.320000', '36.200000', '15.000000', '1562.000000', '275.000000', '961.000000', '287.000000', '3.423100', '83300.000000']\n",
            "['-116.920000', '32.770000', '16.000000', '2770.000000', '406.000000', '1269.000000', '429.000000', '6.678300', '275000.000000']\n",
            "['-118.060000', '34.150000', '37.000000', '1980.000000', '226.000000', '697.000000', '226.000000', '15.000100', '500001.000000']\n",
            "['-117.270000', '34.090000', '36.000000', '848.000000', '186.000000', '737.000000', '169.000000', '0.983800', '79300.000000']\n",
            "['-118.230000', '34.130000', '48.000000', '1308.000000', '286.000000', '835.000000', '294.000000', '4.289100', '214800.000000']\n",
            "['-117.240000', '33.170000', '4.000000', '9998.000000', '1874.000000', '3925.000000', '1672.000000', '4.282600', '237500.000000']\n",
            "['-121.910000', '37.440000', '24.000000', '1212.000000', '251.000000', '799.000000', '242.000000', '5.080800', '212500.000000']\n",
            "['-118.290000', '33.940000', '47.000000', '1782.000000', '338.000000', '1003.000000', '329.000000', '2.539800', '105700.000000']\n",
            "['-121.350000', '38.000000', '6.000000', '1649.000000', '369.000000', '732.000000', '350.000000', '3.423100', '123800.000000']\n",
            "['-117.990000', '33.780000', '19.000000', '7399.000000', '1698.000000', '3554.000000', '1593.000000', '3.104900', '173900.000000']\n",
            "['-120.990000', '37.700000', '14.000000', '9849.000000', '1887.000000', '4356.000000', '1780.000000', '3.587700', '160900.000000']\n",
            "['-119.420000', '35.970000', '21.000000', '554.000000', '121.000000', '426.000000', '122.000000', '2.351600', '47500.000000']\n",
            "['-122.210000', '37.800000', '39.000000', '2003.000000', '500.000000', '1109.000000', '464.000000', '3.068200', '156500.000000']\n",
            "['-118.170000', '33.800000', '26.000000', '1589.000000', '380.000000', '883.000000', '366.000000', '3.531300', '187500.000000']\n",
            "['-117.900000', '34.090000', '39.000000', '1726.000000', '333.000000', '892.000000', '335.000000', '4.340900', '191800.000000']\n",
            "['-117.990000', '33.930000', '36.000000', '1287.000000', '233.000000', '779.000000', '229.000000', '4.852300', '175800.000000']\n",
            "['-121.420000', '38.720000', '10.000000', '3054.000000', '528.000000', '1932.000000', '510.000000', '3.090300', '91900.000000']\n",
            "['-118.770000', '34.260000', '26.000000', '3038.000000', '468.000000', '1825.000000', '468.000000', '5.638500', '196900.000000']\n",
            "['-121.930000', '37.330000', '44.000000', '1449.000000', '291.000000', '676.000000', '282.000000', '3.575000', '292200.000000']\n",
            "['-121.820000', '37.250000', '16.000000', '2650.000000', '600.000000', '1969.000000', '586.000000', '3.946100', '194300.000000']\n",
            "['-122.290000', '37.560000', '36.000000', '805.000000', '140.000000', '445.000000', '139.000000', '5.822100', '289400.000000']\n",
            "['-121.780000', '37.230000', '18.000000', '1747.000000', '317.000000', '1055.000000', '285.000000', '5.898000', '229100.000000']\n",
            "['-118.410000', '34.000000', '35.000000', '1062.000000', '305.000000', '1026.000000', '307.000000', '2.715300', '265500.000000']\n",
            "['-121.670000', '40.870000', '31.000000', '1581.000000', '299.000000', '776.000000', '287.000000', '2.906300', '77800.000000']\n",
            "['-118.000000', '33.920000', '26.000000', '2830.000000', '399.000000', '1204.000000', '404.000000', '6.127300', '289600.000000']\n",
            "['-117.220000', '32.730000', '38.000000', '3966.000000', '768.000000', '1640.000000', '729.000000', '3.840900', '291400.000000']\n",
            "['-121.080000', '37.690000', '19.000000', '6473.000000', '1212.000000', '3559.000000', '1123.000000', '3.224600', '129300.000000']\n",
            "['-117.530000', '33.920000', '12.000000', '2290.000000', '319.000000', '728.000000', '228.000000', '6.156100', '233500.000000']\n",
            "['-117.460000', '34.080000', '18.000000', '3830.000000', '750.000000', '2767.000000', '702.000000', '3.660200', '120700.000000']\n",
            "['-117.970000', '33.860000', '35.000000', '1691.000000', '367.000000', '1265.000000', '378.000000', '3.585500', '174300.000000']\n",
            "['-121.920000', '37.330000', '52.000000', '2125.000000', '382.000000', '930.000000', '387.000000', '5.283100', '299500.000000']\n",
            "['-118.200000', '34.040000', '44.000000', '1582.000000', '544.000000', '1998.000000', '515.000000', '1.688800', '125000.000000']\n",
            "['-118.060000', '33.800000', '22.000000', '1892.000000', '442.000000', '1015.000000', '404.000000', '4.137900', '212500.000000']\n",
            "['-122.050000', '37.360000', '34.000000', '2400.000000', '419.000000', '1017.000000', '384.000000', '4.136900', '316900.000000']\n",
            "['-123.790000', '39.500000', '24.000000', '1421.000000', '291.000000', '588.000000', '274.000000', '2.325000', '157300.000000']\n",
            "['-120.790000', '37.490000', '44.000000', '1186.000000', '225.000000', '687.000000', '234.000000', '3.416700', '160700.000000']\n",
            "['-121.890000', '37.350000', '47.000000', '2879.000000', '631.000000', '2229.000000', '606.000000', '3.259900', '183100.000000']\n",
            "['-118.430000', '34.200000', '29.000000', '3051.000000', '694.000000', '1942.000000', '679.000000', '3.111800', '238100.000000']\n",
            "['-118.750000', '34.170000', '18.000000', '6217.000000', '858.000000', '2703.000000', '834.000000', '6.807500', '325900.000000']\n",
            "['-122.470000', '37.990000', '22.000000', '7274.000000', '1002.000000', '2468.000000', '957.000000', '7.494000', '439200.000000']\n",
            "['-120.690000', '37.400000', '46.000000', '860.000000', '130.000000', '496.000000', '147.000000', '3.516700', '137500.000000']\n",
            "['-118.280000', '34.050000', '44.000000', '968.000000', '384.000000', '1805.000000', '375.000000', '1.480100', '212500.000000']\n",
            "['-118.440000', '34.250000', '35.000000', '1583.000000', '324.000000', '1481.000000', '351.000000', '3.700000', '176000.000000']\n",
            "['-122.050000', '38.260000', '21.000000', '7195.000000', '1416.000000', '3927.000000', '1377.000000', '3.091200', '126300.000000']\n",
            "['-121.990000', '37.350000', '18.000000', '1712.000000', '509.000000', '972.000000', '467.000000', '4.397100', '238900.000000']\n",
            "['-121.020000', '37.680000', '28.000000', '2875.000000', '560.000000', '1608.000000', '558.000000', '3.548900', '106400.000000']\n",
            "['-119.850000', '36.740000', '35.000000', '1191.000000', '190.000000', '537.000000', '182.000000', '3.537500', '96700.000000']\n",
            "['-118.020000', '34.080000', '28.000000', '2769.000000', '631.000000', '2452.000000', '581.000000', '2.607100', '175900.000000']\n",
            "['-123.520000', '41.010000', '17.000000', '1564.000000', '345.000000', '517.000000', '222.000000', '2.154200', '83800.000000']\n",
            "['-122.400000', '37.620000', '44.000000', '1619.000000', '362.000000', '1064.000000', '335.000000', '4.023800', '224200.000000']\n",
            "['-118.130000', '34.150000', '24.000000', '1125.000000', '341.000000', '579.000000', '321.000000', '2.812500', '141700.000000']\n",
            "['-122.000000', '37.980000', '32.000000', '1013.000000', '169.000000', '436.000000', '173.000000', '5.111800', '226900.000000']\n",
            "['-118.450000', '34.250000', '36.000000', '1453.000000', '270.000000', '808.000000', '275.000000', '4.383900', '204600.000000']\n",
            "['-117.500000', '33.870000', '4.000000', '6755.000000', '1017.000000', '2866.000000', '850.000000', '5.049300', '239800.000000']\n",
            "['-122.220000', '37.840000', '50.000000', '2935.000000', '473.000000', '1031.000000', '479.000000', '7.500000', '295200.000000']\n",
            "['-119.820000', '36.640000', '30.000000', '1694.000000', '312.000000', '1008.000000', '321.000000', '2.246600', '96000.000000']\n",
            "['-120.210000', '36.770000', '20.000000', '1745.000000', '348.000000', '1093.000000', '302.000000', '2.319400', '90600.000000']\n",
            "['-120.970000', '38.420000', '16.000000', '1748.000000', '322.000000', '4930.000000', '287.000000', '4.302900', '121900.000000']\n",
            "['-121.190000', '38.870000', '20.000000', '3118.000000', '500.000000', '1405.000000', '519.000000', '6.000000', '209400.000000']\n",
            "['-118.200000', '33.770000', '52.000000', '1375.000000', '457.000000', '1089.000000', '317.000000', '2.234400', '200000.000000']\n",
            "['-118.300000', '34.020000', '49.000000', '2120.000000', '483.000000', '1522.000000', '416.000000', '1.850000', '116800.000000']\n",
            "['-122.230000', '37.790000', '43.000000', '5963.000000', '1344.000000', '4367.000000', '1231.000000', '2.191700', '112800.000000']\n",
            "['-121.310000', '38.620000', '31.000000', '3114.000000', '430.000000', '1121.000000', '456.000000', '6.244000', '240000.000000']\n",
            "['-117.250000', '32.800000', '35.000000', '2281.000000', '506.000000', '1005.000000', '496.000000', '4.229600', '275000.000000']\n",
            "['-118.260000', '33.990000', '36.000000', '2016.000000', '505.000000', '1807.000000', '464.000000', '1.690100', '103500.000000']\n",
            "['-119.390000', '36.540000', '34.000000', '1590.000000', '422.000000', '1272.000000', '407.000000', '1.806800', '59000.000000']\n",
            "['-121.510000', '38.520000', '30.000000', '3236.000000', '588.000000', '1167.000000', '569.000000', '4.097200', '181400.000000']\n",
            "['-119.180000', '34.270000', '6.000000', '2307.000000', '386.000000', '910.000000', '364.000000', '5.215000', '279500.000000']\n",
            "['-118.180000', '33.770000', '30.000000', '1418.000000', '439.000000', '720.000000', '417.000000', '2.637100', '159400.000000']\n",
            "['-122.430000', '37.740000', '52.000000', '1514.000000', '314.000000', '724.000000', '301.000000', '5.329200', '300900.000000']\n",
            "['-117.930000', '33.910000', '24.000000', '1698.000000', '297.000000', '676.000000', '273.000000', '5.201700', '364600.000000']\n",
            "['-124.160000', '40.770000', '35.000000', '2141.000000', '438.000000', '1053.000000', '434.000000', '2.852900', '85600.000000']\n",
            "['-117.950000', '33.630000', '27.000000', '2489.000000', '481.000000', '1082.000000', '443.000000', '5.877700', '358800.000000']\n",
            "['-118.050000', '34.100000', '36.000000', '1606.000000', '318.000000', '889.000000', '294.000000', '4.793100', '272600.000000']\n",
            "['-116.970000', '32.810000', '19.000000', '1573.000000', '471.000000', '844.000000', '414.000000', '2.142200', '125000.000000']\n",
            "['-118.850000', '34.170000', '42.000000', '564.000000', '96.000000', '220.000000', '81.000000', '4.562500', '318800.000000']\n",
            "['-117.730000', '33.630000', '15.000000', '2874.000000', '592.000000', '1382.000000', '586.000000', '5.513700', '161800.000000']\n",
            "['-122.070000', '37.340000', '30.000000', '1851.000000', '238.000000', '631.000000', '236.000000', '10.100700', '500001.000000']\n",
            "['-117.180000', '33.020000', '15.000000', '3540.000000', '453.000000', '1364.000000', '425.000000', '13.662300', '500001.000000']\n",
            "['-118.410000', '34.000000', '38.000000', '324.000000', '70.000000', '268.000000', '73.000000', '2.550000', '271400.000000']\n",
            "['-121.960000', '37.300000', '20.000000', '4228.000000', '1006.000000', '2334.000000', '1007.000000', '4.308100', '227300.000000']\n",
            "['-121.740000', '38.550000', '34.000000', '2299.000000', '579.000000', '1300.000000', '536.000000', '1.643500', '148500.000000']\n",
            "['-118.210000', '33.920000', '28.000000', '2949.000000', '1003.000000', '4551.000000', '930.000000', '1.902600', '131900.000000']\n",
            "['-121.900000', '36.610000', '29.000000', '3412.000000', '827.000000', '1574.000000', '759.000000', '2.930900', '217100.000000']\n",
            "['-117.810000', '33.840000', '17.000000', '4343.000000', '515.000000', '1605.000000', '484.000000', '10.598100', '460100.000000']\n",
            "['-118.190000', '33.930000', '42.000000', '1829.000000', '391.000000', '1614.000000', '377.000000', '3.191200', '146400.000000']\n",
            "['-120.930000', '37.730000', '14.000000', '2799.000000', '618.000000', '2294.000000', '596.000000', '2.634300', '81500.000000']\n",
            "['-122.020000', '37.960000', '25.000000', '2615.000000', '368.000000', '935.000000', '366.000000', '6.672700', '305100.000000']\n",
            "['-122.470000', '37.790000', '52.000000', '2844.000000', '623.000000', '1380.000000', '596.000000', '4.750000', '500001.000000']\n",
            "['-117.190000', '34.030000', '25.000000', '2513.000000', '340.000000', '900.000000', '320.000000', '6.496200', '182400.000000']\n",
            "['-117.240000', '32.800000', '28.000000', '1072.000000', '331.000000', '692.000000', '321.000000', '2.135700', '187500.000000']\n",
            "['-118.130000', '34.100000', '19.000000', '2742.000000', '756.000000', '1396.000000', '703.000000', '2.566300', '197500.000000']\n",
            "['-122.420000', '37.730000', '50.000000', '3426.000000', '769.000000', '2261.000000', '671.000000', '2.888000', '246400.000000']\n",
            "['-118.140000', '34.710000', '32.000000', '1164.000000', '248.000000', '588.000000', '270.000000', '1.191700', '86900.000000']\n",
            "['-119.760000', '36.750000', '39.000000', '2233.000000', '563.000000', '2031.000000', '491.000000', '1.864100', '50800.000000']\n",
            "['-122.340000', '37.560000', '39.000000', '3562.000000', '391.000000', '1139.000000', '391.000000', '12.641700', '500001.000000']\n",
            "['-122.450000', '40.460000', '16.000000', '2734.000000', '501.000000', '1413.000000', '484.000000', '2.808500', '105700.000000']\n",
            "['-118.290000', '33.910000', '31.000000', '2025.000000', '618.000000', '2231.000000', '593.000000', '2.474100', '151200.000000']\n",
            "['-118.320000', '33.910000', '34.000000', '3041.000000', '677.000000', '1920.000000', '640.000000', '4.530400', '181300.000000']\n",
            "['-122.040000', '37.360000', '26.000000', '3298.000000', '460.000000', '1241.000000', '472.000000', '6.875300', '403000.000000']\n",
            "['-117.390000', '34.100000', '12.000000', '7184.000000', '1516.000000', '4862.000000', '1235.000000', '2.449200', '103800.000000']\n",
            "['-122.250000', '37.800000', '36.000000', '1678.000000', '606.000000', '1645.000000', '543.000000', '2.230300', '116700.000000']\n",
            "['-117.980000', '34.100000', '22.000000', '5661.000000', '1209.000000', '5389.000000', '1178.000000', '3.772700', '159700.000000']\n",
            "['-120.060000', '36.950000', '24.000000', '646.000000', '134.000000', '454.000000', '149.000000', '2.125000', '61900.000000']\n",
            "['-121.470000', '39.490000', '17.000000', '1554.000000', '242.000000', '553.000000', '230.000000', '3.217400', '91800.000000']\n",
            "['-122.200000', '37.790000', '35.000000', '1802.000000', '459.000000', '1009.000000', '390.000000', '2.303600', '126000.000000']\n",
            "['-117.230000', '32.750000', '23.000000', '2415.000000', '653.000000', '1275.000000', '596.000000', '3.138900', '101800.000000']\n",
            "['-119.750000', '36.740000', '39.000000', '1740.000000', '351.000000', '1098.000000', '347.000000', '1.895800', '51300.000000']\n",
            "['-117.920000', '34.030000', '35.000000', '1341.000000', '233.000000', '898.000000', '216.000000', '4.111800', '157300.000000']\n",
            "['-121.640000', '39.280000', '25.000000', '2857.000000', '662.000000', '2076.000000', '685.000000', '1.809500', '64100.000000']\n",
            "['-117.140000', '32.720000', '45.000000', '1140.000000', '310.000000', '840.000000', '339.000000', '1.615600', '156300.000000']\n",
            "['-122.290000', '37.540000', '41.000000', '1743.000000', '349.000000', '811.000000', '349.000000', '4.946400', '282400.000000']\n",
            "['-117.910000', '33.940000', '15.000000', '5799.000000', '842.000000', '2314.000000', '787.000000', '6.343300', '350500.000000']\n",
            "['-118.380000', '34.270000', '8.000000', '3248.000000', '847.000000', '2608.000000', '731.000000', '2.821400', '158300.000000']\n",
            "['-122.030000', '37.600000', '24.000000', '2077.000000', '383.000000', '1488.000000', '389.000000', '4.572100', '214700.000000']\n",
            "['-117.130000', '33.150000', '16.000000', '3907.000000', '671.000000', '1759.000000', '663.000000', '3.177600', '172600.000000']\n",
            "['-118.280000', '34.000000', '42.000000', '855.000000', '284.000000', '890.000000', '247.000000', '1.277800', '112500.000000']\n",
            "['-122.450000', '37.720000', '52.000000', '1729.000000', '319.000000', '890.000000', '300.000000', '4.303600', '261800.000000']\n",
            "['-119.770000', '36.770000', '38.000000', '3065.000000', '658.000000', '1441.000000', '625.000000', '2.056400', '64700.000000']\n",
            "['-117.700000', '33.640000', '15.000000', '5743.000000', '773.000000', '2380.000000', '773.000000', '8.192600', '326600.000000']\n",
            "['-117.070000', '32.790000', '36.000000', '3583.000000', '642.000000', '1711.000000', '602.000000', '3.974500', '170800.000000']\n",
            "['-117.850000', '33.620000', '13.000000', '5192.000000', '658.000000', '1865.000000', '662.000000', '15.000100', '500001.000000']\n",
            "['-117.760000', '33.710000', '15.000000', '1010.000000', '350.000000', '470.000000', '342.000000', '3.222900', '108300.000000']\n",
            "['-117.190000', '34.940000', '31.000000', '2034.000000', '444.000000', '1097.000000', '367.000000', '2.152200', '60800.000000']\n",
            "['-120.970000', '37.690000', '15.000000', '4065.000000', '841.000000', '1986.000000', '680.000000', '3.072000', '114300.000000']\n",
            "['-117.190000', '33.640000', '12.000000', '1481.000000', '265.000000', '757.000000', '243.000000', '3.235000', '210700.000000']\n",
            "['-118.380000', '33.910000', '36.000000', '2904.000000', '515.000000', '1463.000000', '534.000000', '5.837400', '289600.000000']\n",
            "['-121.560000', '38.260000', '43.000000', '1906.000000', '327.000000', '996.000000', '314.000000', '2.974400', '136800.000000']\n",
            "['-118.960000', '35.870000', '17.000000', '1668.000000', '307.000000', '888.000000', '277.000000', '3.779400', '96200.000000']\n",
            "['-116.960000', '32.800000', '24.000000', '2493.000000', '693.000000', '1420.000000', '643.000000', '1.835700', '104200.000000']\n",
            "['-118.270000', '33.940000', '30.000000', '1764.000000', '397.000000', '1406.000000', '362.000000', '1.449000', '93100.000000']\n",
            "['-119.180000', '34.190000', '36.000000', '4519.000000', '1081.000000', '4818.000000', '1061.000000', '2.856100', '179100.000000']\n",
            "['-118.230000', '33.900000', '28.000000', '1108.000000', '284.000000', '1498.000000', '289.000000', '2.470600', '88800.000000']\n",
            "['-120.490000', '37.260000', '28.000000', '2159.000000', '416.000000', '1283.000000', '378.000000', '1.893900', '83000.000000']\n",
            "['-121.430000', '38.640000', '34.000000', '2010.000000', '411.000000', '1501.000000', '422.000000', '2.041700', '65900.000000']\n",
            "['-118.140000', '34.170000', '42.000000', '2757.000000', '713.000000', '2112.000000', '653.000000', '2.714800', '166800.000000']\n",
            "['-119.090000', '35.410000', '12.000000', '3449.000000', '522.000000', '1754.000000', '551.000000', '5.623500', '130600.000000']\n",
            "['-118.020000', '33.710000', '24.000000', '2598.000000', '443.000000', '1184.000000', '435.000000', '5.862300', '287800.000000']\n",
            "['-121.530000', '39.060000', '20.000000', '561.000000', '109.000000', '308.000000', '114.000000', '3.302100', '70800.000000']\n",
            "['-119.290000', '34.280000', '38.000000', '2387.000000', '748.000000', '1537.000000', '741.000000', '2.314700', '192500.000000']\n",
            "['-121.840000', '37.340000', '33.000000', '1019.000000', '191.000000', '938.000000', '215.000000', '4.092900', '165000.000000']\n",
            "['-117.990000', '33.880000', '42.000000', '1461.000000', '302.000000', '986.000000', '314.000000', '3.955900', '161100.000000']\n",
            "['-122.240000', '37.550000', '3.000000', '6164.000000', '1175.000000', '2198.000000', '975.000000', '6.741300', '435900.000000']\n",
            "['-121.800000', '37.310000', '21.000000', '2630.000000', '446.000000', '1789.000000', '389.000000', '5.054300', '232000.000000']\n",
            "['-117.430000', '34.080000', '13.000000', '4563.000000', '1187.000000', '2475.000000', '1019.000000', '2.118900', '121700.000000']\n",
            "['-118.280000', '34.020000', '29.000000', '515.000000', '229.000000', '2690.000000', '217.000000', '0.499900', '500001.000000']\n",
            "['-117.300000', '33.060000', '31.000000', '2128.000000', '520.000000', '1049.000000', '485.000000', '4.027000', '290000.000000']\n",
            "['-118.200000', '34.040000', '18.000000', '796.000000', '227.000000', '547.000000', '218.000000', '1.033300', '135400.000000']\n",
            "['-117.630000', '34.110000', '30.000000', '2674.000000', '428.000000', '1404.000000', '456.000000', '4.296900', '165600.000000']\n",
            "['-121.940000', '37.330000', '37.000000', '818.000000', '269.000000', '576.000000', '261.000000', '2.190200', '250000.000000']\n",
            "['-118.070000', '33.930000', '5.000000', '906.000000', '187.000000', '1453.000000', '158.000000', '4.125000', '171900.000000']\n",
            "['-117.190000', '32.830000', '30.000000', '3225.000000', '555.000000', '1601.000000', '532.000000', '4.331700', '173300.000000']\n",
            "['-118.210000', '33.890000', '42.000000', '1739.000000', '370.000000', '1104.000000', '297.000000', '2.212500', '120700.000000']\n",
            "['-118.410000', '34.190000', '39.000000', '1169.000000', '242.000000', '612.000000', '247.000000', '4.142900', '200000.000000']\n",
            "['-117.000000', '32.800000', '29.000000', '2045.000000', '398.000000', '912.000000', '368.000000', '3.018900', '144100.000000']\n",
            "['-116.920000', '32.860000', '11.000000', '2204.000000', '518.000000', '1472.000000', '497.000000', '2.369300', '127000.000000']\n",
            "['-121.040000', '38.950000', '22.000000', '1931.000000', '445.000000', '1009.000000', '407.000000', '2.750000', '153200.000000']\n",
            "['-122.120000', '37.450000', '38.000000', '1276.000000', '314.000000', '955.000000', '287.000000', '2.009600', '155700.000000']\n",
            "['-119.480000', '36.540000', '28.000000', '2112.000000', '363.000000', '1011.000000', '335.000000', '4.222200', '108900.000000']\n",
            "['-121.020000', '37.680000', '25.000000', '3262.000000', '588.000000', '1834.000000', '578.000000', '3.996000', '114500.000000']\n",
            "['-123.280000', '40.770000', '25.000000', '767.000000', '206.000000', '301.000000', '121.000000', '1.625000', '79200.000000']\n",
            "['-122.890000', '39.110000', '10.000000', '1588.000000', '333.000000', '585.000000', '254.000000', '2.255100', '71100.000000']\n",
            "['-122.040000', '37.970000', '21.000000', '6445.000000', '1839.000000', '3621.000000', '1735.000000', '2.584100', '112500.000000']\n",
            "['-118.080000', '33.810000', '21.000000', '1189.000000', '281.000000', '577.000000', '264.000000', '3.315500', '237500.000000']\n",
            "['-118.310000', '34.090000', '36.000000', '787.000000', '420.000000', '1506.000000', '360.000000', '1.241200', '216700.000000']\n",
            "['-122.160000', '37.750000', '35.000000', '667.000000', '140.000000', '406.000000', '133.000000', '3.804700', '94300.000000']\n",
            "['-121.610000', '38.380000', '37.000000', '1365.000000', '276.000000', '952.000000', '268.000000', '4.037000', '156900.000000']\n",
            "['-122.100000', '37.680000', '31.000000', '1892.000000', '428.000000', '1162.000000', '389.000000', '3.125000', '167100.000000']\n",
            "['-122.280000', '37.870000', '49.000000', '2026.000000', '548.000000', '963.000000', '521.000000', '1.980500', '173700.000000']\n",
            "['-116.910000', '34.240000', '23.000000', '6379.000000', '1636.000000', '1350.000000', '568.000000', '1.633600', '124500.000000']\n",
            "['-121.830000', '37.280000', '33.000000', '1115.000000', '250.000000', '1168.000000', '261.000000', '3.900900', '178600.000000']\n",
            "['-118.300000', '33.810000', '17.000000', '5544.000000', '1068.000000', '3008.000000', '1038.000000', '5.322000', '282700.000000']\n",
            "['-117.960000', '33.700000', '23.000000', '4417.000000', '740.000000', '1865.000000', '693.000000', '5.342800', '279300.000000']\n",
            "['-122.140000', '40.070000', '31.000000', '2053.000000', '465.000000', '1193.000000', '447.000000', '1.492300', '44400.000000']\n",
            "['-121.440000', '38.730000', '25.000000', '1287.000000', '224.000000', '727.000000', '236.000000', '4.739600', '135500.000000']\n",
            "['-122.260000', '37.550000', '17.000000', '4576.000000', '814.000000', '1941.000000', '807.000000', '5.957200', '443800.000000']\n",
            "['-121.640000', '37.140000', '14.000000', '5487.000000', '1024.000000', '2823.000000', '979.000000', '4.175000', '229800.000000']\n",
            "['-117.180000', '34.480000', '8.000000', '3561.000000', '691.000000', '2156.000000', '659.000000', '2.777800', '86900.000000']\n",
            "['-122.280000', '38.340000', '44.000000', '1066.000000', '190.000000', '416.000000', '174.000000', '3.638900', '304000.000000']\n",
            "['-117.900000', '33.600000', '25.000000', '2465.000000', '585.000000', '906.000000', '472.000000', '3.653800', '500001.000000']\n",
            "['-122.180000', '37.780000', '33.000000', '142.000000', '31.000000', '575.000000', '47.000000', '3.875000', '225000.000000']\n",
            "['-121.490000', '38.510000', '30.000000', '3166.000000', '607.000000', '1857.000000', '579.000000', '3.176800', '79500.000000']\n",
            "['-118.190000', '33.910000', '43.000000', '1531.000000', '357.000000', '1509.000000', '376.000000', '2.635400', '128100.000000']\n",
            "['-118.270000', '34.100000', '50.000000', '2113.000000', '398.000000', '793.000000', '418.000000', '4.713200', '304600.000000']\n",
            "['-121.440000', '38.610000', '34.000000', '172.000000', '38.000000', '149.000000', '55.000000', '2.644200', '55000.000000']\n",
            "['-121.910000', '37.430000', '33.000000', '2791.000000', '496.000000', '1714.000000', '485.000000', '4.830400', '224900.000000']\n",
            "['-117.860000', '33.720000', '31.000000', '1194.000000', '297.000000', '1602.000000', '306.000000', '2.333300', '157700.000000']\n",
            "['-118.350000', '33.920000', '29.000000', '736.000000', '232.000000', '584.000000', '231.000000', '3.616700', '200000.000000']\n",
            "['-117.260000', '33.840000', '12.000000', '1159.000000', '209.000000', '523.000000', '159.000000', '2.723200', '123200.000000']\n",
            "['-122.430000', '37.730000', '52.000000', '3602.000000', '738.000000', '2270.000000', '647.000000', '3.893400', '251800.000000']\n",
            "['-121.800000', '37.990000', '16.000000', '3077.000000', '465.000000', '1575.000000', '446.000000', '5.500000', '179500.000000']\n",
            "['-122.580000', '38.460000', '15.000000', '2936.000000', '517.000000', '1182.000000', '501.000000', '3.398100', '246900.000000']\n",
            "['-122.470000', '37.780000', '52.000000', '2042.000000', '378.000000', '1153.000000', '408.000000', '4.185600', '404700.000000']\n",
            "['-118.080000', '34.000000', '32.000000', '1165.000000', '358.000000', '997.000000', '361.000000', '0.981700', '166300.000000']\n",
            "['-122.000000', '37.350000', '20.000000', '4304.000000', '851.000000', '2059.000000', '835.000000', '5.167400', '333000.000000']\n",
            "['-119.020000', '35.410000', '21.000000', '2534.000000', '554.000000', '1297.000000', '517.000000', '2.057500', '67000.000000']\n",
            "['-118.130000', '34.180000', '52.000000', '1464.000000', '211.000000', '603.000000', '226.000000', '5.830900', '309100.000000']\n",
            "['-121.940000', '37.270000', '23.000000', '1932.000000', '552.000000', '997.000000', '482.000000', '3.662000', '211900.000000']\n",
            "['-120.510000', '35.910000', '39.000000', '768.000000', '162.000000', '264.000000', '118.000000', '5.324500', '250000.000000']\n",
            "['-121.650000', '38.030000', '28.000000', '3144.000000', '694.000000', '1095.000000', '482.000000', '3.440200', '192400.000000']\n",
            "['-121.620000', '39.790000', '11.000000', '3835.000000', '727.000000', '1456.000000', '658.000000', '2.537400', '97200.000000']\n",
            "['-117.080000', '32.820000', '16.000000', '1787.000000', '236.000000', '770.000000', '228.000000', '7.129800', '278600.000000']\n",
            "['-123.210000', '39.140000', '15.000000', '2235.000000', '545.000000', '1376.000000', '516.000000', '1.903200', '100000.000000']\n",
            "['-119.610000', '36.330000', '32.000000', '1492.000000', '284.000000', '926.000000', '264.000000', '3.013900', '61500.000000']\n",
            "['-114.980000', '33.070000', '18.000000', '1183.000000', '363.000000', '374.000000', '127.000000', '3.160700', '57500.000000']\n",
            "['-118.380000', '34.040000', '36.000000', '3005.000000', '771.000000', '2054.000000', '758.000000', '2.043700', '309100.000000']\n",
            "['-117.990000', '33.700000', '13.000000', '4013.000000', '903.000000', '1999.000000', '859.000000', '4.625000', '248800.000000']\n",
            "['-116.260000', '33.720000', '10.000000', '9404.000000', '1827.000000', '3208.000000', '1283.000000', '3.108600', '105800.000000']\n",
            "['-118.400000', '34.000000', '10.000000', '1526.000000', '339.000000', '705.000000', '268.000000', '5.808300', '321800.000000']\n",
            "['-120.640000', '35.460000', '6.000000', '5876.000000', '1406.000000', '2877.000000', '1304.000000', '2.543700', '146400.000000']\n",
            "['-122.030000', '37.390000', '22.000000', '3280.000000', '933.000000', '1842.000000', '795.000000', '4.410700', '232700.000000']\n",
            "['-118.290000', '33.880000', '36.000000', '1751.000000', '438.000000', '1175.000000', '419.000000', '3.073900', '218600.000000']\n",
            "['-117.020000', '32.690000', '7.000000', '6055.000000', '1004.000000', '3031.000000', '952.000000', '4.436000', '135000.000000']\n",
            "['-119.320000', '36.300000', '15.000000', '2864.000000', '571.000000', '1480.000000', '475.000000', '2.969800', '93400.000000']\n",
            "['-122.310000', '38.010000', '18.000000', '4123.000000', '874.000000', '1895.000000', '772.000000', '3.275900', '195000.000000']\n",
            "['-118.860000', '34.190000', '27.000000', '1931.000000', '261.000000', '736.000000', '244.000000', '6.780500', '392900.000000']\n",
            "['-117.140000', '33.810000', '13.000000', '4496.000000', '756.000000', '2044.000000', '695.000000', '3.277800', '148800.000000']\n",
            "['-118.640000', '34.220000', '25.000000', '2762.000000', '410.000000', '1166.000000', '439.000000', '6.864300', '333700.000000']\n",
            "['-116.630000', '33.890000', '22.000000', '1540.000000', '364.000000', '610.000000', '268.000000', '1.522700', '71000.000000']\n",
            "['-118.280000', '34.110000', '45.000000', '1607.000000', '331.000000', '633.000000', '332.000000', '3.144500', '438300.000000']\n",
            "['-119.030000', '35.380000', '52.000000', '1695.000000', '290.000000', '540.000000', '260.000000', '2.731200', '147100.000000']\n",
            "['-118.260000', '33.880000', '36.000000', '1212.000000', '222.000000', '775.000000', '224.000000', '5.559100', '136500.000000']\n",
            "['-117.890000', '33.850000', '18.000000', '2036.000000', '414.000000', '1292.000000', '380.000000', '3.875000', '273000.000000']\n",
            "['-122.090000', '37.380000', '36.000000', '2587.000000', '416.000000', '1055.000000', '410.000000', '6.199500', '407200.000000']\n",
            "['-122.940000', '39.100000', '18.000000', '681.000000', '120.000000', '272.000000', '105.000000', '2.890600', '140600.000000']\n",
            "['-117.100000', '32.680000', '42.000000', '2013.000000', '568.000000', '1920.000000', '557.000000', '2.072400', '107600.000000']\n",
            "['-118.980000', '35.410000', '36.000000', '1482.000000', '266.000000', '640.000000', '274.000000', '3.875000', '94500.000000']\n",
            "['-120.230000', '37.960000', '52.000000', '1230.000000', '262.000000', '609.000000', '243.000000', '2.005700', '68200.000000']\n",
            "['-118.200000', '33.940000', '43.000000', '1934.000000', '511.000000', '1895.000000', '493.000000', '2.502900', '159700.000000']\n",
            "['-121.300000', '37.950000', '9.000000', '674.000000', '242.000000', '575.000000', '193.000000', '2.202400', '45000.000000']\n",
            "['-121.740000', '38.550000', '33.000000', '6861.000000', '1820.000000', '3717.000000', '1767.000000', '1.731100', '182600.000000']\n",
            "['-121.960000', '37.330000', '35.000000', '2294.000000', '411.000000', '1054.000000', '449.000000', '4.066700', '276900.000000']\n",
            "['-120.600000', '37.360000', '27.000000', '2521.000000', '484.000000', '1307.000000', '456.000000', '3.091100', '86900.000000']\n",
            "['-122.470000', '37.700000', '44.000000', '2034.000000', '423.000000', '1491.000000', '373.000000', '4.534100', '236500.000000']\n",
            "['-117.050000', '32.580000', '23.000000', '1918.000000', '339.000000', '1392.000000', '340.000000', '4.087000', '134800.000000']\n",
            "['-117.900000', '33.870000', '34.000000', '1411.000000', '292.000000', '1040.000000', '299.000000', '3.433800', '195200.000000']\n",
            "['-117.230000', '32.870000', '15.000000', '2290.000000', '662.000000', '1034.000000', '594.000000', '3.010400', '204200.000000']\n",
            "['-122.080000', '37.880000', '24.000000', '2059.000000', '462.000000', '410.000000', '294.000000', '2.397100', '99400.000000']\n",
            "['-118.210000', '33.800000', '45.000000', '1160.000000', '274.000000', '1095.000000', '269.000000', '2.730800', '139000.000000']\n",
            "['-122.080000', '37.640000', '30.000000', '5267.000000', '1253.000000', '4065.000000', '1113.000000', '3.347900', '182100.000000']\n",
            "['-118.380000', '34.140000', '40.000000', '1965.000000', '354.000000', '666.000000', '357.000000', '6.087600', '483800.000000']\n",
            "['-118.200000', '33.800000', '45.000000', '2456.000000', '495.000000', '1300.000000', '450.000000', '3.979200', '210200.000000']\n",
            "['-117.620000', '33.430000', '27.000000', '3858.000000', '1062.000000', '2321.000000', '873.000000', '3.315500', '231000.000000']\n",
            "['-122.110000', '37.400000', '31.000000', '2836.000000', '490.000000', '1138.000000', '481.000000', '4.951900', '500001.000000']\n",
            "['-122.840000', '38.980000', '21.000000', '939.000000', '176.000000', '556.000000', '178.000000', '1.719600', '75000.000000']\n",
            "['-121.260000', '38.270000', '20.000000', '1314.000000', '229.000000', '712.000000', '219.000000', '4.412500', '144600.000000']\n",
            "['-116.890000', '33.730000', '15.000000', '2094.000000', '316.000000', '937.000000', '277.000000', '5.362300', '201300.000000']\n",
            "['-122.670000', '38.440000', '32.000000', '3771.000000', '741.000000', '1786.000000', '721.000000', '3.241500', '172200.000000']\n",
            "['-117.940000', '33.870000', '46.000000', '2066.000000', '450.000000', '1275.000000', '448.000000', '3.937500', '187000.000000']\n",
            "['-118.140000', '34.690000', '34.000000', '1439.000000', '327.000000', '708.000000', '298.000000', '3.269900', '100000.000000']\n",
            "['-122.400000', '37.590000', '22.000000', '2754.000000', '477.000000', '1163.000000', '479.000000', '6.230600', '500001.000000']\n",
            "['-118.080000', '33.840000', '28.000000', '4216.000000', '948.000000', '2997.000000', '896.000000', '3.796100', '162700.000000']\n",
            "['-116.360000', '33.780000', '6.000000', '24121.000000', '4522.000000', '4176.000000', '2221.000000', '3.379900', '239300.000000']\n",
            "['-117.940000', '33.850000', '26.000000', '1888.000000', '429.000000', '1550.000000', '458.000000', '3.339300', '168600.000000']\n",
            "['-117.470000', '33.940000', '34.000000', '559.000000', '139.000000', '532.000000', '137.000000', '3.068700', '88500.000000']\n",
            "['-117.640000', '33.650000', '4.000000', '6842.000000', '1512.000000', '3256.000000', '1439.000000', '5.413200', '216600.000000']\n",
            "['-118.500000', '34.240000', '34.000000', '2634.000000', '412.000000', '1114.000000', '423.000000', '5.940100', '315300.000000']\n",
            "['-118.190000', '33.780000', '24.000000', '225.000000', '72.000000', '439.000000', '71.000000', '2.853300', '137500.000000']\n",
            "['-117.660000', '34.120000', '16.000000', '3853.000000', '541.000000', '1726.000000', '497.000000', '6.119500', '251100.000000']\n",
            "['-122.300000', '37.970000', '34.000000', '2854.000000', '528.000000', '1211.000000', '452.000000', '3.535300', '164700.000000']\n",
            "['-122.140000', '37.680000', '31.000000', '3184.000000', '716.000000', '1561.000000', '628.000000', '2.795500', '183100.000000']\n",
            "['-118.260000', '33.940000', '41.000000', '1510.000000', '410.000000', '1408.000000', '389.000000', '1.650000', '94200.000000']\n",
            "['-118.230000', '33.930000', '39.000000', '2065.000000', '532.000000', '2015.000000', '535.000000', '0.847800', '104900.000000']\n",
            "['-120.960000', '38.660000', '11.000000', '2339.000000', '436.000000', '1062.000000', '380.000000', '3.903600', '180800.000000']\n",
            "['-117.840000', '35.350000', '28.000000', '1913.000000', '486.000000', '858.000000', '371.000000', '1.996200', '50800.000000']\n",
            "['-119.160000', '34.200000', '35.000000', '2183.000000', '636.000000', '3504.000000', '623.000000', '1.970400', '160300.000000']\n",
            "['-122.650000', '38.230000', '52.000000', '1735.000000', '347.000000', '712.000000', '343.000000', '3.171100', '200800.000000']\n",
            "['-121.880000', '37.370000', '14.000000', '6016.000000', '1404.000000', '3258.000000', '1316.000000', '3.574500', '333700.000000']\n",
            "['-118.400000', '34.040000', '43.000000', '3863.000000', '537.000000', '1398.000000', '511.000000', '8.593800', '500001.000000']\n",
            "['-118.270000', '34.110000', '36.000000', '1832.000000', '539.000000', '934.000000', '486.000000', '3.052100', '276600.000000']\n",
            "['-118.440000', '34.300000', '38.000000', '1595.000000', '314.000000', '1181.000000', '327.000000', '3.400000', '155500.000000']\n",
            "['-121.770000', '37.680000', '41.000000', '1501.000000', '299.000000', '629.000000', '288.000000', '4.680600', '209400.000000']\n",
            "['-119.990000', '38.880000', '17.000000', '2807.000000', '529.000000', '675.000000', '251.000000', '2.745700', '107800.000000']\n",
            "['-118.360000', '33.960000', '26.000000', '3543.000000', '1055.000000', '2742.000000', '951.000000', '2.550400', '151300.000000']\n",
            "['-118.320000', '33.970000', '52.000000', '1778.000000', '320.000000', '795.000000', '279.000000', '3.511400', '138800.000000']\n",
            "['-118.270000', '34.270000', '27.000000', '5205.000000', '859.000000', '2363.000000', '888.000000', '6.194600', '276100.000000']\n",
            "['-116.810000', '33.900000', '17.000000', '2009.000000', '469.000000', '820.000000', '381.000000', '1.328600', '81800.000000']\n",
            "['-118.390000', '33.960000', '45.000000', '1436.000000', '374.000000', '662.000000', '292.000000', '3.625000', '329400.000000']\n",
            "['-118.070000', '33.910000', '29.000000', '2387.000000', '570.000000', '1978.000000', '548.000000', '3.195700', '159200.000000']\n",
            "['-118.350000', '34.220000', '30.000000', '1260.000000', '222.000000', '638.000000', '229.000000', '4.130200', '258300.000000']\n",
            "['-118.430000', '34.020000', '41.000000', '2403.000000', '516.000000', '1001.000000', '514.000000', '4.390600', '500001.000000']\n",
            "['-121.730000', '37.680000', '17.000000', '20354.000000', '3493.000000', '8768.000000', '3293.000000', '5.449600', '238900.000000']\n",
            "['-117.310000', '32.980000', '17.000000', '2789.000000', '648.000000', '849.000000', '345.000000', '4.101200', '244700.000000']\n",
            "['-122.290000', '37.560000', '12.000000', '6474.000000', '1467.000000', '2516.000000', '1390.000000', '5.035300', '305800.000000']\n",
            "['-119.690000', '34.380000', '39.000000', '1383.000000', '459.000000', '677.000000', '362.000000', '2.250000', '281300.000000']\n",
            "['-122.070000', '38.000000', '37.000000', '978.000000', '202.000000', '462.000000', '184.000000', '3.625000', '156300.000000']\n",
            "['-118.050000', '34.160000', '41.000000', '3320.000000', '713.000000', '1236.000000', '659.000000', '3.569400', '278600.000000']\n",
            "['-122.070000', '37.660000', '28.000000', '2280.000000', '610.000000', '1255.000000', '587.000000', '2.671900', '161200.000000']\n",
            "['-121.800000', '37.270000', '10.000000', '3301.000000', '593.000000', '2190.000000', '575.000000', '6.223000', '260700.000000']\n",
            "['-122.690000', '38.340000', '23.000000', '2846.000000', '516.000000', '1526.000000', '492.000000', '3.733000', '163500.000000']\n",
            "['-117.080000', '32.700000', '35.000000', '1477.000000', '264.000000', '852.000000', '279.000000', '3.178600', '100600.000000']\n",
            "['-119.760000', '36.730000', '46.000000', '1347.000000', '282.000000', '854.000000', '267.000000', '1.872300', '52600.000000']\n",
            "['-118.370000', '34.050000', '52.000000', '1563.000000', '306.000000', '776.000000', '308.000000', '3.625000', '440900.000000']\n",
            "['-122.700000', '38.350000', '14.000000', '1555.000000', '369.000000', '493.000000', '335.000000', '1.603300', '67500.000000']\n",
            "['-118.130000', '34.010000', '45.000000', '1179.000000', '268.000000', '736.000000', '252.000000', '2.708300', '161800.000000']\n",
            "['-119.350000', '36.210000', '26.000000', '2481.000000', '586.000000', '1445.000000', '498.000000', '1.637800', '60300.000000']\n",
            "['-117.670000', '34.030000', '20.000000', '8561.000000', '1411.000000', '4861.000000', '1450.000000', '4.705600', '165500.000000']\n",
            "['-117.970000', '34.150000', '33.000000', '2474.000000', '472.000000', '1268.000000', '437.000000', '6.457600', '500001.000000']\n",
            "['-118.080000', '34.080000', '38.000000', '1889.000000', '407.000000', '1330.000000', '396.000000', '3.921900', '205200.000000']\n",
            "['-121.230000', '38.780000', '13.000000', '3813.000000', '871.000000', '1513.000000', '783.000000', '2.080700', '142600.000000']\n",
            "['-118.200000', '34.020000', '49.000000', '1098.000000', '317.000000', '1411.000000', '301.000000', '2.750000', '146000.000000']\n",
            "['-118.170000', '34.020000', '41.000000', '676.000000', '216.000000', '851.000000', '199.000000', '2.307700', '140600.000000']\n",
            "['-117.800000', '34.060000', '34.000000', '1081.000000', '205.000000', '1325.000000', '252.000000', '3.629800', '108500.000000']\n",
            "['-118.300000', '33.970000', '46.000000', '1425.000000', '317.000000', '1140.000000', '304.000000', '3.375000', '98500.000000']\n",
            "['-122.470000', '37.690000', '30.000000', '837.000000', '213.000000', '606.000000', '199.000000', '4.875000', '258800.000000']\n",
            "['-118.200000', '33.960000', '44.000000', '2144.000000', '477.000000', '1760.000000', '452.000000', '2.322100', '161600.000000']\n",
            "['-117.130000', '32.910000', '16.000000', '2715.000000', '581.000000', '1619.000000', '584.000000', '4.000000', '154700.000000']\n",
            "['-119.770000', '36.810000', '25.000000', '1565.000000', '271.000000', '661.000000', '275.000000', '3.427900', '84700.000000']\n",
            "['-118.470000', '34.250000', '21.000000', '2692.000000', '477.000000', '1330.000000', '456.000000', '4.541700', '238900.000000']\n",
            "['-122.250000', '37.800000', '42.000000', '4120.000000', '1065.000000', '1715.000000', '1015.000000', '2.934500', '225000.000000']\n",
            "['-118.500000', '34.170000', '37.000000', '880.000000', '154.000000', '369.000000', '155.000000', '4.142900', '303600.000000']\n",
            "['-122.240000', '37.490000', '38.000000', '4105.000000', '950.000000', '2561.000000', '909.000000', '3.868400', '265600.000000']\n",
            "['-117.150000', '32.930000', '16.000000', '2718.000000', '438.000000', '1515.000000', '431.000000', '5.143300', '185300.000000']\n",
            "['-120.850000', '37.770000', '35.000000', '404.000000', '96.000000', '261.000000', '100.000000', '2.458300', '75000.000000']\n",
            "['-122.250000', '37.830000', '35.000000', '1613.000000', '428.000000', '675.000000', '422.000000', '3.472200', '243100.000000']\n",
            "['-118.330000', '33.770000', '33.000000', '4244.000000', '595.000000', '1534.000000', '557.000000', '9.821400', '500001.000000']\n",
            "['-124.150000', '40.780000', '41.000000', '2127.000000', '358.000000', '911.000000', '349.000000', '3.171100', '104200.000000']\n",
            "['-117.940000', '33.790000', '24.000000', '4179.000000', '784.000000', '1902.000000', '733.000000', '4.798600', '236500.000000']\n",
            "['-121.590000', '39.150000', '5.000000', '1922.000000', '489.000000', '938.000000', '439.000000', '2.047400', '61300.000000']\n",
            "['-122.690000', '38.440000', '31.000000', '1808.000000', '315.000000', '691.000000', '280.000000', '3.858300', '193200.000000']\n",
            "['-122.510000', '38.760000', '9.000000', '2589.000000', '482.000000', '1050.000000', '374.000000', '4.043500', '132600.000000']\n",
            "['-117.890000', '33.610000', '45.000000', '1883.000000', '419.000000', '653.000000', '328.000000', '4.222200', '500001.000000']\n",
            "['-117.190000', '32.770000', '9.000000', '634.000000', '152.000000', '248.000000', '133.000000', '3.857100', '143800.000000']\n",
            "['-117.150000', '32.750000', '40.000000', '2261.000000', '579.000000', '903.000000', '525.000000', '2.465000', '198700.000000']\n",
            "['-122.210000', '37.480000', '20.000000', '505.000000', '216.000000', '326.000000', '216.000000', '2.928600', '237500.000000']\n",
            "['-118.250000', '33.790000', '38.000000', '1730.000000', '460.000000', '1724.000000', '424.000000', '2.730800', '150400.000000']\n",
            "['-120.490000', '40.310000', '16.000000', '1821.000000', '360.000000', '969.000000', '359.000000', '3.464300', '85100.000000']\n",
            "['-118.300000', '33.740000', '20.000000', '2625.000000', '673.000000', '1184.000000', '606.000000', '3.916700', '285200.000000']\n",
            "['-117.140000', '32.700000', '47.000000', '552.000000', '161.000000', '593.000000', '174.000000', '0.958900', '90000.000000']\n",
            "['-121.300000', '37.970000', '52.000000', '2259.000000', '417.000000', '766.000000', '385.000000', '2.298100', '105400.000000']\n",
            "['-119.780000', '36.750000', '31.000000', '1404.000000', '379.000000', '1515.000000', '387.000000', '1.281300', '56400.000000']\n",
            "['-118.380000', '34.180000', '32.000000', '3553.000000', '1060.000000', '3129.000000', '1010.000000', '2.560300', '174200.000000']\n",
            "['-118.130000', '34.100000', '24.000000', '4670.000000', '1185.000000', '2478.000000', '1107.000000', '3.197500', '252400.000000']\n",
            "['-118.300000', '33.730000', '42.000000', '1731.000000', '435.000000', '866.000000', '403.000000', '2.745100', '255400.000000']\n",
            "['-118.440000', '33.990000', '44.000000', '305.000000', '72.000000', '156.000000', '70.000000', '5.964100', '275000.000000']\n",
            "['-117.480000', '34.080000', '17.000000', '1834.000000', '390.000000', '1253.000000', '357.000000', '3.102800', '106400.000000']\n",
            "['-122.350000', '37.970000', '31.000000', '2892.000000', '685.000000', '2104.000000', '641.000000', '3.218800', '113800.000000']\n",
            "['-119.710000', '34.410000', '31.000000', '1034.000000', '319.000000', '997.000000', '308.000000', '2.653800', '231800.000000']\n",
            "['-116.920000', '32.810000', '23.000000', '2668.000000', '528.000000', '1510.000000', '524.000000', '3.366900', '158900.000000']\n",
            "['-122.110000', '37.660000', '35.000000', '2843.000000', '652.000000', '1726.000000', '643.000000', '3.090000', '174100.000000']\n",
            "['-117.410000', '33.940000', '29.000000', '3181.000000', '714.000000', '1603.000000', '706.000000', '3.250000', '112500.000000']\n",
            "['-122.450000', '37.740000', '38.000000', '5688.000000', '930.000000', '2263.000000', '908.000000', '6.203000', '346800.000000']\n",
            "['-118.360000', '33.800000', '38.000000', '2553.000000', '400.000000', '1042.000000', '393.000000', '6.974200', '500001.000000']\n",
            "['-121.660000', '36.680000', '10.000000', '913.000000', '265.000000', '508.000000', '251.000000', '0.991400', '147500.000000']\n",
            "['-122.420000', '37.760000', '52.000000', '2038.000000', '629.000000', '2007.000000', '596.000000', '2.570100', '266700.000000']\n",
            "['-118.290000', '34.050000', '30.000000', '1417.000000', '589.000000', '1615.000000', '540.000000', '1.386700', '193800.000000']\n",
            "['-119.820000', '34.430000', '15.000000', '1482.000000', '345.000000', '669.000000', '379.000000', '3.077300', '112500.000000']\n",
            "['-119.340000', '36.220000', '38.000000', '2708.000000', '460.000000', '1260.000000', '455.000000', '3.090500', '78200.000000']\n",
            "['-121.500000', '38.610000', '5.000000', '1395.000000', '373.000000', '638.000000', '322.000000', '2.674500', '225000.000000']\n",
            "['-121.880000', '37.460000', '5.000000', '1819.000000', '245.000000', '802.000000', '228.000000', '10.972200', '500001.000000']\n",
            "['-118.270000', '33.940000', '34.000000', '721.000000', '165.000000', '661.000000', '171.000000', '2.078900', '92400.000000']\n",
            "['-122.170000', '37.730000', '46.000000', '2163.000000', '470.000000', '925.000000', '435.000000', '3.250000', '177500.000000']\n",
            "['-122.220000', '37.850000', '28.000000', '5287.000000', '1048.000000', '2031.000000', '956.000000', '5.457000', '337300.000000']\n",
            "['-117.200000', '32.830000', '36.000000', '1089.000000', '240.000000', '623.000000', '226.000000', '2.590900', '176000.000000']\n",
            "['-120.690000', '35.490000', '16.000000', '2666.000000', '450.000000', '1203.000000', '429.000000', '4.137500', '222400.000000']\n",
            "['-122.700000', '38.970000', '17.000000', '2554.000000', '540.000000', '723.000000', '319.000000', '3.237500', '114200.000000']\n",
            "['-118.370000', '34.150000', '29.000000', '2630.000000', '617.000000', '1071.000000', '573.000000', '3.366900', '376100.000000']\n",
            "['-118.350000', '34.000000', '40.000000', '2894.000000', '395.000000', '1063.000000', '409.000000', '6.939000', '372000.000000']\n",
            "['-118.390000', '37.360000', '38.000000', '1813.000000', '410.000000', '902.000000', '396.000000', '2.326100', '98400.000000']\n",
            "['-118.110000', '34.200000', '36.000000', '4915.000000', '725.000000', '1897.000000', '700.000000', '6.827000', '359400.000000']\n",
            "['-121.720000', '36.810000', '18.000000', '1984.000000', '379.000000', '1078.000000', '359.000000', '3.296900', '229900.000000']\n",
            "['-118.520000', '34.160000', '39.000000', '2693.000000', '478.000000', '1219.000000', '435.000000', '5.170000', '335400.000000']\n",
            "['-118.120000', '33.900000', '35.000000', '3478.000000', '730.000000', '1885.000000', '673.000000', '2.937500', '206500.000000']\n",
            "['-119.690000', '36.790000', '5.000000', '2613.000000', '476.000000', '1490.000000', '481.000000', '4.099300', '83000.000000']\n",
            "['-118.030000', '33.780000', '26.000000', '2001.000000', '302.000000', '836.000000', '298.000000', '5.106100', '257500.000000']\n",
            "['-120.670000', '35.620000', '6.000000', '12779.000000', '2441.000000', '6085.000000', '2157.000000', '3.866100', '168100.000000']\n",
            "['-118.430000', '34.030000', '36.000000', '1552.000000', '388.000000', '867.000000', '352.000000', '3.646700', '346700.000000']\n",
            "['-121.620000', '39.130000', '41.000000', '1147.000000', '243.000000', '583.000000', '239.000000', '2.243100', '63400.000000']\n",
            "['-118.970000', '37.640000', '13.000000', '1907.000000', '544.000000', '575.000000', '234.000000', '3.068500', '162500.000000']\n",
            "['-117.250000', '32.740000', '36.000000', '3548.000000', '956.000000', '1648.000000', '866.000000', '2.696200', '288200.000000']\n",
            "['-122.280000', '37.800000', '52.000000', '215.000000', '87.000000', '904.000000', '88.000000', '0.866800', '137500.000000']\n",
            "['-118.190000', '34.140000', '38.000000', '1826.000000', '300.000000', '793.000000', '297.000000', '5.296200', '291500.000000']\n",
            "['-117.900000', '33.850000', '32.000000', '1605.000000', '314.000000', '986.000000', '306.000000', '3.337500', '186200.000000']\n",
            "['-119.020000', '37.640000', '14.000000', '5919.000000', '1278.000000', '265.000000', '112.000000', '3.243100', '221400.000000']\n",
            "['-118.370000', '34.200000', '34.000000', '2199.000000', '609.000000', '2488.000000', '597.000000', '2.986100', '171800.000000']\n",
            "['-122.410000', '37.750000', '52.000000', '1057.000000', '276.000000', '837.000000', '292.000000', '2.453100', '229000.000000']\n",
            "['-117.940000', '33.920000', '28.000000', '639.000000', '179.000000', '1062.000000', '169.000000', '3.058800', '145200.000000']\n",
            "['-118.220000', '34.120000', '28.000000', '3306.000000', '1025.000000', '2670.000000', '942.000000', '3.091900', '185400.000000']\n",
            "['-117.240000', '34.040000', '4.000000', '4289.000000', '682.000000', '1981.000000', '705.000000', '5.336600', '165100.000000']\n",
            "['-122.080000', '37.660000', '33.000000', '1547.000000', '372.000000', '1063.000000', '356.000000', '2.562500', '154300.000000']\n",
            "['-122.280000', '37.850000', '48.000000', '2063.000000', '484.000000', '1054.000000', '466.000000', '2.262500', '132900.000000']\n",
            "['-118.210000', '33.900000', '35.000000', '2420.000000', '579.000000', '2010.000000', '540.000000', '2.081700', '104600.000000']\n",
            "['-118.010000', '33.920000', '35.000000', '1606.000000', '289.000000', '829.000000', '273.000000', '5.273000', '187600.000000']\n",
            "['-118.290000', '34.180000', '10.000000', '4292.000000', '1075.000000', '2719.000000', '987.000000', '3.697400', '286600.000000']\n",
            "['-118.210000', '33.960000', '48.000000', '284.000000', '104.000000', '422.000000', '119.000000', '1.282600', '145500.000000']\n",
            "['-117.230000', '32.810000', '28.000000', '1508.000000', '263.000000', '996.000000', '267.000000', '3.802600', '270000.000000']\n",
            "['-117.030000', '33.130000', '15.000000', '7000.000000', '1185.000000', '3555.000000', '1118.000000', '4.702200', '172800.000000']\n",
            "['-121.850000', '37.220000', '21.000000', '6203.000000', '798.000000', '2494.000000', '800.000000', '7.720100', '362700.000000']\n",
            "['-122.400000', '37.720000', '47.000000', '1465.000000', '306.000000', '1119.000000', '315.000000', '4.267200', '219400.000000']\n",
            "['-120.470000', '34.980000', '6.000000', '5762.000000', '1115.000000', '2551.000000', '919.000000', '3.072300', '137300.000000']\n",
            "['-121.140000', '37.480000', '6.000000', '1772.000000', '332.000000', '1011.000000', '331.000000', '3.704500', '128100.000000']\n",
            "['-119.340000', '36.620000', '26.000000', '1922.000000', '339.000000', '1148.000000', '332.000000', '2.605800', '92200.000000']\n",
            "['-117.660000', '34.080000', '36.000000', '1485.000000', '236.000000', '623.000000', '261.000000', '3.303600', '141000.000000']\n",
            "['-116.840000', '33.080000', '15.000000', '2755.000000', '519.000000', '1474.000000', '460.000000', '4.040800', '225900.000000']\n",
            "['-118.290000', '34.050000', '11.000000', '677.000000', '370.000000', '1143.000000', '341.000000', '2.386400', '350000.000000']\n",
            "['-119.980000', '38.940000', '23.000000', '1564.000000', '298.000000', '339.000000', '147.000000', '4.041700', '99300.000000']\n",
            "['-118.100000', '33.910000', '35.000000', '1653.000000', '325.000000', '1072.000000', '301.000000', '3.270800', '159700.000000']\n",
            "['-120.070000', '36.960000', '42.000000', '963.000000', '216.000000', '471.000000', '211.000000', '2.289800', '66100.000000']\n",
            "['-119.110000', '35.390000', '22.000000', '984.000000', '176.000000', '451.000000', '170.000000', '3.250000', '88900.000000']\n",
            "['-117.720000', '34.100000', '46.000000', '2477.000000', '458.000000', '1034.000000', '455.000000', '5.500000', '289700.000000']\n",
            "['-117.900000', '33.650000', '30.000000', '2196.000000', '486.000000', '1131.000000', '460.000000', '4.413500', '272300.000000']\n",
            "['-121.980000', '37.290000', '31.000000', '2750.000000', '664.000000', '1459.000000', '660.000000', '3.228700', '264900.000000']\n",
            "['-122.030000', '36.960000', '32.000000', '2182.000000', '406.000000', '1122.000000', '370.000000', '3.520000', '284200.000000']\n",
            "['-117.420000', '34.080000', '21.000000', '4460.000000', '930.000000', '2657.000000', '839.000000', '2.756900', '127500.000000']\n",
            "['-117.660000', '34.110000', '19.000000', '3445.000000', '661.000000', '1635.000000', '580.000000', '5.068100', '230500.000000']\n",
            "['-119.290000', '34.240000', '27.000000', '4742.000000', '775.000000', '1682.000000', '696.000000', '6.194000', '500001.000000']\n",
            "['-117.020000', '32.710000', '20.000000', '4050.000000', '745.000000', '2870.000000', '761.000000', '3.736600', '121800.000000']\n",
            "['-122.850000', '38.620000', '16.000000', '4418.000000', '704.000000', '1908.000000', '697.000000', '4.591300', '244600.000000']\n",
            "['-118.330000', '33.910000', '35.000000', '1092.000000', '302.000000', '962.000000', '297.000000', '3.590300', '183300.000000']\n",
            "['-118.400000', '34.020000', '40.000000', '593.000000', '137.000000', '371.000000', '132.000000', '4.693200', '332800.000000']\n",
            "['-118.380000', '33.840000', '26.000000', '2869.000000', '567.000000', '1157.000000', '538.000000', '6.038200', '355300.000000']\n",
            "['-118.050000', '34.110000', '42.000000', '3677.000000', '627.000000', '1779.000000', '622.000000', '5.150900', '426500.000000']\n",
            "['-117.430000', '33.930000', '36.000000', '2386.000000', '396.000000', '1176.000000', '374.000000', '4.512200', '113300.000000']\n",
            "['-118.100000', '34.160000', '44.000000', '2795.000000', '496.000000', '1235.000000', '469.000000', '4.238600', '283700.000000']\n",
            "['-122.530000', '37.860000', '38.000000', '1183.000000', '196.000000', '628.000000', '205.000000', '3.750000', '478600.000000']\n",
            "['-118.300000', '33.970000', '42.000000', '944.000000', '200.000000', '567.000000', '190.000000', '2.631100', '124100.000000']\n",
            "['-118.200000', '33.890000', '37.000000', '2394.000000', '568.000000', '2499.000000', '551.000000', '2.532100', '105100.000000']\n",
            "['-118.020000', '34.150000', '44.000000', '2419.000000', '437.000000', '1045.000000', '432.000000', '3.875000', '280800.000000']\n",
            "['-121.530000', '39.520000', '30.000000', '1030.000000', '161.000000', '448.000000', '159.000000', '2.482100', '73800.000000']\n",
            "['-117.920000', '33.900000', '13.000000', '1814.000000', '320.000000', '1010.000000', '313.000000', '6.348900', '337900.000000']\n",
            "['-118.370000', '34.210000', '33.000000', '2034.000000', '470.000000', '1990.000000', '423.000000', '3.745500', '159600.000000']\n",
            "['-118.040000', '33.850000', '18.000000', '3628.000000', '546.000000', '1922.000000', '544.000000', '7.505700', '328500.000000']\n",
            "['-118.460000', '33.980000', '19.000000', '2520.000000', '726.000000', '964.000000', '663.000000', '3.806800', '500001.000000']\n",
            "['-118.050000', '33.900000', '36.000000', '1047.000000', '227.000000', '975.000000', '239.000000', '3.189700', '155000.000000']\n",
            "['-122.950000', '40.710000', '26.000000', '2231.000000', '421.000000', '987.000000', '364.000000', '2.479200', '88800.000000']\n",
            "['-122.000000', '37.300000', '28.000000', '5096.000000', '1011.000000', '2588.000000', '954.000000', '5.357000', '355200.000000']\n",
            "['-121.860000', '37.400000', '21.000000', '1386.000000', '260.000000', '946.000000', '257.000000', '6.522600', '258500.000000']\n",
            "['-119.250000', '36.560000', '35.000000', '1675.000000', '373.000000', '1131.000000', '316.000000', '1.672200', '59100.000000']\n",
            "['-118.210000', '34.560000', '12.000000', '2472.000000', '408.000000', '1048.000000', '380.000000', '4.709700', '262100.000000']\n",
            "['-118.260000', '34.020000', '39.000000', '698.000000', '232.000000', '1046.000000', '228.000000', '2.235600', '119500.000000']\n",
            "['-117.280000', '34.150000', '32.000000', '2170.000000', '430.000000', '815.000000', '401.000000', '3.176500', '135000.000000']\n",
            "['-122.440000', '37.660000', '21.000000', '5108.000000', '1510.000000', '3288.000000', '1405.000000', '3.192700', '252600.000000']\n",
            "['-118.990000', '35.390000', '36.000000', '1438.000000', '348.000000', '1054.000000', '341.000000', '1.831900', '55400.000000']\n",
            "['-117.140000', '34.060000', '15.000000', '3057.000000', '510.000000', '1154.000000', '460.000000', '3.974100', '141100.000000']\n",
            "['-122.150000', '37.410000', '15.000000', '2577.000000', '360.000000', '979.000000', '364.000000', '10.476000', '500001.000000']\n",
            "['-121.200000', '38.670000', '26.000000', '1546.000000', '287.000000', '773.000000', '299.000000', '2.980300', '115400.000000']\n",
            "['-122.150000', '37.470000', '37.000000', '1844.000000', '382.000000', '1634.000000', '417.000000', '2.799300', '145500.000000']\n",
            "['-118.340000', '33.950000', '25.000000', '3762.000000', '1281.000000', '4015.000000', '1178.000000', '2.158700', '143800.000000']\n",
            "['-118.250000', '34.080000', '44.000000', '1425.000000', '438.000000', '1121.000000', '374.000000', '2.110800', '200000.000000']\n",
            "['-119.580000', '36.100000', '21.000000', '1382.000000', '327.000000', '1469.000000', '355.000000', '1.396700', '46500.000000']\n",
            "['-121.310000', '38.710000', '18.000000', '3998.000000', '744.000000', '2071.000000', '660.000000', '4.383600', '102000.000000']\n",
            "['-118.420000', '34.120000', '27.000000', '2089.000000', '303.000000', '654.000000', '270.000000', '12.376700', '500001.000000']\n",
            "['-117.180000', '34.060000', '52.000000', '954.000000', '233.000000', '533.000000', '239.000000', '1.302100', '100000.000000']\n",
            "['-115.900000', '32.690000', '18.000000', '414.000000', '86.000000', '98.000000', '54.000000', '1.541700', '57500.000000']\n",
            "['-118.360000', '33.980000', '46.000000', '1425.000000', '283.000000', '782.000000', '273.000000', '5.057000', '246300.000000']\n",
            "['-122.500000', '37.600000', '35.000000', '2197.000000', '369.000000', '971.000000', '326.000000', '4.250000', '241700.000000']\n",
            "['-121.500000', '36.810000', '20.000000', '1345.000000', '230.000000', '731.000000', '217.000000', '4.233300', '363300.000000']\n",
            "['-118.190000', '33.820000', '11.000000', '872.000000', '203.000000', '422.000000', '221.000000', '4.636400', '156300.000000']\n",
            "['-117.300000', '34.150000', '40.000000', '961.000000', '199.000000', '509.000000', '182.000000', '2.060000', '85500.000000']\n",
            "['-118.420000', '34.230000', '34.000000', '1531.000000', '278.000000', '1064.000000', '274.000000', '5.668700', '207300.000000']\n",
            "['-118.120000', '33.900000', '38.000000', '1222.000000', '282.000000', '756.000000', '256.000000', '4.125000', '173900.000000']\n",
            "['-119.800000', '36.790000', '45.000000', '1337.000000', '187.000000', '471.000000', '187.000000', '5.187000', '153800.000000']\n",
            "['-119.740000', '34.350000', '34.000000', '1664.000000', '292.000000', '705.000000', '257.000000', '5.000000', '329400.000000']\n",
            "['-121.970000', '37.970000', '26.000000', '1977.000000', '264.000000', '817.000000', '273.000000', '5.751200', '240200.000000']\n",
            "['-117.070000', '34.050000', '14.000000', '5764.000000', '1006.000000', '1876.000000', '841.000000', '1.969400', '173200.000000']\n",
            "['-122.290000', '37.820000', '2.000000', '158.000000', '43.000000', '94.000000', '57.000000', '2.562500', '60000.000000']\n",
            "['-116.310000', '33.650000', '8.000000', '3079.000000', '558.000000', '1572.000000', '474.000000', '4.593800', '102600.000000']\n",
            "['-118.270000', '34.010000', '43.000000', '1235.000000', '385.000000', '1745.000000', '372.000000', '2.081700', '113300.000000']\n",
            "['-122.440000', '37.760000', '52.000000', '1968.000000', '472.000000', '784.000000', '430.000000', '3.370200', '370000.000000']\n",
            "['-118.270000', '34.150000', '14.000000', '1744.000000', '536.000000', '1494.000000', '531.000000', '3.217100', '230800.000000']\n",
            "['-118.410000', '34.030000', '36.000000', '3053.000000', '635.000000', '1234.000000', '577.000000', '5.163700', '500001.000000']\n",
            "['-121.450000', '38.610000', '32.000000', '2436.000000', '612.000000', '1509.000000', '618.000000', '1.042400', '81400.000000']\n",
            "['-117.250000', '32.830000', '17.000000', '2075.000000', '262.000000', '704.000000', '241.000000', '10.952900', '500001.000000']\n",
            "['-119.800000', '36.820000', '24.000000', '5377.000000', '1005.000000', '2010.000000', '982.000000', '3.454200', '121200.000000']\n",
            "['-121.310000', '38.010000', '22.000000', '2101.000000', '514.000000', '1304.000000', '511.000000', '2.834800', '101600.000000']\n",
            "['-118.180000', '34.050000', '41.000000', '762.000000', '147.000000', '817.000000', '176.000000', '3.750000', '123100.000000']\n",
            "['-122.130000', '37.370000', '30.000000', '2139.000000', '260.000000', '742.000000', '242.000000', '11.806000', '500001.000000']\n",
            "['-119.750000', '36.780000', '28.000000', '3257.000000', '752.000000', '1981.000000', '712.000000', '2.293000', '71700.000000']\n",
            "['-117.090000', '32.740000', '42.000000', '1986.000000', '472.000000', '1472.000000', '475.000000', '2.175700', '110100.000000']\n",
            "['-122.020000', '37.330000', '25.000000', '3823.000000', '584.000000', '1689.000000', '571.000000', '7.369300', '373600.000000']\n",
            "['-117.200000', '32.840000', '34.000000', '3353.000000', '544.000000', '1583.000000', '571.000000', '4.550000', '187700.000000']\n",
            "['-118.140000', '34.010000', '46.000000', '1746.000000', '447.000000', '1296.000000', '392.000000', '2.392900', '156800.000000']\n",
            "['-122.430000', '37.780000', '29.000000', '1310.000000', '364.000000', '1009.000000', '379.000000', '1.384400', '177500.000000']\n",
            "['-118.100000', '34.010000', '29.000000', '2077.000000', '564.000000', '2087.000000', '543.000000', '2.660000', '189200.000000']\n",
            "['-118.350000', '34.100000', '20.000000', '2745.000000', '782.000000', '1161.000000', '739.000000', '3.904400', '436400.000000']\n",
            "['-118.000000', '33.810000', '33.000000', '2970.000000', '547.000000', '1869.000000', '539.000000', '4.363600', '201800.000000']\n",
            "['-121.460000', '38.560000', '52.000000', '1750.000000', '372.000000', '764.000000', '369.000000', '2.919100', '111800.000000']\n",
            "['-118.270000', '33.870000', '21.000000', '6108.000000', '1130.000000', '3244.000000', '1113.000000', '4.276800', '181400.000000']\n",
            "['-118.260000', '33.950000', '44.000000', '1771.000000', '378.000000', '1296.000000', '399.000000', '1.638900', '96700.000000']\n",
            "['-119.010000', '35.380000', '52.000000', '114.000000', '26.000000', '158.000000', '26.000000', '1.075000', '67500.000000']\n",
            "['-117.080000', '32.800000', '32.000000', '1587.000000', '268.000000', '635.000000', '249.000000', '3.375000', '178100.000000']\n",
            "['-122.200000', '40.260000', '15.000000', '2102.000000', '358.000000', '957.000000', '371.000000', '3.190800', '137900.000000']\n",
            "['-119.980000', '38.940000', '25.000000', '1339.000000', '328.000000', '503.000000', '219.000000', '1.901800', '109700.000000']\n",
            "['-122.530000', '37.950000', '22.000000', '7446.000000', '1979.000000', '2980.000000', '1888.000000', '3.583800', '271300.000000']\n",
            "['-118.300000', '34.050000', '51.000000', '1005.000000', '314.000000', '1227.000000', '306.000000', '2.429700', '162500.000000']\n",
            "['-121.860000', '39.750000', '18.000000', '1651.000000', '309.000000', '856.000000', '293.000000', '3.504600', '118300.000000']\n",
            "['-122.060000', '37.330000', '23.000000', '4507.000000', '751.000000', '2167.000000', '722.000000', '7.010200', '500001.000000']\n",
            "['-122.450000', '38.010000', '36.000000', '4501.000000', '832.000000', '2196.000000', '800.000000', '4.318200', '252700.000000']\n",
            "['-117.010000', '32.770000', '24.000000', '2311.000000', '536.000000', '1005.000000', '525.000000', '2.900000', '185200.000000']\n",
            "['-120.870000', '37.760000', '16.000000', '1174.000000', '249.000000', '601.000000', '242.000000', '1.714300', '113300.000000']\n",
            "['-121.790000', '38.540000', '7.000000', '1777.000000', '513.000000', '4479.000000', '504.000000', '1.465300', '310000.000000']\n",
            "['-117.810000', '33.820000', '22.000000', '2898.000000', '335.000000', '1057.000000', '324.000000', '10.811100', '500001.000000']\n",
            "['-117.590000', '33.660000', '3.000000', '1206.000000', '256.000000', '563.000000', '287.000000', '5.158900', '167800.000000']\n",
            "['-117.360000', '34.090000', '32.000000', '3616.000000', '631.000000', '2131.000000', '593.000000', '3.287900', '95500.000000']\n",
            "['-121.520000', '39.500000', '33.000000', '1462.000000', '241.000000', '569.000000', '231.000000', '3.283300', '82600.000000']\n",
            "['-122.270000', '37.840000', '52.000000', '1503.000000', '298.000000', '690.000000', '275.000000', '2.603300', '162900.000000']\n",
            "['-122.210000', '40.200000', '19.000000', '3404.000000', '731.000000', '1421.000000', '683.000000', '2.614900', '84400.000000']\n",
            "['-117.240000', '33.180000', '19.000000', '3337.000000', '565.000000', '1646.000000', '554.000000', '5.019500', '200200.000000']\n",
            "['-122.550000', '37.980000', '31.000000', '3807.000000', '828.000000', '1581.000000', '795.000000', '3.293000', '337500.000000']\n",
            "['-118.450000', '34.000000', '46.000000', '1777.000000', '362.000000', '896.000000', '334.000000', '4.450000', '348300.000000']\n",
            "['-117.880000', '33.850000', '34.000000', '1127.000000', '185.000000', '588.000000', '181.000000', '4.375000', '224700.000000']\n",
            "['-117.180000', '32.760000', '52.000000', '2023.000000', '301.000000', '649.000000', '285.000000', '4.739600', '441700.000000']\n",
            "['-118.300000', '33.880000', '29.000000', '850.000000', '229.000000', '563.000000', '204.000000', '3.737500', '247700.000000']\n",
            "['-122.040000', '38.280000', '12.000000', '3861.000000', '795.000000', '2129.000000', '806.000000', '3.676000', '135000.000000']\n",
            "['-122.430000', '40.470000', '16.000000', '3552.000000', '704.000000', '1801.000000', '658.000000', '2.149600', '97700.000000']\n",
            "['-118.380000', '33.860000', '24.000000', '3124.000000', '560.000000', '1312.000000', '542.000000', '6.302100', '333800.000000']\n",
            "['-119.570000', '36.090000', '6.000000', '2015.000000', '413.000000', '992.000000', '319.000000', '2.388900', '53200.000000']\n",
            "['-117.870000', '34.120000', '34.000000', '1004.000000', '220.000000', '772.000000', '217.000000', '3.857100', '174500.000000']\n",
            "['-116.880000', '32.810000', '35.000000', '2926.000000', '562.000000', '1590.000000', '506.000000', '4.201400', '143200.000000']\n",
            "['-118.580000', '34.210000', '13.000000', '6227.000000', '1317.000000', '3739.000000', '1226.000000', '4.031300', '299300.000000']\n",
            "['-122.040000', '37.880000', '32.000000', '3250.000000', '550.000000', '1230.000000', '557.000000', '4.642400', '312700.000000']\n",
            "['-122.440000', '37.720000', '52.000000', '1775.000000', '347.000000', '1102.000000', '367.000000', '4.312500', '267200.000000']\n",
            "['-121.810000', '37.370000', '26.000000', '2987.000000', '539.000000', '1931.000000', '518.000000', '5.109900', '213100.000000']\n",
            "['-122.500000', '37.770000', '52.000000', '2433.000000', '454.000000', '1070.000000', '420.000000', '4.125000', '359500.000000']\n",
            "['-121.940000', '37.940000', '26.000000', '1299.000000', '174.000000', '533.000000', '180.000000', '6.229600', '291700.000000']\n",
            "['-118.450000', '34.120000', '20.000000', '10722.000000', '1617.000000', '3731.000000', '1511.000000', '9.744900', '500001.000000']\n",
            "['-121.700000', '39.070000', '26.000000', '2668.000000', '510.000000', '1437.000000', '505.000000', '3.312500', '100000.000000']\n",
            "['-118.100000', '34.650000', '33.000000', '873.000000', '177.000000', '425.000000', '142.000000', '2.670000', '187500.000000']\n",
            "['-119.020000', '36.060000', '41.000000', '2279.000000', '538.000000', '1908.000000', '511.000000', '1.395200', '43100.000000']\n",
            "['-118.060000', '34.080000', '42.000000', '1988.000000', '402.000000', '1239.000000', '402.000000', '3.256900', '201500.000000']\n",
            "['-117.660000', '33.610000', '17.000000', '3464.000000', '519.000000', '1713.000000', '530.000000', '6.047100', '248400.000000']\n",
            "['-117.400000', '33.940000', '30.000000', '1198.000000', '251.000000', '1019.000000', '214.000000', '3.050900', '82700.000000']\n",
            "['-118.190000', '33.830000', '30.000000', '2246.000000', '552.000000', '1032.000000', '548.000000', '3.587100', '347100.000000']\n",
            "['-121.550000', '39.510000', '50.000000', '1050.000000', '288.000000', '485.000000', '260.000000', '1.160700', '51700.000000']\n",
            "['-121.980000', '37.140000', '37.000000', '74.000000', '19.000000', '63.000000', '17.000000', '9.590800', '350000.000000']\n",
            "['-117.060000', '32.610000', '24.000000', '4369.000000', '1353.000000', '3123.000000', '1247.000000', '2.057100', '152300.000000']\n",
            "['-118.320000', '34.040000', '39.000000', '2965.000000', '812.000000', '2638.000000', '794.000000', '2.532000', '172700.000000']\n",
            "['-117.130000', '32.760000', '41.000000', '1545.000000', '420.000000', '747.000000', '415.000000', '2.375000', '154400.000000']\n",
            "['-122.500000', '37.760000', '46.000000', '2226.000000', '480.000000', '1272.000000', '468.000000', '4.264400', '284100.000000']\n",
            "['-120.870000', '37.620000', '30.000000', '455.000000', '70.000000', '220.000000', '69.000000', '4.895800', '142500.000000']\n",
            "['-118.240000', '34.220000', '41.000000', '2476.000000', '506.000000', '1271.000000', '485.000000', '3.453100', '263900.000000']\n",
            "['-117.690000', '33.480000', '25.000000', '3240.000000', '481.000000', '1462.000000', '497.000000', '6.181500', '288500.000000']\n",
            "['-122.200000', '39.750000', '18.000000', '2603.000000', '576.000000', '1616.000000', '588.000000', '2.019200', '63700.000000']\n",
            "['-117.080000', '32.640000', '43.000000', '1005.000000', '230.000000', '548.000000', '252.000000', '1.867200', '145800.000000']\n",
            "['-117.910000', '33.820000', '32.000000', '1408.000000', '307.000000', '1331.000000', '284.000000', '3.701400', '179600.000000']\n",
            "['-122.000000', '38.730000', '31.000000', '371.000000', '74.000000', '208.000000', '84.000000', '3.875000', '137500.000000']\n",
            "['-118.290000', '33.840000', '33.000000', '896.000000', '208.000000', '843.000000', '200.000000', '3.500000', '183000.000000']\n",
            "['-118.130000', '33.860000', '45.000000', '1320.000000', '256.000000', '645.000000', '256.000000', '4.400000', '209500.000000']\n",
            "['-118.350000', '33.890000', '29.000000', '2940.000000', '708.000000', '2175.000000', '684.000000', '3.648600', '229000.000000']\n",
            "['-122.130000', '40.010000', '21.000000', '916.000000', '194.000000', '451.000000', '178.000000', '2.125000', '63300.000000']\n",
            "['-122.070000', '37.960000', '37.000000', '1217.000000', '199.000000', '552.000000', '194.000000', '5.044500', '196200.000000']\n",
            "['-117.260000', '32.850000', '30.000000', '3652.000000', '499.000000', '978.000000', '462.000000', '8.237400', '500001.000000']\n",
            "['-117.870000', '33.740000', '16.000000', '1243.000000', '365.000000', '1925.000000', '376.000000', '2.763200', '158900.000000']\n",
            "['-121.880000', '37.440000', '23.000000', '1310.000000', '267.000000', '910.000000', '261.000000', '5.399400', '237900.000000']\n",
            "['-121.670000', '36.580000', '11.000000', '5892.000000', '837.000000', '2327.000000', '812.000000', '6.155100', '291800.000000']\n",
            "['-116.890000', '33.790000', '12.000000', '701.000000', '130.000000', '434.000000', '110.000000', '2.057700', '56700.000000']\n",
            "['-122.660000', '38.470000', '20.000000', '2806.000000', '477.000000', '1369.000000', '460.000000', '4.750000', '190500.000000']\n",
            "['-121.450000', '38.540000', '38.000000', '1865.000000', '384.000000', '1052.000000', '354.000000', '1.789100', '60500.000000']\n",
            "['-121.000000', '37.660000', '43.000000', '2369.000000', '413.000000', '944.000000', '422.000000', '3.263200', '138100.000000']\n",
            "['-117.270000', '32.840000', '34.000000', '1655.000000', '450.000000', '870.000000', '411.000000', '3.210900', '376000.000000']\n",
            "['-117.870000', '34.110000', '23.000000', '4066.000000', '819.000000', '2105.000000', '737.000000', '4.655600', '199600.000000']\n",
            "['-121.440000', '37.750000', '16.000000', '2229.000000', '458.000000', '1199.000000', '445.000000', '3.482100', '170600.000000']\n",
            "['-118.130000', '33.760000', '44.000000', '2532.000000', '621.000000', '961.000000', '550.000000', '3.935200', '406900.000000']\n",
            "['-118.310000', '34.260000', '41.000000', '1297.000000', '327.000000', '733.000000', '315.000000', '3.058300', '160300.000000']\n",
            "['-122.000000', '38.370000', '18.000000', '1048.000000', '185.000000', '469.000000', '162.000000', '3.625000', '125000.000000']\n",
            "['-122.270000', '41.230000', '40.000000', '1958.000000', '386.000000', '725.000000', '331.000000', '2.189800', '65500.000000']\n",
            "['-120.890000', '37.520000', '42.000000', '1200.000000', '221.000000', '647.000000', '192.000000', '2.540200', '157500.000000']\n",
            "['-118.750000', '34.290000', '17.000000', '5512.000000', '765.000000', '2734.000000', '814.000000', '6.607300', '258100.000000']\n",
            "['-118.180000', '34.020000', '36.000000', '1138.000000', '296.000000', '1484.000000', '320.000000', '2.281300', '150700.000000']\n",
            "['-121.370000', '38.410000', '14.000000', '3727.000000', '685.000000', '1741.000000', '646.000000', '3.562500', '125700.000000']\n",
            "['-120.310000', '37.290000', '36.000000', '969.000000', '206.000000', '732.000000', '175.000000', '1.593800', '57600.000000']\n",
            "['-117.880000', '33.730000', '32.000000', '1947.000000', '355.000000', '1786.000000', '332.000000', '4.572600', '177500.000000']\n",
            "['-117.330000', '33.980000', '52.000000', '1417.000000', '353.000000', '881.000000', '300.000000', '1.953100', '162500.000000']\n",
            "['-118.490000', '34.030000', '30.000000', '4061.000000', '927.000000', '1487.000000', '865.000000', '4.182700', '435100.000000']\n",
            "['-121.930000', '38.010000', '9.000000', '2294.000000', '389.000000', '1142.000000', '365.000000', '5.336300', '160800.000000']\n",
            "['-122.450000', '37.700000', '46.000000', '2193.000000', '499.000000', '1814.000000', '489.000000', '4.012500', '230100.000000']\n",
            "['-117.080000', '32.750000', '20.000000', '1886.000000', '586.000000', '1134.000000', '525.000000', '1.502900', '100000.000000']\n",
            "['-116.190000', '33.690000', '11.000000', '5692.000000', '1346.000000', '5682.000000', '1273.000000', '2.538300', '74000.000000']\n",
            "['-119.730000', '36.620000', '35.000000', '2080.000000', '365.000000', '1026.000000', '333.000000', '3.578100', '92800.000000']\n",
            "['-117.120000', '32.590000', '28.000000', '2793.000000', '706.000000', '1825.000000', '676.000000', '2.672400', '144500.000000']\n",
            "['-117.630000', '34.090000', '8.000000', '3557.000000', '890.000000', '2251.000000', '765.000000', '2.681800', '114100.000000']\n",
            "['-118.260000', '34.070000', '40.000000', '680.000000', '273.000000', '995.000000', '249.000000', '2.260700', '165600.000000']\n",
            "['-118.260000', '33.970000', '46.000000', '1521.000000', '352.000000', '1100.000000', '334.000000', '1.550000', '100600.000000']\n",
            "['-119.840000', '36.750000', '34.000000', '1186.000000', '300.000000', '774.000000', '271.000000', '1.575000', '57100.000000']\n",
            "['-121.280000', '38.670000', '29.000000', '1087.000000', '174.000000', '430.000000', '174.000000', '4.362500', '158800.000000']\n",
            "['-117.350000', '34.110000', '34.000000', '2104.000000', '388.000000', '1578.000000', '365.000000', '3.083300', '88400.000000']\n",
            "['-121.320000', '36.420000', '20.000000', '1054.000000', '269.000000', '1219.000000', '273.000000', '3.043700', '76600.000000']\n",
            "['-118.350000', '34.020000', '34.000000', '3978.000000', '1073.000000', '2725.000000', '1035.000000', '1.762200', '167900.000000']\n",
            "['-119.810000', '37.670000', '24.000000', '172.000000', '42.000000', '79.000000', '30.000000', '3.833300', '93800.000000']\n",
            "['-118.150000', '34.050000', '33.000000', '3287.000000', '649.000000', '1783.000000', '653.000000', '3.847200', '293300.000000']\n",
            "['-121.220000', '37.810000', '17.000000', '2879.000000', '542.000000', '1802.000000', '530.000000', '3.637800', '126100.000000']\n",
            "['-119.720000', '34.430000', '30.000000', '2491.000000', '656.000000', '1091.000000', '576.000000', '2.513900', '279500.000000']\n",
            "['-117.850000', '33.840000', '17.000000', '2830.000000', '502.000000', '1370.000000', '459.000000', '5.178500', '247300.000000']\n",
            "['-117.200000', '32.790000', '31.000000', '3417.000000', '533.000000', '1245.000000', '532.000000', '4.778800', '276000.000000']\n",
            "['-118.630000', '34.180000', '33.000000', '5252.000000', '760.000000', '2041.000000', '730.000000', '6.797700', '389700.000000']\n",
            "['-117.490000', '33.640000', '3.000000', '8874.000000', '1302.000000', '3191.000000', '1027.000000', '6.858800', '302000.000000']\n",
            "['-118.370000', '33.840000', '35.000000', '1792.000000', '322.000000', '978.000000', '326.000000', '4.958300', '342800.000000']\n",
            "['-122.020000', '38.260000', '20.000000', '3899.000000', '763.000000', '2198.000000', '779.000000', '3.206100', '120400.000000']\n",
            "['-121.330000', '38.660000', '17.000000', '2767.000000', '584.000000', '1275.000000', '568.000000', '2.590900', '125400.000000']\n",
            "['-118.740000', '36.230000', '22.000000', '1033.000000', '232.000000', '442.000000', '136.000000', '2.644700', '137500.000000']\n",
            "['-117.890000', '34.490000', '12.000000', '3449.000000', '598.000000', '1502.000000', '540.000000', '3.704300', '150800.000000']\n",
            "['-117.410000', '33.960000', '24.000000', '4481.000000', '901.000000', '2398.000000', '823.000000', '3.864000', '123400.000000']\n",
            "['-118.750000', '34.420000', '28.000000', '1000.000000', '206.000000', '545.000000', '154.000000', '2.416700', '191700.000000']\n",
            "['-122.480000', '37.740000', '52.000000', '2285.000000', '435.000000', '1211.000000', '442.000000', '4.020800', '323100.000000']\n",
            "['-118.140000', '34.040000', '43.000000', '1949.000000', '464.000000', '1216.000000', '457.000000', '3.321400', '209300.000000']\n",
            "['-122.560000', '37.900000', '36.000000', '1760.000000', '283.000000', '562.000000', '246.000000', '6.754600', '402400.000000']\n",
            "['-122.090000', '37.390000', '43.000000', '2065.000000', '535.000000', '1029.000000', '500.000000', '3.731800', '327700.000000']\n",
            "['-121.800000', '36.940000', '29.000000', '2377.000000', '476.000000', '1669.000000', '499.000000', '2.821400', '190100.000000']\n",
            "['-117.830000', '33.830000', '13.000000', '3759.000000', '489.000000', '1496.000000', '499.000000', '8.381800', '377600.000000']\n",
            "['-121.680000', '36.900000', '13.000000', '833.000000', '130.000000', '405.000000', '127.000000', '5.272900', '322900.000000']\n",
            "['-122.300000', '37.880000', '52.000000', '409.000000', '97.000000', '208.000000', '98.000000', '1.697100', '138800.000000']\n",
            "['-121.040000', '37.670000', '16.000000', '19.000000', '19.000000', '166.000000', '9.000000', '0.536000', '162500.000000']\n",
            "['-118.320000', '34.090000', '28.000000', '2173.000000', '819.000000', '2548.000000', '763.000000', '1.879000', '218800.000000']\n",
            "['-118.120000', '33.810000', '36.000000', '1774.000000', '299.000000', '784.000000', '298.000000', '5.044700', '249200.000000']\n",
            "['-121.810000', '39.700000', '21.000000', '5051.000000', '1054.000000', '2948.000000', '980.000000', '1.586300', '81300.000000']\n",
            "['-121.840000', '36.520000', '18.000000', '3165.000000', '533.000000', '1312.000000', '434.000000', '6.523400', '357400.000000']\n",
            "['-121.790000', '37.330000', '18.000000', '3611.000000', '614.000000', '2381.000000', '642.000000', '5.634500', '231000.000000']\n",
            "['-118.160000', '34.180000', '48.000000', '568.000000', '145.000000', '559.000000', '135.000000', '2.413500', '135700.000000']\n",
            "['-119.400000', '36.590000', '37.000000', '1486.000000', '296.000000', '977.000000', '290.000000', '3.507400', '93800.000000']\n",
            "['-122.270000', '37.800000', '39.000000', '1715.000000', '623.000000', '1327.000000', '467.000000', '1.847700', '179200.000000']\n",
            "['-117.730000', '33.570000', '5.000000', '11976.000000', '2495.000000', '4327.000000', '2009.000000', '4.848800', '194400.000000']\n",
            "['-121.280000', '37.920000', '30.000000', '1061.000000', '230.000000', '851.000000', '195.000000', '2.441200', '61600.000000']\n",
            "['-119.810000', '36.770000', '43.000000', '2341.000000', '395.000000', '890.000000', '375.000000', '3.426500', '85000.000000']\n",
            "['-122.260000', '37.850000', '50.000000', '1120.000000', '283.000000', '697.000000', '264.000000', '2.125000', '140000.000000']\n",
            "['-117.950000', '33.930000', '37.000000', '2633.000000', '630.000000', '1904.000000', '630.000000', '2.612300', '161300.000000']\n",
            "['-120.120000', '38.120000', '37.000000', '3355.000000', '666.000000', '338.000000', '136.000000', '2.062500', '88900.000000']\n",
            "['-121.880000', '37.350000', '52.000000', '1704.000000', '418.000000', '1336.000000', '411.000000', '2.816700', '183500.000000']\n",
            "['-118.110000', '33.870000', '15.000000', '3254.000000', '598.000000', '1772.000000', '618.000000', '5.041700', '240800.000000']\n",
            "['-122.080000', '37.690000', '42.000000', '1414.000000', '274.000000', '629.000000', '244.000000', '3.347800', '184900.000000']\n",
            "['-121.680000', '39.150000', '14.000000', '2774.000000', '451.000000', '1292.000000', '428.000000', '4.383300', '115200.000000']\n",
            "['-122.160000', '37.710000', '36.000000', '666.000000', '132.000000', '366.000000', '134.000000', '3.464300', '175000.000000']\n",
            "['-118.070000', '34.090000', '35.000000', '1224.000000', '267.000000', '887.000000', '276.000000', '4.098700', '202400.000000']\n",
            "['-117.690000', '33.650000', '16.000000', '5805.000000', '852.000000', '2356.000000', '795.000000', '6.106200', '274600.000000']\n",
            "['-118.350000', '34.030000', '49.000000', '2334.000000', '530.000000', '1334.000000', '447.000000', '1.890000', '124000.000000']\n",
            "['-122.790000', '39.020000', '23.000000', '642.000000', '203.000000', '265.000000', '84.000000', '1.883300', '96900.000000']\n",
            "['-118.140000', '33.890000', '33.000000', '2867.000000', '786.000000', '1774.000000', '705.000000', '2.929200', '183400.000000']\n",
            "['-121.890000', '37.420000', '26.000000', '40.000000', '8.000000', '52.000000', '7.000000', '7.719700', '225000.000000']\n",
            "['-122.410000', '37.760000', '52.000000', '492.000000', '139.000000', '316.000000', '168.000000', '3.086500', '225000.000000']\n",
            "['-118.600000', '34.160000', '37.000000', '3441.000000', '584.000000', '1283.000000', '544.000000', '4.165600', '313100.000000']\n",
            "['-118.410000', '34.020000', '24.000000', '2610.000000', '756.000000', '1322.000000', '692.000000', '3.502200', '281300.000000']\n",
            "['-117.530000', '33.970000', '29.000000', '1430.000000', '273.000000', '872.000000', '283.000000', '4.083300', '141000.000000']\n",
            "['-117.130000', '32.700000', '35.000000', '365.000000', '98.000000', '463.000000', '112.000000', '2.558800', '78800.000000']\n",
            "['-117.140000', '32.900000', '16.000000', '3217.000000', '716.000000', '2054.000000', '687.000000', '4.223400', '162100.000000']\n",
            "['-118.160000', '34.110000', '31.000000', '5715.000000', '1154.000000', '2639.000000', '1079.000000', '4.166100', '364400.000000']\n",
            "['-117.180000', '32.700000', '42.000000', '1691.000000', '286.000000', '761.000000', '281.000000', '5.138600', '404500.000000']\n",
            "['-117.970000', '33.720000', '24.000000', '2991.000000', '500.000000', '1437.000000', '453.000000', '5.428600', '273400.000000']\n",
            "['-118.250000', '34.090000', '52.000000', '104.000000', '20.000000', '32.000000', '17.000000', '3.750000', '241700.000000']\n",
            "['-118.140000', '34.110000', '52.000000', '3367.000000', '545.000000', '1427.000000', '535.000000', '5.229200', '444500.000000']\n",
            "['-120.010000', '34.540000', '30.000000', '2992.000000', '609.000000', '1288.000000', '465.000000', '3.937500', '292900.000000']\n",
            "['-117.410000', '34.100000', '5.000000', '4937.000000', '1139.000000', '2204.000000', '812.000000', '2.527200', '92000.000000']\n",
            "['-118.220000', '34.520000', '7.000000', '4524.000000', '735.000000', '2298.000000', '717.000000', '6.553800', '311600.000000']\n",
            "['-117.910000', '33.870000', '29.000000', '1121.000000', '291.000000', '762.000000', '276.000000', '2.500000', '143800.000000']\n",
            "['-117.090000', '32.760000', '29.000000', '1650.000000', '496.000000', '882.000000', '445.000000', '2.228700', '140000.000000']\n",
            "['-122.270000', '37.820000', '52.000000', '1630.000000', '456.000000', '1162.000000', '400.000000', '1.247500', '104200.000000']\n",
            "['-118.200000', '34.060000', '46.000000', '321.000000', '101.000000', '401.000000', '86.000000', '2.102900', '109400.000000']\n",
            "['-118.360000', '33.900000', '40.000000', '1271.000000', '276.000000', '725.000000', '234.000000', '5.045200', '231900.000000']\n",
            "['-122.000000', '37.860000', '18.000000', '8953.000000', '1074.000000', '3011.000000', '993.000000', '10.737200', '500001.000000']\n",
            "['-121.360000', '39.520000', '15.000000', '2490.000000', '527.000000', '1229.000000', '497.000000', '2.391700', '85700.000000']\n",
            "['-122.000000', '38.280000', '3.000000', '7030.000000', '1191.000000', '3238.000000', '1055.000000', '4.962000', '161700.000000']\n",
            "['-117.700000', '33.680000', '29.000000', '5650.000000', '1084.000000', '3985.000000', '1056.000000', '2.819200', '162500.000000']\n",
            "['-118.280000', '34.030000', '26.000000', '2107.000000', '809.000000', '2821.000000', '572.000000', '0.844000', '350000.000000']\n",
            "['-118.250000', '34.150000', '13.000000', '1107.000000', '479.000000', '616.000000', '443.000000', '0.818500', '187500.000000']\n",
            "['-122.540000', '37.930000', '43.000000', '2998.000000', '470.000000', '970.000000', '430.000000', '5.538500', '431800.000000']\n",
            "['-118.250000', '34.020000', '50.000000', '180.000000', '89.000000', '356.000000', '76.000000', '2.194400', '158300.000000']\n",
            "['-122.060000', '36.980000', '15.000000', '3385.000000', '669.000000', '1571.000000', '615.000000', '4.225400', '320900.000000']\n",
            "['-122.450000', '37.770000', '52.000000', '2339.000000', '548.000000', '1090.000000', '507.000000', '3.367900', '350000.000000']\n",
            "['-118.040000', '33.850000', '23.000000', '3132.000000', '469.000000', '1646.000000', '478.000000', '5.777000', '315900.000000']\n",
            "['-118.120000', '34.150000', '19.000000', '557.000000', '216.000000', '673.000000', '212.000000', '2.176300', '168800.000000']\n",
            "['-118.310000', '33.940000', '43.000000', '2104.000000', '393.000000', '1132.000000', '394.000000', '3.068200', '142000.000000']\n",
            "['-118.440000', '34.160000', '33.000000', '1616.000000', '322.000000', '580.000000', '311.000000', '4.039100', '337500.000000']\n",
            "['-118.460000', '34.170000', '24.000000', '2814.000000', '675.000000', '1463.000000', '620.000000', '4.187500', '309300.000000']\n",
            "['-117.930000', '34.060000', '35.000000', '1022.000000', '183.000000', '628.000000', '187.000000', '3.937500', '187500.000000']\n",
            "['-121.810000', '36.570000', '13.000000', '3030.000000', '413.000000', '1027.000000', '363.000000', '6.961500', '500001.000000']\n",
            "['-118.420000', '34.000000', '33.000000', '1139.000000', '299.000000', '734.000000', '257.000000', '3.270800', '325000.000000']\n",
            "['-118.330000', '34.010000', '44.000000', '1762.000000', '463.000000', '786.000000', '445.000000', '1.923100', '188500.000000']\n",
            "['-118.240000', '33.930000', '19.000000', '325.000000', '74.000000', '354.000000', '87.000000', '2.750000', '90600.000000']\n",
            "['-116.940000', '32.810000', '22.000000', '4266.000000', '1010.000000', '2766.000000', '985.000000', '2.817500', '135200.000000']\n",
            "['-122.600000', '38.240000', '16.000000', '2621.000000', '416.000000', '1247.000000', '386.000000', '4.860300', '198400.000000']\n",
            "['-118.210000', '33.970000', '52.000000', '4220.000000', '908.000000', '3731.000000', '892.000000', '3.190100', '167600.000000']\n",
            "['-118.730000', '34.270000', '25.000000', '3409.000000', '493.000000', '1699.000000', '484.000000', '5.653000', '225800.000000']\n",
            "['-122.120000', '37.370000', '37.000000', '1446.000000', '181.000000', '549.000000', '190.000000', '10.735500', '500001.000000']\n",
            "['-122.420000', '40.440000', '16.000000', '994.000000', '185.000000', '495.000000', '181.000000', '2.187500', '76400.000000']\n",
            "['-122.130000', '37.720000', '26.000000', '2862.000000', '394.000000', '1030.000000', '397.000000', '7.912000', '367300.000000']\n",
            "['-121.170000', '37.880000', '22.000000', '1283.000000', '256.000000', '3082.000000', '239.000000', '3.536500', '111800.000000']\n",
            "['-122.430000', '37.720000', '48.000000', '1289.000000', '280.000000', '782.000000', '235.000000', '3.671900', '259800.000000']\n",
            "['-118.220000', '33.910000', '27.000000', '500.000000', '159.000000', '732.000000', '162.000000', '2.742600', '103100.000000']\n",
            "['-121.170000', '37.970000', '28.000000', '1374.000000', '248.000000', '769.000000', '229.000000', '3.638900', '130400.000000']\n",
            "['-122.270000', '37.860000', '52.000000', '2307.000000', '583.000000', '1127.000000', '548.000000', '1.844700', '198200.000000']\n",
            "['-119.190000', '36.140000', '41.000000', '759.000000', '140.000000', '408.000000', '129.000000', '3.900000', '85900.000000']\n",
            "['-122.410000', '37.600000', '31.000000', '4424.000000', '834.000000', '1915.000000', '817.000000', '4.136400', '412000.000000']\n",
            "['-116.830000', '32.810000', '18.000000', '2367.000000', '402.000000', '1021.000000', '395.000000', '4.812500', '210500.000000']\n",
            "['-119.340000', '36.330000', '17.000000', '2250.000000', '430.000000', '1218.000000', '468.000000', '4.181200', '93700.000000']\n",
            "['-123.220000', '39.160000', '29.000000', '6121.000000', '1222.000000', '3595.000000', '1189.000000', '2.631000', '109600.000000']\n",
            "['-121.920000', '37.720000', '22.000000', '4638.000000', '716.000000', '2302.000000', '687.000000', '5.347000', '219500.000000']\n",
            "['-116.570000', '33.760000', '25.000000', '2616.000000', '547.000000', '581.000000', '343.000000', '3.136400', '301600.000000']\n",
            "['-118.170000', '34.180000', '44.000000', '1401.000000', '246.000000', '607.000000', '271.000000', '2.847200', '218800.000000']\n",
            "['-117.200000', '32.800000', '36.000000', '4018.000000', '1067.000000', '1620.000000', '842.000000', '2.359900', '168400.000000']\n",
            "['-117.580000', '34.090000', '27.000000', '754.000000', '200.000000', '746.000000', '185.000000', '1.953100', '100800.000000']\n",
            "['-118.240000', '33.960000', '34.000000', '1724.000000', '432.000000', '1876.000000', '416.000000', '2.107800', '100600.000000']\n",
            "['-122.240000', '40.180000', '39.000000', '2191.000000', '493.000000', '1307.000000', '499.000000', '1.648300', '60800.000000']\n",
            "['-119.690000', '36.820000', '15.000000', '3303.000000', '512.000000', '1687.000000', '505.000000', '4.810000', '93600.000000']\n",
            "['-121.690000', '36.620000', '19.000000', '1907.000000', '323.000000', '681.000000', '270.000000', '6.033200', '244900.000000']\n",
            "['-119.280000', '36.350000', '7.000000', '3598.000000', '701.000000', '2080.000000', '678.000000', '3.111100', '72400.000000']\n",
            "['-117.990000', '33.810000', '46.000000', '38.000000', '8.000000', '66.000000', '14.000000', '4.166700', '162500.000000']\n",
            "['-117.650000', '35.000000', '36.000000', '1184.000000', '316.000000', '672.000000', '241.000000', '1.910700', '39800.000000']\n",
            "['-118.150000', '34.020000', '43.000000', '2172.000000', '605.000000', '2386.000000', '597.000000', '2.823900', '150600.000000']\n",
            "['-122.430000', '37.730000', '52.000000', '1583.000000', '347.000000', '935.000000', '341.000000', '4.678600', '263200.000000']\n",
            "['-117.040000', '32.730000', '36.000000', '2084.000000', '400.000000', '1097.000000', '398.000000', '3.271700', '130700.000000']\n",
            "['-118.080000', '34.140000', '45.000000', '2923.000000', '604.000000', '1903.000000', '560.000000', '3.172900', '218700.000000']\n",
            "['-121.070000', '39.200000', '45.000000', '204.000000', '62.000000', '133.000000', '51.000000', '1.000000', '90600.000000']\n",
            "['-117.120000', '32.660000', '52.000000', '16.000000', '4.000000', '8.000000', '3.000000', '1.125000', '60000.000000']\n",
            "['-118.130000', '34.130000', '39.000000', '2099.000000', '397.000000', '1500.000000', '380.000000', '4.830400', '493200.000000']\n",
            "['-122.220000', '37.880000', '20.000000', '95.000000', '13.000000', '31.000000', '15.000000', '2.444400', '475000.000000']\n",
            "['-122.520000', '37.930000', '34.000000', '2782.000000', '502.000000', '1219.000000', '507.000000', '5.077900', '333900.000000']\n",
            "['-122.090000', '37.630000', '36.000000', '1570.000000', '274.000000', '992.000000', '249.000000', '5.364400', '168800.000000']\n",
            "['-117.970000', '33.820000', '26.000000', '4013.000000', '985.000000', '2442.000000', '922.000000', '3.765500', '197700.000000']\n",
            "['-118.280000', '34.050000', '41.000000', '1075.000000', '597.000000', '2260.000000', '614.000000', '1.300000', '162500.000000']\n",
            "['-118.390000', '33.790000', '30.000000', '4402.000000', '563.000000', '1582.000000', '551.000000', '10.898000', '500001.000000']\n",
            "['-122.400000', '37.580000', '26.000000', '3281.000000', '531.000000', '1145.000000', '480.000000', '6.358000', '500001.000000']\n",
            "['-118.260000', '34.060000', '42.000000', '2541.000000', '1282.000000', '3974.000000', '1189.000000', '1.585400', '87500.000000']\n",
            "['-122.160000', '37.480000', '36.000000', '2238.000000', '479.000000', '1949.000000', '457.000000', '2.376900', '157300.000000']\n",
            "['-117.430000', '34.110000', '17.000000', '4109.000000', '884.000000', '2544.000000', '780.000000', '2.775700', '109800.000000']\n",
            "['-118.280000', '33.930000', '42.000000', '1898.000000', '460.000000', '1503.000000', '429.000000', '2.517900', '97400.000000']\n",
            "['-118.370000', '33.950000', '5.000000', '6955.000000', '2062.000000', '3591.000000', '1566.000000', '3.111000', '247600.000000']\n",
            "['-121.490000', '38.560000', '52.000000', '1777.000000', '368.000000', '624.000000', '350.000000', '3.672900', '137800.000000']\n",
            "['-121.800000', '38.550000', '11.000000', '5121.000000', '899.000000', '2258.000000', '901.000000', '4.716800', '223200.000000']\n",
            "['-122.190000', '39.920000', '20.000000', '2563.000000', '658.000000', '1363.000000', '611.000000', '1.023000', '54200.000000']\n",
            "['-118.010000', '33.840000', '29.000000', '3740.000000', '691.000000', '1724.000000', '638.000000', '3.962800', '215600.000000']\n",
            "['-118.310000', '33.960000', '48.000000', '2015.000000', '356.000000', '1020.000000', '338.000000', '4.062500', '138700.000000']\n",
            "['-121.060000', '39.220000', '52.000000', '1749.000000', '422.000000', '837.000000', '391.000000', '2.325000', '109700.000000']\n",
            "['-121.350000', '38.610000', '27.000000', '3900.000000', '776.000000', '1549.000000', '761.000000', '2.778800', '115700.000000']\n",
            "['-118.310000', '33.990000', '48.000000', '2235.000000', '433.000000', '1363.000000', '433.000000', '1.655900', '101400.000000']\n",
            "['-121.930000', '37.270000', '28.000000', '3428.000000', '753.000000', '1753.000000', '729.000000', '4.103300', '281000.000000']\n",
            "['-117.310000', '33.170000', '7.000000', '2349.000000', '312.000000', '809.000000', '282.000000', '5.552000', '283900.000000']\n",
            "['-120.890000', '37.480000', '27.000000', '1118.000000', '195.000000', '647.000000', '209.000000', '2.913500', '159400.000000']\n",
            "['-119.470000', '35.140000', '19.000000', '4190.000000', '690.000000', '1973.000000', '702.000000', '3.992900', '88300.000000']\n",
            "['-118.410000', '34.180000', '35.000000', '1975.000000', '384.000000', '882.000000', '406.000000', '4.375000', '291700.000000']\n",
            "['-119.810000', '36.700000', '52.000000', '314.000000', '57.000000', '178.000000', '66.000000', '1.240400', '52500.000000']\n",
            "['-117.080000', '33.160000', '11.000000', '6341.000000', '1030.000000', '2697.000000', '977.000000', '4.855400', '206700.000000']\n",
            "['-119.270000', '35.870000', '12.000000', '972.000000', '269.000000', '1134.000000', '286.000000', '1.630000', '49500.000000']\n",
            "['-122.310000', '40.750000', '18.000000', '1411.000000', '330.000000', '494.000000', '227.000000', '1.491100', '75800.000000']\n",
            "['-117.200000', '33.290000', '12.000000', '6358.000000', '1182.000000', '2778.000000', '1020.000000', '4.035700', '295900.000000']\n",
            "['-118.430000', '34.260000', '43.000000', '729.000000', '172.000000', '935.000000', '174.000000', '2.951900', '140900.000000']\n",
            "['-121.520000', '39.510000', '30.000000', '3085.000000', '610.000000', '1688.000000', '575.000000', '2.334000', '72200.000000']\n",
            "['-118.770000', '34.270000', '7.000000', '3074.000000', '794.000000', '1816.000000', '654.000000', '2.713700', '196400.000000']\n",
            "['-124.100000', '40.950000', '17.000000', '1485.000000', '345.000000', '823.000000', '316.000000', '1.899300', '78400.000000']\n",
            "['-117.150000', '32.800000', '27.000000', '1937.000000', '537.000000', '1211.000000', '482.000000', '2.750000', '87500.000000']\n",
            "['-118.370000', '34.160000', '11.000000', '2901.000000', '871.000000', '1659.000000', '789.000000', '3.110600', '209400.000000']\n",
            "['-122.500000', '37.740000', '44.000000', '2792.000000', '615.000000', '1640.000000', '579.000000', '4.062500', '272800.000000']\n",
            "['-120.920000', '39.560000', '48.000000', '1276.000000', '292.000000', '358.000000', '145.000000', '1.875000', '66600.000000']\n",
            "['-122.470000', '38.510000', '25.000000', '928.000000', '195.000000', '413.000000', '184.000000', '3.490400', '196900.000000']\n",
            "['-117.890000', '33.610000', '41.000000', '1790.000000', '361.000000', '540.000000', '284.000000', '6.024700', '500001.000000']\n",
            "['-121.350000', '38.400000', '11.000000', '2322.000000', '459.000000', '1373.000000', '424.000000', '3.175000', '94400.000000']\n",
            "['-117.920000', '34.120000', '32.000000', '2552.000000', '576.000000', '2161.000000', '548.000000', '2.945900', '144400.000000']\n",
            "['-118.310000', '33.800000', '30.000000', '3096.000000', '757.000000', '2048.000000', '704.000000', '3.125000', '233300.000000']\n",
            "['-120.350000', '37.040000', '37.000000', '1495.000000', '292.000000', '858.000000', '275.000000', '2.930600', '46300.000000']\n",
            "['-122.000000', '37.310000', '28.000000', '3811.000000', '585.000000', '1795.000000', '581.000000', '7.838300', '372700.000000']\n",
            "['-118.010000', '33.950000', '37.000000', '1165.000000', '210.000000', '627.000000', '221.000000', '4.692300', '181000.000000']\n",
            "['-118.070000', '34.090000', '40.000000', '1745.000000', '370.000000', '1293.000000', '357.000000', '2.547400', '198100.000000']\n",
            "['-117.500000', '33.920000', '28.000000', '2101.000000', '337.000000', '1061.000000', '348.000000', '4.550000', '146800.000000']\n",
            "['-123.740000', '40.660000', '25.000000', '2395.000000', '431.000000', '983.000000', '375.000000', '3.046900', '136000.000000']\n",
            "['-122.030000', '37.910000', '29.000000', '5438.000000', '871.000000', '2310.000000', '890.000000', '5.036200', '275300.000000']\n",
            "['-118.910000', '34.220000', '15.000000', '5644.000000', '757.000000', '2659.000000', '783.000000', '6.755900', '312000.000000']\n",
            "['-117.960000', '34.140000', '9.000000', '907.000000', '207.000000', '619.000000', '194.000000', '3.946400', '179600.000000']\n",
            "['-121.800000', '38.010000', '46.000000', '2273.000000', '495.000000', '1088.000000', '447.000000', '2.253200', '109400.000000']\n",
            "['-122.290000', '37.530000', '35.000000', '2043.000000', '511.000000', '1089.000000', '504.000000', '3.027800', '310600.000000']\n",
            "['-122.140000', '37.670000', '34.000000', '3036.000000', '533.000000', '1366.000000', '500.000000', '4.238600', '192300.000000']\n",
            "['-117.850000', '33.790000', '52.000000', '2102.000000', '403.000000', '898.000000', '365.000000', '3.682700', '236800.000000']\n",
            "['-122.100000', '37.650000', '31.000000', '1797.000000', '327.000000', '796.000000', '319.000000', '4.442700', '204500.000000']\n",
            "['-122.120000', '37.910000', '34.000000', '5683.000000', '755.000000', '1962.000000', '723.000000', '8.367800', '455300.000000']\n",
            "['-119.290000', '36.320000', '27.000000', '1513.000000', '374.000000', '839.000000', '350.000000', '1.201200', '64600.000000']\n",
            "['-117.400000', '34.010000', '25.000000', '1858.000000', '366.000000', '1311.000000', '331.000000', '2.708300', '87800.000000']\n",
            "['-117.060000', '32.770000', '32.000000', '3888.000000', '827.000000', '3868.000000', '841.000000', '3.075500', '166800.000000']\n",
            "['-118.300000', '34.250000', '44.000000', '1442.000000', '285.000000', '859.000000', '292.000000', '4.583300', '197300.000000']\n",
            "['-122.230000', '40.150000', '14.000000', '2297.000000', '573.000000', '1637.000000', '551.000000', '1.787000', '51600.000000']\n",
            "['-117.910000', '33.820000', '32.000000', '2696.000000', '640.000000', '2330.000000', '626.000000', '2.947900', '184600.000000']\n",
            "['-122.530000', '37.970000', '44.000000', '3595.000000', '953.000000', '1831.000000', '910.000000', '2.603600', '287500.000000']\n",
            "['-121.790000', '37.000000', '28.000000', '2715.000000', '451.000000', '1154.000000', '386.000000', '4.802100', '290400.000000']\n",
            "['-118.460000', '33.990000', '44.000000', '1122.000000', '287.000000', '531.000000', '256.000000', '4.059800', '335900.000000']\n",
            "['-118.030000', '33.970000', '32.000000', '2468.000000', '552.000000', '1190.000000', '479.000000', '3.827500', '238500.000000']\n",
            "['-122.320000', '38.000000', '32.000000', '2275.000000', '397.000000', '1233.000000', '418.000000', '4.043700', '162800.000000']\n",
            "['-118.280000', '34.170000', '22.000000', '2664.000000', '651.000000', '1553.000000', '629.000000', '3.635400', '256300.000000']\n",
            "['-119.140000', '36.060000', '32.000000', '1838.000000', '441.000000', '1628.000000', '425.000000', '1.645200', '41500.000000']\n",
            "['-117.130000', '34.070000', '34.000000', '2405.000000', '541.000000', '1342.000000', '514.000000', '2.803100', '86900.000000']\n",
            "['-120.670000', '35.300000', '32.000000', '4202.000000', '986.000000', '2309.000000', '956.000000', '2.216500', '231700.000000']\n",
            "['-118.060000', '34.120000', '34.000000', '2941.000000', '558.000000', '1660.000000', '576.000000', '4.566700', '271500.000000']\n",
            "['-122.390000', '40.570000', '38.000000', '855.000000', '172.000000', '468.000000', '150.000000', '1.409100', '84400.000000']\n",
            "['-118.390000', '33.880000', '33.000000', '2543.000000', '439.000000', '1098.000000', '416.000000', '5.968300', '495500.000000']\n",
            "['-118.160000', '34.020000', '47.000000', '1055.000000', '298.000000', '1303.000000', '302.000000', '2.696400', '138800.000000']\n",
            "['-122.580000', '37.980000', '52.000000', '1180.000000', '216.000000', '467.000000', '197.000000', '4.961500', '292200.000000']\n",
            "['-118.020000', '33.920000', '35.000000', '2075.000000', '424.000000', '1312.000000', '396.000000', '3.796900', '164800.000000']\n",
            "['-119.700000', '34.400000', '25.000000', '1858.000000', '493.000000', '865.000000', '460.000000', '3.093800', '312500.000000']\n",
            "['-122.680000', '38.430000', '29.000000', '488.000000', '63.000000', '161.000000', '62.000000', '6.077400', '334400.000000']\n",
            "['-121.350000', '38.590000', '29.000000', '1285.000000', '193.000000', '460.000000', '206.000000', '5.324300', '265700.000000']\n",
            "['-121.980000', '37.270000', '25.000000', '3075.000000', '564.000000', '1633.000000', '543.000000', '5.252800', '269400.000000']\n",
            "['-118.080000', '34.580000', '5.000000', '1113.000000', '186.000000', '631.000000', '168.000000', '4.171900', '146600.000000']\n",
            "['-118.250000', '34.060000', '20.000000', '41.000000', '17.000000', '87.000000', '25.000000', '1.549100', '225000.000000']\n",
            "['-122.250000', '37.820000', '26.000000', '3959.000000', '1196.000000', '1749.000000', '1217.000000', '3.023300', '255000.000000']\n",
            "['-119.050000', '34.350000', '39.000000', '950.000000', '300.000000', '1366.000000', '312.000000', '2.244300', '146600.000000']\n",
            "['-117.540000', '33.760000', '5.000000', '5846.000000', '1035.000000', '3258.000000', '1001.000000', '4.796500', '160800.000000']\n",
            "['-118.210000', '33.880000', '31.000000', '1332.000000', '417.000000', '1405.000000', '363.000000', '2.012500', '143000.000000']\n",
            "['-117.200000', '32.790000', '29.000000', '1213.000000', '228.000000', '654.000000', '246.000000', '4.598700', '255600.000000']\n",
            "['-120.960000', '37.590000', '11.000000', '4236.000000', '879.000000', '2410.000000', '850.000000', '2.384900', '122000.000000']\n",
            "['-118.240000', '34.010000', '48.000000', '396.000000', '99.000000', '485.000000', '110.000000', '2.375000', '107500.000000']\n",
            "['-118.270000', '34.000000', '43.000000', '1638.000000', '434.000000', '1213.000000', '390.000000', '1.340300', '110800.000000']\n",
            "['-122.250000', '37.890000', '41.000000', '1125.000000', '195.000000', '356.000000', '181.000000', '6.159300', '344000.000000']\n",
            "['-117.300000', '34.090000', '40.000000', '1051.000000', '244.000000', '745.000000', '243.000000', '2.184200', '75200.000000']\n",
            "['-120.910000', '37.740000', '19.000000', '1690.000000', '327.000000', '855.000000', '296.000000', '3.250000', '176700.000000']\n",
            "['-122.160000', '38.900000', '33.000000', '1221.000000', '236.000000', '488.000000', '199.000000', '3.757400', '92700.000000']\n",
            "['-118.310000', '33.890000', '35.000000', '2144.000000', '423.000000', '1192.000000', '417.000000', '4.145800', '231500.000000']\n",
            "['-118.180000', '34.020000', '43.000000', '887.000000', '219.000000', '965.000000', '217.000000', '2.625000', '133900.000000']\n",
            "['-117.970000', '33.750000', '32.000000', '1564.000000', '270.000000', '973.000000', '290.000000', '3.750000', '190400.000000']\n",
            "['-117.950000', '35.080000', '1.000000', '83.000000', '15.000000', '32.000000', '15.000000', '4.875000', '141700.000000']\n",
            "['-118.030000', '33.910000', '35.000000', '2323.000000', '406.000000', '1741.000000', '398.000000', '4.243700', '164100.000000']\n",
            "['-118.380000', '33.970000', '43.000000', '2715.000000', '458.000000', '1151.000000', '434.000000', '7.489700', '362600.000000']\n",
            "['-119.820000', '36.720000', '25.000000', '2581.000000', '528.000000', '1642.000000', '509.000000', '1.643500', '52600.000000']\n",
            "['-122.060000', '37.680000', '30.000000', '5367.000000', '1207.000000', '2667.000000', '1047.000000', '3.179600', '170300.000000']\n",
            "['-122.410000', '40.550000', '19.000000', '3753.000000', '761.000000', '1952.000000', '738.000000', '3.095400', '86500.000000']\n",
            "['-117.880000', '33.720000', '36.000000', '1910.000000', '352.000000', '1593.000000', '329.000000', '3.890000', '170000.000000']\n",
            "['-120.800000', '38.310000', '37.000000', '1341.000000', '256.000000', '533.000000', '242.000000', '3.213500', '123600.000000']\n",
            "['-118.100000', '34.170000', '48.000000', '1111.000000', '229.000000', '421.000000', '202.000000', '3.281300', '268100.000000']\n",
            "['-118.090000', '34.120000', '38.000000', '1713.000000', '285.000000', '779.000000', '286.000000', '5.615200', '359900.000000']\n",
            "['-118.310000', '34.060000', '47.000000', '3038.000000', '1533.000000', '4225.000000', '1472.000000', '1.672500', '187500.000000']\n",
            "['-118.020000', '33.800000', '16.000000', '2956.000000', '393.000000', '1379.000000', '429.000000', '8.495200', '359600.000000']\n",
            "['-121.940000', '37.280000', '18.000000', '4356.000000', '1334.000000', '1968.000000', '1245.000000', '3.629400', '240000.000000']\n",
            "['-117.950000', '34.080000', '37.000000', '1137.000000', '203.000000', '672.000000', '226.000000', '3.296900', '189000.000000']\n",
            "['-118.150000', '33.940000', '36.000000', '1948.000000', '341.000000', '992.000000', '363.000000', '4.259400', '242400.000000']\n",
            "['-121.810000', '37.990000', '22.000000', '2331.000000', '359.000000', '1086.000000', '340.000000', '5.143500', '150800.000000']\n",
            "['-121.810000', '38.580000', '17.000000', '1964.000000', '314.000000', '808.000000', '286.000000', '5.962900', '286000.000000']\n",
            "['-121.280000', '38.770000', '6.000000', '3819.000000', '550.000000', '1738.000000', '587.000000', '5.871800', '201400.000000']\n",
            "['-118.430000', '34.010000', '43.000000', '1487.000000', '242.000000', '675.000000', '247.000000', '5.340300', '489800.000000']\n",
            "['-121.380000', '38.590000', '36.000000', '1239.000000', '237.000000', '764.000000', '222.000000', '3.015600', '103000.000000']\n",
            "['-117.680000', '35.650000', '15.000000', '2701.000000', '576.000000', '1245.000000', '513.000000', '3.326900', '81900.000000']\n",
            "['-117.690000', '33.580000', '8.000000', '2887.000000', '351.000000', '1176.000000', '351.000000', '10.395300', '500001.000000']\n",
            "['-118.240000', '34.000000', '23.000000', '588.000000', '157.000000', '716.000000', '173.000000', '1.205600', '87500.000000']\n",
            "['-117.700000', '33.600000', '25.000000', '1321.000000', '295.000000', '396.000000', '278.000000', '3.113100', '77100.000000']\n",
            "['-118.380000', '33.860000', '12.000000', '4235.000000', '735.000000', '1798.000000', '683.000000', '6.424200', '365500.000000']\n",
            "['-117.050000', '32.610000', '31.000000', '4033.000000', '715.000000', '2585.000000', '715.000000', '3.509600', '139900.000000']\n",
            "['-121.380000', '38.640000', '19.000000', '4563.000000', '1069.000000', '2256.000000', '926.000000', '2.147200', '143400.000000']\n",
            "['-117.100000', '32.740000', '20.000000', '3854.000000', '1046.000000', '3555.000000', '966.000000', '1.674700', '100000.000000']\n",
            "['-122.470000', '37.760000', '48.000000', '2064.000000', '484.000000', '1055.000000', '467.000000', '2.871100', '329600.000000']\n",
            "['-117.840000', '33.760000', '16.000000', '238.000000', '51.000000', '93.000000', '50.000000', '5.375000', '215700.000000']\n",
            "['-122.260000', '37.880000', '52.000000', '2604.000000', '837.000000', '1798.000000', '769.000000', '1.725000', '287500.000000']\n",
            "['-118.400000', '33.870000', '45.000000', '2181.000000', '505.000000', '965.000000', '471.000000', '5.381600', '500001.000000']\n",
            "['-122.370000', '38.330000', '29.000000', '1868.000000', '291.000000', '764.000000', '284.000000', '4.825000', '195100.000000']\n",
            "['-117.980000', '34.010000', '27.000000', '2643.000000', '418.000000', '1344.000000', '381.000000', '5.705700', '262100.000000']\n",
            "['-122.700000', '38.450000', '26.000000', '2011.000000', '557.000000', '855.000000', '530.000000', '1.125000', '233300.000000']\n",
            "['-118.410000', '33.970000', '44.000000', '2789.000000', '503.000000', '3732.000000', '474.000000', '4.617600', '352300.000000']\n",
            "['-121.920000', '37.300000', '36.000000', '2088.000000', '358.000000', '772.000000', '347.000000', '4.276200', '310100.000000']\n",
            "['-122.110000', '37.370000', '49.000000', '1068.000000', '190.000000', '410.000000', '171.000000', '7.204500', '500001.000000']\n",
            "['-121.870000', '37.390000', '9.000000', '2522.000000', '547.000000', '1591.000000', '481.000000', '4.909100', '259700.000000']\n",
            "['-120.180000', '39.140000', '25.000000', '2171.000000', '386.000000', '248.000000', '116.000000', '3.037500', '171900.000000']\n",
            "['-117.060000', '32.760000', '36.000000', '2785.000000', '577.000000', '1275.000000', '527.000000', '2.301500', '156800.000000']\n",
            "['-117.240000', '33.930000', '12.000000', '7105.000000', '1447.000000', '4520.000000', '1333.000000', '3.270500', '113200.000000']\n",
            "['-118.250000', '33.980000', '47.000000', '617.000000', '162.000000', '754.000000', '144.000000', '2.296900', '116700.000000']\n",
            "['-117.800000', '33.680000', '14.000000', '2635.000000', '516.000000', '1150.000000', '499.000000', '4.439100', '306700.000000']\n",
            "['-119.780000', '36.370000', '41.000000', '831.000000', '149.000000', '443.000000', '146.000000', '3.140600', '100000.000000']\n",
            "['-117.040000', '32.700000', '7.000000', '9311.000000', '1703.000000', '7302.000000', '1694.000000', '4.419000', '156900.000000']\n",
            "['-118.290000', '34.000000', '6.000000', '1487.000000', '468.000000', '1509.000000', '403.000000', '1.463900', '112500.000000']\n",
            "['-118.360000', '34.060000', '52.000000', '2130.000000', '455.000000', '921.000000', '395.000000', '2.960500', '500001.000000']\n",
            "['-122.420000', '37.620000', '39.000000', '1355.000000', '214.000000', '682.000000', '246.000000', '6.344300', '324700.000000']\n",
            "['-118.420000', '34.250000', '37.000000', '1545.000000', '341.000000', '1909.000000', '352.000000', '3.679100', '148100.000000']\n",
            "['-121.100000', '38.950000', '17.000000', '1475.000000', '403.000000', '943.000000', '363.000000', '2.128700', '55300.000000']\n",
            "['-117.740000', '34.050000', '27.000000', '852.000000', '237.000000', '1024.000000', '221.000000', '2.114100', '110900.000000']\n",
            "['-122.390000', '37.740000', '52.000000', '126.000000', '24.000000', '37.000000', '27.000000', '10.226400', '225000.000000']\n",
            "['-118.370000', '34.080000', '52.000000', '2946.000000', '695.000000', '1258.000000', '650.000000', '3.978300', '374100.000000']\n",
            "['-122.080000', '37.870000', '24.000000', '6130.000000', '1359.000000', '1750.000000', '1286.000000', '2.916700', '102700.000000']\n",
            "['-118.440000', '34.200000', '28.000000', '1732.000000', '435.000000', '1198.000000', '417.000000', '2.921900', '241300.000000']\n",
            "['-121.370000', '38.560000', '19.000000', '6308.000000', '1167.000000', '3012.000000', '1112.000000', '2.946400', '113500.000000']\n",
            "['-122.100000', '37.930000', '20.000000', '10212.000000', '1424.000000', '4083.000000', '1374.000000', '8.039000', '382200.000000']\n",
            "['-117.220000', '32.950000', '4.000000', '18123.000000', '3173.000000', '7301.000000', '2964.000000', '6.357000', '322500.000000']\n",
            "['-122.130000', '37.460000', '31.000000', '2247.000000', '573.000000', '1711.000000', '511.000000', '3.264200', '185600.000000']\n",
            "['-122.300000', '38.290000', '20.000000', '1789.000000', '434.000000', '1113.000000', '398.000000', '2.472800', '139700.000000']\n",
            "['-123.410000', '40.610000', '17.000000', '769.000000', '205.000000', '301.000000', '126.000000', '1.787500', '55000.000000']\n",
            "['-120.770000', '37.010000', '28.000000', '1689.000000', '378.000000', '1057.000000', '267.000000', '3.125000', '156300.000000']\n",
            "['-118.800000', '34.410000', '45.000000', '1610.000000', '406.000000', '1148.000000', '347.000000', '2.700000', '120400.000000']\n",
            "['-119.270000', '34.270000', '52.000000', '1577.000000', '343.000000', '836.000000', '335.000000', '3.589300', '206600.000000']\n",
            "['-122.470000', '37.740000', '52.000000', '3797.000000', '668.000000', '1633.000000', '658.000000', '5.678700', '363600.000000']\n",
            "['-118.260000', '34.130000', '25.000000', '3208.000000', '1111.000000', '2843.000000', '1005.000000', '2.667300', '218100.000000']\n",
            "['-119.770000', '36.760000', '40.000000', '2009.000000', '519.000000', '2219.000000', '505.000000', '1.210100', '49100.000000']\n",
            "['-124.160000', '41.920000', '19.000000', '1668.000000', '324.000000', '841.000000', '283.000000', '2.133600', '75000.000000']\n",
            "['-119.030000', '36.130000', '24.000000', '2259.000000', '408.000000', '1169.000000', '395.000000', '1.710600', '95500.000000']\n",
            "['-122.180000', '37.790000', '41.000000', '1411.000000', '233.000000', '626.000000', '214.000000', '7.087500', '240700.000000']\n",
            "['-123.850000', '39.390000', '23.000000', '4671.000000', '912.000000', '2095.000000', '857.000000', '3.184000', '140500.000000']\n",
            "['-122.700000', '38.330000', '16.000000', '1244.000000', '242.000000', '696.000000', '236.000000', '3.636900', '158700.000000']\n",
            "['-118.100000', '33.850000', '36.000000', '956.000000', '159.000000', '416.000000', '157.000000', '4.642900', '223700.000000']\n",
            "['-117.990000', '34.080000', '35.000000', '1032.000000', '207.000000', '954.000000', '191.000000', '2.890600', '134800.000000']\n",
            "['-121.930000', '37.730000', '8.000000', '831.000000', '231.000000', '404.000000', '224.000000', '3.375000', '350000.000000']\n",
            "['-118.440000', '34.230000', '43.000000', '2257.000000', '429.000000', '1418.000000', '442.000000', '4.527800', '181800.000000']\n",
            "['-118.320000', '34.260000', '24.000000', '5106.000000', '1010.000000', '2310.000000', '957.000000', '4.437500', '191500.000000']\n",
            "['-118.150000', '34.110000', '39.000000', '2618.000000', '582.000000', '1314.000000', '532.000000', '3.587500', '309300.000000']\n",
            "['-117.740000', '34.040000', '27.000000', '2215.000000', '440.000000', '1987.000000', '449.000000', '3.042900', '129600.000000']\n",
            "['-121.350000', '38.280000', '17.000000', '2756.000000', '557.000000', '1986.000000', '530.000000', '3.223400', '82000.000000']\n",
            "['-122.750000', '39.010000', '17.000000', '4162.000000', '967.000000', '889.000000', '414.000000', '3.418700', '200500.000000']\n",
            "['-120.660000', '35.460000', '17.000000', '3748.000000', '609.000000', '1860.000000', '612.000000', '4.517900', '225600.000000']\n",
            "['-122.620000', '38.920000', '13.000000', '520.000000', '115.000000', '249.000000', '109.000000', '1.841700', '84700.000000']\n",
            "['-117.220000', '34.260000', '16.000000', '8020.000000', '1432.000000', '1749.000000', '540.000000', '4.971600', '162500.000000']\n",
            "['-117.920000', '33.750000', '8.000000', '2325.000000', '598.000000', '1511.000000', '565.000000', '3.362900', '137500.000000']\n",
            "['-122.280000', '37.810000', '36.000000', '2914.000000', '562.000000', '1236.000000', '509.000000', '2.446400', '102100.000000']\n",
            "['-118.120000', '33.810000', '37.000000', '1798.000000', '331.000000', '860.000000', '340.000000', '4.214300', '228500.000000']\n",
            "['-119.190000', '36.060000', '29.000000', '1815.000000', '376.000000', '1421.000000', '339.000000', '1.909100', '71300.000000']\n",
            "['-117.970000', '34.070000', '22.000000', '1438.000000', '364.000000', '1325.000000', '335.000000', '2.780200', '162500.000000']\n",
            "['-118.090000', '34.030000', '27.000000', '3797.000000', '597.000000', '2043.000000', '614.000000', '5.500000', '276800.000000']\n",
            "['-121.930000', '37.280000', '10.000000', '3163.000000', '832.000000', '1537.000000', '797.000000', '4.167400', '214000.000000']\n",
            "['-122.650000', '38.960000', '27.000000', '2143.000000', '580.000000', '898.000000', '367.000000', '1.676900', '63200.000000']\n",
            "['-122.490000', '37.750000', '48.000000', '2387.000000', '424.000000', '1041.000000', '408.000000', '3.756200', '321200.000000']\n",
            "['-122.310000', '37.560000', '45.000000', '1792.000000', '301.000000', '829.000000', '318.000000', '4.901300', '330100.000000']\n",
            "['-121.270000', '38.140000', '33.000000', '3557.000000', '894.000000', '2659.000000', '894.000000', '2.288300', '86900.000000']\n",
            "['-118.390000', '34.230000', '18.000000', '3405.000000', '831.000000', '3001.000000', '795.000000', '3.008300', '181900.000000']\n",
            "['-118.390000', '34.070000', '33.000000', '5301.000000', '1281.000000', '2243.000000', '1159.000000', '4.238600', '500001.000000']\n",
            "['-117.150000', '32.920000', '16.000000', '2366.000000', '392.000000', '1482.000000', '407.000000', '4.902400', '182900.000000']\n",
            "['-122.090000', '37.380000', '34.000000', '1959.000000', '342.000000', '849.000000', '357.000000', '6.288400', '414700.000000']\n",
            "['-117.060000', '32.610000', '23.000000', '1630.000000', '362.000000', '1267.000000', '418.000000', '2.562500', '131100.000000']\n",
            "['-122.330000', '37.910000', '36.000000', '1954.000000', '513.000000', '1437.000000', '440.000000', '1.125000', '93800.000000']\n",
            "['-116.920000', '32.760000', '7.000000', '1659.000000', '237.000000', '862.000000', '242.000000', '5.274100', '249400.000000']\n",
            "['-116.000000', '34.120000', '32.000000', '3163.000000', '712.000000', '1358.000000', '544.000000', '2.125000', '57700.000000']\n",
            "['-117.690000', '33.600000', '19.000000', '3562.000000', '439.000000', '1584.000000', '470.000000', '6.421100', '288100.000000']\n",
            "['-117.230000', '33.910000', '9.000000', '11654.000000', '2100.000000', '7596.000000', '2127.000000', '4.047300', '127200.000000']\n",
            "['-117.180000', '34.040000', '41.000000', '1766.000000', '288.000000', '753.000000', '278.000000', '4.912500', '140700.000000']\n",
            "['-121.330000', '38.280000', '14.000000', '980.000000', '171.000000', '659.000000', '183.000000', '4.430600', '170100.000000']\n",
            "['-121.880000', '37.320000', '38.000000', '1787.000000', '508.000000', '2113.000000', '530.000000', '2.638600', '177600.000000']\n",
            "['-122.520000', '37.970000', '33.000000', '563.000000', '194.000000', '265.000000', '169.000000', '2.750000', '231300.000000']\n",
            "['-117.770000', '34.060000', '27.000000', '2178.000000', '629.000000', '2379.000000', '591.000000', '1.976600', '108000.000000']\n",
            "['-121.010000', '37.720000', '23.000000', '1373.000000', '264.000000', '677.000000', '245.000000', '2.548600', '161100.000000']\n",
            "['-117.330000', '33.870000', '14.000000', '2300.000000', '335.000000', '1001.000000', '311.000000', '5.104500', '161300.000000']\n",
            "['-118.240000', '33.970000', '37.000000', '1212.000000', '314.000000', '1403.000000', '279.000000', '2.553600', '117200.000000']\n",
            "['-117.800000', '33.890000', '25.000000', '3121.000000', '381.000000', '1278.000000', '389.000000', '7.021700', '357900.000000']\n",
            "['-119.620000', '36.560000', '30.000000', '1722.000000', '372.000000', '1467.000000', '403.000000', '1.887800', '51600.000000']\n",
            "['-122.160000', '37.690000', '36.000000', '1118.000000', '219.000000', '625.000000', '228.000000', '3.781300', '192200.000000']\n",
            "['-117.970000', '33.800000', '35.000000', '2985.000000', '474.000000', '1614.000000', '453.000000', '5.463100', '225600.000000']\n",
            "['-120.870000', '37.760000', '16.000000', '2022.000000', '413.000000', '1126.000000', '408.000000', '2.565500', '116400.000000']\n",
            "['-120.460000', '37.310000', '26.000000', '3170.000000', '572.000000', '1524.000000', '565.000000', '3.480000', '95300.000000']\n",
            "['-118.230000', '34.140000', '39.000000', '277.000000', '89.000000', '182.000000', '91.000000', '2.395800', '175000.000000']\n",
            "['-121.070000', '38.660000', '22.000000', '1831.000000', '274.000000', '813.000000', '269.000000', '4.639400', '173400.000000']\n",
            "['-120.090000', '36.950000', '16.000000', '3222.000000', '511.000000', '1425.000000', '503.000000', '4.154400', '119400.000000']\n",
            "['-118.210000', '33.960000', '38.000000', '2090.000000', '519.000000', '1871.000000', '504.000000', '2.468800', '169000.000000']\n",
            "['-122.630000', '38.230000', '37.000000', '1966.000000', '348.000000', '875.000000', '381.000000', '4.070300', '223800.000000']\n",
            "['-119.400000', '36.250000', '25.000000', '1696.000000', '279.000000', '909.000000', '291.000000', '2.300000', '132800.000000']\n",
            "['-117.380000', '33.210000', '31.000000', '1502.000000', '367.000000', '1514.000000', '342.000000', '2.644200', '103300.000000']\n",
            "['-117.250000', '32.800000', '37.000000', '1096.000000', '260.000000', '490.000000', '267.000000', '3.266300', '270600.000000']\n",
            "['-122.230000', '40.570000', '18.000000', '1633.000000', '243.000000', '750.000000', '252.000000', '5.158500', '150800.000000']\n",
            "['-121.230000', '38.790000', '45.000000', '907.000000', '176.000000', '463.000000', '190.000000', '2.229200', '92000.000000']\n",
            "['-121.550000', '40.480000', '14.000000', '2413.000000', '524.000000', '805.000000', '329.000000', '2.785700', '77400.000000']\n",
            "['-117.890000', '33.920000', '34.000000', '1473.000000', '312.000000', '1025.000000', '315.000000', '3.833300', '170400.000000']\n",
            "['-117.230000', '32.720000', '43.000000', '952.000000', '209.000000', '392.000000', '210.000000', '2.163500', '244200.000000']\n",
            "['-117.920000', '33.790000', '35.000000', '1785.000000', '288.000000', '1033.000000', '297.000000', '4.573900', '190500.000000']\n",
            "['-117.580000', '34.110000', '14.000000', '11635.000000', '2055.000000', '6443.000000', '2009.000000', '4.754700', '157600.000000']\n",
            "['-120.850000', '38.690000', '18.000000', '5928.000000', '1097.000000', '2697.000000', '1096.000000', '3.487200', '141400.000000']\n",
            "['-121.530000', '38.480000', '5.000000', '27870.000000', '5027.000000', '11935.000000', '4855.000000', '4.881100', '212200.000000']\n",
            "['-117.210000', '32.820000', '31.000000', '2035.000000', '383.000000', '866.000000', '360.000000', '3.852900', '212000.000000']\n",
            "['-117.350000', '34.130000', '26.000000', '3920.000000', '570.000000', '1862.000000', '552.000000', '3.728600', '132000.000000']\n",
            "['-118.170000', '33.790000', '30.000000', '1349.000000', '519.000000', '2646.000000', '552.000000', '1.931800', '115900.000000']\n",
            "['-118.300000', '34.260000', '37.000000', '2824.000000', '633.000000', '1619.000000', '573.000000', '3.556800', '184500.000000']\n",
            "['-118.020000', '33.830000', '16.000000', '1139.000000', '328.000000', '665.000000', '290.000000', '3.293300', '260000.000000']\n",
            "['-116.990000', '33.010000', '11.000000', '1412.000000', '185.000000', '529.000000', '166.000000', '7.751700', '500001.000000']\n",
            "['-122.560000', '38.010000', '21.000000', '2144.000000', '400.000000', '840.000000', '398.000000', '4.600000', '239500.000000']\n",
            "['-118.150000', '34.100000', '39.000000', '3856.000000', '867.000000', '1847.000000', '830.000000', '3.455900', '364900.000000']\n",
            "['-117.930000', '33.730000', '27.000000', '3662.000000', '834.000000', '3009.000000', '743.000000', '3.981600', '179500.000000']\n",
            "['-121.090000', '38.030000', '21.000000', '2064.000000', '342.000000', '1021.000000', '359.000000', '4.517000', '152200.000000']\n",
            "['-116.660000', '33.090000', '24.000000', '1378.000000', '272.000000', '532.000000', '188.000000', '1.590900', '221900.000000']\n",
            "['-118.260000', '33.830000', '24.000000', '3059.000000', '729.000000', '2064.000000', '629.000000', '3.551800', '184600.000000']\n",
            "['-117.940000', '33.930000', '14.000000', '999.000000', '232.000000', '1037.000000', '244.000000', '2.712500', '166100.000000']\n",
            "['-116.930000', '32.830000', '19.000000', '3038.000000', '529.000000', '1463.000000', '509.000000', '3.944000', '172500.000000']\n",
            "['-122.290000', '37.850000', '52.000000', '477.000000', '119.000000', '218.000000', '106.000000', '2.568200', '120000.000000']\n",
            "['-122.480000', '37.670000', '14.000000', '3395.000000', '1059.000000', '2258.000000', '945.000000', '2.964000', '319700.000000']\n",
            "['-119.330000', '36.310000', '15.000000', '1472.000000', '228.000000', '892.000000', '257.000000', '5.390900', '113000.000000']\n",
            "['-118.410000', '34.210000', '35.000000', '1789.000000', '292.000000', '897.000000', '267.000000', '5.592000', '239900.000000']\n",
            "['-119.500000', '34.350000', '39.000000', '308.000000', '38.000000', '59.000000', '21.000000', '11.779400', '500001.000000']\n",
            "['-118.330000', '34.110000', '48.000000', '1601.000000', '464.000000', '784.000000', '461.000000', '3.064200', '342900.000000']\n",
            "['-118.300000', '34.100000', '29.000000', '3403.000000', '1367.000000', '3432.000000', '1174.000000', '1.708300', '166700.000000']\n",
            "['-119.750000', '34.400000', '31.000000', '1997.000000', '299.000000', '826.000000', '301.000000', '6.892700', '500001.000000']\n",
            "['-120.940000', '39.320000', '14.000000', '3120.000000', '595.000000', '1569.000000', '556.000000', '3.538500', '157400.000000']\n",
            "['-117.680000', '35.610000', '9.000000', '4241.000000', '832.000000', '1929.000000', '742.000000', '3.598800', '84500.000000']\n",
            "['-122.270000', '38.120000', '45.000000', '4423.000000', '1001.000000', '2109.000000', '874.000000', '2.693700', '111800.000000']\n",
            "['-118.210000', '34.110000', '32.000000', '2759.000000', '499.000000', '1661.000000', '533.000000', '4.381200', '228200.000000']\n",
            "['-117.230000', '33.100000', '4.000000', '1862.000000', '291.000000', '685.000000', '248.000000', '7.745000', '237400.000000']\n",
            "['-119.460000', '35.140000', '30.000000', '2943.000000', '697.000000', '1565.000000', '584.000000', '2.531300', '45800.000000']\n",
            "['-119.780000', '36.760000', '50.000000', '1343.000000', '322.000000', '1063.000000', '342.000000', '1.750000', '49800.000000']\n",
            "['-117.810000', '33.660000', '20.000000', '2851.000000', '490.000000', '1192.000000', '463.000000', '5.875200', '274200.000000']\n",
            "['-119.290000', '34.310000', '25.000000', '1092.000000', '190.000000', '702.000000', '215.000000', '3.906300', '192700.000000']\n",
            "['-122.410000', '37.610000', '46.000000', '2975.000000', '643.000000', '1479.000000', '577.000000', '3.821400', '273600.000000']\n",
            "['-120.320000', '37.290000', '38.000000', '576.000000', '130.000000', '478.000000', '112.000000', '2.338200', '59600.000000']\n",
            "['-118.370000', '34.160000', '40.000000', '1973.000000', '382.000000', '774.000000', '352.000000', '4.412200', '282300.000000']\n",
            "['-122.050000', '37.050000', '41.000000', '2422.000000', '502.000000', '915.000000', '366.000000', '4.167900', '201300.000000']\n",
            "['-118.460000', '34.030000', '52.000000', '523.000000', '124.000000', '317.000000', '130.000000', '2.279400', '337500.000000']\n",
            "['-117.120000', '32.760000', '43.000000', '2336.000000', '644.000000', '1203.000000', '614.000000', '2.359400', '127800.000000']\n",
            "['-122.040000', '37.570000', '12.000000', '5719.000000', '1064.000000', '3436.000000', '1057.000000', '5.287900', '231200.000000']\n",
            "['-121.970000', '37.360000', '34.000000', '884.000000', '153.000000', '534.000000', '154.000000', '6.011600', '271200.000000']\n",
            "['-121.280000', '38.530000', '18.000000', '224.000000', '38.000000', '95.000000', '41.000000', '3.104200', '165000.000000']\n",
            "['-119.090000', '35.300000', '3.000000', '2821.000000', '519.000000', '1353.000000', '495.000000', '3.685200', '109800.000000']\n",
            "['-121.750000', '36.910000', '42.000000', '1368.000000', '468.000000', '2312.000000', '484.000000', '2.559900', '151400.000000']\n",
            "['-121.860000', '38.000000', '4.000000', '4075.000000', '927.000000', '2239.000000', '849.000000', '3.585700', '165200.000000']\n",
            "['-118.530000', '34.450000', '26.000000', '828.000000', '149.000000', '508.000000', '158.000000', '5.237400', '185500.000000']\n",
            "['-117.940000', '33.810000', '24.000000', '4602.000000', '1131.000000', '3003.000000', '1014.000000', '3.677100', '172200.000000']\n",
            "['-119.840000', '34.450000', '26.000000', '4424.000000', '616.000000', '1839.000000', '601.000000', '6.365400', '331200.000000']\n",
            "['-118.240000', '33.910000', '37.000000', '1607.000000', '377.000000', '1526.000000', '375.000000', '1.715800', '94300.000000']\n",
            "['-117.060000', '33.140000', '27.000000', '3819.000000', '674.000000', '2447.000000', '717.000000', '3.818500', '137200.000000']\n",
            "['-120.980000', '37.670000', '33.000000', '1433.000000', '298.000000', '824.000000', '302.000000', '2.762100', '109100.000000']\n",
            "['-117.740000', '34.090000', '30.000000', '3199.000000', '591.000000', '2192.000000', '563.000000', '3.487100', '136400.000000']\n",
            "['-118.180000', '34.010000', '39.000000', '322.000000', '82.000000', '319.000000', '90.000000', '2.636400', '148800.000000']\n",
            "['-118.240000', '33.890000', '32.000000', '1132.000000', '266.000000', '1211.000000', '279.000000', '2.183800', '98300.000000']\n",
            "['-123.080000', '40.400000', '10.000000', '365.000000', '102.000000', '140.000000', '49.000000', '1.796900', '37500.000000']\n",
            "['-117.320000', '34.070000', '52.000000', '1226.000000', '269.000000', '693.000000', '272.000000', '1.996300', '76900.000000']\n",
            "['-118.240000', '33.850000', '25.000000', '9594.000000', '1489.000000', '5237.000000', '1496.000000', '5.968400', '193300.000000']\n",
            "['-122.230000', '37.780000', '52.000000', '472.000000', '146.000000', '415.000000', '126.000000', '2.642900', '71300.000000']\n",
            "['-121.180000', '38.780000', '13.000000', '3480.000000', '528.000000', '1432.000000', '532.000000', '6.164200', '277800.000000']\n",
            "['-118.100000', '33.910000', '29.000000', '505.000000', '113.000000', '411.000000', '113.000000', '2.639700', '164400.000000']\n",
            "['-121.970000', '38.040000', '38.000000', '2505.000000', '554.000000', '1595.000000', '498.000000', '2.583300', '83500.000000']\n",
            "['-118.470000', '34.000000', '41.000000', '2331.000000', '636.000000', '1839.000000', '537.000000', '2.288000', '263500.000000']\n",
            "['-119.310000', '36.390000', '32.000000', '2293.000000', '466.000000', '1538.000000', '468.000000', '1.934200', '68600.000000']\n",
            "['-122.170000', '37.710000', '38.000000', '890.000000', '200.000000', '481.000000', '198.000000', '3.244000', '179800.000000']\n",
            "['-122.490000', '37.680000', '35.000000', '2405.000000', '461.000000', '1583.000000', '471.000000', '5.065900', '238000.000000']\n",
            "['-121.300000', '37.980000', '39.000000', '3375.000000', '659.000000', '1388.000000', '631.000000', '2.636400', '93800.000000']\n",
            "['-121.370000', '38.570000', '22.000000', '4899.000000', '847.000000', '1701.000000', '826.000000', '5.244900', '387000.000000']\n",
            "['-122.080000', '37.610000', '6.000000', '2605.000000', '474.000000', '1568.000000', '433.000000', '5.040600', '261400.000000']\n",
            "['-117.110000', '32.570000', '32.000000', '2723.000000', '586.000000', '1702.000000', '562.000000', '3.337100', '140500.000000']\n",
            "['-122.090000', '37.400000', '22.000000', '1489.000000', '436.000000', '662.000000', '470.000000', '3.517900', '197200.000000']\n",
            "['-122.010000', '36.980000', '27.000000', '2820.000000', '730.000000', '1511.000000', '745.000000', '2.589000', '242400.000000']\n",
            "['-118.250000', '34.000000', '36.000000', '1033.000000', '267.000000', '1112.000000', '229.000000', '1.723700', '105800.000000']\n",
            "['-117.830000', '33.660000', '16.000000', '1574.000000', '385.000000', '515.000000', '363.000000', '5.342300', '291700.000000']\n",
            "['-121.960000', '37.740000', '2.000000', '200.000000', '20.000000', '25.000000', '9.000000', '15.000100', '350000.000000']\n",
            "['-119.810000', '36.730000', '51.000000', '956.000000', '196.000000', '662.000000', '180.000000', '2.101000', '56700.000000']\n",
            "['-118.620000', '34.060000', '25.000000', '3546.000000', '584.000000', '1530.000000', '601.000000', '7.400100', '500001.000000']\n",
            "['-122.350000', '37.960000', '35.000000', '1326.000000', '346.000000', '1023.000000', '295.000000', '2.072400', '97700.000000']\n",
            "['-119.060000', '36.100000', '21.000000', '1344.000000', '249.000000', '868.000000', '221.000000', '2.589300', '63600.000000']\n",
            "['-122.470000', '37.750000', '52.000000', '1598.000000', '285.000000', '689.000000', '265.000000', '4.607100', '337400.000000']\n",
            "['-122.540000', '37.900000', '41.000000', '3170.000000', '622.000000', '1091.000000', '528.000000', '3.781300', '389200.000000']\n",
            "['-119.730000', '36.760000', '30.000000', '1548.000000', '282.000000', '886.000000', '311.000000', '3.100000', '71300.000000']\n",
            "['-122.030000', '36.960000', '40.000000', '584.000000', '126.000000', '316.000000', '139.000000', '3.593800', '243500.000000']\n",
            "['-119.750000', '36.780000', '33.000000', '1145.000000', '197.000000', '508.000000', '198.000000', '2.333300', '81300.000000']\n",
            "['-117.300000', '33.060000', '24.000000', '2171.000000', '511.000000', '870.000000', '442.000000', '3.194000', '276300.000000']\n",
            "['-121.990000', '36.960000', '16.000000', '875.000000', '201.000000', '300.000000', '157.000000', '2.625000', '377300.000000']\n",
            "['-120.730000', '39.630000', '17.000000', '1791.000000', '356.000000', '432.000000', '190.000000', '3.882600', '92400.000000']\n",
            "['-118.480000', '34.030000', '19.000000', '902.000000', '284.000000', '414.000000', '272.000000', '1.333300', '310000.000000']\n",
            "['-118.220000', '33.950000', '36.000000', '1679.000000', '483.000000', '2249.000000', '487.000000', '2.816700', '160400.000000']\n",
            "['-118.240000', '33.970000', '43.000000', '1357.000000', '349.000000', '1657.000000', '331.000000', '2.081900', '111800.000000']\n",
            "['-117.820000', '35.030000', '30.000000', '2555.000000', '510.000000', '1347.000000', '467.000000', '3.369300', '71800.000000']\n",
            "['-117.020000', '32.700000', '18.000000', '1643.000000', '283.000000', '1134.000000', '269.000000', '5.176900', '133000.000000']\n",
            "['-122.350000', '37.940000', '47.000000', '1275.000000', '275.000000', '844.000000', '273.000000', '2.896700', '95600.000000']\n",
            "['-119.800000', '36.780000', '50.000000', '1818.000000', '374.000000', '737.000000', '338.000000', '2.261400', '73000.000000']\n",
            "['-122.190000', '37.480000', '38.000000', '1300.000000', '269.000000', '608.000000', '292.000000', '4.556800', '286900.000000']\n",
            "['-122.380000', '37.590000', '31.000000', '3052.000000', '844.000000', '1581.000000', '788.000000', '3.074400', '457700.000000']\n",
            "['-122.150000', '37.750000', '44.000000', '1938.000000', '399.000000', '946.000000', '331.000000', '3.225000', '135800.000000']\n",
            "['-119.350000', '36.190000', '6.000000', '958.000000', '226.000000', '734.000000', '230.000000', '1.034900', '67800.000000']\n",
            "['-120.450000', '34.950000', '7.000000', '1479.000000', '532.000000', '1057.000000', '459.000000', '2.253800', '162500.000000']\n",
            "['-122.280000', '38.290000', '19.000000', '531.000000', '112.000000', '139.000000', '80.000000', '1.987500', '325000.000000']\n",
            "['-122.260000', '37.840000', '49.000000', '713.000000', '202.000000', '462.000000', '189.000000', '1.025000', '118800.000000']\n",
            "['-122.300000', '37.810000', '52.000000', '572.000000', '109.000000', '274.000000', '82.000000', '1.851600', '85000.000000']\n",
            "['-118.220000', '33.900000', '22.000000', '312.000000', '107.000000', '583.000000', '119.000000', '1.942300', '98400.000000']\n",
            "['-117.670000', '33.640000', '11.000000', '2722.000000', '554.000000', '1565.000000', '508.000000', '5.164500', '164100.000000']\n",
            "['-122.020000', '37.010000', '20.000000', '1005.000000', '138.000000', '345.000000', '129.000000', '10.096800', '500001.000000']\n",
            "['-117.380000', '33.190000', '17.000000', '353.000000', '112.000000', '359.000000', '118.000000', '1.562500', '162500.000000']\n",
            "['-118.010000', '34.080000', '30.000000', '2281.000000', '522.000000', '1969.000000', '500.000000', '3.653100', '166300.000000']\n",
            "['-118.600000', '34.130000', '20.000000', '14291.000000', '1934.000000', '5452.000000', '1875.000000', '9.123200', '472000.000000']\n",
            "['-118.520000', '34.200000', '19.000000', '4315.000000', '1304.000000', '2490.000000', '1222.000000', '2.643700', '195000.000000']\n",
            "['-118.420000', '34.270000', '35.000000', '2700.000000', '702.000000', '3444.000000', '679.000000', '1.486700', '124000.000000']\n",
            "['-122.080000', '37.710000', '35.000000', '2211.000000', '350.000000', '1004.000000', '365.000000', '5.463900', '238600.000000']\n",
            "['-117.650000', '33.570000', '5.000000', '1998.000000', '500.000000', '1185.000000', '446.000000', '4.354200', '195600.000000']\n",
            "['-120.540000', '37.680000', '18.000000', '335.000000', '76.000000', '189.000000', '67.000000', '1.227300', '87500.000000']\n",
            "['-118.310000', '34.050000', '40.000000', '1667.000000', '365.000000', '1161.000000', '384.000000', '3.140600', '417600.000000']\n",
            "['-122.420000', '37.600000', '34.000000', '3562.000000', '565.000000', '1542.000000', '563.000000', '5.878300', '405100.000000']\n",
            "['-118.180000', '33.980000', '38.000000', '1477.000000', '374.000000', '1514.000000', '408.000000', '2.570300', '178600.000000']\n",
            "['-121.250000', '36.320000', '12.000000', '4776.000000', '1082.000000', '4601.000000', '1066.000000', '2.918400', '100500.000000']\n",
            "['-118.170000', '34.690000', '12.000000', '4881.000000', '803.000000', '2188.000000', '724.000000', '4.166700', '171900.000000']\n",
            "['-120.330000', '39.300000', '16.000000', '868.000000', '178.000000', '44.000000', '21.000000', '3.000000', '175000.000000']\n",
            "['-118.380000', '34.060000', '29.000000', '3946.000000', '1008.000000', '1676.000000', '876.000000', '2.782400', '450000.000000']\n",
            "['-119.780000', '36.730000', '52.000000', '1377.000000', '319.000000', '1280.000000', '259.000000', '1.234400', '43300.000000']\n",
            "['-118.330000', '33.970000', '44.000000', '2526.000000', '579.000000', '1423.000000', '573.000000', '2.536300', '158800.000000']\n",
            "['-118.370000', '34.060000', '36.000000', '1661.000000', '395.000000', '690.000000', '365.000000', '3.343800', '500001.000000']\n",
            "['-119.000000', '35.390000', '51.000000', '1373.000000', '284.000000', '648.000000', '300.000000', '2.829500', '72100.000000']\n",
            "['-117.950000', '33.870000', '35.000000', '1854.000000', '383.000000', '1115.000000', '381.000000', '4.478400', '185200.000000']\n",
            "['-118.380000', '34.580000', '18.000000', '1859.000000', '375.000000', '913.000000', '372.000000', '4.345600', '148900.000000']\n",
            "['-118.290000', '34.080000', '25.000000', '2459.000000', '823.000000', '2635.000000', '763.000000', '2.400000', '173900.000000']\n",
            "['-120.970000', '37.680000', '16.000000', '2493.000000', '535.000000', '1370.000000', '504.000000', '3.336800', '121200.000000']\n",
            "['-122.280000', '37.870000', '52.000000', '589.000000', '132.000000', '288.000000', '131.000000', '3.515600', '200000.000000']\n",
            "['-118.140000', '33.880000', '41.000000', '1531.000000', '343.000000', '1119.000000', '341.000000', '4.364600', '161400.000000']\n",
            "['-122.060000', '37.380000', '20.000000', '4293.000000', '1272.000000', '2389.000000', '1210.000000', '4.271900', '270800.000000']\n",
            "['-118.540000', '34.270000', '28.000000', '2309.000000', '300.000000', '931.000000', '302.000000', '6.741500', '348200.000000']\n",
            "['-117.880000', '33.840000', '25.000000', '1781.000000', '349.000000', '918.000000', '378.000000', '3.928600', '262700.000000']\n",
            "['-118.300000', '34.190000', '52.000000', '1704.000000', '277.000000', '746.000000', '262.000000', '4.798600', '326100.000000']\n",
            "['-117.840000', '33.800000', '35.000000', '1490.000000', '251.000000', '629.000000', '257.000000', '4.366100', '222100.000000']\n",
            "['-121.270000', '38.650000', '25.000000', '2787.000000', '601.000000', '1247.000000', '522.000000', '2.901600', '159800.000000']\n",
            "['-117.880000', '33.870000', '21.000000', '1519.000000', '388.000000', '1203.000000', '366.000000', '3.208300', '145300.000000']\n",
            "['-119.880000', '34.420000', '22.000000', '2367.000000', '492.000000', '1333.000000', '488.000000', '3.630400', '312200.000000']\n",
            "['-118.480000', '34.010000', '31.000000', '1829.000000', '458.000000', '719.000000', '392.000000', '4.400000', '353800.000000']\n",
            "['-116.950000', '33.860000', '1.000000', '6.000000', '2.000000', '8.000000', '2.000000', '1.625000', '55000.000000']\n",
            "['-117.670000', '33.510000', '17.000000', '2112.000000', '480.000000', '1893.000000', '433.000000', '4.038800', '120400.000000']\n",
            "['-118.350000', '34.040000', '38.000000', '1626.000000', '375.000000', '1019.000000', '372.000000', '2.368700', '146800.000000']\n",
            "['-124.160000', '40.800000', '52.000000', '2167.000000', '480.000000', '908.000000', '451.000000', '1.611100', '74700.000000']\n",
            "['-118.350000', '34.050000', '33.000000', '2880.000000', '836.000000', '1416.000000', '736.000000', '2.678100', '328800.000000']\n",
            "['-119.080000', '34.350000', '24.000000', '3663.000000', '828.000000', '2718.000000', '778.000000', '3.275700', '186000.000000']\n",
            "['-122.510000', '37.780000', '45.000000', '2564.000000', '499.000000', '1056.000000', '460.000000', '4.732800', '351100.000000']\n",
            "['-118.360000', '34.140000', '30.000000', '1376.000000', '317.000000', '629.000000', '320.000000', '3.682300', '295200.000000']\n",
            "['-121.960000', '37.550000', '4.000000', '3746.000000', '993.000000', '1606.000000', '838.000000', '4.138700', '162500.000000']\n",
            "['-117.190000', '32.770000', '30.000000', '2747.000000', '640.000000', '3185.000000', '657.000000', '3.765000', '238000.000000']\n",
            "['-118.090000', '33.890000', '42.000000', '1150.000000', '215.000000', '708.000000', '204.000000', '3.687500', '171500.000000']\n",
            "['-121.760000', '36.900000', '44.000000', '919.000000', '309.000000', '1321.000000', '301.000000', '2.077500', '121400.000000']\n",
            "['-118.140000', '33.920000', '35.000000', '2378.000000', '559.000000', '1799.000000', '546.000000', '3.932700', '190500.000000']\n",
            "['-119.060000', '34.360000', '52.000000', '1239.000000', '320.000000', '934.000000', '298.000000', '1.861800', '183300.000000']\n",
            "['-118.120000', '34.160000', '52.000000', '2218.000000', '437.000000', '1211.000000', '422.000000', '5.023700', '241900.000000']\n",
            "['-117.800000', '34.150000', '14.000000', '7876.000000', '1253.000000', '3699.000000', '1162.000000', '5.542300', '248700.000000']\n",
            "['-120.040000', '39.240000', '30.000000', '2369.000000', '469.000000', '510.000000', '213.000000', '2.650000', '123800.000000']\n",
            "['-121.470000', '38.480000', '25.000000', '2969.000000', '551.000000', '1745.000000', '487.000000', '2.638200', '76200.000000']\n",
            "['-122.270000', '37.540000', '15.000000', '2126.000000', '310.000000', '905.000000', '306.000000', '8.908300', '500001.000000']\n",
            "['-122.020000', '37.540000', '31.000000', '1240.000000', '264.000000', '719.000000', '236.000000', '3.535000', '210300.000000']\n",
            "['-121.380000', '38.400000', '15.000000', '4155.000000', '637.000000', '1722.000000', '616.000000', '4.883100', '154400.000000']\n",
            "['-122.040000', '37.350000', '20.000000', '2016.000000', '313.000000', '767.000000', '310.000000', '6.837000', '383000.000000']\n",
            "['-117.120000', '32.760000', '41.000000', '1469.000000', '421.000000', '803.000000', '395.000000', '2.185600', '120500.000000']\n",
            "['-117.340000', '34.180000', '7.000000', '2914.000000', '481.000000', '1584.000000', '499.000000', '4.631200', '124900.000000']\n",
            "['-121.020000', '37.670000', '32.000000', '3951.000000', '797.000000', '1916.000000', '740.000000', '2.672200', '111500.000000']\n",
            "['-119.060000', '34.380000', '33.000000', '1465.000000', '262.000000', '731.000000', '266.000000', '3.946400', '230300.000000']\n",
            "['-118.160000', '33.910000', '35.000000', '1403.000000', '338.000000', '1415.000000', '367.000000', '3.096700', '144000.000000']\n",
            "['-121.920000', '37.340000', '52.000000', '2584.000000', '491.000000', '1087.000000', '433.000000', '4.400000', '391300.000000']\n",
            "['-119.030000', '34.210000', '11.000000', '4528.000000', '729.000000', '2398.000000', '684.000000', '5.304400', '319000.000000']\n",
            "['-121.960000', '37.340000', '37.000000', '663.000000', '127.000000', '293.000000', '132.000000', '3.781300', '247800.000000']\n",
            "['-114.610000', '33.620000', '16.000000', '1187.000000', '261.000000', '1115.000000', '242.000000', '2.175900', '61500.000000']\n",
            "['-117.270000', '33.150000', '4.000000', '23915.000000', '4135.000000', '10877.000000', '3958.000000', '4.635700', '244900.000000']\n",
            "['-121.370000', '38.620000', '27.000000', '1743.000000', '380.000000', '697.000000', '368.000000', '1.667800', '166100.000000']\n",
            "['-118.180000', '33.820000', '43.000000', '2210.000000', '469.000000', '1042.000000', '418.000000', '3.500000', '216700.000000']\n",
            "['-118.020000', '33.770000', '33.000000', '2683.000000', '436.000000', '1520.000000', '456.000000', '5.009100', '211500.000000']\n",
            "['-120.050000', '34.470000', '21.000000', '1241.000000', '248.000000', '746.000000', '211.000000', '3.805600', '425000.000000']\n",
            "['-118.250000', '34.010000', '45.000000', '782.000000', '270.000000', '1030.000000', '235.000000', '1.089800', '93400.000000']\n",
            "['-119.540000', '38.510000', '14.000000', '1250.000000', '272.000000', '721.000000', '234.000000', '2.350000', '95700.000000']\n",
            "['-117.270000', '34.500000', '7.000000', '2045.000000', '342.000000', '878.000000', '292.000000', '6.029600', '194100.000000']\n",
            "['-121.960000', '36.990000', '23.000000', '3209.000000', '748.000000', '1423.000000', '666.000000', '2.737500', '238000.000000']\n",
            "['-118.190000', '34.040000', '45.000000', '963.000000', '234.000000', '1194.000000', '239.000000', '2.180600', '134900.000000']\n",
            "['-121.280000', '37.950000', '49.000000', '1200.000000', '364.000000', '1448.000000', '318.000000', '1.109400', '52500.000000']\n",
            "['-117.960000', '33.790000', '29.000000', '1813.000000', '501.000000', '1170.000000', '482.000000', '2.067700', '214500.000000']\n",
            "['-118.440000', '34.170000', '25.000000', '4966.000000', '1134.000000', '1941.000000', '958.000000', '3.808100', '286700.000000']\n",
            "['-122.310000', '37.520000', '35.000000', '1817.000000', '262.000000', '659.000000', '262.000000', '6.833600', '457200.000000']\n",
            "['-117.970000', '33.920000', '24.000000', '2017.000000', '416.000000', '900.000000', '436.000000', '3.000000', '251400.000000']\n",
            "['-117.710000', '34.050000', '20.000000', '2281.000000', '444.000000', '1545.000000', '481.000000', '2.573500', '130500.000000']\n",
            "['-118.420000', '34.020000', '26.000000', '2664.000000', '842.000000', '1745.000000', '789.000000', '3.426900', '301900.000000']\n",
            "['-120.250000', '37.110000', '20.000000', '2062.000000', '466.000000', '1285.000000', '456.000000', '1.531900', '50500.000000']\n",
            "['-121.350000', '38.510000', '29.000000', '2337.000000', '391.000000', '1054.000000', '352.000000', '4.220600', '157700.000000']\n",
            "['-120.250000', '38.550000', '15.000000', '4403.000000', '891.000000', '1103.000000', '433.000000', '3.012500', '111700.000000']\n",
            "['-118.020000', '34.020000', '21.000000', '5992.000000', '986.000000', '2647.000000', '969.000000', '5.240500', '302400.000000']\n",
            "['-120.660000', '35.260000', '15.000000', '5540.000000', '1319.000000', '2383.000000', '1165.000000', '2.265600', '226200.000000']\n",
            "['-120.660000', '40.420000', '35.000000', '1450.000000', '325.000000', '717.000000', '297.000000', '2.507400', '66400.000000']\n",
            "['-118.150000', '35.060000', '15.000000', '1069.000000', '296.000000', '569.000000', '263.000000', '2.044100', '73300.000000']\n",
            "['-122.510000', '37.780000', '47.000000', '2496.000000', '494.000000', '1201.000000', '454.000000', '4.035300', '342200.000000']\n",
            "['-120.460000', '34.650000', '22.000000', '1298.000000', '358.000000', '1272.000000', '363.000000', '1.648800', '117500.000000']\n",
            "['-117.930000', '33.930000', '25.000000', '2431.000000', '534.000000', '1702.000000', '523.000000', '3.793300', '184400.000000']\n",
            "['-118.210000', '33.970000', '49.000000', '1409.000000', '313.000000', '1268.000000', '317.000000', '3.940800', '170600.000000']\n",
            "['-120.180000', '34.620000', '25.000000', '1337.000000', '219.000000', '671.000000', '225.000000', '3.191200', '226400.000000']\n",
            "['-122.140000', '37.430000', '18.000000', '2060.000000', '563.000000', '1144.000000', '600.000000', '4.068600', '378600.000000']\n",
            "['-123.110000', '40.600000', '23.000000', '708.000000', '202.000000', '316.000000', '136.000000', '1.160200', '65000.000000']\n",
            "['-117.940000', '33.840000', '25.000000', '4016.000000', '831.000000', '2166.000000', '774.000000', '3.188400', '135400.000000']\n",
            "['-122.750000', '38.480000', '4.000000', '6487.000000', '1112.000000', '2958.000000', '1131.000000', '4.541700', '197400.000000']\n",
            "['-121.610000', '37.150000', '16.000000', '5498.000000', '729.000000', '2051.000000', '694.000000', '7.860100', '416300.000000']\n",
            "['-122.420000', '40.600000', '5.000000', '2614.000000', '433.000000', '1275.000000', '411.000000', '3.446400', '122900.000000']\n",
            "['-119.160000', '34.950000', '14.000000', '4054.000000', '787.000000', '1581.000000', '579.000000', '3.088200', '148200.000000']\n",
            "['-118.630000', '34.240000', '9.000000', '4759.000000', '924.000000', '1884.000000', '915.000000', '4.833300', '277200.000000']\n",
            "['-121.950000', '36.980000', '34.000000', '3745.000000', '958.000000', '1622.000000', '802.000000', '3.154600', '261200.000000']\n",
            "['-117.250000', '32.790000', '43.000000', '906.000000', '240.000000', '458.000000', '205.000000', '1.836500', '328600.000000']\n",
            "['-119.180000', '34.220000', '15.000000', '4615.000000', '1008.000000', '2549.000000', '973.000000', '3.906300', '198700.000000']\n",
            "['-117.260000', '32.820000', '34.000000', '5846.000000', '785.000000', '1817.000000', '747.000000', '8.496000', '500001.000000']\n",
            "['-117.070000', '32.790000', '25.000000', '2489.000000', '314.000000', '911.000000', '309.000000', '7.833600', '277600.000000']\n",
            "['-116.760000', '34.230000', '10.000000', '4374.000000', '989.000000', '1020.000000', '376.000000', '2.607100', '89000.000000']\n",
            "['-118.250000', '34.130000', '52.000000', '322.000000', '88.000000', '229.000000', '89.000000', '2.125000', '243800.000000']\n",
            "['-117.280000', '34.260000', '18.000000', '3895.000000', '689.000000', '1086.000000', '375.000000', '3.367200', '133600.000000']\n",
            "['-122.570000', '38.110000', '32.000000', '3521.000000', '748.000000', '1706.000000', '723.000000', '3.470500', '228600.000000']\n",
            "['-122.450000', '37.790000', '52.000000', '1457.000000', '215.000000', '495.000000', '208.000000', '10.709700', '500001.000000']\n",
            "['-117.770000', '33.710000', '15.000000', '2102.000000', '295.000000', '1060.000000', '303.000000', '7.314100', '337100.000000']\n",
            "['-119.440000', '36.610000', '17.000000', '1531.000000', '280.000000', '775.000000', '246.000000', '3.907300', '91600.000000']\n",
            "['-118.320000', '33.930000', '37.000000', '2379.000000', '462.000000', '1327.000000', '445.000000', '4.250000', '172100.000000']\n",
            "['-118.220000', '33.790000', '28.000000', '3008.000000', '629.000000', '2537.000000', '596.000000', '2.300000', '137500.000000']\n",
            "['-122.650000', '38.480000', '17.000000', '1090.000000', '164.000000', '473.000000', '163.000000', '5.506100', '231800.000000']\n",
            "['-121.230000', '37.960000', '44.000000', '2204.000000', '473.000000', '1277.000000', '435.000000', '1.553900', '59200.000000']\n",
            "['-117.860000', '34.090000', '26.000000', '3408.000000', '542.000000', '1664.000000', '543.000000', '6.149800', '239100.000000']\n",
            "['-122.060000', '37.860000', '16.000000', '5187.000000', '1014.000000', '1512.000000', '986.000000', '4.455100', '252400.000000']\n",
            "['-117.360000', '34.100000', '29.000000', '2819.000000', '637.000000', '1683.000000', '608.000000', '2.320500', '87600.000000']\n",
            "['-117.300000', '34.100000', '49.000000', '60.000000', '11.000000', '76.000000', '13.000000', '2.562500', '75000.000000']\n",
            "['-122.140000', '38.030000', '42.000000', '118.000000', '34.000000', '54.000000', '30.000000', '2.579500', '225000.000000']\n",
            "['-121.640000', '36.800000', '18.000000', '5915.000000', '1000.000000', '2975.000000', '975.000000', '4.581200', '255200.000000']\n",
            "['-122.240000', '38.010000', '11.000000', '3751.000000', '565.000000', '1949.000000', '555.000000', '5.786200', '269400.000000']\n",
            "['-116.860000', '34.310000', '19.000000', '1649.000000', '328.000000', '382.000000', '151.000000', '4.055600', '133000.000000']\n",
            "['-122.710000', '37.880000', '21.000000', '2845.000000', '552.000000', '599.000000', '250.000000', '4.312500', '495800.000000']\n",
            "['-117.090000', '32.560000', '8.000000', '864.000000', '156.000000', '626.000000', '172.000000', '4.898400', '151500.000000']\n",
            "['-122.250000', '37.470000', '35.000000', '3183.000000', '515.000000', '1313.000000', '487.000000', '5.906200', '383200.000000']\n",
            "['-118.120000', '33.770000', '20.000000', '4534.000000', '954.000000', '1941.000000', '892.000000', '6.036200', '463500.000000']\n",
            "['-120.960000', '37.670000', '17.000000', '2434.000000', '511.000000', '1558.000000', '546.000000', '2.921900', '114300.000000']\n",
            "['-119.300000', '36.320000', '23.000000', '3521.000000', '615.000000', '1712.000000', '636.000000', '3.387500', '92500.000000']\n",
            "['-117.390000', '33.960000', '52.000000', '1992.000000', '345.000000', '948.000000', '358.000000', '3.291700', '129300.000000']\n",
            "['-121.000000', '37.600000', '22.000000', '4412.000000', '925.000000', '3116.000000', '817.000000', '2.689900', '82100.000000']\n",
            "['-117.090000', '32.640000', '19.000000', '2571.000000', '791.000000', '1205.000000', '783.000000', '1.620000', '131300.000000']\n",
            "['-122.050000', '37.930000', '15.000000', '7803.000000', '1603.000000', '2957.000000', '1546.000000', '4.450000', '184900.000000']\n",
            "['-120.430000', '34.870000', '26.000000', '1699.000000', '272.000000', '799.000000', '266.000000', '3.987100', '157700.000000']\n",
            "['-122.090000', '37.690000', '43.000000', '500.000000', '110.000000', '273.000000', '120.000000', '3.312500', '150000.000000']\n",
            "['-118.460000', '34.010000', '39.000000', '711.000000', '148.000000', '347.000000', '153.000000', '4.281300', '297200.000000']\n",
            "['-121.980000', '37.370000', '35.000000', '995.000000', '202.000000', '615.000000', '199.000000', '5.094200', '217500.000000']\n",
            "['-121.970000', '37.760000', '8.000000', '3743.000000', '581.000000', '1633.000000', '567.000000', '6.702700', '381900.000000']\n",
            "['-117.810000', '33.830000', '8.000000', '7326.000000', '884.000000', '2569.000000', '798.000000', '10.157000', '477100.000000']\n",
            "['-118.160000', '33.890000', '38.000000', '483.000000', '113.000000', '389.000000', '108.000000', '2.185900', '143800.000000']\n",
            "['-115.570000', '32.780000', '25.000000', '2007.000000', '301.000000', '1135.000000', '332.000000', '5.128000', '99600.000000']\n",
            "['-117.620000', '33.420000', '27.000000', '1005.000000', '266.000000', '460.000000', '243.000000', '3.102900', '190600.000000']\n",
            "['-121.510000', '38.560000', '43.000000', '1048.000000', '312.000000', '1320.000000', '294.000000', '1.064900', '137500.000000']\n",
            "['-117.110000', '32.750000', '18.000000', '1943.000000', '587.000000', '1329.000000', '522.000000', '1.769600', '103100.000000']\n",
            "['-122.460000', '37.720000', '37.000000', '1833.000000', '388.000000', '1093.000000', '363.000000', '3.070300', '211800.000000']\n",
            "['-122.010000', '37.580000', '17.000000', '4313.000000', '717.000000', '2629.000000', '721.000000', '5.757900', '231800.000000']\n",
            "['-116.850000', '34.260000', '18.000000', '6988.000000', '1635.000000', '2044.000000', '726.000000', '2.430800', '90600.000000']\n",
            "['-122.180000', '37.150000', '17.000000', '1457.000000', '289.000000', '591.000000', '235.000000', '5.578500', '284100.000000']\n",
            "['-116.950000', '32.820000', '19.000000', '5308.000000', '1058.000000', '2852.000000', '1092.000000', '2.916100', '135700.000000']\n",
            "['-117.230000', '32.740000', '16.000000', '1953.000000', '404.000000', '798.000000', '385.000000', '4.816700', '169800.000000']\n",
            "['-117.840000', '34.110000', '17.000000', '3499.000000', '621.000000', '1911.000000', '621.000000', '4.889400', '191700.000000']\n",
            "['-122.490000', '37.760000', '48.000000', '1351.000000', '270.000000', '650.000000', '265.000000', '3.527800', '339800.000000']\n",
            "['-117.930000', '33.710000', '10.000000', '2775.000000', '717.000000', '1581.000000', '633.000000', '4.136600', '158800.000000']\n",
            "['-118.180000', '33.740000', '30.000000', '5915.000000', '1750.000000', '2136.000000', '1503.000000', '4.096800', '310000.000000']\n",
            "['-118.080000', '33.920000', '38.000000', '1335.000000', '282.000000', '1011.000000', '269.000000', '3.690800', '157500.000000']\n",
            "['-118.300000', '34.010000', '52.000000', '1444.000000', '343.000000', '1154.000000', '334.000000', '2.062500', '134400.000000']\n",
            "['-122.170000', '39.310000', '35.000000', '2791.000000', '552.000000', '1395.000000', '476.000000', '2.562500', '62700.000000']\n",
            "['-117.140000', '32.750000', '19.000000', '1358.000000', '613.000000', '766.000000', '630.000000', '1.035300', '150000.000000']\n",
            "['-117.940000', '34.040000', '36.000000', '1431.000000', '354.000000', '1367.000000', '334.000000', '3.559200', '160200.000000']\n",
            "['-121.740000', '37.190000', '11.000000', '1290.000000', '197.000000', '881.000000', '191.000000', '4.203900', '500001.000000']\n",
            "['-118.360000', '33.810000', '26.000000', '1575.000000', '300.000000', '881.000000', '309.000000', '5.177800', '359900.000000']\n",
            "['-122.440000', '37.780000', '37.000000', '1235.000000', '314.000000', '481.000000', '297.000000', '3.687500', '492300.000000']\n",
            "['-118.190000', '33.810000', '23.000000', '954.000000', '390.000000', '804.000000', '373.000000', '2.583300', '181300.000000']\n",
            "['-117.290000', '33.190000', '18.000000', '6235.000000', '1233.000000', '4127.000000', '1162.000000', '3.070400', '151600.000000']\n",
            "['-117.240000', '32.850000', '18.000000', '3117.000000', '475.000000', '904.000000', '368.000000', '6.758700', '388500.000000']\n",
            "['-117.240000', '32.800000', '29.000000', '3376.000000', '882.000000', '1513.000000', '843.000000', '3.101000', '238200.000000']\n",
            "['-120.980000', '38.660000', '9.000000', '2073.000000', '404.000000', '916.000000', '373.000000', '3.225000', '163300.000000']\n",
            "['-119.630000', '36.760000', '22.000000', '4126.000000', '614.000000', '1795.000000', '613.000000', '4.925000', '154700.000000']\n",
            "['-121.650000', '37.120000', '14.000000', '4721.000000', '999.000000', '2648.000000', '888.000000', '3.689500', '239300.000000']\n",
            "['-121.900000', '37.440000', '12.000000', '4228.000000', '734.000000', '2594.000000', '732.000000', '6.608600', '299400.000000']\n",
            "['-122.110000', '37.700000', '23.000000', '1689.000000', '461.000000', '828.000000', '443.000000', '2.155200', '161400.000000']\n",
            "['-118.290000', '33.950000', '35.000000', '1401.000000', '362.000000', '1357.000000', '327.000000', '2.091700', '99300.000000']\n",
            "['-117.760000', '34.060000', '30.000000', '1700.000000', '504.000000', '1719.000000', '459.000000', '2.227000', '91900.000000']\n",
            "['-118.320000', '34.080000', '52.000000', '2370.000000', '473.000000', '1053.000000', '434.000000', '4.142900', '380300.000000']\n",
            "['-117.080000', '32.720000', '32.000000', '2286.000000', '468.000000', '1741.000000', '467.000000', '3.044600', '101900.000000']\n",
            "['-117.130000', '32.790000', '35.000000', '1362.000000', '243.000000', '698.000000', '255.000000', '3.645800', '173800.000000']\n",
            "['-121.940000', '36.980000', '24.000000', '3010.000000', '562.000000', '1360.000000', '504.000000', '4.200600', '290700.000000']\n",
            "['-118.230000', '33.960000', '36.000000', '1062.000000', '270.000000', '1136.000000', '273.000000', '1.659700', '109100.000000']\n",
            "['-121.980000', '37.360000', '34.000000', '1735.000000', '318.000000', '1019.000000', '301.000000', '4.562500', '242700.000000']\n",
            "['-118.280000', '34.120000', '50.000000', '2384.000000', '312.000000', '836.000000', '337.000000', '12.876300', '500001.000000']\n",
            "['-122.130000', '37.150000', '39.000000', '2854.000000', '613.000000', '1338.000000', '518.000000', '3.942300', '180300.000000']\n",
            "['-118.200000', '33.780000', '48.000000', '1766.000000', '497.000000', '1908.000000', '466.000000', '1.987200', '168800.000000']\n",
            "['-117.730000', '34.120000', '26.000000', '1279.000000', '163.000000', '412.000000', '157.000000', '6.173100', '293800.000000']\n",
            "['-117.990000', '33.690000', '12.000000', '2480.000000', '858.000000', '1441.000000', '788.000000', '1.670500', '350000.000000']\n",
            "['-117.940000', '34.060000', '32.000000', '3418.000000', '662.000000', '2003.000000', '622.000000', '4.033300', '210200.000000']\n",
            "['-117.390000', '34.110000', '5.000000', '2987.000000', '457.000000', '1821.000000', '485.000000', '4.888900', '138900.000000']\n",
            "['-122.000000', '38.350000', '38.000000', '1918.000000', '364.000000', '745.000000', '348.000000', '2.570700', '126000.000000']\n",
            "['-120.980000', '37.590000', '2.000000', '5042.000000', '834.000000', '2784.000000', '787.000000', '4.648400', '145900.000000']\n",
            "['-118.260000', '34.120000', '45.000000', '2839.000000', '698.000000', '1768.000000', '653.000000', '3.130600', '214000.000000']\n",
            "['-122.160000', '37.680000', '16.000000', '1687.000000', '348.000000', '568.000000', '352.000000', '2.386900', '83300.000000']\n",
            "['-118.120000', '33.830000', '45.000000', '1579.000000', '278.000000', '687.000000', '285.000000', '5.042400', '225900.000000']\n",
            "['-117.880000', '33.790000', '32.000000', '1484.000000', '295.000000', '928.000000', '295.000000', '5.141800', '190300.000000']\n",
            "['-122.410000', '37.710000', '40.000000', '2054.000000', '433.000000', '1738.000000', '429.000000', '4.992600', '213900.000000']\n",
            "['-122.390000', '37.730000', '43.000000', '4864.000000', '972.000000', '3134.000000', '959.000000', '4.339300', '217300.000000']\n",
            "['-121.930000', '36.630000', '33.000000', '1740.000000', '342.000000', '638.000000', '329.000000', '3.191200', '319800.000000']\n",
            "['-120.310000', '38.020000', '11.000000', '2366.000000', '398.000000', '1046.000000', '387.000000', '3.820300', '139700.000000']\n",
            "['-122.470000', '37.610000', '34.000000', '4551.000000', '837.000000', '2208.000000', '834.000000', '5.436400', '279300.000000']\n",
            "['-117.680000', '34.000000', '5.000000', '3761.000000', '580.000000', '2335.000000', '648.000000', '5.733800', '225400.000000']\n",
            "['-122.280000', '37.850000', '41.000000', '535.000000', '123.000000', '317.000000', '119.000000', '2.403800', '107500.000000']\n",
            "['-117.180000', '32.920000', '4.000000', '15025.000000', '2616.000000', '7560.000000', '2392.000000', '5.196000', '210700.000000']\n",
            "['-117.700000', '33.600000', '26.000000', '2283.000000', '506.000000', '634.000000', '469.000000', '2.377400', '74300.000000']\n",
            "['-122.480000', '37.750000', '52.000000', '2074.000000', '401.000000', '1136.000000', '409.000000', '4.770300', '331000.000000']\n",
            "['-117.150000', '32.740000', '26.000000', '3149.000000', '832.000000', '1320.000000', '808.000000', '3.025900', '211700.000000']\n",
            "['-119.900000', '36.790000', '22.000000', '1970.000000', '332.000000', '1066.000000', '319.000000', '3.312500', '106100.000000']\n",
            "['-117.190000', '32.780000', '34.000000', '4108.000000', '664.000000', '1659.000000', '644.000000', '4.409700', '252000.000000']\n",
            "['-118.390000', '34.030000', '25.000000', '3442.000000', '1050.000000', '1890.000000', '914.000000', '3.057400', '319400.000000']\n",
            "['-117.780000', '33.680000', '15.000000', '1834.000000', '330.000000', '841.000000', '309.000000', '6.063400', '234300.000000']\n",
            "['-119.670000', '36.650000', '20.000000', '2512.000000', '449.000000', '1464.000000', '450.000000', '3.921100', '92300.000000']\n",
            "['-118.260000', '34.020000', '41.000000', '848.000000', '323.000000', '1428.000000', '313.000000', '1.560300', '109600.000000']\n",
            "['-122.240000', '38.010000', '16.000000', '2084.000000', '315.000000', '1154.000000', '307.000000', '6.010200', '235600.000000']\n",
            "['-122.250000', '38.160000', '17.000000', '4459.000000', '944.000000', '1812.000000', '888.000000', '2.937500', '106700.000000']\n",
            "['-117.320000', '33.800000', '11.000000', '3196.000000', '576.000000', '1757.000000', '552.000000', '4.098200', '173300.000000']\n",
            "['-118.210000', '34.060000', '52.000000', '470.000000', '115.000000', '434.000000', '123.000000', '2.095000', '109100.000000']\n",
            "['-119.770000', '36.800000', '24.000000', '3748.000000', '770.000000', '1827.000000', '719.000000', '2.722200', '83100.000000']\n",
            "['-121.860000', '37.410000', '16.000000', '1603.000000', '287.000000', '1080.000000', '296.000000', '6.125600', '266900.000000']\n",
            "['-117.970000', '33.880000', '9.000000', '1344.000000', '279.000000', '530.000000', '265.000000', '5.073100', '185100.000000']\n",
            "['-121.840000', '39.720000', '52.000000', '1457.000000', '389.000000', '802.000000', '342.000000', '0.956600', '69000.000000']\n",
            "['-118.510000', '34.200000', '37.000000', '2066.000000', '434.000000', '1031.000000', '414.000000', '4.092400', '188400.000000']\n",
            "['-117.930000', '33.780000', '28.000000', '4380.000000', '820.000000', '2187.000000', '835.000000', '3.901800', '182300.000000']\n",
            "['-117.750000', '33.610000', '16.000000', '2270.000000', '488.000000', '709.000000', '489.000000', '3.284500', '227600.000000']\n",
            "['-121.460000', '38.700000', '32.000000', '965.000000', '183.000000', '568.000000', '188.000000', '3.861100', '93900.000000']\n",
            "['-119.280000', '36.320000', '29.000000', '2274.000000', '514.000000', '1234.000000', '521.000000', '1.913800', '66900.000000']\n",
            "['-118.740000', '34.280000', '21.000000', '4056.000000', '637.000000', '1974.000000', '634.000000', '5.902400', '221000.000000']\n",
            "['-119.330000', '36.190000', '27.000000', '418.000000', '163.000000', '332.000000', '141.000000', '1.071400', '63800.000000']\n",
            "['-118.750000', '34.270000', '24.000000', '3241.000000', '461.000000', '1567.000000', '446.000000', '5.598300', '233300.000000']\n",
            "['-118.210000', '33.930000', '33.000000', '2739.000000', '801.000000', '3423.000000', '741.000000', '2.284700', '132700.000000']\n",
            "['-122.370000', '37.960000', '37.000000', '1572.000000', '402.000000', '1046.000000', '350.000000', '0.740300', '68600.000000']\n",
            "['-121.980000', '37.280000', '27.000000', '3526.000000', '589.000000', '1725.000000', '553.000000', '5.781200', '275000.000000']\n",
            "['-117.030000', '32.610000', '23.000000', '1553.000000', '216.000000', '778.000000', '229.000000', '5.153800', '171300.000000']\n",
            "['-117.280000', '34.410000', '14.000000', '2105.000000', '396.000000', '960.000000', '396.000000', '2.993400', '118200.000000']\n",
            "['-118.020000', '34.130000', '33.000000', '2874.000000', '458.000000', '1239.000000', '431.000000', '5.232900', '430900.000000']\n",
            "['-117.900000', '34.060000', '33.000000', '1330.000000', '209.000000', '578.000000', '192.000000', '5.640600', '266200.000000']\n",
            "['-118.470000', '34.240000', '19.000000', '2405.000000', '661.000000', '1855.000000', '621.000000', '2.311100', '255400.000000']\n",
            "['-122.490000', '37.860000', '35.000000', '2729.000000', '538.000000', '969.000000', '528.000000', '6.766900', '500001.000000']\n",
            "['-121.440000', '38.680000', '19.000000', '2476.000000', '534.000000', '1355.000000', '463.000000', '2.062500', '94400.000000']\n",
            "['-118.360000', '34.200000', '14.000000', '1878.000000', '614.000000', '1874.000000', '559.000000', '2.526700', '231800.000000']\n",
            "['-117.280000', '33.060000', '8.000000', '4172.000000', '1022.000000', '2585.000000', '941.000000', '4.011800', '245800.000000']\n",
            "['-122.430000', '37.730000', '52.000000', '1142.000000', '224.000000', '494.000000', '206.000000', '5.060200', '298900.000000']\n",
            "['-118.130000', '34.130000', '52.000000', '2826.000000', '381.000000', '924.000000', '365.000000', '7.997600', '500001.000000']\n",
            "['-118.050000', '33.950000', '33.000000', '1954.000000', '390.000000', '1600.000000', '376.000000', '3.612500', '170800.000000']\n",
            "['-121.990000', '38.260000', '18.000000', '921.000000', '126.000000', '368.000000', '120.000000', '6.084200', '261100.000000']\n",
            "['-122.470000', '37.780000', '52.000000', '1941.000000', '436.000000', '955.000000', '425.000000', '4.133900', '396400.000000']\n",
            "['-121.270000', '38.660000', '15.000000', '2642.000000', '520.000000', '1032.000000', '475.000000', '4.138200', '189800.000000']\n",
            "['-122.240000', '37.810000', '52.000000', '2026.000000', '482.000000', '709.000000', '456.000000', '3.272700', '268500.000000']\n",
            "['-121.440000', '38.470000', '5.000000', '5666.000000', '1178.000000', '3139.000000', '1131.000000', '3.360800', '108900.000000']\n",
            "['-118.120000', '33.770000', '10.000000', '7264.000000', '1137.000000', '2528.000000', '1057.000000', '10.223300', '500001.000000']\n",
            "['-117.980000', '33.940000', '32.000000', '2562.000000', '491.000000', '1222.000000', '446.000000', '4.098500', '226200.000000']\n",
            "['-118.070000', '34.160000', '35.000000', '2459.000000', '438.000000', '970.000000', '437.000000', '4.214300', '369400.000000']\n",
            "['-118.190000', '34.140000', '46.000000', '2387.000000', '488.000000', '1181.000000', '456.000000', '3.605800', '257900.000000']\n",
            "['-118.210000', '34.120000', '52.000000', '1301.000000', '389.000000', '1189.000000', '361.000000', '2.513900', '190000.000000']\n",
            "['-121.920000', '36.630000', '36.000000', '877.000000', '175.000000', '349.000000', '168.000000', '3.416700', '339100.000000']\n",
            "['-117.970000', '33.840000', '18.000000', '1063.000000', '209.000000', '462.000000', '223.000000', '2.834800', '219000.000000']\n",
            "['-118.410000', '33.990000', '39.000000', '3014.000000', '822.000000', '3212.000000', '777.000000', '1.198500', '215000.000000']\n",
            "['-119.440000', '36.600000', '34.000000', '864.000000', '184.000000', '579.000000', '171.000000', '2.041700', '72500.000000']\n",
            "['-122.700000', '39.140000', '13.000000', '532.000000', '111.000000', '214.000000', '62.000000', '3.392900', '108300.000000']\n",
            "['-122.300000', '37.560000', '37.000000', '1962.000000', '367.000000', '1267.000000', '382.000000', '4.734400', '271800.000000']\n",
            "['-121.990000', '37.540000', '26.000000', '2332.000000', '371.000000', '1285.000000', '404.000000', '5.388000', '225000.000000']\n",
            "['-118.380000', '33.980000', '25.000000', '7105.000000', '1012.000000', '2519.000000', '1004.000000', '6.811200', '500001.000000']\n",
            "['-117.980000', '33.830000', '17.000000', '3506.000000', '992.000000', '2104.000000', '893.000000', '3.300600', '185800.000000']\n",
            "['-117.960000', '33.680000', '25.000000', '2004.000000', '349.000000', '1085.000000', '343.000000', '4.765600', '230700.000000']\n",
            "['-117.640000', '33.660000', '6.000000', '5221.000000', '1217.000000', '2597.000000', '1119.000000', '4.607600', '204000.000000']\n",
            "['-121.290000', '37.330000', '36.000000', '48.000000', '12.000000', '27.000000', '8.000000', '4.000000', '75000.000000']\n",
            "['-122.440000', '37.770000', '52.000000', '5604.000000', '1268.000000', '2023.000000', '1196.000000', '4.408500', '400000.000000']\n",
            "['-118.330000', '33.980000', '28.000000', '3889.000000', '1199.000000', '3121.000000', '1046.000000', '1.880600', '113900.000000']\n",
            "['-121.290000', '37.990000', '30.000000', '1271.000000', '528.000000', '2019.000000', '524.000000', '1.515200', '81300.000000']\n",
            "['-121.800000', '37.350000', '17.000000', '2529.000000', '423.000000', '1756.000000', '429.000000', '5.101700', '240700.000000']\n",
            "['-119.290000', '36.530000', '33.000000', '1509.000000', '352.000000', '1734.000000', '336.000000', '1.625000', '50300.000000']\n",
            "['-118.110000', '34.030000', '36.000000', '1493.000000', '316.000000', '989.000000', '293.000000', '3.527200', '213700.000000']\n",
            "['-121.870000', '37.420000', '19.000000', '12128.000000', '2112.000000', '6810.000000', '2040.000000', '6.441900', '264500.000000']\n",
            "['-122.090000', '37.700000', '33.000000', '4413.000000', '1107.000000', '2239.000000', '1051.000000', '2.986100', '208200.000000']\n",
            "['-122.290000', '37.870000', '52.000000', '2225.000000', '460.000000', '1145.000000', '430.000000', '2.616500', '150000.000000']\n",
            "['-117.110000', '32.660000', '52.000000', '25.000000', '5.000000', '14.000000', '9.000000', '1.625000', '118800.000000']\n",
            "['-121.900000', '37.390000', '42.000000', '42.000000', '14.000000', '26.000000', '14.000000', '1.736100', '500001.000000']\n",
            "['-117.520000', '33.880000', '21.000000', '722.000000', '178.000000', '770.000000', '165.000000', '2.565600', '102500.000000']\n",
            "['-121.470000', '38.700000', '31.000000', '1007.000000', '181.000000', '563.000000', '185.000000', '3.625000', '91300.000000']\n",
            "['-122.280000', '37.520000', '27.000000', '2958.000000', '655.000000', '1285.000000', '577.000000', '4.080100', '397800.000000']\n",
            "['-118.410000', '34.250000', '33.000000', '827.000000', '192.000000', '981.000000', '184.000000', '2.642900', '143100.000000']\n",
            "['-122.250000', '37.800000', '52.000000', '2087.000000', '510.000000', '1197.000000', '488.000000', '3.014900', '218400.000000']\n",
            "['-119.050000', '34.240000', '24.000000', '4341.000000', '646.000000', '1929.000000', '703.000000', '5.429800', '279600.000000']\n",
            "['-118.260000', '34.060000', '33.000000', '1950.000000', '1047.000000', '3707.000000', '1012.000000', '1.723800', '110000.000000']\n",
            "['-117.090000', '32.700000', '15.000000', '869.000000', '217.000000', '887.000000', '216.000000', '1.458300', '84200.000000']\n",
            "['-117.390000', '34.070000', '15.000000', '1966.000000', '331.000000', '1118.000000', '323.000000', '3.855800', '122700.000000']\n",
            "['-122.220000', '37.790000', '37.000000', '2343.000000', '574.000000', '1608.000000', '523.000000', '2.149400', '132500.000000']\n",
            "['-118.430000', '34.040000', '52.000000', '2425.000000', '435.000000', '962.000000', '412.000000', '5.858700', '494700.000000']\n",
            "['-117.560000', '33.880000', '36.000000', '838.000000', '210.000000', '722.000000', '180.000000', '2.486100', '96200.000000']\n",
            "['-118.130000', '34.160000', '52.000000', '1787.000000', '427.000000', '1107.000000', '410.000000', '2.566400', '215000.000000']\n",
            "['-122.210000', '37.470000', '33.000000', '1266.000000', '415.000000', '1991.000000', '334.000000', '2.920000', '202800.000000']\n",
            "['-118.080000', '33.780000', '34.000000', '2287.000000', '347.000000', '1051.000000', '346.000000', '5.576700', '372000.000000']\n",
            "['-118.230000', '34.210000', '29.000000', '2584.000000', '608.000000', '1217.000000', '568.000000', '3.328700', '273400.000000']\n",
            "['-117.230000', '32.730000', '44.000000', '1168.000000', '263.000000', '509.000000', '256.000000', '2.727300', '269700.000000']\n",
            "['-118.190000', '33.770000', '21.000000', '2103.000000', '727.000000', '1064.000000', '603.000000', '1.617800', '137500.000000']\n",
            "['-117.170000', '32.810000', '26.000000', '788.000000', '127.000000', '346.000000', '125.000000', '5.060300', '185700.000000']\n",
            "['-122.000000', '36.970000', '39.000000', '2702.000000', '646.000000', '1136.000000', '491.000000', '2.894100', '256700.000000']\n",
            "['-120.610000', '35.120000', '12.000000', '3430.000000', '793.000000', '1840.000000', '720.000000', '2.982100', '162000.000000']\n",
            "['-118.170000', '33.830000', '46.000000', '1362.000000', '214.000000', '531.000000', '222.000000', '4.312500', '290500.000000']\n",
            "['-117.860000', '33.890000', '24.000000', '2002.000000', '253.000000', '820.000000', '241.000000', '6.961200', '274500.000000']\n",
            "['-118.510000', '34.220000', '36.000000', '1493.000000', '285.000000', '766.000000', '272.000000', '4.864600', '213200.000000']\n",
            "['-118.260000', '33.900000', '38.000000', '1566.000000', '318.000000', '981.000000', '318.000000', '4.023400', '111900.000000']\n",
            "['-118.020000', '34.040000', '27.000000', '5640.000000', '1001.000000', '3538.000000', '978.000000', '5.065000', '215400.000000']\n",
            "['-118.370000', '34.100000', '37.000000', '407.000000', '67.000000', '100.000000', '47.000000', '15.000100', '500001.000000']\n",
            "['-117.990000', '33.790000', '35.000000', '2301.000000', '467.000000', '2272.000000', '454.000000', '3.956600', '167800.000000']\n",
            "['-122.420000', '37.710000', '44.000000', '2080.000000', '489.000000', '1781.000000', '478.000000', '3.682700', '215300.000000']\n",
            "['-117.250000', '33.930000', '8.000000', '10110.000000', '1761.000000', '5804.000000', '1703.000000', '4.265400', '137600.000000']\n",
            "['-122.040000', '37.850000', '27.000000', '6039.000000', '780.000000', '2181.000000', '761.000000', '9.586200', '469400.000000']\n",
            "['-117.230000', '32.870000', '11.000000', '3123.000000', '740.000000', '1223.000000', '634.000000', '5.417000', '196800.000000']\n",
            "['-117.160000', '32.810000', '35.000000', '1213.000000', '200.000000', '532.000000', '181.000000', '3.680600', '172400.000000']\n",
            "['-118.090000', '33.900000', '37.000000', '1147.000000', '258.000000', '742.000000', '242.000000', '4.046100', '153500.000000']\n",
            "['-118.080000', '34.070000', '32.000000', '4089.000000', '975.000000', '3775.000000', '955.000000', '3.290000', '205500.000000']\n",
            "['-117.090000', '32.790000', '31.000000', '2019.000000', '417.000000', '872.000000', '386.000000', '3.196400', '177700.000000']\n",
            "['-121.660000', '37.130000', '20.000000', '4477.000000', '924.000000', '2656.000000', '871.000000', '3.878800', '226900.000000']\n",
            "['-118.240000', '33.960000', '34.000000', '946.000000', '254.000000', '1101.000000', '239.000000', '1.739600', '105900.000000']\n",
            "['-122.020000', '37.530000', '21.000000', '4280.000000', '673.000000', '2216.000000', '681.000000', '5.707200', '242200.000000']\n",
            "['-117.820000', '33.900000', '25.000000', '1137.000000', '170.000000', '524.000000', '164.000000', '7.574400', '259300.000000']\n",
            "['-118.210000', '33.940000', '34.000000', '710.000000', '205.000000', '1134.000000', '233.000000', '2.773400', '141100.000000']\n",
            "['-117.880000', '34.000000', '32.000000', '265.000000', '51.000000', '170.000000', '50.000000', '3.937500', '187500.000000']\n",
            "['-118.110000', '33.860000', '36.000000', '2750.000000', '487.000000', '1386.000000', '458.000000', '4.990400', '221700.000000']\n",
            "['-118.860000', '34.070000', '16.000000', '1409.000000', '244.000000', '970.000000', '172.000000', '8.014400', '500001.000000']\n",
            "['-122.490000', '38.320000', '30.000000', '1631.000000', '284.000000', '788.000000', '284.000000', '3.309800', '195500.000000']\n",
            "['-121.660000', '39.660000', '17.000000', '3502.000000', '655.000000', '1763.000000', '613.000000', '2.962500', '101200.000000']\n",
            "['-122.330000', '37.930000', '34.000000', '2326.000000', '471.000000', '1356.000000', '441.000000', '2.347500', '90300.000000']\n",
            "['-117.280000', '33.200000', '20.000000', '4835.000000', '854.000000', '2983.000000', '834.000000', '4.342800', '152100.000000']\n",
            "['-122.160000', '37.720000', '38.000000', '1007.000000', '245.000000', '618.000000', '239.000000', '2.875000', '144800.000000']\n",
            "['-117.850000', '34.120000', '30.000000', '4367.000000', '1033.000000', '2524.000000', '954.000000', '3.044800', '192100.000000']\n",
            "['-119.260000', '35.500000', '38.000000', '2536.000000', '409.000000', '1133.000000', '430.000000', '4.237500', '78600.000000']\n",
            "['-123.350000', '40.990000', '23.000000', '141.000000', '59.000000', '47.000000', '23.000000', '1.125000', '66000.000000']\n",
            "['-118.140000', '34.160000', '39.000000', '2776.000000', '840.000000', '2546.000000', '773.000000', '2.575000', '153500.000000']\n",
            "['-118.390000', '34.230000', '43.000000', '1193.000000', '299.000000', '1184.000000', '320.000000', '2.151800', '161600.000000']\n",
            "['-117.030000', '32.790000', '17.000000', '7352.000000', '1699.000000', '3331.000000', '1634.000000', '2.700600', '166300.000000']\n",
            "['-117.840000', '33.800000', '34.000000', '2004.000000', '331.000000', '843.000000', '328.000000', '3.590000', '230600.000000']\n",
            "['-116.690000', '33.500000', '13.000000', '1187.000000', '255.000000', '442.000000', '179.000000', '1.910700', '155700.000000']\n",
            "['-121.090000', '37.610000', '42.000000', '1787.000000', '296.000000', '921.000000', '287.000000', '3.886400', '171400.000000']\n",
            "['-117.140000', '32.760000', '35.000000', '2539.000000', '661.000000', '1308.000000', '629.000000', '2.677700', '146400.000000']\n",
            "['-122.690000', '38.460000', '32.000000', '2970.000000', '504.000000', '1117.000000', '512.000000', '5.000000', '275900.000000']\n",
            "['-121.130000', '38.550000', '8.000000', '530.000000', '109.000000', '398.000000', '96.000000', '4.203100', '212500.000000']\n",
            "['-121.870000', '37.270000', '25.000000', '1730.000000', '226.000000', '721.000000', '243.000000', '7.584500', '279300.000000']\n",
            "['-117.910000', '33.660000', '26.000000', '5761.000000', '1326.000000', '2681.000000', '1116.000000', '4.034100', '243300.000000']\n",
            "['-121.940000', '37.340000', '42.000000', '2174.000000', '420.000000', '1304.000000', '464.000000', '3.142900', '286500.000000']\n",
            "['-121.830000', '37.950000', '17.000000', '1133.000000', '244.000000', '716.000000', '235.000000', '2.875000', '162500.000000']\n",
            "['-124.170000', '41.800000', '16.000000', '2739.000000', '480.000000', '1259.000000', '436.000000', '3.755700', '109400.000000']\n",
            "['-118.330000', '34.060000', '52.000000', '1368.000000', '231.000000', '737.000000', '248.000000', '8.361700', '433800.000000']\n",
            "['-118.240000', '33.800000', '28.000000', '636.000000', '169.000000', '788.000000', '143.000000', '3.616100', '131300.000000']\n",
            "['-122.590000', '38.120000', '25.000000', '7784.000000', '1145.000000', '3445.000000', '1166.000000', '6.013200', '287900.000000']\n",
            "['-122.480000', '37.710000', '29.000000', '1048.000000', '150.000000', '455.000000', '152.000000', '6.127800', '417600.000000']\n",
            "['-120.730000', '37.380000', '37.000000', '653.000000', '176.000000', '827.000000', '176.000000', '1.923600', '64400.000000']\n",
            "['-117.040000', '32.620000', '26.000000', '3620.000000', '607.000000', '2000.000000', '593.000000', '4.996200', '156000.000000']\n",
            "['-118.440000', '34.270000', '36.000000', '1111.000000', '275.000000', '1333.000000', '266.000000', '3.534700', '158100.000000']\n",
            "['-121.000000', '37.610000', '36.000000', '2647.000000', '604.000000', '2045.000000', '550.000000', '2.273000', '62900.000000']\n",
            "['-117.840000', '33.890000', '24.000000', '3935.000000', '625.000000', '1912.000000', '593.000000', '5.795100', '226900.000000']\n",
            "['-122.250000', '37.770000', '52.000000', '1527.000000', '320.000000', '825.000000', '264.000000', '3.453100', '208800.000000']\n",
            "['-118.360000', '34.100000', '37.000000', '7097.000000', '2010.000000', '2913.000000', '1939.000000', '2.875000', '300000.000000']\n",
            "['-116.920000', '32.790000', '24.000000', '4055.000000', '742.000000', '2123.000000', '744.000000', '4.522400', '142000.000000']\n",
            "['-121.940000', '38.350000', '8.000000', '3157.000000', '559.000000', '1758.000000', '569.000000', '4.412000', '140100.000000']\n",
            "['-120.870000', '35.410000', '16.000000', '2168.000000', '444.000000', '782.000000', '374.000000', '3.018700', '278100.000000']\n",
            "['-118.100000', '33.830000', '36.000000', '2000.000000', '343.000000', '956.000000', '352.000000', '5.373500', '234400.000000']\n",
            "['-117.990000', '34.070000', '31.000000', '1507.000000', '369.000000', '1548.000000', '347.000000', '3.432700', '147200.000000']\n",
            "['-121.490000', '37.940000', '31.000000', '1860.000000', '394.000000', '1848.000000', '293.000000', '2.289100', '162500.000000']\n",
            "['-119.630000', '36.320000', '36.000000', '1518.000000', '287.000000', '749.000000', '255.000000', '2.233300', '61000.000000']\n",
            "['-121.890000', '39.760000', '15.000000', '10265.000000', '1860.000000', '4591.000000', '1906.000000', '3.070000', '142600.000000']\n",
            "['-117.110000', '32.760000', '31.000000', '2293.000000', '549.000000', '1108.000000', '557.000000', '3.385400', '204400.000000']\n",
            "['-118.140000', '34.070000', '42.000000', '1036.000000', '199.000000', '656.000000', '215.000000', '4.190200', '235000.000000']\n",
            "['-118.260000', '33.950000', '38.000000', '1387.000000', '346.000000', '1240.000000', '355.000000', '1.689800', '95100.000000']\n",
            "['-122.350000', '40.560000', '16.000000', '2801.000000', '614.000000', '1695.000000', '563.000000', '1.900000', '81600.000000']\n",
            "['-118.260000', '34.060000', '40.000000', '637.000000', '273.000000', '1150.000000', '263.000000', '1.862500', '131300.000000']\n",
            "['-117.820000', '33.710000', '9.000000', '5206.000000', '992.000000', '4660.000000', '978.000000', '2.885000', '162500.000000']\n",
            "['-119.980000', '38.960000', '25.000000', '2443.000000', '444.000000', '868.000000', '342.000000', '3.541700', '114800.000000']\n",
            "['-118.430000', '34.090000', '27.000000', '1613.000000', '200.000000', '497.000000', '197.000000', '7.983500', '500001.000000']\n",
            "['-117.140000', '32.750000', '20.000000', '1182.000000', '379.000000', '678.000000', '326.000000', '2.193700', '162500.000000']\n",
            "['-118.470000', '34.300000', '16.000000', '2495.000000', '551.000000', '2314.000000', '567.000000', '3.673600', '192200.000000']\n",
            "['-121.780000', '38.680000', '39.000000', '2806.000000', '662.000000', '1659.000000', '638.000000', '1.978700', '97800.000000']\n",
            "['-122.280000', '37.800000', '52.000000', '96.000000', '31.000000', '191.000000', '34.000000', '0.750000', '162500.000000']\n",
            "['-117.210000', '32.800000', '19.000000', '786.000000', '282.000000', '525.000000', '229.000000', '1.727300', '137500.000000']\n",
            "['-121.460000', '38.540000', '48.000000', '1001.000000', '205.000000', '605.000000', '175.000000', '1.833300', '58200.000000']\n",
            "['-121.130000', '36.210000', '30.000000', '1484.000000', '414.000000', '1200.000000', '351.000000', '1.754800', '95800.000000']\n",
            "['-122.530000', '37.970000', '52.000000', '205.000000', '119.000000', '228.000000', '132.000000', '1.906300', '200000.000000']\n",
            "['-122.350000', '37.920000', '36.000000', '921.000000', '200.000000', '585.000000', '236.000000', '1.922400', '94000.000000']\n",
            "['-122.120000', '37.280000', '21.000000', '349.000000', '64.000000', '149.000000', '56.000000', '5.869100', '360000.000000']\n",
            "['-121.320000', '38.260000', '4.000000', '6125.000000', '1063.000000', '3077.000000', '953.000000', '4.117900', '134600.000000']\n",
            "['-121.910000', '36.620000', '40.000000', '1292.000000', '271.000000', '504.000000', '230.000000', '2.475000', '258300.000000']\n",
            "['-117.810000', '33.710000', '16.000000', '2666.000000', '387.000000', '1227.000000', '347.000000', '7.376900', '302400.000000']\n",
            "['-119.710000', '36.810000', '19.000000', '2282.000000', '550.000000', '1034.000000', '500.000000', '1.661800', '69700.000000']\n",
            "['-119.190000', '34.170000', '27.000000', '2183.000000', '364.000000', '1458.000000', '388.000000', '4.456700', '191100.000000']\n",
            "['-117.820000', '33.790000', '26.000000', '2641.000000', '633.000000', '3657.000000', '617.000000', '4.133900', '222300.000000']\n",
            "['-118.270000', '34.160000', '48.000000', '1301.000000', '253.000000', '637.000000', '260.000000', '4.343800', '252700.000000']\n",
            "['-118.330000', '34.100000', '45.000000', '1913.000000', '696.000000', '1552.000000', '611.000000', '2.088800', '237500.000000']\n",
            "['-122.290000', '37.910000', '46.000000', '2085.000000', '346.000000', '748.000000', '354.000000', '4.053600', '262000.000000']\n",
            "['-118.020000', '33.820000', '21.000000', '2052.000000', '456.000000', '1173.000000', '432.000000', '3.788500', '204500.000000']\n",
            "['-118.220000', '33.960000', '35.000000', '1437.000000', '474.000000', '2113.000000', '484.000000', '2.617900', '158800.000000']\n",
            "['-116.890000', '32.820000', '18.000000', '2515.000000', '443.000000', '1442.000000', '449.000000', '5.020100', '154400.000000']\n",
            "['-117.950000', '33.860000', '35.000000', '2478.000000', '431.000000', '1333.000000', '427.000000', '5.209900', '191400.000000']\n",
            "['-122.270000', '37.480000', '26.000000', '3542.000000', '507.000000', '1392.000000', '524.000000', '8.518400', '500001.000000']\n",
            "['-120.510000', '39.520000', '26.000000', '2286.000000', '444.000000', '498.000000', '216.000000', '2.065000', '96100.000000']\n",
            "['-118.420000', '34.090000', '40.000000', '3552.000000', '392.000000', '1024.000000', '370.000000', '15.000100', '500001.000000']\n",
            "['-119.500000', '35.270000', '23.000000', '3827.000000', '696.000000', '1993.000000', '617.000000', '3.074200', '57900.000000']\n",
            "['-122.910000', '39.070000', '21.000000', '2202.000000', '484.000000', '1000.000000', '381.000000', '2.442300', '102300.000000']\n",
            "['-122.460000', '37.770000', '52.000000', '1824.000000', '388.000000', '799.000000', '363.000000', '3.750000', '435700.000000']\n",
            "['-121.540000', '36.990000', '27.000000', '2361.000000', '449.000000', '1782.000000', '397.000000', '3.261400', '305000.000000']\n",
            "['-118.450000', '34.190000', '37.000000', '1073.000000', '254.000000', '739.000000', '253.000000', '2.466700', '192200.000000']\n",
            "['-117.950000', '34.050000', '35.000000', '1309.000000', '276.000000', '1113.000000', '253.000000', '4.375000', '156500.000000']\n",
            "['-120.560000', '35.480000', '12.000000', '4161.000000', '731.000000', '1609.000000', '615.000000', '5.094700', '267500.000000']\n",
            "['-122.460000', '37.650000', '21.000000', '2751.000000', '502.000000', '2027.000000', '491.000000', '5.257300', '322900.000000']\n",
            "['-117.850000', '33.760000', '33.000000', '1866.000000', '327.000000', '1053.000000', '371.000000', '4.546100', '213800.000000']\n",
            "['-118.210000', '33.920000', '37.000000', '1705.000000', '403.000000', '1839.000000', '410.000000', '2.583300', '132700.000000']\n",
            "['-118.170000', '33.980000', '31.000000', '1236.000000', '329.000000', '1486.000000', '337.000000', '3.093800', '155400.000000']\n",
            "['-121.790000', '37.340000', '20.000000', '2018.000000', '328.000000', '1196.000000', '323.000000', '4.931800', '262400.000000']\n",
            "['-117.980000', '33.830000', '32.000000', '1133.000000', '166.000000', '523.000000', '187.000000', '6.213000', '230800.000000']\n",
            "['-118.430000', '34.300000', '37.000000', '1394.000000', '313.000000', '1111.000000', '327.000000', '3.602300', '161800.000000']\n",
            "['-121.690000', '39.360000', '34.000000', '842.000000', '186.000000', '635.000000', '165.000000', '1.835500', '63000.000000']\n",
            "['-117.270000', '33.770000', '16.000000', '2876.000000', '576.000000', '1859.000000', '545.000000', '2.087800', '101300.000000']\n",
            "['-122.410000', '37.590000', '40.000000', '2401.000000', '383.000000', '894.000000', '356.000000', '5.649300', '422400.000000']\n",
            "['-117.480000', '34.100000', '30.000000', '2287.000000', '531.000000', '1796.000000', '503.000000', '2.583300', '90600.000000']\n",
            "['-117.060000', '32.700000', '12.000000', '3943.000000', '737.000000', '3280.000000', '751.000000', '4.112000', '141400.000000']\n",
            "['-121.920000', '36.630000', '40.000000', '1076.000000', '193.000000', '406.000000', '180.000000', '3.494300', '311100.000000']\n",
            "['-120.440000', '37.310000', '16.000000', '3369.000000', '532.000000', '1770.000000', '574.000000', '5.266200', '126200.000000']\n",
            "['-117.180000', '32.700000', '44.000000', '2655.000000', '514.000000', '1102.000000', '489.000000', '3.675900', '368800.000000']\n",
            "['-121.570000', '39.120000', '30.000000', '2601.000000', '534.000000', '1702.000000', '506.000000', '2.080000', '56600.000000']\n",
            "['-122.210000', '37.790000', '52.000000', '762.000000', '190.000000', '600.000000', '195.000000', '3.089300', '125000.000000']\n",
            "['-118.910000', '35.300000', '28.000000', '1793.000000', '358.000000', '1233.000000', '351.000000', '2.784500', '82200.000000']\n",
            "['-121.950000', '37.320000', '20.000000', '1145.000000', '198.000000', '431.000000', '173.000000', '3.110300', '281900.000000']\n",
            "['-121.350000', '38.680000', '20.000000', '7085.000000', '1222.000000', '3455.000000', '1229.000000', '4.311800', '120000.000000']\n",
            "['-121.280000', '38.760000', '47.000000', '2901.000000', '631.000000', '1276.000000', '578.000000', '2.136600', '101900.000000']\n",
            "['-118.350000', '33.890000', '30.000000', '1143.000000', '299.000000', '776.000000', '273.000000', '4.282900', '240000.000000']\n",
            "['-121.980000', '37.970000', '26.000000', '2714.000000', '390.000000', '1232.000000', '409.000000', '5.961700', '231100.000000']\n",
            "['-120.020000', '38.920000', '24.000000', '1194.000000', '246.000000', '414.000000', '151.000000', '3.239600', '101900.000000']\n",
            "['-122.280000', '37.770000', '52.000000', '1468.000000', '363.000000', '870.000000', '347.000000', '2.968800', '220800.000000']\n",
            "['-118.060000', '34.580000', '36.000000', '1493.000000', '258.000000', '899.000000', '260.000000', '3.860000', '109300.000000']\n",
            "['-119.020000', '35.380000', '52.000000', '90.000000', '35.000000', '36.000000', '31.000000', '0.805400', '60000.000000']\n",
            "['-122.430000', '37.790000', '52.000000', '6186.000000', '1566.000000', '2065.000000', '1374.000000', '5.854300', '500001.000000']\n",
            "['-118.070000', '33.860000', '17.000000', '3666.000000', '562.000000', '2104.000000', '579.000000', '5.681800', '338900.000000']\n",
            "['-122.300000', '38.000000', '34.000000', '1712.000000', '317.000000', '956.000000', '341.000000', '4.439400', '162000.000000']\n",
            "['-117.170000', '33.280000', '16.000000', '1921.000000', '312.000000', '862.000000', '280.000000', '5.178600', '376800.000000']\n",
            "['-117.300000', '34.140000', '37.000000', '1454.000000', '261.000000', '761.000000', '248.000000', '2.343800', '88100.000000']\n",
            "['-117.710000', '33.600000', '25.000000', '1949.000000', '459.000000', '602.000000', '428.000000', '2.760100', '72500.000000']\n",
            "['-122.500000', '37.780000', '46.000000', '2646.000000', '607.000000', '1418.000000', '563.000000', '3.716700', '332800.000000']\n",
            "['-122.720000', '38.450000', '41.000000', '1743.000000', '373.000000', '780.000000', '357.000000', '3.146700', '175500.000000']\n",
            "['-118.430000', '34.180000', '31.000000', '2417.000000', '510.000000', '1102.000000', '507.000000', '3.890600', '282200.000000']\n",
            "['-118.030000', '33.970000', '22.000000', '2185.000000', '623.000000', '1644.000000', '606.000000', '2.593000', '192000.000000']\n",
            "['-118.420000', '33.990000', '23.000000', '5548.000000', '1245.000000', '2847.000000', '1229.000000', '4.422800', '366900.000000']\n",
            "['-118.290000', '33.960000', '31.000000', '4022.000000', '1208.000000', '3707.000000', '1007.000000', '1.309600', '116300.000000']\n",
            "['-117.980000', '33.730000', '22.000000', '4232.000000', '624.000000', '2408.000000', '660.000000', '6.653900', '284900.000000']\n",
            "['-121.910000', '39.140000', '45.000000', '845.000000', '155.000000', '343.000000', '136.000000', '2.125000', '62000.000000']\n",
            "['-119.590000', '36.640000', '27.000000', '823.000000', '171.000000', '798.000000', '200.000000', '3.052100', '113800.000000']\n",
            "['-118.330000', '34.110000', '37.000000', '2330.000000', '434.000000', '846.000000', '457.000000', '8.233500', '430200.000000']\n",
            "['-120.630000', '38.750000', '17.000000', '3145.000000', '621.000000', '1432.000000', '559.000000', '2.720100', '117500.000000']\n",
            "['-122.120000', '37.750000', '28.000000', '794.000000', '111.000000', '329.000000', '109.000000', '7.692300', '329800.000000']\n",
            "['-118.350000', '33.950000', '45.000000', '1076.000000', '213.000000', '781.000000', '238.000000', '3.950000', '164000.000000']\n",
            "['-120.440000', '34.960000', '29.000000', '2374.000000', '562.000000', '1617.000000', '463.000000', '2.653100', '108300.000000']\n",
            "['-117.080000', '33.120000', '43.000000', '107.000000', '44.000000', '107.000000', '48.000000', '0.705400', '137500.000000']\n",
            "['-121.270000', '38.610000', '17.000000', '6663.000000', '1369.000000', '2840.000000', '1299.000000', '2.945200', '115600.000000']\n",
            "['-120.070000', '36.960000', '32.000000', '1268.000000', '283.000000', '549.000000', '273.000000', '1.451100', '65200.000000']\n",
            "['-117.660000', '34.060000', '39.000000', '1405.000000', '339.000000', '1489.000000', '336.000000', '1.608000', '91800.000000']\n",
            "['-117.060000', '33.010000', '24.000000', '2618.000000', '485.000000', '726.000000', '443.000000', '3.519200', '159100.000000']\n",
            "['-117.920000', '33.730000', '17.000000', '1692.000000', '293.000000', '934.000000', '280.000000', '4.472800', '205800.000000']\n",
            "['-117.930000', '33.920000', '34.000000', '2271.000000', '437.000000', '1393.000000', '433.000000', '4.244300', '174400.000000']\n",
            "['-122.590000', '38.920000', '15.000000', '1410.000000', '329.000000', '599.000000', '273.000000', '2.195300', '75000.000000']\n",
            "['-118.140000', '33.840000', '36.000000', '3002.000000', '484.000000', '1322.000000', '471.000000', '4.933000', '228900.000000']\n",
            "['-120.790000', '37.080000', '9.000000', '97.000000', '20.000000', '91.000000', '22.000000', '2.906300', '55000.000000']\n",
            "['-117.600000', '34.110000', '18.000000', '6025.000000', '1062.000000', '3360.000000', '1028.000000', '4.888900', '155700.000000']\n",
            "['-122.020000', '37.550000', '33.000000', '1325.000000', '274.000000', '909.000000', '267.000000', '4.568700', '177200.000000']\n",
            "['-118.140000', '33.970000', '31.000000', '1161.000000', '267.000000', '1175.000000', '282.000000', '3.011400', '177000.000000']\n",
            "['-122.310000', '37.540000', '38.000000', '1946.000000', '407.000000', '975.000000', '417.000000', '4.072600', '385400.000000']\n",
            "['-122.260000', '37.830000', '52.000000', '2432.000000', '715.000000', '1377.000000', '696.000000', '2.589800', '176000.000000']\n",
            "['-121.880000', '37.680000', '23.000000', '2234.000000', '270.000000', '854.000000', '286.000000', '7.333000', '337200.000000']\n",
            "['-122.530000', '37.940000', '18.000000', '878.000000', '255.000000', '384.000000', '247.000000', '4.734400', '200000.000000']\n",
            "['-117.710000', '33.630000', '16.000000', '1565.000000', '274.000000', '950.000000', '280.000000', '5.839900', '220600.000000']\n",
            "['-120.100000', '39.190000', '17.000000', '1480.000000', '241.000000', '202.000000', '80.000000', '3.937500', '213200.000000']\n",
            "['-117.770000', '33.720000', '9.000000', '2153.000000', '316.000000', '954.000000', '324.000000', '7.813900', '304700.000000']\n",
            "['-118.010000', '33.840000', '35.000000', '4166.000000', '713.000000', '2354.000000', '709.000000', '5.177500', '213400.000000']\n",
            "['-122.190000', '37.710000', '36.000000', '361.000000', '69.000000', '158.000000', '58.000000', '5.546100', '262500.000000']\n",
            "['-120.360000', '38.210000', '10.000000', '4300.000000', '845.000000', '1480.000000', '609.000000', '2.820800', '139900.000000']\n",
            "['-117.320000', '34.030000', '13.000000', '3853.000000', '761.000000', '1685.000000', '669.000000', '3.902400', '122400.000000']\n",
            "['-117.710000', '34.020000', '17.000000', '12689.000000', '2426.000000', '7343.000000', '2230.000000', '3.636100', '157700.000000']\n",
            "['-118.260000', '33.910000', '33.000000', '954.000000', '241.000000', '655.000000', '218.000000', '2.588200', '92800.000000']\n",
            "['-121.940000', '36.580000', '23.000000', '4911.000000', '693.000000', '1480.000000', '606.000000', '6.777000', '500000.000000']\n",
            "['-121.760000', '37.690000', '29.000000', '3433.000000', '711.000000', '1919.000000', '709.000000', '3.384100', '184400.000000']\n",
            "['-121.940000', '36.550000', '30.000000', '2722.000000', '584.000000', '628.000000', '384.000000', '3.404800', '487100.000000']\n",
            "['-122.640000', '38.010000', '36.000000', '1199.000000', '232.000000', '551.000000', '229.000000', '3.732100', '266700.000000']\n",
            "['-119.340000', '36.340000', '5.000000', '4505.000000', '834.000000', '1917.000000', '775.000000', '4.014400', '126600.000000']\n",
            "['-122.060000', '37.270000', '16.000000', '1612.000000', '221.000000', '567.000000', '208.000000', '10.579300', '500001.000000']\n",
            "['-117.940000', '33.730000', '24.000000', '4197.000000', '718.000000', '2468.000000', '714.000000', '5.256300', '211400.000000']\n",
            "['-118.440000', '33.980000', '21.000000', '18132.000000', '5419.000000', '7431.000000', '4930.000000', '5.335900', '500001.000000']\n",
            "['-117.690000', '34.010000', '30.000000', '2598.000000', '573.000000', '2170.000000', '518.000000', '2.300000', '95600.000000']\n",
            "['-117.870000', '34.150000', '24.000000', '5745.000000', '735.000000', '2061.000000', '679.000000', '8.282700', '451400.000000']\n",
            "['-119.690000', '36.380000', '25.000000', '1688.000000', '302.000000', '879.000000', '277.000000', '3.321400', '103100.000000']\n",
            "['-122.280000', '38.000000', '26.000000', '2335.000000', '413.000000', '980.000000', '417.000000', '3.447100', '178900.000000']\n",
            "['-118.330000', '34.040000', '31.000000', '1090.000000', '251.000000', '955.000000', '239.000000', '2.913000', '192500.000000']\n",
            "['-118.170000', '34.070000', '37.000000', '1155.000000', '225.000000', '814.000000', '241.000000', '3.875000', '148500.000000']\n",
            "['-117.950000', '34.140000', '13.000000', '3859.000000', '710.000000', '2283.000000', '759.000000', '4.559400', '184500.000000']\n",
            "['-118.280000', '33.790000', '28.000000', '1895.000000', '420.000000', '1422.000000', '389.000000', '4.381600', '191300.000000']\n",
            "['-120.860000', '37.690000', '5.000000', '6660.000000', '1217.000000', '3012.000000', '1087.000000', '3.080900', '143600.000000']\n",
            "['-120.150000', '39.170000', '32.000000', '1684.000000', '359.000000', '454.000000', '209.000000', '2.912500', '145800.000000']\n",
            "['-117.050000', '32.710000', '25.000000', '3292.000000', '608.000000', '2266.000000', '592.000000', '3.298600', '119200.000000']\n",
            "['-121.440000', '38.520000', '36.000000', '3446.000000', '950.000000', '2460.000000', '847.000000', '1.652100', '69700.000000']\n",
            "['-118.500000', '34.190000', '26.000000', '2156.000000', '509.000000', '1142.000000', '470.000000', '4.000000', '224700.000000']\n",
            "['-121.440000', '37.760000', '5.000000', '7264.000000', '1285.000000', '3670.000000', '1146.000000', '5.044300', '194800.000000']\n",
            "['-121.950000', '37.370000', '39.000000', '446.000000', '129.000000', '317.000000', '127.000000', '3.035700', '208300.000000']\n",
            "['-122.430000', '37.770000', '52.000000', '2685.000000', '629.000000', '1170.000000', '614.000000', '3.689400', '418800.000000']\n",
            "['-118.280000', '34.010000', '48.000000', '483.000000', '190.000000', '775.000000', '188.000000', '2.330900', '126600.000000']\n",
            "['-118.280000', '33.840000', '27.000000', '2326.000000', '533.000000', '1697.000000', '546.000000', '3.863300', '187900.000000']\n",
            "['-118.330000', '34.040000', '48.000000', '2437.000000', '443.000000', '1400.000000', '426.000000', '2.628000', '251100.000000']\n",
            "['-118.270000', '33.950000', '35.000000', '2073.000000', '494.000000', '1753.000000', '490.000000', '1.500000', '93600.000000']\n",
            "['-120.420000', '34.910000', '4.000000', '6986.000000', '1217.000000', '2801.000000', '1212.000000', '3.213500', '212700.000000']\n",
            "['-117.100000', '32.830000', '16.000000', '1049.000000', '154.000000', '467.000000', '160.000000', '6.204700', '248100.000000']\n",
            "['-121.890000', '36.890000', '18.000000', '2774.000000', '492.000000', '1283.000000', '353.000000', '5.368000', '352000.000000']\n",
            "['-118.220000', '33.960000', '42.000000', '1380.000000', '331.000000', '1290.000000', '288.000000', '2.800000', '161800.000000']\n",
            "['-117.270000', '33.020000', '13.000000', '5723.000000', '1242.000000', '2450.000000', '1140.000000', '4.717900', '376700.000000']\n",
            "['-121.290000', '38.680000', '20.000000', '1881.000000', '378.000000', '921.000000', '360.000000', '1.858900', '144000.000000']\n",
            "['-121.950000', '37.310000', '27.000000', '2462.000000', '570.000000', '1278.000000', '565.000000', '3.565200', '329500.000000']\n",
            "['-118.960000', '35.370000', '41.000000', '1463.000000', '339.000000', '1066.000000', '318.000000', '1.746700', '52400.000000']\n",
            "['-121.880000', '36.580000', '29.000000', '4910.000000', '871.000000', '3438.000000', '904.000000', '4.043200', '450000.000000']\n",
            "['-117.250000', '34.410000', '13.000000', '3682.000000', '668.000000', '1606.000000', '668.000000', '2.187500', '119700.000000']\n",
            "['-118.380000', '33.770000', '17.000000', '10950.000000', '2207.000000', '4713.000000', '2043.000000', '6.306400', '418300.000000']\n",
            "['-114.550000', '32.800000', '19.000000', '2570.000000', '820.000000', '1431.000000', '608.000000', '1.275000', '56100.000000']\n",
            "['-119.810000', '34.440000', '23.000000', '3172.000000', '588.000000', '1467.000000', '559.000000', '4.680600', '288900.000000']\n",
            "['-117.120000', '33.490000', '4.000000', '21988.000000', '4055.000000', '8824.000000', '3252.000000', '3.996300', '191100.000000']\n",
            "['-118.320000', '33.800000', '39.000000', '1415.000000', '298.000000', '729.000000', '278.000000', '3.164800', '244800.000000']\n",
            "['-122.180000', '37.730000', '43.000000', '1391.000000', '293.000000', '855.000000', '285.000000', '2.519200', '76400.000000']\n",
            "['-118.100000', '34.130000', '47.000000', '2234.000000', '276.000000', '749.000000', '260.000000', '15.000100', '500001.000000']\n",
            "['-122.270000', '40.390000', '26.000000', '1833.000000', '422.000000', '939.000000', '408.000000', '1.357100', '59000.000000']\n",
            "['-121.940000', '37.730000', '22.000000', '6719.000000', '1068.000000', '2843.000000', '994.000000', '6.126500', '260300.000000']\n",
            "['-121.290000', '38.630000', '24.000000', '2868.000000', '527.000000', '1284.000000', '487.000000', '3.318200', '213000.000000']\n",
            "['-117.590000', '33.440000', '3.000000', '5813.000000', '1264.000000', '2363.000000', '1041.000000', '4.389700', '341300.000000']\n",
            "['-118.440000', '34.190000', '29.000000', '1599.000000', '459.000000', '1143.000000', '438.000000', '2.458300', '199100.000000']\n",
            "['-118.150000', '34.030000', '42.000000', '1481.000000', '411.000000', '1206.000000', '394.000000', '2.680600', '189300.000000']\n",
            "['-116.480000', '33.800000', '15.000000', '3004.000000', '615.000000', '437.000000', '210.000000', '3.666700', '90000.000000']\n",
            "['-118.410000', '33.980000', '33.000000', '3331.000000', '777.000000', '1695.000000', '735.000000', '3.972700', '307200.000000']\n",
            "['-121.050000', '37.650000', '5.000000', '3096.000000', '545.000000', '1760.000000', '519.000000', '4.570100', '146400.000000']\n",
            "['-122.420000', '37.800000', '50.000000', '2494.000000', '731.000000', '958.000000', '712.000000', '3.235600', '500001.000000']\n",
            "['-117.310000', '34.110000', '38.000000', '1208.000000', '321.000000', '1225.000000', '317.000000', '1.466300', '64000.000000']\n",
            "['-116.990000', '32.760000', '21.000000', '3833.000000', '595.000000', '1645.000000', '589.000000', '4.625000', '273500.000000']\n",
            "['-122.110000', '37.890000', '32.000000', '2372.000000', '516.000000', '1067.000000', '492.000000', '4.323500', '279500.000000']\n",
            "['-122.270000', '37.800000', '10.000000', '105.000000', '42.000000', '125.000000', '39.000000', '0.972200', '137500.000000']\n",
            "['-121.870000', '37.380000', '16.000000', '3275.000000', '529.000000', '1863.000000', '527.000000', '5.542900', '269100.000000']\n",
            "['-118.200000', '33.770000', '22.000000', '1118.000000', '437.000000', '1190.000000', '399.000000', '1.979700', '143800.000000']\n",
            "['-117.120000', '32.570000', '35.000000', '1450.000000', '256.000000', '930.000000', '286.000000', '2.671500', '133300.000000']\n",
            "['-118.330000', '34.000000', '52.000000', '1114.000000', '169.000000', '486.000000', '176.000000', '4.291700', '247600.000000']\n",
            "['-117.170000', '32.820000', '21.000000', '2869.000000', '596.000000', '1471.000000', '577.000000', '3.037500', '197600.000000']\n",
            "['-120.360000', '40.450000', '19.000000', '689.000000', '143.000000', '355.000000', '127.000000', '1.733300', '70000.000000']\n",
            "['-116.520000', '33.810000', '12.000000', '12396.000000', '2552.000000', '2548.000000', '1265.000000', '3.439400', '162200.000000']\n",
            "['-119.820000', '36.770000', '41.000000', '1441.000000', '274.000000', '646.000000', '296.000000', '3.056800', '71300.000000']\n",
            "['-118.350000', '33.870000', '28.000000', '2319.000000', '579.000000', '1369.000000', '564.000000', '3.616900', '257000.000000']\n",
            "['-117.340000', '34.490000', '9.000000', '3293.000000', '585.000000', '1678.000000', '530.000000', '3.294100', '98300.000000']\n",
            "['-118.550000', '34.170000', '36.000000', '2127.000000', '297.000000', '761.000000', '274.000000', '7.839200', '500001.000000']\n",
            "['-122.110000', '38.090000', '11.000000', '673.000000', '145.000000', '318.000000', '137.000000', '2.392900', '122500.000000']\n",
            "['-122.260000', '37.560000', '23.000000', '7283.000000', '1342.000000', '3399.000000', '1298.000000', '5.668300', '391000.000000']\n",
            "['-121.350000', '38.660000', '24.000000', '3313.000000', '769.000000', '1631.000000', '681.000000', '2.555600', '105700.000000']\n",
            "['-118.210000', '34.040000', '37.000000', '845.000000', '249.000000', '881.000000', '252.000000', '2.245400', '165000.000000']\n",
            "['-118.340000', '34.070000', '52.000000', '3421.000000', '598.000000', '1203.000000', '564.000000', '4.161800', '500001.000000']\n",
            "['-117.880000', '34.130000', '25.000000', '2559.000000', '654.000000', '1674.000000', '623.000000', '2.854700', '155600.000000']\n",
            "['-117.870000', '33.840000', '23.000000', '1678.000000', '369.000000', '912.000000', '347.000000', '4.500000', '237300.000000']\n",
            "['-117.340000', '34.080000', '33.000000', '4924.000000', '1007.000000', '3502.000000', '953.000000', '3.233000', '99400.000000']\n",
            "['-118.330000', '34.020000', '11.000000', '1249.000000', '313.000000', '625.000000', '336.000000', '0.870200', '170500.000000']\n",
            "['-118.330000', '33.790000', '29.000000', '4389.000000', '873.000000', '2069.000000', '901.000000', '4.107100', '365600.000000']\n",
            "['-119.290000', '35.760000', '15.000000', '3938.000000', '789.000000', '3500.000000', '768.000000', '2.129500', '59800.000000']\n",
            "['-117.090000', '32.620000', '37.000000', '1538.000000', '298.000000', '867.000000', '285.000000', '3.072900', '128700.000000']\n",
            "['-121.810000', '37.250000', '5.000000', '1975.000000', '520.000000', '861.000000', '440.000000', '4.456500', '159000.000000']\n",
            "['-120.290000', '37.940000', '17.000000', '1459.000000', '297.000000', '753.000000', '271.000000', '3.050000', '144800.000000']\n",
            "['-120.700000', '35.140000', '17.000000', '5805.000000', '1097.000000', '1919.000000', '932.000000', '3.535200', '357800.000000']\n",
            "['-118.170000', '34.060000', '36.000000', '871.000000', '201.000000', '2862.000000', '181.000000', '2.184500', '123800.000000']\n",
            "['-117.990000', '33.930000', '27.000000', '3708.000000', '718.000000', '1921.000000', '721.000000', '4.375000', '210400.000000']\n",
            "['-118.250000', '34.220000', '30.000000', '2062.000000', '396.000000', '1089.000000', '375.000000', '5.536200', '301200.000000']\n",
            "['-118.110000', '33.830000', '36.000000', '1820.000000', '313.000000', '899.000000', '295.000000', '4.918000', '225200.000000']\n",
            "['-122.040000', '37.330000', '22.000000', '4011.000000', '963.000000', '2206.000000', '879.000000', '4.572100', '351200.000000']\n",
            "['-119.670000', '36.570000', '32.000000', '1604.000000', '292.000000', '868.000000', '276.000000', '2.190800', '110000.000000']\n",
            "['-119.560000', '36.710000', '37.000000', '1609.000000', '374.000000', '1173.000000', '344.000000', '2.181000', '59900.000000']\n",
            "['-122.350000', '37.960000', '36.000000', '2191.000000', '531.000000', '1563.000000', '524.000000', '2.516400', '114200.000000']\n",
            "['-117.080000', '32.580000', '15.000000', '1462.000000', '274.000000', '1002.000000', '271.000000', '3.969800', '142700.000000']\n",
            "['-118.610000', '34.200000', '29.000000', '1673.000000', '284.000000', '794.000000', '270.000000', '5.519100', '245800.000000']\n",
            "['-118.240000', '34.140000', '27.000000', '2909.000000', '1021.000000', '2614.000000', '935.000000', '2.144400', '229000.000000']\n",
            "['-118.400000', '34.030000', '43.000000', '1006.000000', '201.000000', '520.000000', '199.000000', '6.566900', '372800.000000']\n",
            "['-116.980000', '33.260000', '12.000000', '5898.000000', '1002.000000', '3129.000000', '945.000000', '4.764700', '254100.000000']\n",
            "['-117.930000', '33.680000', '33.000000', '2664.000000', '432.000000', '1197.000000', '429.000000', '5.069000', '264200.000000']\n",
            "['-122.250000', '37.470000', '38.000000', '645.000000', '124.000000', '265.000000', '103.000000', '5.468800', '305000.000000']\n",
            "['-118.190000', '33.840000', '44.000000', '2731.000000', '577.000000', '1396.000000', '555.000000', '4.177100', '219100.000000']\n",
            "['-118.450000', '34.320000', '23.000000', '3481.000000', '641.000000', '1952.000000', '682.000000', '4.260000', '189400.000000']\n",
            "['-122.140000', '39.970000', '27.000000', '1079.000000', '222.000000', '625.000000', '197.000000', '3.131900', '62700.000000']\n",
            "['-118.300000', '34.020000', '27.000000', '2190.000000', '626.000000', '1768.000000', '528.000000', '1.244600', '103800.000000']\n",
            "['-117.900000', '33.730000', '31.000000', '1171.000000', '306.000000', '1690.000000', '301.000000', '3.263900', '155200.000000']\n",
            "['-121.580000', '39.150000', '38.000000', '1756.000000', '396.000000', '837.000000', '401.000000', '1.912200', '55500.000000']\n",
            "['-121.950000', '38.350000', '16.000000', '2084.000000', '292.000000', '1099.000000', '292.000000', '5.826900', '150200.000000']\n",
            "['-117.690000', '34.070000', '35.000000', '3222.000000', '559.000000', '1970.000000', '550.000000', '3.708300', '131000.000000']\n",
            "['-117.080000', '32.740000', '35.000000', '1434.000000', '253.000000', '753.000000', '228.000000', '2.381200', '135100.000000']\n",
            "['-118.290000', '34.000000', '41.000000', '1807.000000', '493.000000', '1731.000000', '471.000000', '1.234700', '111700.000000']\n",
            "['-123.800000', '39.460000', '35.000000', '1718.000000', '345.000000', '698.000000', '299.000000', '2.924300', '131600.000000']\n",
            "['-119.120000', '35.330000', '4.000000', '8574.000000', '1489.000000', '4250.000000', '1444.000000', '5.103600', '103400.000000']\n",
            "['-121.800000', '37.340000', '20.000000', '2686.000000', '414.000000', '1507.000000', '405.000000', '5.806800', '263900.000000']\n",
            "['-117.090000', '32.750000', '19.000000', '2739.000000', '707.000000', '2004.000000', '622.000000', '1.631800', '117700.000000']\n",
            "['-122.130000', '37.430000', '40.000000', '3454.000000', '648.000000', '1498.000000', '647.000000', '5.211400', '438400.000000']\n",
            "['-117.980000', '33.760000', '24.000000', '1880.000000', '405.000000', '967.000000', '418.000000', '4.454500', '192500.000000']\n",
            "['-122.330000', '37.940000', '43.000000', '1876.000000', '389.000000', '807.000000', '377.000000', '3.157100', '141600.000000']\n",
            "['-121.440000', '38.540000', '39.000000', '2855.000000', '574.000000', '1217.000000', '562.000000', '3.240400', '93600.000000']\n",
            "['-118.020000', '33.700000', '23.000000', '5069.000000', '770.000000', '2473.000000', '769.000000', '6.304700', '285700.000000']\n",
            "['-117.880000', '33.840000', '26.000000', '1499.000000', '290.000000', '755.000000', '277.000000', '3.589300', '238500.000000']\n",
            "['-120.460000', '37.310000', '35.000000', '2042.000000', '378.000000', '953.000000', '356.000000', '2.734400', '87800.000000']\n",
            "['-118.310000', '33.720000', '26.000000', '2711.000000', '508.000000', '1372.000000', '459.000000', '4.145100', '326700.000000']\n",
            "['-117.820000', '33.670000', '17.000000', '2895.000000', '439.000000', '1588.000000', '450.000000', '6.276000', '290700.000000']\n",
            "['-117.990000', '33.870000', '17.000000', '2334.000000', '537.000000', '1662.000000', '535.000000', '3.014700', '217000.000000']\n",
            "['-119.800000', '36.860000', '7.000000', '6434.000000', '1201.000000', '2733.000000', '1045.000000', '3.765600', '145000.000000']\n",
            "['-121.470000', '38.580000', '43.000000', '3807.000000', '952.000000', '1484.000000', '850.000000', '2.326600', '137500.000000']\n",
            "['-117.600000', '33.870000', '15.000000', '7626.000000', '1570.000000', '3823.000000', '1415.000000', '3.441900', '138100.000000']\n",
            "['-117.100000', '32.750000', '11.000000', '2393.000000', '726.000000', '1905.000000', '711.000000', '1.344800', '91300.000000']\n",
            "['-117.880000', '33.760000', '17.000000', '1768.000000', '474.000000', '1079.000000', '436.000000', '1.782300', '205300.000000']\n",
            "['-118.350000', '33.990000', '48.000000', '2741.000000', '439.000000', '1115.000000', '459.000000', '5.051400', '269100.000000']\n",
            "['-121.810000', '37.310000', '14.000000', '2731.000000', '578.000000', '1109.000000', '551.000000', '3.138200', '139700.000000']\n",
            "['-120.430000', '34.900000', '30.000000', '2388.000000', '393.000000', '1117.000000', '375.000000', '4.105800', '164000.000000']\n",
            "['-118.190000', '34.050000', '29.000000', '855.000000', '199.000000', '785.000000', '169.000000', '2.696400', '122200.000000']\n",
            "['-117.890000', '33.910000', '33.000000', '1264.000000', '224.000000', '527.000000', '227.000000', '3.732100', '216500.000000']\n",
            "['-118.270000', '34.020000', '21.000000', '1314.000000', '375.000000', '1505.000000', '366.000000', '2.319000', '97200.000000']\n",
            "['-116.730000', '34.520000', '16.000000', '1247.000000', '315.000000', '433.000000', '159.000000', '1.056800', '75000.000000']\n",
            "['-121.500000', '38.520000', '37.000000', '2008.000000', '466.000000', '1261.000000', '427.000000', '2.257400', '59100.000000']\n",
            "['-120.610000', '35.120000', '16.000000', '1671.000000', '354.000000', '935.000000', '340.000000', '2.579200', '163800.000000']\n",
            "['-120.630000', '36.980000', '20.000000', '2380.000000', '489.000000', '1581.000000', '505.000000', '2.059500', '61300.000000']\n",
            "['-117.060000', '32.590000', '13.000000', '3920.000000', '775.000000', '2814.000000', '760.000000', '4.061600', '148800.000000']\n",
            "['-119.020000', '35.420000', '40.000000', '1912.000000', '439.000000', '1015.000000', '413.000000', '1.459800', '52600.000000']\n",
            "['-118.140000', '34.030000', '38.000000', '1447.000000', '293.000000', '1042.000000', '284.000000', '4.137500', '211500.000000']\n",
            "['-118.310000', '33.730000', '52.000000', '2025.000000', '361.000000', '957.000000', '363.000000', '4.205900', '350000.000000']\n",
            "['-121.940000', '38.370000', '14.000000', '1156.000000', '216.000000', '574.000000', '227.000000', '3.239600', '143800.000000']\n",
            "['-122.510000', '37.920000', '32.000000', '2622.000000', '541.000000', '1022.000000', '464.000000', '3.764700', '375000.000000']\n",
            "['-119.450000', '36.160000', '27.000000', '2119.000000', '373.000000', '1268.000000', '345.000000', '2.815200', '106900.000000']\n",
            "['-118.190000', '33.970000', '27.000000', '2911.000000', '972.000000', '3559.000000', '945.000000', '1.948500', '146300.000000']\n",
            "['-116.710000', '33.750000', '25.000000', '10665.000000', '2161.000000', '1874.000000', '852.000000', '3.062500', '150500.000000']\n",
            "['-118.280000', '33.990000', '35.000000', '1138.000000', '304.000000', '1128.000000', '311.000000', '1.881800', '100000.000000']\n",
            "['-118.120000', '33.850000', '37.000000', '2584.000000', '453.000000', '1333.000000', '481.000000', '4.366100', '219900.000000']\n",
            "['-122.530000', '37.630000', '27.000000', '2589.000000', '658.000000', '1386.000000', '608.000000', '2.908700', '228200.000000']\n",
            "['-121.060000', '37.730000', '5.000000', '2256.000000', '420.000000', '1246.000000', '397.000000', '4.923600', '155900.000000']\n",
            "['-120.880000', '38.450000', '25.000000', '1374.000000', '297.000000', '657.000000', '288.000000', '2.547600', '97900.000000']\n",
            "['-117.110000', '32.580000', '12.000000', '1086.000000', '294.000000', '870.000000', '290.000000', '2.421300', '132500.000000']\n",
            "['-117.900000', '33.650000', '27.000000', '3310.000000', '598.000000', '1402.000000', '563.000000', '6.632000', '441100.000000']\n",
            "['-121.870000', '37.660000', '52.000000', '775.000000', '134.000000', '315.000000', '123.000000', '5.067700', '233300.000000']\n",
            "['-121.300000', '37.960000', '52.000000', '1354.000000', '314.000000', '679.000000', '311.000000', '1.778800', '97400.000000']\n",
            "['-117.800000', '33.850000', '16.000000', '4151.000000', '637.000000', '1558.000000', '604.000000', '5.806000', '304900.000000']\n",
            "['-118.550000', '34.200000', '31.000000', '1963.000000', '420.000000', '1494.000000', '415.000000', '3.531300', '211800.000000']\n",
            "['-118.440000', '34.240000', '36.000000', '1660.000000', '301.000000', '1225.000000', '307.000000', '4.095000', '184000.000000']\n",
            "['-117.910000', '33.880000', '34.000000', '1851.000000', '291.000000', '784.000000', '290.000000', '5.233600', '235600.000000']\n",
            "['-118.510000', '34.230000', '27.000000', '4580.000000', '918.000000', '2252.000000', '850.000000', '4.792600', '454400.000000']\n",
            "['-119.150000', '34.170000', '23.000000', '2239.000000', '537.000000', '784.000000', '497.000000', '1.603800', '194300.000000']\n",
            "['-122.080000', '37.900000', '32.000000', '1075.000000', '170.000000', '486.000000', '173.000000', '5.049900', '306800.000000']\n",
            "['-122.410000', '37.710000', '28.000000', '5015.000000', '1240.000000', '3900.000000', '1029.000000', '1.226900', '181900.000000']\n",
            "['-122.220000', '37.470000', '35.000000', '367.000000', '113.000000', '398.000000', '109.000000', '2.500000', '166700.000000']\n",
            "['-117.870000', '33.920000', '17.000000', '4575.000000', '764.000000', '2054.000000', '737.000000', '6.057100', '272400.000000']\n",
            "['-122.000000', '36.970000', '30.000000', '1029.000000', '242.000000', '753.000000', '249.000000', '3.120500', '240500.000000']\n",
            "['-117.070000', '32.600000', '13.000000', '1607.000000', '435.000000', '983.000000', '400.000000', '2.290300', '106300.000000']\n",
            "['-118.160000', '34.060000', '27.000000', '1675.000000', '274.000000', '785.000000', '275.000000', '5.828000', '301100.000000']\n",
            "['-117.050000', '33.030000', '16.000000', '87.000000', '20.000000', '32.000000', '21.000000', '4.357100', '144600.000000']\n",
            "['-117.240000', '33.200000', '26.000000', '1701.000000', '404.000000', '989.000000', '367.000000', '2.511900', '171700.000000']\n",
            "['-119.730000', '34.450000', '44.000000', '2261.000000', '328.000000', '763.000000', '294.000000', '6.744900', '415600.000000']\n",
            "['-117.320000', '33.170000', '18.000000', '2143.000000', '299.000000', '828.000000', '283.000000', '4.238300', '239000.000000']\n",
            "['-121.830000', '37.270000', '14.000000', '2855.000000', '380.000000', '1420.000000', '383.000000', '6.671200', '311500.000000']\n",
            "['-122.320000', '40.420000', '17.000000', '3019.000000', '578.000000', '1538.000000', '545.000000', '2.793000', '76500.000000']\n",
            "['-121.770000', '36.940000', '18.000000', '1063.000000', '341.000000', '1033.000000', '313.000000', '2.019200', '171300.000000']\n",
            "['-118.270000', '33.790000', '39.000000', '1513.000000', '365.000000', '1227.000000', '354.000000', '3.392900', '184600.000000']\n",
            "['-117.930000', '33.830000', '30.000000', '1561.000000', '381.000000', '1104.000000', '391.000000', '3.375000', '201900.000000']\n",
            "['-117.110000', '32.820000', '17.000000', '1787.000000', '330.000000', '1341.000000', '314.000000', '2.875000', '112500.000000']\n",
            "['-119.230000', '35.740000', '16.000000', '2275.000000', '659.000000', '1914.000000', '614.000000', '2.033000', '68400.000000']\n",
            "['-122.470000', '37.710000', '42.000000', '1961.000000', '427.000000', '1211.000000', '409.000000', '3.515600', '239400.000000']\n",
            "['-121.930000', '36.630000', '41.000000', '1049.000000', '198.000000', '428.000000', '183.000000', '4.357100', '287500.000000']\n",
            "['-117.280000', '33.020000', '21.000000', '2736.000000', '585.000000', '1251.000000', '576.000000', '4.235600', '347700.000000']\n",
            "['-118.990000', '35.240000', '40.000000', '282.000000', '59.000000', '213.000000', '71.000000', '2.350000', '91700.000000']\n",
            "['-119.140000', '36.230000', '22.000000', '2935.000000', '523.000000', '1927.000000', '530.000000', '2.587500', '70400.000000']\n",
            "['-122.420000', '40.590000', '24.000000', '5045.000000', '972.000000', '2220.000000', '979.000000', '2.679200', '138900.000000']\n",
            "['-117.090000', '32.660000', '37.000000', '1232.000000', '330.000000', '1086.000000', '330.000000', '1.638900', '114300.000000']\n",
            "['-118.140000', '34.700000', '36.000000', '1205.000000', '317.000000', '678.000000', '290.000000', '2.018200', '98400.000000']\n",
            "['-122.040000', '36.980000', '35.000000', '2155.000000', '355.000000', '866.000000', '335.000000', '5.618800', '404700.000000']\n",
            "['-117.020000', '32.800000', '31.000000', '2692.000000', '445.000000', '1129.000000', '450.000000', '4.458300', '170000.000000']\n",
            "['-117.290000', '34.490000', '3.000000', '7689.000000', '1545.000000', '3804.000000', '1399.000000', '3.387100', '111800.000000']\n",
            "['-122.090000', '37.210000', '15.000000', '1969.000000', '332.000000', '822.000000', '324.000000', '7.877400', '394900.000000']\n",
            "['-121.010000', '37.650000', '47.000000', '1713.000000', '334.000000', '570.000000', '297.000000', '2.196900', '149400.000000']\n",
            "['-116.770000', '33.080000', '13.000000', '1406.000000', '260.000000', '737.000000', '279.000000', '5.584200', '239100.000000']\n",
            "['-121.960000', '37.340000', '36.000000', '844.000000', '153.000000', '373.000000', '160.000000', '5.791000', '254100.000000']\n",
            "['-119.700000', '34.420000', '41.000000', '725.000000', '239.000000', '582.000000', '214.000000', '3.166700', '362500.000000']\n",
            "['-119.460000', '35.170000', '40.000000', '4164.000000', '812.000000', '1998.000000', '773.000000', '2.832300', '50800.000000']\n",
            "['-122.010000', '37.300000', '25.000000', '4044.000000', '551.000000', '1699.000000', '533.000000', '8.083700', '380600.000000']\n",
            "['-118.060000', '33.830000', '22.000000', '5290.000000', '1054.000000', '2812.000000', '1021.000000', '4.530000', '226400.000000']\n",
            "['-118.400000', '34.190000', '30.000000', '521.000000', '126.000000', '306.000000', '129.000000', '4.112500', '216700.000000']\n",
            "['-119.630000', '34.440000', '37.000000', '3188.000000', '442.000000', '984.000000', '376.000000', '9.452200', '500001.000000']\n",
            "['-117.890000', '33.770000', '29.000000', '2577.000000', '445.000000', '1849.000000', '470.000000', '4.473200', '194800.000000']\n",
            "['-119.540000', '36.520000', '16.000000', '2703.000000', '415.000000', '1106.000000', '372.000000', '4.204500', '120900.000000']\n",
            "['-118.430000', '34.170000', '33.000000', '1679.000000', '404.000000', '933.000000', '412.000000', '2.697900', '266000.000000']\n",
            "['-117.100000', '32.580000', '33.000000', '393.000000', '76.000000', '330.000000', '80.000000', '4.102900', '122700.000000']\n",
            "['-122.280000', '37.790000', '30.000000', '4145.000000', '869.000000', '3668.000000', '855.000000', '2.544400', '275000.000000']\n",
            "['-118.320000', '34.110000', '48.000000', '4472.000000', '1579.000000', '2796.000000', '1397.000000', '2.397400', '410700.000000']\n",
            "['-118.420000', '34.020000', '28.000000', '3167.000000', '737.000000', '1248.000000', '665.000000', '3.194100', '394700.000000']\n",
            "['-119.560000', '36.510000', '9.000000', '3860.000000', '809.000000', '2157.000000', '770.000000', '2.503300', '70100.000000']\n",
            "['-122.420000', '37.780000', '19.000000', '4065.000000', '1645.000000', '2079.000000', '1470.000000', '3.146200', '187500.000000']\n",
            "['-120.910000', '37.730000', '31.000000', '840.000000', '154.000000', '429.000000', '150.000000', '2.406300', '170200.000000']\n",
            "['-122.080000', '37.590000', '16.000000', '1816.000000', '365.000000', '1367.000000', '355.000000', '4.235000', '156300.000000']\n",
            "['-121.770000', '37.310000', '16.000000', '1649.000000', '228.000000', '769.000000', '230.000000', '6.645500', '302600.000000']\n",
            "['-117.050000', '33.030000', '14.000000', '5180.000000', '1051.000000', '1639.000000', '991.000000', '4.500000', '222200.000000']\n",
            "['-121.950000', '37.260000', '34.000000', '1482.000000', '255.000000', '584.000000', '246.000000', '5.512100', '264700.000000']\n",
            "['-119.030000', '35.420000', '45.000000', '1628.000000', '352.000000', '754.000000', '334.000000', '2.570300', '62400.000000']\n",
            "['-121.530000', '38.600000', '25.000000', '5154.000000', '1105.000000', '3196.000000', '1073.000000', '2.756600', '80200.000000']\n",
            "['-118.160000', '33.960000', '24.000000', '1635.000000', '507.000000', '2480.000000', '481.000000', '2.443200', '187500.000000']\n",
            "['-121.890000', '36.600000', '40.000000', '626.000000', '164.000000', '337.000000', '150.000000', '2.791700', '225000.000000']\n",
            "['-117.070000', '33.670000', '11.000000', '939.000000', '187.000000', '557.000000', '190.000000', '2.375000', '145800.000000']\n",
            "['-122.390000', '37.590000', '32.000000', '4497.000000', '730.000000', '1846.000000', '715.000000', '6.132300', '500001.000000']\n",
            "['-118.440000', '34.050000', '32.000000', '1880.000000', '435.000000', '798.000000', '417.000000', '4.710900', '500000.000000']\n",
            "['-121.350000', '38.040000', '5.000000', '4303.000000', '613.000000', '2206.000000', '621.000000', '5.584200', '159100.000000']\n",
            "['-122.420000', '37.760000', '52.000000', '4407.000000', '1192.000000', '2280.000000', '1076.000000', '3.393700', '270000.000000']\n",
            "['-118.020000', '33.940000', '33.000000', '2382.000000', '404.000000', '1339.000000', '389.000000', '5.301600', '192200.000000']\n",
            "['-121.320000', '38.030000', '16.000000', '4045.000000', '623.000000', '1862.000000', '625.000000', '4.875000', '143100.000000']\n",
            "['-118.380000', '34.050000', '49.000000', '702.000000', '143.000000', '458.000000', '187.000000', '4.895800', '333600.000000']\n",
            "['-119.290000', '36.540000', '18.000000', '2581.000000', '628.000000', '2732.000000', '592.000000', '1.842900', '58300.000000']\n",
            "['-117.760000', '33.540000', '28.000000', '2250.000000', '329.000000', '826.000000', '323.000000', '6.925700', '466400.000000']\n",
            "['-122.290000', '38.290000', '52.000000', '3217.000000', '742.000000', '1670.000000', '671.000000', '2.439800', '163100.000000']\n",
            "['-117.800000', '33.810000', '14.000000', '1206.000000', '142.000000', '572.000000', '149.000000', '8.847000', '388700.000000']\n",
            "['-121.950000', '37.350000', '52.000000', '2382.000000', '523.000000', '1096.000000', '492.000000', '4.265600', '236100.000000']\n",
            "['-117.870000', '33.990000', '21.000000', '2837.000000', '515.000000', '2031.000000', '555.000000', '4.927100', '209700.000000']\n",
            "['-121.460000', '38.560000', '52.000000', '907.000000', '180.000000', '479.000000', '177.000000', '2.212500', '104000.000000']\n",
            "['-117.990000', '34.080000', '11.000000', '2399.000000', '527.000000', '2307.000000', '531.000000', '3.562500', '141000.000000']\n",
            "['-121.530000', '38.500000', '17.000000', '3087.000000', '477.000000', '1365.000000', '495.000000', '6.466700', '216800.000000']\n",
            "['-121.140000', '37.520000', '37.000000', '1358.000000', '231.000000', '586.000000', '214.000000', '3.164500', '170800.000000']\n",
            "['-118.290000', '33.890000', '35.000000', '2810.000000', '614.000000', '1578.000000', '601.000000', '3.590000', '200600.000000']\n",
            "['-117.100000', '33.090000', '5.000000', '12045.000000', '2162.000000', '5640.000000', '1997.000000', '4.437500', '353000.000000']\n",
            "['-123.200000', '39.230000', '26.000000', '786.000000', '168.000000', '494.000000', '161.000000', '2.358300', '105400.000000']\n",
            "['-117.120000', '32.760000', '26.000000', '1221.000000', '331.000000', '620.000000', '296.000000', '2.482100', '123600.000000']\n",
            "['-120.440000', '34.960000', '30.000000', '1685.000000', '315.000000', '1290.000000', '368.000000', '3.472200', '112500.000000']\n",
            "['-115.560000', '32.780000', '34.000000', '2856.000000', '555.000000', '1627.000000', '522.000000', '3.208300', '76200.000000']\n",
            "['-121.470000', '38.560000', '51.000000', '2083.000000', '559.000000', '874.000000', '524.000000', '2.022100', '95800.000000']\n",
            "['-121.680000', '37.930000', '44.000000', '1014.000000', '225.000000', '704.000000', '238.000000', '1.655400', '119400.000000']\n",
            "['-118.100000', '34.140000', '26.000000', '6262.000000', '1645.000000', '3001.000000', '1505.000000', '3.657200', '213200.000000']\n",
            "['-118.430000', '34.220000', '34.000000', '1588.000000', '360.000000', '1080.000000', '340.000000', '3.660000', '184600.000000']\n",
            "['-120.970000', '37.660000', '19.000000', '1974.000000', '393.000000', '799.000000', '377.000000', '3.128600', '137500.000000']\n",
            "['-119.340000', '34.390000', '27.000000', '669.000000', '131.000000', '314.000000', '106.000000', '2.465900', '231300.000000']\n",
            "['-118.500000', '34.200000', '34.000000', '1617.000000', '344.000000', '938.000000', '305.000000', '3.915000', '217700.000000']\n",
            "['-120.980000', '38.670000', '13.000000', '3432.000000', '516.000000', '1286.000000', '470.000000', '5.584000', '186600.000000']\n",
            "['-118.350000', '34.000000', '28.000000', '3085.000000', '621.000000', '1162.000000', '558.000000', '3.250000', '301000.000000']\n",
            "['-122.490000', '38.220000', '33.000000', '1486.000000', '290.000000', '781.000000', '274.000000', '3.564700', '251800.000000']\n",
            "['-118.320000', '33.970000', '46.000000', '1504.000000', '270.000000', '814.000000', '306.000000', '4.391900', '157100.000000']\n",
            "['-117.130000', '32.690000', '36.000000', '1469.000000', '400.000000', '1271.000000', '340.000000', '1.043000', '90100.000000']\n",
            "['-117.030000', '33.000000', '6.000000', '6139.000000', '793.000000', '2693.000000', '770.000000', '7.756900', '387400.000000']\n",
            "['-122.260000', '38.020000', '5.000000', '3846.000000', '786.000000', '2053.000000', '716.000000', '5.047300', '184800.000000']\n",
            "['-117.270000', '32.850000', '26.000000', '1373.000000', '336.000000', '608.000000', '268.000000', '4.425000', '475000.000000']\n",
            "['-117.940000', '33.860000', '36.000000', '2824.000000', '493.000000', '1394.000000', '507.000000', '4.647700', '194700.000000']\n",
            "['-119.310000', '34.700000', '19.000000', '961.000000', '218.000000', '479.000000', '138.000000', '3.343800', '156300.000000']\n",
            "['-122.100000', '37.610000', '35.000000', '2361.000000', '458.000000', '1727.000000', '467.000000', '4.528100', '173600.000000']\n",
            "['-118.000000', '33.900000', '35.000000', '1942.000000', '332.000000', '1127.000000', '325.000000', '4.514400', '206300.000000']\n",
            "['-117.370000', '33.980000', '43.000000', '2862.000000', '772.000000', '1878.000000', '675.000000', '2.115100', '96700.000000']\n",
            "['-121.520000', '38.650000', '17.000000', '1269.000000', '233.000000', '494.000000', '231.000000', '3.961500', '331300.000000']\n",
            "['-118.460000', '34.070000', '42.000000', '2564.000000', '460.000000', '913.000000', '414.000000', '9.222500', '500001.000000']\n",
            "['-118.040000', '34.070000', '39.000000', '1382.000000', '315.000000', '1090.000000', '308.000000', '3.812500', '174000.000000']\n",
            "['-118.080000', '33.880000', '27.000000', '923.000000', '186.000000', '1014.000000', '204.000000', '3.825000', '159500.000000']\n",
            "['-122.430000', '37.800000', '52.000000', '2788.000000', '813.000000', '1302.000000', '764.000000', '4.199000', '400000.000000']\n",
            "['-119.290000', '34.370000', '41.000000', '1408.000000', '311.000000', '793.000000', '264.000000', '2.544100', '161200.000000']\n",
            "['-122.040000', '37.000000', '52.000000', '3365.000000', '644.000000', '796.000000', '333.000000', '2.971200', '116600.000000']\n",
            "['-115.570000', '32.790000', '50.000000', '1291.000000', '277.000000', '864.000000', '274.000000', '1.666700', '68100.000000']\n",
            "['-117.560000', '34.420000', '6.000000', '4264.000000', '749.000000', '2005.000000', '666.000000', '3.469500', '138800.000000']\n",
            "['-120.630000', '38.680000', '14.000000', '1821.000000', '316.000000', '769.000000', '266.000000', '3.078900', '131700.000000']\n",
            "['-118.320000', '34.090000', '44.000000', '2666.000000', '830.000000', '2297.000000', '726.000000', '1.676000', '208800.000000']\n",
            "['-118.350000', '34.080000', '52.000000', '1710.000000', '350.000000', '727.000000', '355.000000', '4.583300', '333900.000000']\n",
            "['-122.270000', '37.510000', '36.000000', '1406.000000', '224.000000', '598.000000', '237.000000', '5.896400', '414800.000000']\n",
            "['-119.060000', '35.330000', '14.000000', '5264.000000', '1064.000000', '3278.000000', '1049.000000', '3.811700', '82800.000000']\n",
            "['-117.150000', '32.900000', '12.000000', '1681.000000', '381.000000', '1050.000000', '362.000000', '4.200800', '176100.000000']\n",
            "['-122.470000', '37.760000', '39.000000', '3200.000000', '689.000000', '1391.000000', '618.000000', '3.634600', '338000.000000']\n",
            "['-122.030000', '37.310000', '19.000000', '2885.000000', '859.000000', '1520.000000', '784.000000', '3.375000', '275700.000000']\n",
            "['-119.310000', '36.320000', '23.000000', '2945.000000', '592.000000', '1419.000000', '532.000000', '2.573300', '88800.000000']\n",
            "['-120.580000', '38.770000', '15.000000', '2155.000000', '394.000000', '857.000000', '356.000000', '4.030000', '141200.000000']\n",
            "['-117.210000', '34.490000', '14.000000', '2125.000000', '348.000000', '1067.000000', '360.000000', '3.633300', '116200.000000']\n",
            "['-122.080000', '37.650000', '35.000000', '1813.000000', '393.000000', '1093.000000', '374.000000', '3.681800', '165400.000000']\n",
            "['-122.250000', '40.150000', '15.000000', '1677.000000', '346.000000', '858.000000', '327.000000', '2.437500', '59200.000000']\n",
            "['-118.210000', '34.140000', '44.000000', '1681.000000', '407.000000', '1105.000000', '387.000000', '3.222200', '186500.000000']\n",
            "['-122.140000', '37.730000', '51.000000', '2619.000000', '403.000000', '922.000000', '393.000000', '4.604200', '251900.000000']\n",
            "['-121.590000', '39.770000', '24.000000', '1535.000000', '276.000000', '664.000000', '273.000000', '2.306800', '97300.000000']\n",
            "['-122.190000', '37.470000', '44.000000', '1371.000000', '263.000000', '589.000000', '301.000000', '4.806800', '312300.000000']\n",
            "['-120.440000', '34.950000', '38.000000', '3004.000000', '794.000000', '2601.000000', '747.000000', '2.274300', '106400.000000']\n",
            "['-121.780000', '37.310000', '7.000000', '1973.000000', '328.000000', '1047.000000', '303.000000', '6.234000', '292200.000000']\n",
            "['-118.240000', '34.200000', '41.000000', '2067.000000', '452.000000', '1282.000000', '455.000000', '5.575600', '309900.000000']\n",
            "['-121.570000', '39.160000', '33.000000', '2033.000000', '375.000000', '914.000000', '330.000000', '2.696400', '68500.000000']\n",
            "['-119.840000', '36.830000', '17.000000', '2273.000000', '298.000000', '700.000000', '263.000000', '6.864500', '195900.000000']\n",
            "['-119.290000', '34.440000', '34.000000', '4314.000000', '878.000000', '2361.000000', '831.000000', '3.227900', '243100.000000']\n",
            "['-118.140000', '34.180000', '52.000000', '1700.000000', '317.000000', '996.000000', '329.000000', '3.968800', '175000.000000']\n",
            "['-119.570000', '36.100000', '37.000000', '1676.000000', '316.000000', '707.000000', '274.000000', '2.059500', '60700.000000']\n",
            "['-121.800000', '37.320000', '23.000000', '1829.000000', '346.000000', '1277.000000', '324.000000', '4.809200', '217400.000000']\n",
            "['-118.130000', '34.160000', '52.000000', '1596.000000', '314.000000', '1024.000000', '292.000000', '3.671900', '227900.000000']\n",
            "['-121.900000', '37.460000', '29.000000', '2385.000000', '513.000000', '1788.000000', '510.000000', '3.842100', '220700.000000']\n",
            "['-121.920000', '37.330000', '52.000000', '2962.000000', '557.000000', '1215.000000', '506.000000', '4.776800', '301100.000000']\n",
            "['-123.100000', '39.360000', '19.000000', '1056.000000', '248.000000', '611.000000', '226.000000', '1.746000', '105000.000000']\n",
            "['-122.860000', '40.560000', '12.000000', '1350.000000', '300.000000', '423.000000', '172.000000', '1.739300', '81300.000000']\n",
            "['-122.440000', '37.750000', '52.000000', '3114.000000', '637.000000', '1144.000000', '591.000000', '4.000000', '375000.000000']\n",
            "['-120.620000', '35.120000', '22.000000', '1240.000000', '294.000000', '768.000000', '288.000000', '2.655000', '160000.000000']\n",
            "['-118.360000', '33.880000', '22.000000', '1388.000000', '336.000000', '930.000000', '287.000000', '2.798100', '275000.000000']\n",
            "['-118.360000', '33.820000', '26.000000', '5166.000000', '1313.000000', '2738.000000', '1239.000000', '3.356500', '360800.000000']\n",
            "['-118.270000', '33.770000', '39.000000', '1731.000000', '485.000000', '2115.000000', '478.000000', '1.536900', '141300.000000']\n",
            "['-122.280000', '37.900000', '52.000000', '2003.000000', '250.000000', '658.000000', '244.000000', '10.082500', '397000.000000']\n",
            "['-117.980000', '33.660000', '26.000000', '3527.000000', '547.000000', '1615.000000', '542.000000', '6.162400', '279400.000000']\n",
            "['-118.210000', '33.930000', '39.000000', '354.000000', '73.000000', '184.000000', '58.000000', '2.767900', '108900.000000']\n",
            "['-120.430000', '37.350000', '15.000000', '1613.000000', '203.000000', '673.000000', '213.000000', '5.937800', '212200.000000']\n",
            "['-120.960000', '37.480000', '32.000000', '1256.000000', '212.000000', '682.000000', '236.000000', '2.984400', '135900.000000']\n",
            "['-117.330000', '34.120000', '33.000000', '933.000000', '219.000000', '838.000000', '211.000000', '1.341700', '69000.000000']\n",
            "['-119.810000', '36.780000', '36.000000', '1650.000000', '313.000000', '660.000000', '298.000000', '3.000000', '79700.000000']\n",
            "['-118.380000', '34.050000', '35.000000', '3517.000000', '879.000000', '1632.000000', '784.000000', '3.095600', '500001.000000']\n",
            "['-117.960000', '33.800000', '33.000000', '1984.000000', '420.000000', '1119.000000', '387.000000', '3.482100', '231300.000000']\n",
            "['-118.430000', '34.240000', '37.000000', '1279.000000', '241.000000', '987.000000', '233.000000', '4.005700', '172700.000000']\n",
            "['-117.870000', '33.790000', '25.000000', '2546.000000', '545.000000', '1543.000000', '521.000000', '4.192000', '219900.000000']\n",
            "['-124.180000', '40.790000', '40.000000', '1398.000000', '311.000000', '788.000000', '279.000000', '1.466800', '64600.000000']\n",
            "['-117.240000', '32.830000', '18.000000', '3109.000000', '501.000000', '949.000000', '368.000000', '7.435100', '445700.000000']\n",
            "['-121.570000', '37.000000', '18.000000', '7241.000000', '1225.000000', '4168.000000', '1138.000000', '4.571400', '260300.000000']\n",
            "['-117.370000', '33.190000', '38.000000', '861.000000', '213.000000', '486.000000', '204.000000', '4.187500', '185000.000000']\n",
            "['-121.890000', '37.460000', '5.000000', '1519.000000', '186.000000', '705.000000', '186.000000', '10.379800', '500001.000000']\n",
            "['-122.680000', '38.010000', '41.000000', '1865.000000', '392.000000', '825.000000', '369.000000', '4.201100', '255400.000000']\n",
            "['-118.310000', '34.020000', '46.000000', '2217.000000', '489.000000', '1227.000000', '448.000000', '1.685100', '108800.000000']\n",
            "['-118.290000', '33.890000', '33.000000', '2138.000000', '567.000000', '1072.000000', '528.000000', '2.742800', '208900.000000']\n",
            "['-117.300000', '34.120000', '43.000000', '1018.000000', '261.000000', '736.000000', '215.000000', '2.600000', '66900.000000']\n",
            "['-117.300000', '33.850000', '15.000000', '3991.000000', '751.000000', '2317.000000', '657.000000', '2.954200', '127900.000000']\n",
            "['-117.350000', '33.160000', '22.000000', '1331.000000', '305.000000', '580.000000', '193.000000', '3.975000', '500001.000000']\n",
            "['-122.430000', '37.760000', '52.000000', '2242.000000', '459.000000', '751.000000', '464.000000', '4.750000', '500001.000000']\n",
            "['-119.010000', '35.390000', '29.000000', '1820.000000', '459.000000', '1134.000000', '419.000000', '1.828900', '59400.000000']\n",
            "['-121.570000', '37.010000', '44.000000', '1448.000000', '393.000000', '1066.000000', '357.000000', '2.062500', '170300.000000']\n",
            "['-122.420000', '37.650000', '39.000000', '4402.000000', '894.000000', '2941.000000', '887.000000', '3.856500', '239800.000000']\n",
            "['-122.430000', '37.780000', '49.000000', '2246.000000', '587.000000', '1277.000000', '546.000000', '2.979200', '350000.000000']\n",
            "['-118.130000', '33.900000', '36.000000', '1477.000000', '305.000000', '788.000000', '291.000000', '3.625000', '195800.000000']\n",
            "['-118.060000', '33.820000', '25.000000', '2637.000000', '462.000000', '965.000000', '415.000000', '4.583300', '190900.000000']\n",
            "['-119.220000', '34.340000', '29.000000', '3128.000000', '672.000000', '1815.000000', '648.000000', '2.982100', '175700.000000']\n",
            "['-121.510000', '38.550000', '46.000000', '1485.000000', '278.000000', '531.000000', '291.000000', '2.788500', '137200.000000']\n",
            "['-121.420000', '38.500000', '24.000000', '7740.000000', '1539.000000', '4333.000000', '1397.000000', '3.025000', '87900.000000']\n",
            "['-122.260000', '37.850000', '52.000000', '2202.000000', '434.000000', '910.000000', '402.000000', '3.203100', '281500.000000']\n",
            "['-118.400000', '33.870000', '26.000000', '6712.000000', '1441.000000', '2803.000000', '1394.000000', '5.227600', '434500.000000']\n",
            "['-118.380000', '33.890000', '35.000000', '1778.000000', '330.000000', '732.000000', '312.000000', '6.574500', '379300.000000']\n",
            "['-119.950000', '36.960000', '18.000000', '1996.000000', '379.000000', '1327.000000', '356.000000', '2.608700', '96000.000000']\n",
            "['-118.120000', '34.020000', '32.000000', '1789.000000', '528.000000', '1429.000000', '517.000000', '1.890600', '224500.000000']\n",
            "['-117.900000', '36.950000', '19.000000', '99.000000', '26.000000', '51.000000', '22.000000', '1.729200', '137500.000000']\n",
            "['-116.280000', '32.840000', '18.000000', '382.000000', '128.000000', '194.000000', '69.000000', '2.517900', '58800.000000']\n",
            "['-122.450000', '37.770000', '52.000000', '1722.000000', '465.000000', '885.000000', '437.000000', '3.090600', '500001.000000']\n",
            "['-121.620000', '39.760000', '14.000000', '2063.000000', '559.000000', '934.000000', '529.000000', '1.778800', '85800.000000']\n",
            "['-122.000000', '38.350000', '24.000000', '745.000000', '116.000000', '300.000000', '115.000000', '3.617600', '158500.000000']\n",
            "['-121.710000', '39.250000', '37.000000', '1871.000000', '321.000000', '806.000000', '294.000000', '4.000000', '101400.000000']\n",
            "['-119.190000', '34.220000', '26.000000', '3175.000000', '736.000000', '2460.000000', '775.000000', '3.125000', '219900.000000']\n",
            "['-118.060000', '33.910000', '21.000000', '2863.000000', '701.000000', '1489.000000', '621.000000', '3.203100', '180700.000000']\n",
            "['-118.000000', '33.930000', '35.000000', '1288.000000', '240.000000', '758.000000', '250.000000', '4.920500', '173900.000000']\n",
            "['-118.260000', '34.110000', '47.000000', '2183.000000', '510.000000', '1445.000000', '503.000000', '3.666700', '210900.000000']\n",
            "['-118.510000', '34.260000', '29.000000', '2472.000000', '354.000000', '1109.000000', '397.000000', '5.543300', '332500.000000']\n",
            "['-117.960000', '33.980000', '25.000000', '1259.000000', '184.000000', '599.000000', '170.000000', '5.740700', '302200.000000']\n",
            "['-123.390000', '38.990000', '28.000000', '1416.000000', '294.000000', '812.000000', '258.000000', '3.406300', '109400.000000']\n",
            "['-121.690000', '38.160000', '33.000000', '1808.000000', '363.000000', '824.000000', '340.000000', '3.293700', '96400.000000']\n",
            "['-121.930000', '37.320000', '51.000000', '2711.000000', '728.000000', '1607.000000', '724.000000', '3.000000', '184700.000000']\n",
            "['-117.260000', '33.260000', '9.000000', '4609.000000', '798.000000', '2582.000000', '746.000000', '4.342900', '173900.000000']\n",
            "['-121.410000', '38.530000', '37.000000', '1058.000000', '224.000000', '588.000000', '231.000000', '2.973700', '72100.000000']\n",
            "['-117.900000', '33.900000', '18.000000', '3821.000000', '576.000000', '1430.000000', '568.000000', '6.939900', '349600.000000']\n",
            "['-118.540000', '36.120000', '11.000000', '4103.000000', '882.000000', '356.000000', '171.000000', '2.102900', '99100.000000']\n",
            "['-117.240000', '32.820000', '20.000000', '2467.000000', '332.000000', '731.000000', '335.000000', '7.255900', '392300.000000']\n",
            "['-121.900000', '37.240000', '24.000000', '7521.000000', '1364.000000', '3970.000000', '1318.000000', '4.400400', '255800.000000']\n",
            "['-118.170000', '33.870000', '49.000000', '1937.000000', '445.000000', '1339.000000', '440.000000', '3.031900', '162800.000000']\n",
            "['-117.310000', '33.160000', '4.000000', '5846.000000', '894.000000', '2282.000000', '801.000000', '5.595600', '247800.000000']\n",
            "['-118.410000', '34.170000', '35.000000', '2027.000000', '428.000000', '879.000000', '402.000000', '4.692000', '330900.000000']\n",
            "['-118.380000', '34.220000', '32.000000', '362.000000', '100.000000', '348.000000', '102.000000', '2.267900', '150000.000000']\n",
            "['-117.160000', '33.730000', '10.000000', '2381.000000', '454.000000', '1323.000000', '477.000000', '2.632200', '140700.000000']\n",
            "['-119.710000', '34.400000', '27.000000', '3782.000000', '771.000000', '1742.000000', '751.000000', '4.045100', '395100.000000']\n",
            "['-117.360000', '33.200000', '26.000000', '2447.000000', '482.000000', '1405.000000', '486.000000', '3.291700', '150800.000000']\n",
            "['-118.210000', '33.800000', '41.000000', '1251.000000', '279.000000', '1053.000000', '278.000000', '3.277800', '150800.000000']\n",
            "['-120.930000', '39.900000', '20.000000', '1511.000000', '328.000000', '791.000000', '320.000000', '2.022100', '70900.000000']\n",
            "['-118.130000', '33.840000', '48.000000', '1895.000000', '294.000000', '881.000000', '293.000000', '6.336400', '307400.000000']\n",
            "['-118.270000', '33.930000', '41.000000', '570.000000', '135.000000', '466.000000', '121.000000', '2.645800', '91300.000000']\n",
            "['-118.050000', '33.780000', '25.000000', '2356.000000', '330.000000', '937.000000', '326.000000', '6.626400', '359100.000000']\n",
            "['-118.430000', '34.270000', '36.000000', '1002.000000', '250.000000', '1312.000000', '249.000000', '3.024000', '148000.000000']\n",
            "['-118.370000', '33.910000', '35.000000', '1742.000000', '283.000000', '812.000000', '282.000000', '5.670400', '303700.000000']\n",
            "['-122.500000', '37.750000', '46.000000', '2298.000000', '457.000000', '1429.000000', '477.000000', '4.021700', '272400.000000']\n",
            "['-118.300000', '34.010000', '52.000000', '1908.000000', '428.000000', '1271.000000', '394.000000', '2.588500', '136200.000000']\n",
            "['-119.160000', '34.150000', '23.000000', '3204.000000', '644.000000', '2295.000000', '614.000000', '3.948500', '196600.000000']\n",
            "['-117.040000', '32.680000', '14.000000', '1320.000000', '270.000000', '943.000000', '260.000000', '5.094700', '152700.000000']\n",
            "['-121.400000', '38.610000', '37.000000', '1994.000000', '347.000000', '782.000000', '355.000000', '4.148800', '136400.000000']\n",
            "['-118.030000', '33.930000', '35.000000', '2470.000000', '416.000000', '1386.000000', '411.000000', '5.273600', '179500.000000']\n",
            "['-119.890000', '34.440000', '25.000000', '2786.000000', '470.000000', '1669.000000', '462.000000', '5.518400', '268300.000000']\n",
            "['-120.880000', '38.580000', '8.000000', '3417.000000', '604.000000', '1703.000000', '623.000000', '4.082700', '170700.000000']\n",
            "['-118.210000', '33.790000', '32.000000', '2020.000000', '613.000000', '2557.000000', '562.000000', '2.139700', '145300.000000']\n",
            "['-121.460000', '38.570000', '52.000000', '1625.000000', '419.000000', '614.000000', '383.000000', '2.054900', '156700.000000']\n",
            "['-122.020000', '37.310000', '34.000000', '2629.000000', '433.000000', '1301.000000', '431.000000', '6.083000', '341400.000000']\n",
            "['-118.500000', '34.160000', '34.000000', '3547.000000', '523.000000', '1187.000000', '500.000000', '7.139000', '424000.000000']\n",
            "['-121.320000', '38.660000', '26.000000', '1149.000000', '193.000000', '500.000000', '194.000000', '5.078000', '163400.000000']\n",
            "['-118.090000', '33.890000', '42.000000', '991.000000', '215.000000', '717.000000', '219.000000', '4.092600', '164400.000000']\n",
            "['-118.390000', '33.820000', '30.000000', '3433.000000', '918.000000', '1526.000000', '828.000000', '4.581700', '500001.000000']\n",
            "['-118.000000', '33.960000', '37.000000', '2414.000000', '323.000000', '878.000000', '305.000000', '9.154100', '453800.000000']\n",
            "['-117.260000', '33.190000', '4.000000', '2342.000000', '595.000000', '1518.000000', '545.000000', '2.946900', '216100.000000']\n",
            "['-122.470000', '37.870000', '36.000000', '4471.000000', '618.000000', '1315.000000', '582.000000', '11.570600', '500001.000000']\n",
            "['-117.060000', '32.710000', '25.000000', '2681.000000', '596.000000', '1947.000000', '553.000000', '2.896400', '104300.000000']\n",
            "['-117.440000', '33.930000', '33.000000', '1371.000000', '236.000000', '715.000000', '227.000000', '4.375000', '129900.000000']\n",
            "['-118.120000', '33.990000', '26.000000', '2296.000000', '534.000000', '1777.000000', '507.000000', '2.539500', '191000.000000']\n",
            "['-118.150000', '34.180000', '46.000000', '2230.000000', '488.000000', '1985.000000', '456.000000', '2.232800', '142100.000000']\n",
            "['-120.430000', '34.690000', '33.000000', '2054.000000', '373.000000', '1067.000000', '358.000000', '3.602300', '128300.000000']\n",
            "['-120.840000', '37.530000', '14.000000', '3643.000000', '706.000000', '2070.000000', '697.000000', '3.152300', '141800.000000']\n",
            "['-122.070000', '37.130000', '26.000000', '1127.000000', '199.000000', '543.000000', '199.000000', '4.979200', '240000.000000']\n",
            "['-118.410000', '33.960000', '32.000000', '1044.000000', '219.000000', '567.000000', '222.000000', '4.147100', '284400.000000']\n",
            "['-121.510000', '38.790000', '29.000000', '1716.000000', '323.000000', '850.000000', '282.000000', '2.932400', '137500.000000']\n",
            "['-117.330000', '33.190000', '15.000000', '3672.000000', '845.000000', '1827.000000', '796.000000', '2.971600', '173600.000000']\n",
            "['-116.540000', '33.870000', '16.000000', '3648.000000', '1035.000000', '1687.000000', '581.000000', '1.916700', '70400.000000']\n",
            "['-118.500000', '34.200000', '18.000000', '4249.000000', '933.000000', '2047.000000', '909.000000', '4.130400', '229100.000000']\n",
            "['-118.300000', '33.750000', '23.000000', '1957.000000', '517.000000', '1454.000000', '526.000000', '3.505600', '203100.000000']\n",
            "['-117.990000', '33.730000', '24.000000', '2104.000000', '421.000000', '1181.000000', '414.000000', '3.836500', '250900.000000']\n",
            "['-118.110000', '33.890000', '34.000000', '2508.000000', '594.000000', '1549.000000', '545.000000', '3.206900', '236500.000000']\n",
            "['-122.730000', '38.430000', '29.000000', '2677.000000', '691.000000', '1880.000000', '664.000000', '2.186400', '143200.000000']\n",
            "['-119.640000', '36.340000', '32.000000', '2958.000000', '670.000000', '1504.000000', '627.000000', '1.860600', '56700.000000']\n",
            "['-116.870000', '34.240000', '15.000000', '4419.000000', '822.000000', '622.000000', '267.000000', '3.968800', '182800.000000']\n",
            "['-118.220000', '33.980000', '34.000000', '2283.000000', '809.000000', '3032.000000', '832.000000', '2.438700', '175000.000000']\n",
            "['-122.340000', '37.970000', '19.000000', '392.000000', '109.000000', '287.000000', '81.000000', '6.042600', '110000.000000']\n",
            "['-118.080000', '33.820000', '26.000000', '4259.000000', '588.000000', '1644.000000', '581.000000', '6.251900', '345700.000000']\n",
            "['-117.700000', '33.480000', '6.000000', '16590.000000', '2696.000000', '6223.000000', '2357.000000', '6.308800', '340300.000000']\n",
            "['-118.220000', '33.880000', '37.000000', '1149.000000', '280.000000', '1016.000000', '250.000000', '2.125000', '101900.000000']\n",
            "['-120.970000', '38.910000', '7.000000', '4341.000000', '716.000000', '1978.000000', '682.000000', '4.831100', '172200.000000']\n",
            "['-122.250000', '37.800000', '29.000000', '2468.000000', '864.000000', '1335.000000', '773.000000', '1.392900', '193800.000000']\n",
            "['-118.410000', '33.880000', '40.000000', '925.000000', '254.000000', '371.000000', '227.000000', '5.253300', '500001.000000']\n",
            "['-117.040000', '32.690000', '27.000000', '1790.000000', '356.000000', '1286.000000', '347.000000', '3.543700', '115800.000000']\n",
            "['-122.410000', '38.160000', '37.000000', '1549.000000', '301.000000', '863.000000', '275.000000', '2.745700', '254700.000000']\n",
            "['-120.250000', '37.930000', '13.000000', '493.000000', '76.000000', '196.000000', '68.000000', '3.375000', '134100.000000']\n",
            "['-121.980000', '38.390000', '3.000000', '9488.000000', '1417.000000', '4095.000000', '1335.000000', '5.178100', '191900.000000']\n",
            "['-122.470000', '37.720000', '47.000000', '1176.000000', '286.000000', '564.000000', '258.000000', '3.205900', '350000.000000']\n",
            "['-118.180000', '34.130000', '39.000000', '2902.000000', '460.000000', '1007.000000', '420.000000', '6.195300', '363000.000000']\n",
            "['-118.090000', '33.990000', '35.000000', '2787.000000', '639.000000', '1923.000000', '614.000000', '3.575700', '177900.000000']\n",
            "['-121.940000', '37.750000', '16.000000', '5121.000000', '735.000000', '2464.000000', '761.000000', '6.620400', '296100.000000']\n",
            "['-117.070000', '32.740000', '38.000000', '1901.000000', '392.000000', '1099.000000', '406.000000', '2.766100', '113900.000000']\n",
            "['-118.140000', '34.040000', '40.000000', '1966.000000', '391.000000', '1120.000000', '362.000000', '3.710900', '198800.000000']\n",
            "['-122.410000', '37.810000', '25.000000', '1178.000000', '545.000000', '592.000000', '441.000000', '3.672800', '500001.000000']\n",
            "['-117.710000', '33.630000', '16.000000', '1641.000000', '354.000000', '945.000000', '318.000000', '3.426100', '219700.000000']\n",
            "['-119.640000', '34.430000', '34.000000', '3045.000000', '570.000000', '1002.000000', '488.000000', '5.623000', '500001.000000']\n",
            "['-118.100000', '33.980000', '33.000000', '1927.000000', '482.000000', '1623.000000', '479.000000', '3.526800', '152000.000000']\n",
            "['-122.040000', '37.390000', '5.000000', '8745.000000', '2211.000000', '3959.000000', '2019.000000', '4.768500', '280100.000000']\n",
            "['-122.030000', '37.180000', '10.000000', '212.000000', '38.000000', '78.000000', '21.000000', '6.062200', '390000.000000']\n",
            "['-122.300000', '37.560000', '36.000000', '1379.000000', '228.000000', '750.000000', '227.000000', '5.538100', '282000.000000']\n",
            "['-117.360000', '33.920000', '7.000000', '9376.000000', '1181.000000', '3570.000000', '1107.000000', '8.532600', '315200.000000']\n",
            "['-121.380000', '37.880000', '44.000000', '1158.000000', '226.000000', '1094.000000', '224.000000', '2.684200', '156300.000000']\n",
            "['-119.980000', '38.930000', '28.000000', '1194.000000', '272.000000', '494.000000', '203.000000', '2.328100', '85800.000000']\n",
            "['-117.160000', '32.710000', '52.000000', '845.000000', '451.000000', '1230.000000', '375.000000', '1.091800', '22500.000000']\n",
            "['-122.360000', '37.930000', '17.000000', '1258.000000', '254.000000', '885.000000', '229.000000', '3.050000', '121600.000000']\n",
            "['-118.230000', '34.170000', '37.000000', '4524.000000', '1005.000000', '2099.000000', '937.000000', '3.578100', '366700.000000']\n",
            "['-118.470000', '34.100000', '32.000000', '8041.000000', '1141.000000', '2768.000000', '1106.000000', '11.197800', '500001.000000']\n",
            "['-124.140000', '40.800000', '32.000000', '1373.000000', '312.000000', '872.000000', '306.000000', '2.500000', '72600.000000']\n",
            "['-117.800000', '33.550000', '35.000000', '2067.000000', '428.000000', '724.000000', '377.000000', '5.837100', '500001.000000']\n",
            "['-118.020000', '34.120000', '38.000000', '1778.000000', '288.000000', '870.000000', '281.000000', '6.578400', '408500.000000']\n",
            "['-122.740000', '38.480000', '12.000000', '4174.000000', '670.000000', '1882.000000', '647.000000', '4.551000', '178300.000000']\n",
            "['-118.340000', '33.830000', '34.000000', '1761.000000', '329.000000', '965.000000', '329.000000', '5.399000', '358500.000000']\n",
            "['-120.680000', '35.290000', '37.000000', '1354.000000', '293.000000', '753.000000', '290.000000', '3.250000', '225000.000000']\n",
            "['-122.450000', '37.640000', '19.000000', '6326.000000', '1025.000000', '3444.000000', '984.000000', '6.249800', '353300.000000']\n",
            "['-122.040000', '37.620000', '35.000000', '1032.000000', '173.000000', '453.000000', '176.000000', '6.396000', '208500.000000']\n",
            "['-122.790000', '38.540000', '5.000000', '3986.000000', '737.000000', '1887.000000', '687.000000', '3.776800', '213800.000000']\n",
            "['-117.220000', '32.860000', '4.000000', '16289.000000', '4585.000000', '7604.000000', '4176.000000', '3.628700', '280800.000000']\n",
            "['-120.080000', '39.610000', '32.000000', '1404.000000', '247.000000', '544.000000', '201.000000', '2.777800', '72900.000000']\n",
            "['-118.360000', '34.150000', '41.000000', '3545.000000', '698.000000', '1221.000000', '651.000000', '4.300000', '500001.000000']\n",
            "['-121.360000', '38.560000', '17.000000', '6225.000000', '938.000000', '3064.000000', '947.000000', '5.288100', '138000.000000']\n",
            "['-122.320000', '41.310000', '45.000000', '1393.000000', '294.000000', '521.000000', '249.000000', '1.191500', '71900.000000']\n",
            "['-121.590000', '39.750000', '20.000000', '908.000000', '206.000000', '481.000000', '211.000000', '2.200000', '80800.000000']\n",
            "['-117.300000', '34.150000', '45.000000', '942.000000', '166.000000', '401.000000', '174.000000', '3.859400', '90800.000000']\n",
            "['-117.710000', '33.650000', '16.000000', '3774.000000', '456.000000', '1587.000000', '430.000000', '8.608800', '307400.000000']\n",
            "['-118.310000', '34.260000', '37.000000', '1444.000000', '246.000000', '624.000000', '239.000000', '5.760000', '239400.000000']\n",
            "['-122.040000', '36.980000', '51.000000', '1076.000000', '206.000000', '495.000000', '201.000000', '2.928600', '258300.000000']\n",
            "['-118.260000', '34.240000', '35.000000', '1535.000000', '283.000000', '816.000000', '287.000000', '6.187300', '312100.000000']\n",
            "['-118.280000', '33.960000', '39.000000', '882.000000', '221.000000', '697.000000', '189.000000', '1.847200', '99100.000000']\n",
            "['-123.500000', '39.670000', '22.000000', '2124.000000', '450.000000', '1122.000000', '446.000000', '2.179300', '71500.000000']\n",
            "['-117.190000', '33.140000', '12.000000', '3652.000000', '923.000000', '1677.000000', '728.000000', '2.326700', '92000.000000']\n",
            "['-121.120000', '38.860000', '17.000000', '3949.000000', '717.000000', '1683.000000', '686.000000', '3.380200', '216500.000000']\n",
            "['-118.410000', '34.210000', '35.000000', '2215.000000', '459.000000', '1594.000000', '446.000000', '4.016700', '193200.000000']\n",
            "['-116.540000', '33.820000', '12.000000', '9482.000000', '2501.000000', '2725.000000', '1300.000000', '1.559500', '115600.000000']\n",
            "['-121.610000', '39.760000', '31.000000', '2431.000000', '512.000000', '1026.000000', '427.000000', '2.542800', '85000.000000']\n",
            "['-121.990000', '37.920000', '14.000000', '1780.000000', '224.000000', '764.000000', '226.000000', '9.024300', '427700.000000']\n",
            "['-122.060000', '37.540000', '20.000000', '6483.000000', '1068.000000', '3526.000000', '1060.000000', '5.083800', '248200.000000']\n",
            "['-122.080000', '37.720000', '32.000000', '2476.000000', '368.000000', '1048.000000', '367.000000', '5.619400', '274700.000000']\n",
            "['-118.930000', '36.100000', '19.000000', '2988.000000', '681.000000', '1654.000000', '576.000000', '2.379200', '90000.000000']\n",
            "['-122.780000', '38.970000', '11.000000', '5175.000000', '971.000000', '2144.000000', '792.000000', '3.046600', '97300.000000']\n",
            "['-121.220000', '37.970000', '37.000000', '1514.000000', '337.000000', '1121.000000', '337.000000', '2.401000', '58400.000000']\n",
            "['-121.470000', '38.610000', '35.000000', '1372.000000', '360.000000', '850.000000', '328.000000', '1.633100', '67500.000000']\n",
            "['-122.310000', '37.540000', '49.000000', '1340.000000', '281.000000', '660.000000', '284.000000', '4.163000', '393800.000000']\n",
            "['-122.000000', '37.300000', '29.000000', '3429.000000', '524.000000', '1518.000000', '520.000000', '7.218000', '400700.000000']\n",
            "['-122.410000', '37.800000', '52.000000', '812.000000', '252.000000', '629.000000', '247.000000', '2.587500', '500001.000000']\n",
            "['-118.290000', '34.050000', '34.000000', '1102.000000', '448.000000', '1325.000000', '439.000000', '1.597200', '168800.000000']\n",
            "['-118.610000', '34.150000', '32.000000', '4491.000000', '815.000000', '1696.000000', '749.000000', '4.910200', '319100.000000']\n",
            "['-116.480000', '33.840000', '5.000000', '5480.000000', '1371.000000', '1050.000000', '485.000000', '1.720400', '137500.000000']\n",
            "['-118.260000', '33.780000', '27.000000', '1672.000000', '491.000000', '1723.000000', '462.000000', '2.045800', '174500.000000']\n",
            "['-117.340000', '34.510000', '6.000000', '5667.000000', '1385.000000', '2447.000000', '1199.000000', '2.361700', '103100.000000']\n",
            "['-122.460000', '37.670000', '16.000000', '3372.000000', '1101.000000', '2049.000000', '1021.000000', '4.130300', '146500.000000']\n",
            "['-118.350000', '34.110000', '33.000000', '7478.000000', '1678.000000', '2701.000000', '1500.000000', '4.171700', '500001.000000']\n",
            "['-117.300000', '34.100000', '44.000000', '589.000000', '130.000000', '504.000000', '137.000000', '1.775000', '63400.000000']\n",
            "['-118.440000', '34.150000', '44.000000', '1778.000000', '251.000000', '641.000000', '251.000000', '10.054900', '500001.000000']\n",
            "['-118.630000', '34.180000', '32.000000', '1646.000000', '242.000000', '697.000000', '233.000000', '6.668900', '433000.000000']\n",
            "['-117.950000', '33.760000', '24.000000', '3956.000000', '812.000000', '3196.000000', '795.000000', '4.351200', '191400.000000']\n",
            "['-122.250000', '37.450000', '34.000000', '2999.000000', '365.000000', '927.000000', '369.000000', '10.281100', '500001.000000']\n",
            "['-117.590000', '33.650000', '4.000000', '1793.000000', '390.000000', '897.000000', '386.000000', '4.246300', '182800.000000']\n",
            "['-114.490000', '33.970000', '17.000000', '2809.000000', '635.000000', '83.000000', '45.000000', '1.615400', '87500.000000']\n",
            "['-118.510000', '34.200000', '34.000000', '2871.000000', '581.000000', '1350.000000', '535.000000', '3.704900', '227500.000000']\n",
            "['-122.030000', '38.010000', '27.000000', '3228.000000', '562.000000', '1666.000000', '588.000000', '4.570700', '175900.000000']\n",
            "['-118.430000', '33.990000', '45.000000', '2092.000000', '451.000000', '1190.000000', '429.000000', '3.802100', '323000.000000']\n",
            "['-122.510000', '37.760000', '43.000000', '2345.000000', '624.000000', '1439.000000', '614.000000', '2.844800', '268900.000000']\n",
            "['-119.550000', '36.690000', '21.000000', '1551.000000', '423.000000', '1519.000000', '406.000000', '1.713200', '55900.000000']\n",
            "['-122.240000', '38.150000', '10.000000', '6817.000000', '1188.000000', '4163.000000', '1135.000000', '4.452900', '144100.000000']\n",
            "['-117.870000', '34.020000', '16.000000', '3552.000000', '575.000000', '2120.000000', '573.000000', '6.433300', '271500.000000']\n",
            "['-122.130000', '37.700000', '21.000000', '4124.000000', '1054.000000', '2162.000000', '998.000000', '2.632100', '223100.000000']\n",
            "['-121.330000', '38.600000', '25.000000', '4260.000000', '607.000000', '1635.000000', '640.000000', '6.281700', '288200.000000']\n",
            "['-121.910000', '37.470000', '13.000000', '5377.000000', '744.000000', '2759.000000', '760.000000', '6.868000', '337300.000000']\n",
            "['-118.530000', '34.040000', '45.000000', '1711.000000', '264.000000', '735.000000', '261.000000', '9.107800', '500001.000000']\n",
            "['-121.330000', '38.000000', '32.000000', '4474.000000', '929.000000', '2177.000000', '884.000000', '3.288900', '98900.000000']\n",
            "['-117.850000', '34.060000', '24.000000', '3128.000000', '497.000000', '1406.000000', '472.000000', '7.528600', '462700.000000']\n",
            "['-118.430000', '35.120000', '8.000000', '1968.000000', '376.000000', '930.000000', '360.000000', '3.263200', '99800.000000']\n",
            "['-118.070000', '33.970000', '36.000000', '1265.000000', '273.000000', '1052.000000', '253.000000', '4.892900', '156200.000000']\n",
            "['-117.160000', '32.780000', '34.000000', '2515.000000', '488.000000', '1594.000000', '515.000000', '3.738100', '165000.000000']\n",
            "['-116.290000', '34.180000', '15.000000', '4203.000000', '966.000000', '1756.000000', '695.000000', '2.182000', '60800.000000']\n",
            "['-120.660000', '35.290000', '16.000000', '2272.000000', '629.000000', '1689.000000', '649.000000', '1.703100', '195000.000000']\n",
            "['-119.790000', '36.770000', '30.000000', '1610.000000', '410.000000', '1000.000000', '397.000000', '2.035700', '60200.000000']\n",
            "['-122.140000', '37.750000', '33.000000', '1334.000000', '200.000000', '579.000000', '202.000000', '6.832300', '255900.000000']\n",
            "['-122.320000', '37.970000', '33.000000', '1595.000000', '292.000000', '991.000000', '300.000000', '4.693700', '134100.000000']\n",
            "['-119.800000', '36.830000', '17.000000', '1560.000000', '261.000000', '709.000000', '258.000000', '4.331500', '95800.000000']\n",
            "['-117.330000', '33.160000', '29.000000', '3559.000000', '552.000000', '1533.000000', '545.000000', '4.058500', '245500.000000']\n",
            "['-121.860000', '37.230000', '24.000000', '4337.000000', '670.000000', '1936.000000', '652.000000', '5.890400', '271400.000000']\n",
            "['-122.240000', '37.810000', '52.000000', '2093.000000', '550.000000', '918.000000', '483.000000', '2.747700', '243800.000000']\n",
            "['-120.850000', '37.770000', '10.000000', '423.000000', '110.000000', '295.000000', '94.000000', '1.358300', '85200.000000']\n",
            "['-116.950000', '33.790000', '20.000000', '2399.000000', '546.000000', '1726.000000', '542.000000', '1.884500', '77700.000000']\n",
            "['-117.220000', '33.220000', '16.000000', '2134.000000', '643.000000', '1555.000000', '560.000000', '1.721700', '175000.000000']\n",
            "['-122.230000', '40.170000', '21.000000', '1401.000000', '331.000000', '651.000000', '299.000000', '2.225000', '64700.000000']\n",
            "['-118.450000', '34.030000', '41.000000', '2083.000000', '528.000000', '993.000000', '481.000000', '4.023100', '353900.000000']\n",
            "['-118.990000', '35.270000', '32.000000', '444.000000', '102.000000', '242.000000', '87.000000', '1.152800', '150000.000000']\n",
            "['-117.580000', '33.870000', '34.000000', '1511.000000', '272.000000', '773.000000', '265.000000', '3.531300', '142100.000000']\n",
            "['-118.650000', '36.570000', '20.000000', '1431.000000', '416.000000', '570.000000', '225.000000', '1.482100', '143300.000000']\n",
            "['-121.400000', '38.660000', '50.000000', '880.000000', '150.000000', '1148.000000', '148.000000', '2.506200', '112500.000000']\n",
            "['-119.460000', '35.860000', '22.000000', '1750.000000', '374.000000', '1113.000000', '338.000000', '1.505000', '42700.000000']\n",
            "['-118.220000', '33.980000', '32.000000', '2643.000000', '737.000000', '2784.000000', '711.000000', '2.535200', '184400.000000']\n",
            "['-118.380000', '33.820000', '35.000000', '3053.000000', '623.000000', '1311.000000', '589.000000', '5.158900', '439200.000000']\n",
            "['-117.770000', '33.690000', '16.000000', '1666.000000', '341.000000', '479.000000', '336.000000', '2.140600', '55000.000000']\n",
            "['-118.460000', '34.180000', '35.000000', '1819.000000', '465.000000', '1336.000000', '419.000000', '3.458300', '253200.000000']\n",
            "['-122.420000', '37.790000', '6.000000', '670.000000', '301.000000', '655.000000', '284.000000', '3.442300', '117500.000000']\n",
            "['-118.310000', '33.770000', '20.000000', '5776.000000', '956.000000', '2757.000000', '936.000000', '6.644700', '416800.000000']\n",
            "['-121.670000', '37.130000', '19.000000', '3269.000000', '483.000000', '1383.000000', '452.000000', '5.620500', '300800.000000']\n",
            "['-121.330000', '38.570000', '17.000000', '1621.000000', '350.000000', '706.000000', '338.000000', '2.368400', '150000.000000']\n",
            "['-120.830000', '37.520000', '6.000000', '1488.000000', '252.000000', '773.000000', '259.000000', '4.185900', '150000.000000']\n",
            "['-118.120000', '33.990000', '27.000000', '2316.000000', '559.000000', '2012.000000', '544.000000', '2.815500', '176800.000000']\n",
            "['-118.110000', '34.070000', '39.000000', '1270.000000', '299.000000', '1073.000000', '278.000000', '3.308800', '186600.000000']\n",
            "['-122.670000', '38.240000', '29.000000', '2644.000000', '464.000000', '1372.000000', '450.000000', '5.054400', '261800.000000']\n",
            "['-117.290000', '34.090000', '24.000000', '1451.000000', '387.000000', '1178.000000', '330.000000', '1.180600', '68300.000000']\n",
            "['-121.800000', '37.190000', '45.000000', '1797.000000', '303.000000', '870.000000', '281.000000', '4.541700', '434500.000000']\n",
            "['-120.300000', '37.970000', '17.000000', '3243.000000', '619.000000', '1408.000000', '566.000000', '2.474000', '120100.000000']\n",
            "['-120.450000', '34.650000', '21.000000', '1182.000000', '243.000000', '733.000000', '251.000000', '3.144200', '131600.000000']\n",
            "['-119.290000', '34.230000', '22.000000', '2486.000000', '608.000000', '709.000000', '523.000000', '2.901800', '275000.000000']\n",
            "['-118.340000', '34.020000', '49.000000', '1609.000000', '371.000000', '896.000000', '389.000000', '2.515600', '136600.000000']\n",
            "['-117.940000', '33.800000', '23.000000', '2757.000000', '734.000000', '1811.000000', '707.000000', '2.800000', '214300.000000']\n",
            "['-116.850000', '34.260000', '19.000000', '5395.000000', '1220.000000', '981.000000', '366.000000', '2.609400', '92400.000000']\n",
            "['-117.890000', '33.760000', '34.000000', '1050.000000', '210.000000', '723.000000', '201.000000', '4.800000', '192700.000000']\n",
            "['-118.290000', '34.030000', '27.000000', '1084.000000', '287.000000', '1085.000000', '279.000000', '2.135000', '119600.000000']\n",
            "['-118.120000', '34.060000', '35.000000', '1729.000000', '438.000000', '1308.000000', '412.000000', '2.532100', '197200.000000']\n",
            "['-121.410000', '38.600000', '16.000000', '5407.000000', '1467.000000', '2523.000000', '1265.000000', '2.047100', '104200.000000']\n",
            "['-120.620000', '35.130000', '26.000000', '3971.000000', '803.000000', '1792.000000', '723.000000', '2.712800', '209900.000000']\n",
            "['-118.180000', '33.800000', '42.000000', '2301.000000', '621.000000', '2114.000000', '561.000000', '2.057900', '132700.000000']\n",
            "['-117.510000', '34.160000', '2.000000', '718.000000', '98.000000', '119.000000', '50.000000', '4.100000', '315000.000000']\n",
            "['-118.160000', '34.030000', '40.000000', '2201.000000', '636.000000', '2682.000000', '595.000000', '2.359000', '143400.000000']\n",
            "['-118.170000', '34.110000', '39.000000', '1758.000000', '436.000000', '892.000000', '447.000000', '3.640600', '278900.000000']\n",
            "['-117.690000', '33.650000', '15.000000', '5394.000000', '748.000000', '2383.000000', '706.000000', '7.561900', '302000.000000']\n",
            "['-122.200000', '37.770000', '41.000000', '1547.000000', '415.000000', '1024.000000', '341.000000', '2.056200', '102000.000000']\n",
            "['-121.330000', '37.960000', '42.000000', '1619.000000', '340.000000', '906.000000', '339.000000', '2.548800', '80300.000000']\n",
            "['-121.840000', '38.130000', '33.000000', '596.000000', '105.000000', '212.000000', '94.000000', '4.281300', '81300.000000']\n",
            "['-117.760000', '34.050000', '36.000000', '2910.000000', '819.000000', '3055.000000', '782.000000', '1.902900', '98000.000000']\n",
            "['-122.430000', '37.790000', '52.000000', '3219.000000', '969.000000', '1152.000000', '830.000000', '4.204200', '500001.000000']\n",
            "['-122.320000', '37.570000', '33.000000', '3384.000000', '819.000000', '2626.000000', '793.000000', '3.228500', '234800.000000']\n",
            "['-118.160000', '34.070000', '42.000000', '3836.000000', '777.000000', '2118.000000', '754.000000', '3.636400', '254600.000000']\n",
            "['-124.090000', '40.950000', '18.000000', '2250.000000', '484.000000', '1248.000000', '472.000000', '2.589300', '99600.000000']\n",
            "['-121.990000', '38.350000', '45.000000', '1778.000000', '339.000000', '839.000000', '319.000000', '2.465900', '102900.000000']\n",
            "['-122.720000', '38.420000', '26.000000', '3604.000000', '734.000000', '2605.000000', '704.000000', '3.096900', '143800.000000']\n",
            "['-122.110000', '37.660000', '29.000000', '2544.000000', '643.000000', '2332.000000', '603.000000', '3.209100', '150000.000000']\n",
            "['-121.840000', '36.620000', '26.000000', '32.000000', '8.000000', '27.000000', '10.000000', '2.225000', '150000.000000']\n",
            "['-118.180000', '34.120000', '29.000000', '2640.000000', '737.000000', '1795.000000', '655.000000', '2.369000', '173400.000000']\n",
            "['-122.450000', '38.270000', '25.000000', '5024.000000', '881.000000', '1994.000000', '838.000000', '4.223700', '262300.000000']\n",
            "['-117.910000', '33.650000', '17.000000', '1328.000000', '377.000000', '762.000000', '344.000000', '2.222200', '276800.000000']\n",
            "['-116.470000', '33.770000', '26.000000', '4300.000000', '767.000000', '1557.000000', '669.000000', '4.410700', '122500.000000']\n",
            "['-122.410000', '37.730000', '42.000000', '2604.000000', '573.000000', '1703.000000', '507.000000', '3.423100', '230200.000000']\n",
            "['-119.780000', '36.800000', '34.000000', '2200.000000', '493.000000', '1243.000000', '431.000000', '1.851400', '66500.000000']\n",
            "['-119.710000', '34.360000', '34.000000', '1706.000000', '276.000000', '628.000000', '243.000000', '4.184200', '364000.000000']\n",
            "['-118.360000', '34.030000', '40.000000', '2323.000000', '661.000000', '1847.000000', '614.000000', '1.831600', '113500.000000']\n",
            "['-121.890000', '37.990000', '4.000000', '2171.000000', '597.000000', '928.000000', '461.000000', '4.101600', '170500.000000']\n",
            "['-121.980000', '37.330000', '25.000000', '3223.000000', '612.000000', '1529.000000', '602.000000', '5.121000', '287600.000000']\n",
            "['-118.470000', '34.250000', '34.000000', '1732.000000', '399.000000', '1120.000000', '401.000000', '4.149200', '195700.000000']\n",
            "['-117.260000', '32.990000', '16.000000', '2127.000000', '512.000000', '1532.000000', '499.000000', '2.734800', '231300.000000']\n",
            "['-118.090000', '34.070000', '45.000000', '726.000000', '146.000000', '568.000000', '160.000000', '3.034700', '183200.000000']\n",
            "['-118.450000', '37.250000', '20.000000', '1468.000000', '283.000000', '721.000000', '270.000000', '3.081700', '118800.000000']\n",
            "['-117.780000', '33.540000', '29.000000', '1421.000000', '462.000000', '520.000000', '339.000000', '2.296900', '450000.000000']\n",
            "['-117.460000', '33.900000', '10.000000', '9738.000000', '2130.000000', '4936.000000', '1840.000000', '3.318700', '144800.000000']\n",
            "['-121.850000', '39.740000', '39.000000', '1139.000000', '265.000000', '623.000000', '264.000000', '2.283300', '85800.000000']\n",
            "['-117.290000', '34.110000', '48.000000', '1498.000000', '448.000000', '1586.000000', '455.000000', '1.168700', '70800.000000']\n",
            "['-121.200000', '37.790000', '36.000000', '866.000000', '160.000000', '502.000000', '149.000000', '2.479800', '101500.000000']\n",
            "['-118.430000', '33.960000', '20.000000', '1901.000000', '270.000000', '704.000000', '254.000000', '8.781900', '500001.000000']\n",
            "['-122.110000', '37.400000', '15.000000', '255.000000', '63.000000', '138.000000', '74.000000', '4.659100', '175000.000000']\n",
            "['-119.060000', '36.080000', '19.000000', '2554.000000', '443.000000', '1301.000000', '419.000000', '4.185600', '72100.000000']\n",
            "['-118.370000', '33.880000', '20.000000', '2439.000000', '474.000000', '1219.000000', '497.000000', '5.961900', '335900.000000']\n",
            "['-120.790000', '38.430000', '40.000000', '1391.000000', '246.000000', '546.000000', '214.000000', '3.910700', '129800.000000']\n",
            "['-122.200000', '39.930000', '9.000000', '1296.000000', '287.000000', '768.000000', '260.000000', '1.919100', '54400.000000']\n",
            "['-122.230000', '37.760000', '52.000000', '1049.000000', '185.000000', '374.000000', '176.000000', '4.145800', '248500.000000']\n",
            "['-121.990000', '38.530000', '6.000000', '4598.000000', '834.000000', '2561.000000', '812.000000', '3.418600', '127300.000000']\n",
            "['-118.460000', '34.020000', '39.000000', '3599.000000', '776.000000', '1569.000000', '763.000000', '5.257100', '405400.000000']\n",
            "['-115.600000', '33.040000', '31.000000', '314.000000', '61.000000', '152.000000', '56.000000', '3.347200', '91700.000000']\n",
            "['-117.220000', '32.780000', '22.000000', '2020.000000', '466.000000', '1010.000000', '429.000000', '3.452700', '175000.000000']\n",
            "['-118.630000', '34.220000', '18.000000', '1376.000000', '225.000000', '670.000000', '205.000000', '6.514600', '277600.000000']\n",
            "['-124.140000', '40.720000', '18.000000', '2581.000000', '499.000000', '1375.000000', '503.000000', '2.844600', '100500.000000']\n",
            "['-116.430000', '33.780000', '17.000000', '4293.000000', '712.000000', '1091.000000', '464.000000', '6.143700', '232100.000000']\n",
            "['-117.890000', '33.730000', '32.000000', '728.000000', '134.000000', '837.000000', '135.000000', '4.076900', '163900.000000']\n",
            "['-117.700000', '33.530000', '5.000000', '6698.000000', '1254.000000', '2834.000000', '1139.000000', '5.908800', '288500.000000']\n",
            "['-122.470000', '37.850000', '19.000000', '1926.000000', '593.000000', '881.000000', '546.000000', '2.914500', '140400.000000']\n",
            "['-120.630000', '38.730000', '11.000000', '4577.000000', '836.000000', '1944.000000', '700.000000', '4.067500', '140200.000000']\n",
            "['-118.590000', '34.200000', '18.000000', '847.000000', '185.000000', '733.000000', '178.000000', '5.214900', '201900.000000']\n",
            "['-118.360000', '33.930000', '40.000000', '1625.000000', '500.000000', '2036.000000', '476.000000', '2.629800', '156500.000000']\n",
            "['-118.410000', '33.850000', '16.000000', '6123.000000', '1989.000000', '2853.000000', '1789.000000', '4.425000', '336400.000000']\n",
            "['-117.190000', '32.770000', '16.000000', '3273.000000', '670.000000', '1305.000000', '671.000000', '4.136800', '151000.000000']\n",
            "['-117.780000', '33.860000', '16.000000', '3471.000000', '708.000000', '1769.000000', '691.000000', '4.106400', '246100.000000']\n",
            "['-121.860000', '39.740000', '13.000000', '3494.000000', '843.000000', '1571.000000', '784.000000', '1.101900', '120200.000000']\n",
            "['-119.040000', '35.310000', '11.000000', '2161.000000', '371.000000', '1267.000000', '388.000000', '4.195700', '92700.000000']\n",
            "['-118.260000', '34.020000', '40.000000', '1259.000000', '362.000000', '1499.000000', '327.000000', '1.838200', '126400.000000']\n",
            "['-117.250000', '34.490000', '4.000000', '2372.000000', '361.000000', '1017.000000', '322.000000', '5.111200', '170900.000000']\n",
            "['-120.040000', '39.270000', '24.000000', '2237.000000', '491.000000', '264.000000', '95.000000', '4.136400', '154500.000000']\n",
            "['-121.420000', '38.540000', '29.000000', '2358.000000', '493.000000', '1071.000000', '470.000000', '2.925000', '94300.000000']\n",
            "['-118.150000', '34.200000', '46.000000', '1505.000000', '261.000000', '857.000000', '269.000000', '4.500000', '184200.000000']\n",
            "['-118.080000', '33.880000', '26.000000', '1507.000000', '270.000000', '931.000000', '275.000000', '5.164500', '244900.000000']\n",
            "['-122.430000', '37.800000', '52.000000', '2696.000000', '572.000000', '925.000000', '552.000000', '5.036500', '500000.000000']\n",
            "['-115.490000', '32.670000', '24.000000', '1266.000000', '275.000000', '1083.000000', '298.000000', '1.482800', '73100.000000']\n",
            "['-120.980000', '38.340000', '27.000000', '3471.000000', '653.000000', '1793.000000', '600.000000', '3.550800', '99100.000000']\n",
            "['-116.140000', '34.450000', '12.000000', '8796.000000', '1721.000000', '11139.000000', '1680.000000', '2.261200', '137500.000000']\n",
            "['-117.110000', '32.730000', '27.000000', '3160.000000', '627.000000', '1628.000000', '612.000000', '3.886400', '132600.000000']\n",
            "['-118.470000', '34.000000', '38.000000', '1235.000000', '390.000000', '891.000000', '376.000000', '2.714300', '287500.000000']\n",
            "['-121.420000', '37.740000', '19.000000', '1393.000000', '367.000000', '915.000000', '355.000000', '1.195700', '103100.000000']\n",
            "['-122.250000', '37.820000', '52.000000', '2474.000000', '403.000000', '1104.000000', '398.000000', '5.883000', '340700.000000']\n",
            "['-118.050000', '33.720000', '22.000000', '5416.000000', '1271.000000', '2260.000000', '1184.000000', '3.803800', '174500.000000']\n",
            "['-122.020000', '36.970000', '44.000000', '594.000000', '169.000000', '325.000000', '139.000000', '1.155200', '250000.000000']\n",
            "['-115.570000', '32.800000', '33.000000', '1192.000000', '213.000000', '1066.000000', '211.000000', '4.571400', '68600.000000']\n",
            "['-121.290000', '37.800000', '6.000000', '110.000000', '26.000000', '69.000000', '24.000000', '3.729200', '475000.000000']\n",
            "['-122.080000', '37.880000', '26.000000', '2947.000000', '647.000000', '825.000000', '626.000000', '2.933000', '85000.000000']\n",
            "['-121.770000', '37.650000', '16.000000', '4290.000000', '554.000000', '1952.000000', '576.000000', '7.358800', '327500.000000']\n",
            "['-119.810000', '36.720000', '46.000000', '1414.000000', '268.000000', '902.000000', '243.000000', '1.583300', '56700.000000']\n",
            "['-118.350000', '33.970000', '26.000000', '1725.000000', '431.000000', '1130.000000', '404.000000', '3.270800', '128100.000000']\n",
            "['-118.200000', '34.190000', '38.000000', '2176.000000', '266.000000', '798.000000', '243.000000', '15.000100', '500001.000000']\n",
            "['-118.790000', '34.140000', '7.000000', '3003.000000', '504.000000', '1143.000000', '466.000000', '5.854800', '500001.000000']\n",
            "['-118.120000', '34.160000', '30.000000', '1762.000000', '416.000000', '940.000000', '398.000000', '2.863100', '188600.000000']\n",
            "['-118.220000', '33.960000', '36.000000', '1542.000000', '458.000000', '1711.000000', '468.000000', '1.902800', '164200.000000']\n",
            "['-121.300000', '37.990000', '38.000000', '2375.000000', '494.000000', '1167.000000', '471.000000', '2.667300', '87500.000000']\n",
            "['-121.840000', '36.610000', '21.000000', '2876.000000', '802.000000', '2487.000000', '795.000000', '2.200700', '112800.000000']\n",
            "['-117.900000', '34.070000', '36.000000', '1009.000000', '164.000000', '466.000000', '149.000000', '5.851900', '249400.000000']\n",
            "['-120.400000', '34.860000', '11.000000', '1633.000000', '348.000000', '504.000000', '327.000000', '2.050800', '275000.000000']\n",
            "['-117.950000', '33.800000', '32.000000', '1219.000000', '192.000000', '634.000000', '197.000000', '5.237000', '215700.000000']\n",
            "['-118.300000', '33.940000', '36.000000', '2041.000000', '531.000000', '1390.000000', '464.000000', '2.011400', '99300.000000']\n",
            "['-121.600000', '37.900000', '5.000000', '14684.000000', '2252.000000', '4276.000000', '1722.000000', '6.905100', '340900.000000']\n",
            "['-122.410000', '37.590000', '34.000000', '3931.000000', '622.000000', '1717.000000', '621.000000', '6.294600', '450000.000000']\n",
            "['-118.450000', '34.050000', '28.000000', '801.000000', '399.000000', '936.000000', '406.000000', '2.187500', '181300.000000']\n",
            "['-118.180000', '33.860000', '43.000000', '2752.000000', '645.000000', '1674.000000', '614.000000', '3.671900', '161300.000000']\n",
            "['-121.780000', '40.120000', '14.000000', '388.000000', '108.000000', '35.000000', '17.000000', '6.135900', '106300.000000']\n",
            "['-118.210000', '34.040000', '47.000000', '1325.000000', '393.000000', '1557.000000', '352.000000', '2.800000', '148400.000000']\n",
            "['-118.380000', '34.090000', '28.000000', '4001.000000', '1352.000000', '1799.000000', '1220.000000', '2.578400', '272900.000000']\n",
            "['-117.180000', '32.840000', '32.000000', '1351.000000', '237.000000', '823.000000', '269.000000', '4.276800', '167800.000000']\n",
            "['-117.300000', '32.850000', '28.000000', '2334.000000', '694.000000', '770.000000', '552.000000', '3.132400', '500001.000000']\n",
            "['-119.020000', '35.420000', '42.000000', '2271.000000', '458.000000', '1124.000000', '447.000000', '2.758300', '64900.000000']\n",
            "['-124.010000', '40.970000', '21.000000', '1513.000000', '319.000000', '943.000000', '301.000000', '3.538000', '102700.000000']\n",
            "['-118.100000', '34.130000', '44.000000', '1745.000000', '237.000000', '693.000000', '248.000000', '9.791200', '500001.000000']\n",
            "['-119.810000', '36.770000', '49.000000', '1749.000000', '314.000000', '705.000000', '300.000000', '3.150000', '72200.000000']\n",
            "['-122.550000', '38.000000', '18.000000', '3119.000000', '803.000000', '1395.000000', '722.000000', '3.926500', '301100.000000']\n",
            "['-117.620000', '34.080000', '30.000000', '1372.000000', '235.000000', '1047.000000', '225.000000', '3.159700', '116300.000000']\n",
            "['-121.290000', '37.960000', '52.000000', '888.000000', '324.000000', '630.000000', '258.000000', '1.241100', '112500.000000']\n",
            "['-119.090000', '34.240000', '17.000000', '10214.000000', '1589.000000', '3409.000000', '1327.000000', '5.380600', '452100.000000']\n",
            "['-117.200000', '32.770000', '30.000000', '156.000000', '45.000000', '77.000000', '40.000000', '3.267900', '137500.000000']\n",
            "['-122.270000', '37.450000', '41.000000', '830.000000', '136.000000', '353.000000', '153.000000', '6.382400', '500001.000000']\n",
            "['-117.310000', '34.410000', '14.000000', '3019.000000', '643.000000', '1639.000000', '582.000000', '1.528800', '103400.000000']\n",
            "['-118.280000', '33.830000', '18.000000', '5923.000000', '1409.000000', '3887.000000', '1322.000000', '3.471200', '194400.000000']\n",
            "['-118.270000', '34.050000', '26.000000', '1164.000000', '674.000000', '1685.000000', '541.000000', '1.572700', '225000.000000']\n",
            "['-118.170000', '34.090000', '45.000000', '1327.000000', '271.000000', '1069.000000', '284.000000', '3.397700', '153800.000000']\n",
            "['-122.540000', '37.740000', '42.000000', '2006.000000', '415.000000', '1230.000000', '435.000000', '4.178600', '271100.000000']\n",
            "['-118.280000', '33.770000', '47.000000', '307.000000', '69.000000', '374.000000', '65.000000', '2.906300', '146900.000000']\n",
            "['-118.040000', '33.720000', '24.000000', '7141.000000', '1330.000000', '3418.000000', '1268.000000', '4.664900', '237800.000000']\n",
            "['-117.390000', '33.920000', '25.000000', '2886.000000', '583.000000', '2327.000000', '577.000000', '2.385100', '113700.000000']\n",
            "['-119.010000', '35.370000', '35.000000', '120.000000', '35.000000', '477.000000', '41.000000', '1.912500', '47500.000000']\n",
            "['-122.410000', '37.740000', '34.000000', '1403.000000', '262.000000', '839.000000', '255.000000', '4.703100', '255200.000000']\n",
            "['-118.290000', '33.910000', '41.000000', '2475.000000', '532.000000', '1416.000000', '470.000000', '3.837200', '156400.000000']\n",
            "['-117.250000', '33.220000', '19.000000', '2167.000000', '443.000000', '1654.000000', '435.000000', '3.500000', '135800.000000']\n",
            "['-117.650000', '33.460000', '19.000000', '7034.000000', '1139.000000', '2824.000000', '1068.000000', '6.087300', '277300.000000']\n",
            "['-121.980000', '37.800000', '17.000000', '3354.000000', '422.000000', '1457.000000', '425.000000', '7.647300', '345800.000000']\n",
            "['-118.050000', '33.840000', '21.000000', '4890.000000', '653.000000', '2295.000000', '654.000000', '6.983000', '329700.000000']\n",
            "['-122.030000', '37.270000', '25.000000', '4460.000000', '553.000000', '1608.000000', '561.000000', '10.795800', '500001.000000']\n",
            "['-120.520000', '35.240000', '5.000000', '4413.000000', '804.000000', '2003.000000', '725.000000', '5.026700', '253300.000000']\n",
            "['-117.950000', '34.140000', '33.000000', '1943.000000', '440.000000', '1526.000000', '353.000000', '3.038000', '137500.000000']\n",
            "['-118.160000', '34.690000', '35.000000', '3114.000000', '583.000000', '1974.000000', '545.000000', '3.902800', '126800.000000']\n",
            "['-121.480000', '39.100000', '19.000000', '2043.000000', '421.000000', '1018.000000', '390.000000', '2.595200', '92400.000000']\n",
            "['-117.530000', '33.940000', '21.000000', '5675.000000', '935.000000', '2834.000000', '865.000000', '4.226300', '203200.000000']\n",
            "['-122.290000', '37.910000', '40.000000', '2085.000000', '329.000000', '796.000000', '339.000000', '5.535700', '273700.000000']\n",
            "['-121.780000', '38.690000', '31.000000', '2547.000000', '535.000000', '1579.000000', '509.000000', '2.677400', '95800.000000']\n",
            "['-117.970000', '33.840000', '34.000000', '874.000000', '153.000000', '549.000000', '153.000000', '4.866700', '186800.000000']\n",
            "['-122.260000', '37.860000', '52.000000', '3774.000000', '744.000000', '1461.000000', '679.000000', '2.940500', '289500.000000']\n",
            "['-117.960000', '33.690000', '20.000000', '3123.000000', '441.000000', '1319.000000', '432.000000', '6.091000', '290400.000000']\n",
            "['-118.390000', '34.190000', '36.000000', '904.000000', '191.000000', '627.000000', '191.000000', '2.416700', '192900.000000']\n",
            "['-122.480000', '37.510000', '22.000000', '1564.000000', '278.000000', '761.000000', '270.000000', '4.757800', '318500.000000']\n",
            "['-118.600000', '34.210000', '19.000000', '2581.000000', '857.000000', '2004.000000', '784.000000', '2.615900', '182300.000000']\n",
            "['-122.350000', '40.560000', '12.000000', '3900.000000', '863.000000', '2145.000000', '864.000000', '1.988100', '85200.000000']\n",
            "['-118.240000', '34.030000', '52.000000', '142.000000', '47.000000', '137.000000', '45.000000', '1.833300', '312500.000000']\n",
            "['-117.610000', '34.080000', '20.000000', '3550.000000', '736.000000', '2229.000000', '681.000000', '3.019900', '128800.000000']\n",
            "['-121.030000', '37.670000', '24.000000', '2162.000000', '459.000000', '1468.000000', '441.000000', '3.185700', '98300.000000']\n",
            "['-119.690000', '36.810000', '15.000000', '2892.000000', '496.000000', '1634.000000', '501.000000', '4.493400', '88000.000000']\n",
            "['-118.270000', '34.060000', '26.000000', '513.000000', '338.000000', '1204.000000', '321.000000', '1.490400', '275000.000000']\n",
            "['-118.260000', '34.070000', '30.000000', '929.000000', '238.000000', '763.000000', '214.000000', '2.522700', '187500.000000']\n",
            "['-120.910000', '38.980000', '13.000000', '7689.000000', '1415.000000', '3264.000000', '1198.000000', '3.653000', '146800.000000']\n",
            "['-117.140000', '32.710000', '32.000000', '719.000000', '251.000000', '894.000000', '208.000000', '1.845600', '103100.000000']\n",
            "['-117.200000', '32.820000', '35.000000', '2772.000000', '537.000000', '1392.000000', '521.000000', '3.337000', '172300.000000']\n",
            "['-123.800000', '39.440000', '52.000000', '1533.000000', '336.000000', '754.000000', '340.000000', '1.921300', '95000.000000']\n",
            "['-122.330000', '37.980000', '32.000000', '1967.000000', '348.000000', '1144.000000', '364.000000', '4.413500', '150100.000000']\n",
            "['-117.370000', '33.970000', '38.000000', '1156.000000', '241.000000', '877.000000', '200.000000', '1.451400', '79900.000000']\n",
            "['-122.040000', '37.300000', '26.000000', '1714.000000', '270.000000', '778.000000', '262.000000', '6.075000', '417000.000000']\n",
            "['-118.210000', '33.980000', '35.000000', '1705.000000', '562.000000', '2212.000000', '539.000000', '2.325000', '161500.000000']\n",
            "['-117.320000', '34.110000', '38.000000', '1462.000000', '337.000000', '1208.000000', '324.000000', '2.260400', '68100.000000']\n",
            "['-118.120000', '34.080000', '49.000000', '1782.000000', '374.000000', '1010.000000', '367.000000', '3.158300', '268200.000000']\n",
            "['-121.560000', '39.690000', '8.000000', '2836.000000', '522.000000', '1163.000000', '512.000000', '3.130000', '168300.000000']\n",
            "['-117.940000', '33.800000', '28.000000', '2914.000000', '489.000000', '1500.000000', '499.000000', '4.942900', '254800.000000']\n",
            "['-117.980000', '33.850000', '23.000000', '2089.000000', '377.000000', '1085.000000', '362.000000', '4.765000', '181500.000000']\n",
            "['-122.850000', '38.770000', '18.000000', '2856.000000', '513.000000', '1027.000000', '405.000000', '4.695300', '241700.000000']\n",
            "['-116.240000', '33.760000', '9.000000', '1961.000000', '595.000000', '966.000000', '275.000000', '3.812500', '96700.000000']\n",
            "['-122.320000', '37.960000', '25.000000', '1728.000000', '403.000000', '934.000000', '412.000000', '3.375000', '133700.000000']\n",
            "['-118.950000', '35.410000', '21.000000', '3999.000000', '727.000000', '1889.000000', '688.000000', '3.875000', '99500.000000']\n",
            "['-122.420000', '37.670000', '42.000000', '2274.000000', '429.000000', '1255.000000', '397.000000', '5.120500', '226300.000000']\n",
            "['-118.250000', '33.980000', '39.000000', '1553.000000', '461.000000', '2271.000000', '437.000000', '1.737800', '121900.000000']\n",
            "['-118.400000', '34.220000', '36.000000', '2557.000000', '540.000000', '1556.000000', '491.000000', '3.659100', '183800.000000']\n",
            "['-120.560000', '38.390000', '20.000000', '1326.000000', '307.000000', '563.000000', '237.000000', '2.666700', '86600.000000']\n",
            "['-121.630000', '39.100000', '22.000000', '3585.000000', '548.000000', '1757.000000', '577.000000', '4.174000', '100100.000000']\n",
            "['-122.200000', '37.470000', '44.000000', '1927.000000', '332.000000', '846.000000', '362.000000', '4.208300', '278200.000000']\n",
            "['-122.110000', '37.110000', '46.000000', '1993.000000', '404.000000', '850.000000', '327.000000', '5.208000', '206800.000000']\n",
            "['-118.250000', '33.840000', '19.000000', '1731.000000', '420.000000', '1032.000000', '364.000000', '3.812500', '208100.000000']\n",
            "['-118.350000', '34.180000', '46.000000', '2711.000000', '491.000000', '1277.000000', '490.000000', '4.282000', '224700.000000']\n",
            "['-118.140000', '33.860000', '44.000000', '1436.000000', '257.000000', '745.000000', '233.000000', '4.625000', '213400.000000']\n",
            "['-122.260000', '38.280000', '24.000000', '2831.000000', '502.000000', '1462.000000', '503.000000', '4.500000', '158300.000000']\n",
            "['-120.240000', '37.960000', '34.000000', '1747.000000', '395.000000', '935.000000', '362.000000', '1.625000', '79400.000000']\n",
            "['-121.590000', '39.740000', '17.000000', '1646.000000', '330.000000', '750.000000', '344.000000', '2.379800', '83800.000000']\n",
            "['-122.720000', '40.170000', '16.000000', '396.000000', '78.000000', '188.000000', '72.000000', '1.388900', '87500.000000']\n",
            "['-118.480000', '34.310000', '31.000000', '1091.000000', '256.000000', '892.000000', '238.000000', '3.000000', '172400.000000']\n",
            "['-121.100000', '38.940000', '42.000000', '410.000000', '117.000000', '706.000000', '112.000000', '1.017900', '125000.000000']\n",
            "['-118.100000', '33.970000', '35.000000', '2426.000000', '529.000000', '2010.000000', '514.000000', '2.992200', '163500.000000']\n",
            "['-120.970000', '37.670000', '16.000000', '1499.000000', '250.000000', '1292.000000', '271.000000', '4.385100', '117300.000000']\n",
            "['-121.910000', '36.970000', '19.000000', '4920.000000', '1092.000000', '1807.000000', '922.000000', '3.511200', '231900.000000']\n",
            "['-121.470000', '37.580000', '14.000000', '1594.000000', '292.000000', '887.000000', '287.000000', '4.662500', '294000.000000']\n",
            "['-121.930000', '37.720000', '26.000000', '3816.000000', '637.000000', '1935.000000', '642.000000', '4.469700', '221300.000000']\n",
            "['-117.830000', '33.790000', '29.000000', '1454.000000', '236.000000', '724.000000', '262.000000', '4.854200', '218100.000000']\n",
            "['-117.890000', '33.730000', '33.000000', '1308.000000', '375.000000', '2175.000000', '347.000000', '3.082400', '177400.000000']\n",
            "['-117.840000', '34.000000', '26.000000', '797.000000', '117.000000', '383.000000', '114.000000', '6.875800', '253800.000000']\n",
            "['-116.860000', '34.240000', '19.000000', '5411.000000', '1042.000000', '441.000000', '185.000000', '3.132400', '132000.000000']\n",
            "['-121.280000', '38.740000', '33.000000', '4384.000000', '778.000000', '1775.000000', '789.000000', '4.050000', '134700.000000']\n",
            "['-119.630000', '36.640000', '33.000000', '1036.000000', '181.000000', '620.000000', '174.000000', '3.410700', '110400.000000']\n",
            "['-121.060000', '38.250000', '13.000000', '651.000000', '102.000000', '301.000000', '104.000000', '3.652800', '200000.000000']\n",
            "['-122.010000', '37.400000', '24.000000', '1297.000000', '297.000000', '441.000000', '282.000000', '3.143900', '47500.000000']\n",
            "['-117.220000', '33.310000', '12.000000', '2924.000000', '433.000000', '1193.000000', '394.000000', '6.247500', '331300.000000']\n",
            "['-116.310000', '33.730000', '19.000000', '12467.000000', '2508.000000', '4086.000000', '1761.000000', '3.284600', '131900.000000']\n",
            "['-121.290000', '38.020000', '12.000000', '2006.000000', '426.000000', '1849.000000', '396.000000', '2.543700', '99000.000000']\n",
            "['-121.000000', '37.640000', '52.000000', '530.000000', '177.000000', '325.000000', '158.000000', '1.187500', '90600.000000']\n",
            "['-121.080000', '39.210000', '17.000000', '3033.000000', '590.000000', '1319.000000', '583.000000', '2.481100', '111800.000000']\n",
            "['-121.880000', '37.990000', '16.000000', '3787.000000', '515.000000', '1606.000000', '507.000000', '5.567600', '174200.000000']\n",
            "['-117.180000', '32.740000', '20.000000', '1165.000000', '269.000000', '459.000000', '244.000000', '3.175000', '191700.000000']\n",
            "['-117.200000', '32.850000', '22.000000', '3501.000000', '631.000000', '1297.000000', '581.000000', '4.789100', '295300.000000']\n",
            "['-117.160000', '33.920000', '12.000000', '3236.000000', '502.000000', '1610.000000', '502.000000', '4.756800', '143500.000000']\n",
            "['-118.350000', '34.050000', '44.000000', '1856.000000', '493.000000', '1374.000000', '469.000000', '2.098400', '158000.000000']\n",
            "['-119.050000', '36.060000', '23.000000', '2344.000000', '407.000000', '1184.000000', '406.000000', '3.162500', '70600.000000']\n",
            "['-121.150000', '38.690000', '52.000000', '240.000000', '44.000000', '6675.000000', '29.000000', '6.135900', '225000.000000']\n",
            "['-123.160000', '39.130000', '33.000000', '1320.000000', '303.000000', '1048.000000', '303.000000', '1.781300', '94700.000000']\n",
            "['-121.360000', '38.590000', '32.000000', '3303.000000', '480.000000', '1185.000000', '436.000000', '5.050800', '225700.000000']\n",
            "['-118.280000', '33.730000', '52.000000', '2085.000000', '588.000000', '1767.000000', '516.000000', '2.193500', '243200.000000']\n",
            "['-118.360000', '33.890000', '27.000000', '2837.000000', '684.000000', '2141.000000', '648.000000', '3.132500', '215000.000000']\n",
            "['-121.240000', '38.630000', '4.000000', '11021.000000', '1565.000000', '3857.000000', '1494.000000', '7.258200', '273200.000000']\n",
            "['-117.690000', '33.550000', '3.000000', '1618.000000', '266.000000', '710.000000', '246.000000', '6.074300', '274300.000000']\n",
            "['-118.460000', '34.270000', '28.000000', '1865.000000', '463.000000', '1182.000000', '440.000000', '2.619300', '172300.000000']\n",
            "['-122.280000', '37.860000', '52.000000', '3007.000000', '691.000000', '1582.000000', '636.000000', '2.565200', '157700.000000']\n",
            "['-118.280000', '33.940000', '32.000000', '1381.000000', '375.000000', '1268.000000', '354.000000', '1.105100', '94200.000000']\n",
            "['-122.180000', '37.730000', '42.000000', '909.000000', '215.000000', '646.000000', '198.000000', '2.906300', '80000.000000']\n",
            "['-122.870000', '38.390000', '34.000000', '1138.000000', '205.000000', '541.000000', '180.000000', '4.514700', '271400.000000']\n",
            "['-119.750000', '34.440000', '28.000000', '1080.000000', '298.000000', '524.000000', '251.000000', '1.843200', '327300.000000']\n",
            "['-117.210000', '32.850000', '15.000000', '2593.000000', '521.000000', '901.000000', '456.000000', '4.206500', '277800.000000']\n",
            "['-118.200000', '33.820000', '34.000000', '2807.000000', '768.000000', '2217.000000', '744.000000', '2.428600', '204800.000000']\n",
            "['-121.880000', '37.320000', '40.000000', '1331.000000', '374.000000', '1276.000000', '389.000000', '2.754600', '172500.000000']\n",
            "['-118.460000', '34.140000', '34.000000', '5264.000000', '771.000000', '1738.000000', '753.000000', '8.811500', '500001.000000']\n",
            "['-118.290000', '34.090000', '35.000000', '2198.000000', '998.000000', '3441.000000', '912.000000', '2.046700', '158300.000000']\n",
            "['-117.880000', '34.110000', '30.000000', '3082.000000', '602.000000', '2008.000000', '619.000000', '4.141100', '182700.000000']\n",
            "['-117.680000', '33.650000', '6.000000', '10395.000000', '1915.000000', '4783.000000', '1811.000000', '5.928000', '239900.000000']\n",
            "['-120.350000', '39.340000', '29.000000', '1986.000000', '474.000000', '337.000000', '100.000000', '4.027800', '95800.000000']\n",
            "['-118.020000', '33.820000', '19.000000', '2485.000000', '437.000000', '1286.000000', '431.000000', '4.746600', '258300.000000']\n",
            "['-118.350000', '33.920000', '24.000000', '2728.000000', '845.000000', '2023.000000', '773.000000', '2.750000', '239700.000000']\n",
            "['-122.340000', '37.970000', '19.000000', '2237.000000', '580.000000', '1438.000000', '551.000000', '2.338200', '120700.000000']\n",
            "['-118.330000', '34.020000', '46.000000', '1528.000000', '391.000000', '933.000000', '366.000000', '2.197900', '125700.000000']\n",
            "['-118.400000', '33.900000', '37.000000', '2458.000000', '400.000000', '920.000000', '375.000000', '7.892400', '500001.000000']\n",
            "['-117.970000', '33.730000', '18.000000', '3698.000000', '574.000000', '2046.000000', '614.000000', '6.298400', '269800.000000']\n",
            "['-121.320000', '38.570000', '15.000000', '3369.000000', '499.000000', '1733.000000', '470.000000', '5.310000', '127500.000000']\n",
            "['-117.940000', '33.880000', '46.000000', '1747.000000', '312.000000', '770.000000', '296.000000', '5.421700', '256000.000000']\n",
            "['-118.540000', '34.150000', '26.000000', '10111.000000', '1295.000000', '3599.000000', '1257.000000', '10.229200', '500001.000000']\n",
            "['-117.860000', '33.830000', '23.000000', '2377.000000', '403.000000', '1101.000000', '408.000000', '5.343900', '227100.000000']\n",
            "['-119.950000', '36.800000', '30.000000', '1233.000000', '214.000000', '620.000000', '199.000000', '3.429700', '112500.000000']\n",
            "['-121.420000', '36.860000', '41.000000', '440.000000', '106.000000', '389.000000', '94.000000', '2.681800', '225000.000000']\n",
            "['-117.090000', '32.690000', '34.000000', '1469.000000', '267.000000', '1031.000000', '267.000000', '3.458300', '112700.000000']\n",
            "['-119.200000', '34.150000', '27.000000', '2076.000000', '681.000000', '1904.000000', '647.000000', '1.477300', '160800.000000']\n",
            "['-117.170000', '32.760000', '45.000000', '3149.000000', '639.000000', '1160.000000', '661.000000', '2.726600', '354200.000000']\n",
            "['-117.900000', '33.910000', '36.000000', '1376.000000', '257.000000', '687.000000', '221.000000', '3.540300', '195400.000000']\n",
            "['-122.030000', '37.330000', '23.000000', '4221.000000', '671.000000', '1782.000000', '641.000000', '7.486300', '412300.000000']\n",
            "['-118.180000', '33.900000', '31.000000', '2536.000000', '603.000000', '2625.000000', '576.000000', '3.090900', '150900.000000']\n",
            "['-119.050000', '35.320000', '11.000000', '7035.000000', '1455.000000', '3525.000000', '1387.000000', '3.482700', '93600.000000']\n",
            "['-119.670000', '34.470000', '35.000000', '2700.000000', '422.000000', '1995.000000', '383.000000', '4.975700', '500001.000000']\n",
            "['-118.350000', '34.170000', '44.000000', '2572.000000', '613.000000', '1280.000000', '570.000000', '3.558300', '232000.000000']\n",
            "['-118.300000', '33.870000', '31.000000', '1398.000000', '261.000000', '823.000000', '263.000000', '5.064100', '234900.000000']\n",
            "['-118.250000', '34.160000', '52.000000', '2477.000000', '385.000000', '993.000000', '371.000000', '4.913500', '368100.000000']\n",
            "['-117.910000', '33.820000', '29.000000', '1444.000000', '326.000000', '1038.000000', '271.000000', '2.384300', '182900.000000']\n",
            "['-118.360000', '33.980000', '40.000000', '1113.000000', '234.000000', '584.000000', '231.000000', '3.092700', '316000.000000']\n",
            "['-121.290000', '37.990000', '45.000000', '965.000000', '198.000000', '498.000000', '195.000000', '1.694400', '75200.000000']\n",
            "['-122.740000', '38.460000', '9.000000', '2268.000000', '594.000000', '1311.000000', '585.000000', '2.660700', '91500.000000']\n",
            "['-118.290000', '33.930000', '31.000000', '3894.000000', '1017.000000', '3590.000000', '962.000000', '2.043700', '137200.000000']\n",
            "['-122.050000', '37.310000', '25.000000', '4601.000000', '696.000000', '2003.000000', '666.000000', '8.072700', '455500.000000']\n",
            "['-117.080000', '32.570000', '18.000000', '2203.000000', '544.000000', '1943.000000', '497.000000', '2.250000', '103200.000000']\n",
            "['-122.040000', '37.970000', '10.000000', '974.000000', '316.000000', '631.000000', '286.000000', '2.315200', '140600.000000']\n",
            "['-120.310000', '37.110000', '38.000000', '1696.000000', '301.000000', '985.000000', '278.000000', '2.405400', '112500.000000']\n",
            "['-117.270000', '34.100000', '9.000000', '3904.000000', '1042.000000', '3688.000000', '896.000000', '1.802200', '78000.000000']\n",
            "['-118.260000', '33.950000', '44.000000', '1481.000000', '329.000000', '999.000000', '315.000000', '1.514700', '94600.000000']\n",
            "['-118.110000', '34.160000', '52.000000', '1353.000000', '274.000000', '852.000000', '306.000000', '3.458300', '239900.000000']\n",
            "['-118.340000', '33.990000', '34.000000', '397.000000', '132.000000', '250.000000', '121.000000', '1.675000', '166700.000000']\n",
            "['-117.890000', '33.600000', '40.000000', '1639.000000', '352.000000', '498.000000', '278.000000', '5.633600', '500001.000000']\n",
            "['-119.720000', '34.420000', '52.000000', '1759.000000', '387.000000', '980.000000', '402.000000', '4.012500', '261000.000000']\n",
            "['-118.440000', '34.180000', '36.000000', '2077.000000', '496.000000', '1206.000000', '528.000000', '2.232600', '221000.000000']\n",
            "['-122.080000', '37.970000', '9.000000', '2643.000000', '439.000000', '1105.000000', '467.000000', '6.657900', '245200.000000']\n",
            "['-122.450000', '37.760000', '50.000000', '2518.000000', '507.000000', '979.000000', '516.000000', '4.691200', '500001.000000']\n",
            "['-118.220000', '33.940000', '41.000000', '928.000000', '249.000000', '1108.000000', '236.000000', '3.432300', '144600.000000']\n",
            "['-118.330000', '34.070000', '52.000000', '1482.000000', '171.000000', '531.000000', '161.000000', '15.000100', '500001.000000']\n",
            "['-117.660000', '34.050000', '14.000000', '2644.000000', '525.000000', '2021.000000', '511.000000', '3.646700', '147500.000000']\n",
            "['-120.940000', '35.420000', '18.000000', '3418.000000', '686.000000', '970.000000', '453.000000', '3.773800', '279400.000000']\n",
            "['-117.300000', '34.050000', '6.000000', '2155.000000', '544.000000', '1039.000000', '391.000000', '1.667500', '95800.000000']\n",
            "['-117.920000', '33.640000', '5.000000', '949.000000', '287.000000', '497.000000', '244.000000', '2.750000', '225000.000000']\n",
            "['-118.190000', '33.990000', '37.000000', '2073.000000', '614.000000', '2544.000000', '598.000000', '2.905400', '156300.000000']\n",
            "['-122.080000', '37.940000', '44.000000', '2185.000000', '357.000000', '943.000000', '366.000000', '4.725000', '232100.000000']\n",
            "['-117.720000', '34.090000', '33.000000', '4979.000000', '934.000000', '2575.000000', '874.000000', '3.795800', '152500.000000']\n",
            "['-118.190000', '34.080000', '35.000000', '1554.000000', '381.000000', '1487.000000', '374.000000', '1.903800', '139500.000000']\n",
            "['-122.240000', '38.110000', '42.000000', '1743.000000', '388.000000', '889.000000', '341.000000', '2.324100', '99200.000000']\n",
            "['-121.810000', '37.230000', '17.000000', '2319.000000', '324.000000', '1076.000000', '338.000000', '6.466400', '278300.000000']\n",
            "['-118.340000', '34.180000', '45.000000', '3046.000000', '633.000000', '1448.000000', '599.000000', '3.240000', '226900.000000']\n",
            "['-120.570000', '38.200000', '13.000000', '4110.000000', '847.000000', '1796.000000', '706.000000', '2.641700', '122300.000000']\n",
            "['-120.450000', '34.640000', '30.000000', '2330.000000', '422.000000', '1255.000000', '449.000000', '3.851200', '134600.000000']\n",
            "['-118.250000', '33.950000', '25.000000', '764.000000', '200.000000', '801.000000', '220.000000', '1.138400', '100000.000000']\n",
            "['-117.950000', '33.900000', '15.000000', '3057.000000', '479.000000', '1679.000000', '498.000000', '6.842900', '372600.000000']\n",
            "['-117.200000', '33.120000', '18.000000', '4372.000000', '736.000000', '1473.000000', '675.000000', '5.119400', '247800.000000']\n",
            "['-117.300000', '34.530000', '38.000000', '1643.000000', '489.000000', '1196.000000', '406.000000', '1.227500', '64100.000000']\n",
            "['-121.870000', '37.270000', '18.000000', '3561.000000', '560.000000', '1753.000000', '553.000000', '5.029200', '269400.000000']\n",
            "['-118.280000', '34.030000', '40.000000', '2118.000000', '796.000000', '2195.000000', '658.000000', '1.797600', '164600.000000']\n",
            "['-119.770000', '36.440000', '26.000000', '1727.000000', '289.000000', '802.000000', '259.000000', '3.208300', '75000.000000']\n",
            "['-122.380000', '40.090000', '16.000000', '2077.000000', '388.000000', '1155.000000', '389.000000', '3.136100', '84800.000000']\n",
            "['-118.900000', '34.180000', '14.000000', '2627.000000', '328.000000', '1121.000000', '328.000000', '7.050400', '333800.000000']\n",
            "['-121.010000', '37.250000', '16.000000', '2216.000000', '458.000000', '1135.000000', '424.000000', '2.731600', '97500.000000']\n",
            "['-116.980000', '32.720000', '15.000000', '4209.000000', '680.000000', '1914.000000', '641.000000', '4.513500', '158300.000000']\n",
            "['-119.980000', '38.920000', '28.000000', '1408.000000', '312.000000', '522.000000', '221.000000', '2.070800', '89600.000000']\n",
            "['-121.930000', '37.720000', '26.000000', '2806.000000', '459.000000', '1453.000000', '444.000000', '4.910700', '213800.000000']\n",
            "['-117.640000', '34.090000', '34.000000', '2839.000000', '659.000000', '1822.000000', '631.000000', '3.050000', '121300.000000']\n",
            "['-119.850000', '37.390000', '14.000000', '2744.000000', '555.000000', '1153.000000', '474.000000', '2.753000', '111100.000000']\n",
            "['-118.200000', '33.980000', '43.000000', '1091.000000', '320.000000', '1418.000000', '316.000000', '2.152200', '159400.000000']\n",
            "['-120.830000', '37.070000', '16.000000', '3736.000000', '761.000000', '1942.000000', '730.000000', '2.559800', '120200.000000']\n",
            "['-117.070000', '32.580000', '25.000000', '1607.000000', '280.000000', '899.000000', '260.000000', '3.819400', '134400.000000']\n",
            "['-119.050000', '35.340000', '14.000000', '3580.000000', '984.000000', '1933.000000', '912.000000', '2.663700', '175000.000000']\n",
            "['-117.570000', '34.150000', '3.000000', '12806.000000', '2219.000000', '4249.000000', '1499.000000', '5.485000', '343100.000000']\n",
            "['-121.370000', '38.670000', '36.000000', '1786.000000', '338.000000', '974.000000', '319.000000', '2.555000', '72700.000000']\n",
            "['-122.180000', '37.700000', '36.000000', '2639.000000', '533.000000', '1209.000000', '519.000000', '4.026800', '205500.000000']\n",
            "['-116.940000', '32.810000', '8.000000', '2517.000000', '632.000000', '1686.000000', '613.000000', '2.136000', '143500.000000']\n",
            "['-121.210000', '39.240000', '7.000000', '4194.000000', '673.000000', '1355.000000', '566.000000', '4.370200', '226100.000000']\n",
            "['-122.060000', '37.710000', '36.000000', '3541.000000', '570.000000', '1478.000000', '529.000000', '4.635000', '248600.000000']\n",
            "['-118.440000', '34.190000', '11.000000', '2891.000000', '951.000000', '2166.000000', '768.000000', '2.891000', '178100.000000']\n",
            "['-122.360000', '37.720000', '10.000000', '479.000000', '125.000000', '355.000000', '108.000000', '2.708300', '180400.000000']\n",
            "['-121.320000', '38.620000', '29.000000', '2430.000000', '448.000000', '1087.000000', '394.000000', '3.086400', '177900.000000']\n",
            "['-118.270000', '33.940000', '43.000000', '1309.000000', '344.000000', '1182.000000', '340.000000', '1.662500', '88700.000000']\n",
            "['-122.040000', '37.970000', '39.000000', '1323.000000', '245.000000', '705.000000', '261.000000', '3.196800', '151000.000000']\n",
            "['-118.210000', '33.960000', '39.000000', '2050.000000', '529.000000', '1959.000000', '485.000000', '2.138900', '168900.000000']\n",
            "['-117.200000', '33.580000', '2.000000', '30450.000000', '5033.000000', '9419.000000', '3197.000000', '4.593600', '174300.000000']\n",
            "['-120.500000', '37.370000', '18.000000', '8606.000000', '1678.000000', '5303.000000', '1644.000000', '2.401200', '79700.000000']\n",
            "['-118.170000', '33.980000', '36.000000', '627.000000', '177.000000', '834.000000', '175.000000', '2.984400', '163600.000000']\n",
            "['-117.880000', '33.830000', '22.000000', '3522.000000', '543.000000', '1706.000000', '524.000000', '6.468500', '241200.000000']\n",
            "['-118.290000', '33.990000', '46.000000', '2198.000000', '530.000000', '2067.000000', '497.000000', '2.054200', '103400.000000']\n",
            "['-117.420000', '34.100000', '18.000000', '3977.000000', '809.000000', '2231.000000', '742.000000', '4.139900', '115400.000000']\n",
            "['-116.960000', '32.710000', '18.000000', '2413.000000', '533.000000', '1129.000000', '551.000000', '2.456700', '155000.000000']\n",
            "['-118.360000', '34.070000', '52.000000', '2046.000000', '451.000000', '944.000000', '435.000000', '3.426500', '456900.000000']\n",
            "['-122.260000', '38.330000', '34.000000', '2048.000000', '316.000000', '780.000000', '267.000000', '5.815000', '339200.000000']\n",
            "['-120.510000', '37.290000', '20.000000', '4927.000000', '1042.000000', '4205.000000', '1009.000000', '1.767900', '79800.000000']\n",
            "['-117.940000', '33.620000', '25.000000', '1188.000000', '264.000000', '569.000000', '249.000000', '3.660700', '500001.000000']\n",
            "['-118.270000', '33.940000', '30.000000', '1041.000000', '275.000000', '877.000000', '270.000000', '1.526800', '91600.000000']\n",
            "['-117.930000', '34.090000', '37.000000', '1185.000000', '225.000000', '769.000000', '235.000000', '4.462500', '154200.000000']\n",
            "['-118.220000', '33.920000', '43.000000', '1195.000000', '256.000000', '1251.000000', '262.000000', '3.453900', '125000.000000']\n",
            "['-121.840000', '37.320000', '16.000000', '1866.000000', '364.000000', '1835.000000', '412.000000', '5.336300', '212800.000000']\n",
            "['-122.030000', '37.830000', '24.000000', '5948.000000', '738.000000', '1997.000000', '710.000000', '9.870800', '500001.000000']\n",
            "['-122.460000', '38.290000', '21.000000', '2423.000000', '560.000000', '1098.000000', '503.000000', '2.364000', '173300.000000']\n",
            "['-118.320000', '34.010000', '50.000000', '1842.000000', '377.000000', '817.000000', '341.000000', '3.154800', '157700.000000']\n",
            "['-118.020000', '33.950000', '35.000000', '2085.000000', '400.000000', '1112.000000', '391.000000', '3.488600', '173900.000000']\n",
            "['-118.310000', '34.190000', '13.000000', '3801.000000', '1116.000000', '1986.000000', '1078.000000', '2.087500', '222700.000000']\n",
            "['-117.800000', '34.100000', '13.000000', '2996.000000', '495.000000', '1187.000000', '464.000000', '6.245600', '161700.000000']\n",
            "['-118.460000', '34.260000', '33.000000', '1358.000000', '247.000000', '738.000000', '235.000000', '5.094700', '210300.000000']\n",
            "['-121.940000', '37.340000', '41.000000', '2151.000000', '473.000000', '1092.000000', '469.000000', '3.732100', '250000.000000']\n",
            "['-117.640000', '33.870000', '2.000000', '17470.000000', '2727.000000', '5964.000000', '1985.000000', '6.230800', '257900.000000']\n",
            "['-117.900000', '34.110000', '23.000000', '4776.000000', '1316.000000', '4797.000000', '1187.000000', '2.166700', '142600.000000']\n",
            "['-118.340000', '34.110000', '51.000000', '937.000000', '348.000000', '527.000000', '333.000000', '4.357100', '468800.000000']\n",
            "['-122.310000', '37.560000', '45.000000', '1685.000000', '321.000000', '815.000000', '314.000000', '4.295500', '309700.000000']\n",
            "['-118.360000', '34.210000', '41.000000', '337.000000', '65.000000', '198.000000', '50.000000', '1.892900', '152900.000000']\n",
            "['-122.450000', '37.710000', '45.000000', '2253.000000', '431.000000', '1382.000000', '392.000000', '4.256200', '221600.000000']\n",
            "['-118.680000', '34.130000', '9.000000', '11251.000000', '1594.000000', '3029.000000', '1227.000000', '6.727300', '500001.000000']\n",
            "['-119.640000', '36.850000', '15.000000', '2397.000000', '353.000000', '1258.000000', '347.000000', '4.990400', '157300.000000']\n",
            "['-122.160000', '37.760000', '45.000000', '2299.000000', '514.000000', '1437.000000', '484.000000', '2.512200', '95500.000000']\n",
            "['-117.990000', '33.670000', '19.000000', '3808.000000', '790.000000', '1776.000000', '756.000000', '4.625000', '282200.000000']\n",
            "['-121.830000', '37.400000', '27.000000', '1145.000000', '150.000000', '492.000000', '160.000000', '5.716000', '348300.000000']\n",
            "['-118.190000', '35.050000', '14.000000', '2992.000000', '573.000000', '1631.000000', '526.000000', '3.745200', '83200.000000']\n",
            "['-118.030000', '33.770000', '24.000000', '3810.000000', '579.000000', '1818.000000', '590.000000', '5.805300', '255900.000000']\n",
            "['-122.260000', '37.820000', '22.000000', '3682.000000', '1270.000000', '2024.000000', '1250.000000', '1.218500', '170000.000000']\n",
            "['-118.370000', '33.930000', '46.000000', '442.000000', '88.000000', '255.000000', '94.000000', '4.447400', '246900.000000']\n",
            "['-118.220000', '34.050000', '43.000000', '1153.000000', '411.000000', '1667.000000', '409.000000', '1.940200', '139300.000000']\n",
            "['-122.490000', '37.680000', '34.000000', '3718.000000', '676.000000', '2510.000000', '632.000000', '5.331100', '270800.000000']\n",
            "['-116.510000', '33.840000', '16.000000', '980.000000', '193.000000', '454.000000', '185.000000', '4.072900', '100000.000000']\n",
            "['-121.880000', '37.660000', '29.000000', '2702.000000', '680.000000', '1360.000000', '642.000000', '3.112700', '233000.000000']\n",
            "['-122.440000', '37.800000', '52.000000', '2869.000000', '594.000000', '500.000000', '335.000000', '5.037600', '500001.000000']\n",
            "['-121.340000', '38.050000', '16.000000', '667.000000', '92.000000', '267.000000', '90.000000', '5.614700', '244700.000000']\n",
            "['-117.870000', '33.840000', '16.000000', '1545.000000', '354.000000', '730.000000', '350.000000', '4.511200', '139000.000000']\n",
            "['-122.280000', '37.890000', '52.000000', '2315.000000', '408.000000', '835.000000', '369.000000', '4.589300', '290100.000000']\n",
            "['-121.830000', '37.990000', '18.000000', '2741.000000', '449.000000', '1507.000000', '460.000000', '4.756600', '142500.000000']\n",
            "['-119.530000', '36.650000', '43.000000', '1676.000000', '320.000000', '1056.000000', '276.000000', '2.556200', '93200.000000']\n",
            "['-117.390000', '34.090000', '10.000000', '5736.000000', '945.000000', '3528.000000', '932.000000', '4.395800', '130700.000000']\n",
            "['-118.230000', '33.900000', '45.000000', '1285.000000', '238.000000', '840.000000', '211.000000', '3.410700', '112500.000000']\n",
            "['-121.320000', '38.670000', '21.000000', '3455.000000', '706.000000', '1605.000000', '704.000000', '3.138200', '91600.000000']\n",
            "['-118.330000', '34.050000', '46.000000', '3015.000000', '795.000000', '2300.000000', '725.000000', '2.070600', '268500.000000']\n",
            "['-122.210000', '37.840000', '44.000000', '3424.000000', '597.000000', '1358.000000', '597.000000', '6.019400', '292300.000000']\n",
            "['-117.900000', '34.530000', '8.000000', '3484.000000', '647.000000', '2169.000000', '619.000000', '3.976600', '135800.000000']\n",
            "['-122.470000', '37.510000', '15.000000', '4974.000000', '764.000000', '2222.000000', '774.000000', '6.760600', '364300.000000']\n",
            "['-118.020000', '33.770000', '7.000000', '586.000000', '118.000000', '232.000000', '107.000000', '5.207700', '181300.000000']\n",
            "['-119.730000', '34.430000', '35.000000', '2703.000000', '654.000000', '1383.000000', '631.000000', '4.527800', '340400.000000']\n",
            "['-120.680000', '35.140000', '34.000000', '3100.000000', '617.000000', '1155.000000', '542.000000', '3.093800', '245900.000000']\n",
            "['-122.470000', '38.290000', '14.000000', '3732.000000', '846.000000', '1277.000000', '775.000000', '2.565800', '208000.000000']\n",
            "['-121.900000', '37.350000', '52.000000', '1034.000000', '239.000000', '531.000000', '223.000000', '2.741100', '227100.000000']\n",
            "['-121.870000', '37.260000', '17.000000', '1051.000000', '172.000000', '446.000000', '173.000000', '5.665200', '234500.000000']\n",
            "['-117.970000', '33.890000', '15.000000', '3801.000000', '542.000000', '1992.000000', '526.000000', '9.068300', '367400.000000']\n",
            "['-116.870000', '33.910000', '37.000000', '1858.000000', '361.000000', '1632.000000', '310.000000', '2.753600', '73100.000000']\n",
            "['-122.150000', '37.470000', '38.000000', '1560.000000', '301.000000', '1331.000000', '316.000000', '3.052100', '151500.000000']\n",
            "['-118.310000', '34.010000', '52.000000', '2547.000000', '475.000000', '1417.000000', '444.000000', '1.821400', '123200.000000']\n",
            "['-118.440000', '34.040000', '49.000000', '32.000000', '7.000000', '14.000000', '7.000000', '2.187500', '225000.000000']\n",
            "['-118.010000', '33.850000', '29.000000', '2064.000000', '447.000000', '1265.000000', '400.000000', '3.886400', '209300.000000']\n",
            "['-122.270000', '41.200000', '52.000000', '4513.000000', '985.000000', '1926.000000', '815.000000', '1.592300', '56000.000000']\n",
            "['-122.320000', '37.560000', '49.000000', '2016.000000', '299.000000', '691.000000', '288.000000', '5.549000', '500001.000000']\n",
            "['-119.770000', '36.720000', '43.000000', '1763.000000', '389.000000', '1623.000000', '390.000000', '1.442700', '47700.000000']\n",
            "['-122.140000', '37.840000', '24.000000', '2131.000000', '343.000000', '874.000000', '373.000000', '5.634900', '355600.000000']\n",
            "['-118.340000', '34.090000', '14.000000', '3032.000000', '999.000000', '1691.000000', '841.000000', '2.200000', '210000.000000']\n",
            "['-117.610000', '34.340000', '18.000000', '5210.000000', '912.000000', '1301.000000', '464.000000', '4.862300', '176900.000000']\n",
            "['-118.230000', '33.760000', '21.000000', '49.000000', '14.000000', '29.000000', '16.000000', '5.000000', '87500.000000']\n",
            "['-117.890000', '33.770000', '32.000000', '2342.000000', '570.000000', '1445.000000', '453.000000', '4.195100', '195000.000000']\n",
            "['-118.260000', '33.910000', '39.000000', '967.000000', '256.000000', '903.000000', '256.000000', '1.903800', '93100.000000']\n",
            "['-118.400000', '33.990000', '39.000000', '1613.000000', '380.000000', '1113.000000', '356.000000', '2.825000', '276700.000000']\n",
            "['-117.140000', '32.920000', '15.000000', '1558.000000', '314.000000', '949.000000', '332.000000', '5.286400', '174400.000000']\n",
            "['-118.150000', '33.770000', '52.000000', '2204.000000', '498.000000', '899.000000', '445.000000', '4.176500', '393900.000000']\n",
            "['-118.590000', '34.210000', '17.000000', '2737.000000', '868.000000', '2924.000000', '785.000000', '2.579700', '183500.000000']\n",
            "['-121.370000', '36.830000', '14.000000', '3658.000000', '612.000000', '1951.000000', '600.000000', '4.760000', '216000.000000']\n",
            "['-120.480000', '35.020000', '17.000000', '2721.000000', '477.000000', '1672.000000', '492.000000', '2.979800', '204800.000000']\n",
            "['-118.440000', '34.210000', '41.000000', '1440.000000', '325.000000', '1014.000000', '322.000000', '2.875000', '168600.000000']\n",
            "['-122.320000', '38.330000', '17.000000', '851.000000', '118.000000', '370.000000', '123.000000', '5.087700', '209300.000000']\n",
            "['-121.870000', '37.280000', '21.000000', '3305.000000', '749.000000', '2459.000000', '701.000000', '3.968800', '249600.000000']\n",
            "['-117.100000', '33.070000', '16.000000', '2402.000000', '336.000000', '1080.000000', '365.000000', '8.680300', '347300.000000']\n",
            "['-118.030000', '33.760000', '25.000000', '4650.000000', '849.000000', '2503.000000', '790.000000', '5.742000', '221900.000000']\n",
            "['-122.400000', '37.730000', '48.000000', '1489.000000', '326.000000', '1115.000000', '356.000000', '2.636400', '199300.000000']\n",
            "['-118.340000', '34.120000', '41.000000', '3257.000000', '679.000000', '1237.000000', '638.000000', '4.241500', '409600.000000']\n",
            "['-121.040000', '39.240000', '48.000000', '1188.000000', '227.000000', '471.000000', '219.000000', '2.312500', '125700.000000']\n",
            "['-117.970000', '33.910000', '19.000000', '8096.000000', '1318.000000', '3853.000000', '1313.000000', '6.007600', '269500.000000']\n",
            "['-117.100000', '32.680000', '45.000000', '1183.000000', '289.000000', '900.000000', '266.000000', '2.494300', '99600.000000']\n",
            "['-116.610000', '33.930000', '35.000000', '321.000000', '71.000000', '157.000000', '61.000000', '2.805600', '68100.000000']\n",
            "['-118.390000', '34.080000', '27.000000', '6605.000000', '1710.000000', '2665.000000', '1520.000000', '3.808800', '500001.000000']\n",
            "['-121.230000', '38.650000', '19.000000', '2926.000000', '476.000000', '1349.000000', '480.000000', '4.643700', '212900.000000']\n",
            "['-122.200000', '37.790000', '29.000000', '1640.000000', '376.000000', '939.000000', '340.000000', '2.832100', '150000.000000']\n",
            "['-117.180000', '32.830000', '23.000000', '2105.000000', '525.000000', '1218.000000', '484.000000', '3.375000', '184100.000000']\n",
            "['-118.080000', '33.770000', '26.000000', '2461.000000', '562.000000', '971.000000', '544.000000', '2.194400', '87500.000000']\n",
            "['-120.450000', '34.660000', '7.000000', '3329.000000', '504.000000', '1462.000000', '452.000000', '4.787500', '198300.000000']\n",
            "['-117.820000', '33.680000', '4.000000', '1346.000000', '213.000000', '603.000000', '219.000000', '8.797400', '360600.000000']\n",
            "['-121.920000', '36.610000', '27.000000', '1619.000000', '352.000000', '831.000000', '344.000000', '4.300000', '226400.000000']\n",
            "['-122.010000', '37.530000', '19.000000', '4572.000000', '712.000000', '2346.000000', '709.000000', '6.066700', '245700.000000']\n",
            "['-118.270000', '33.950000', '34.000000', '987.000000', '248.000000', '902.000000', '221.000000', '2.336500', '98000.000000']\n",
            "['-119.960000', '38.940000', '27.000000', '1492.000000', '393.000000', '717.000000', '254.000000', '1.890600', '104200.000000']\n",
            "['-121.420000', '36.570000', '13.000000', '2685.000000', '621.000000', '2474.000000', '573.000000', '2.877500', '134100.000000']\n",
            "['-120.960000', '37.660000', '15.000000', '2485.000000', '434.000000', '1296.000000', '434.000000', '3.854200', '145200.000000']\n",
            "['-118.650000', '34.200000', '23.000000', '7480.000000', '1084.000000', '3037.000000', '1058.000000', '6.922300', '338400.000000']\n",
            "['-122.310000', '38.000000', '29.000000', '3108.000000', '534.000000', '1687.000000', '516.000000', '4.333300', '170800.000000']\n",
            "['-118.350000', '34.070000', '48.000000', '890.000000', '255.000000', '434.000000', '232.000000', '3.611100', '450000.000000']\n",
            "['-118.190000', '33.790000', '29.000000', '3497.000000', '1096.000000', '2994.000000', '919.000000', '1.810900', '137500.000000']\n",
            "['-122.140000', '37.410000', '35.000000', '2419.000000', '426.000000', '949.000000', '433.000000', '6.458800', '437100.000000']\n",
            "['-119.810000', '36.710000', '25.000000', '1026.000000', '221.000000', '789.000000', '183.000000', '1.562500', '52800.000000']\n",
            "['-117.180000', '32.680000', '29.000000', '1539.000000', '344.000000', '556.000000', '289.000000', '3.250000', '500001.000000']\n",
            "['-117.770000', '34.080000', '27.000000', '5929.000000', '932.000000', '2817.000000', '828.000000', '6.043400', '214800.000000']\n",
            "['-118.110000', '33.860000', '33.000000', '2389.000000', '410.000000', '1229.000000', '393.000000', '5.388900', '234900.000000']\n",
            "['-118.280000', '34.090000', '52.000000', '1739.000000', '464.000000', '938.000000', '482.000000', '2.442900', '228800.000000']\n",
            "['-117.930000', '34.040000', '30.000000', '1336.000000', '239.000000', '905.000000', '253.000000', '4.885400', '178100.000000']\n",
            "['-117.050000', '32.760000', '37.000000', '4879.000000', '906.000000', '2076.000000', '871.000000', '3.662500', '154800.000000']\n",
            "['-118.250000', '33.870000', '18.000000', '6812.000000', '1263.000000', '3704.000000', '1216.000000', '4.250000', '169200.000000']\n",
            "['-122.410000', '37.780000', '52.000000', '254.000000', '72.000000', '153.000000', '29.000000', '3.862500', '350000.000000']\n",
            "['-119.720000', '34.470000', '34.000000', '3262.000000', '533.000000', '1265.000000', '502.000000', '5.841100', '381800.000000']\n",
            "['-118.120000', '34.150000', '22.000000', '1671.000000', '480.000000', '1005.000000', '443.000000', '3.011900', '171400.000000']\n",
            "['-122.210000', '37.830000', '40.000000', '4991.000000', '674.000000', '1616.000000', '654.000000', '7.554400', '411500.000000']\n",
            "['-119.380000', '36.560000', '14.000000', '3965.000000', '804.000000', '1945.000000', '733.000000', '2.690600', '95300.000000']\n",
            "['-118.380000', '34.280000', '22.000000', '4428.000000', '825.000000', '3152.000000', '836.000000', '4.793200', '166300.000000']\n",
            "['-117.340000', '34.120000', '26.000000', '1008.000000', '164.000000', '568.000000', '196.000000', '3.351600', '105600.000000']\n",
            "['-122.060000', '37.390000', '22.000000', '1236.000000', '290.000000', '413.000000', '274.000000', '3.687500', '40000.000000']\n",
            "['-118.460000', '34.070000', '49.000000', '2418.000000', '301.000000', '850.000000', '318.000000', '14.286700', '500001.000000']\n",
            "['-117.900000', '34.150000', '21.000000', '2056.000000', '461.000000', '1332.000000', '429.000000', '3.394200', '212800.000000']\n",
            "['-123.470000', '39.800000', '18.000000', '2130.000000', '545.000000', '863.000000', '346.000000', '2.357100', '79200.000000']\n",
            "['-121.910000', '37.250000', '31.000000', '1944.000000', '343.000000', '975.000000', '334.000000', '4.920500', '240500.000000']\n",
            "['-122.320000', '38.320000', '22.000000', '2483.000000', '528.000000', '1478.000000', '492.000000', '4.087800', '164400.000000']\n",
            "['-118.140000', '33.880000', '30.000000', '2596.000000', '580.000000', '1662.000000', '539.000000', '4.050700', '179500.000000']\n",
            "['-117.820000', '33.810000', '25.000000', '2662.000000', '402.000000', '1247.000000', '401.000000', '5.439500', '244000.000000']\n",
            "['-118.270000', '34.070000', '38.000000', '1270.000000', '556.000000', '1692.000000', '450.000000', '1.870000', '170800.000000']\n",
            "['-117.440000', '33.950000', '31.000000', '914.000000', '177.000000', '556.000000', '161.000000', '3.734400', '115300.000000']\n",
            "['-118.100000', '34.070000', '36.000000', '1240.000000', '349.000000', '1383.000000', '338.000000', '2.493100', '170300.000000']\n",
            "['-121.830000', '37.370000', '43.000000', '1461.000000', '284.000000', '800.000000', '258.000000', '3.227900', '182400.000000']\n",
            "['-120.900000', '35.330000', '16.000000', '1576.000000', '287.000000', '595.000000', '262.000000', '3.588000', '266300.000000']\n",
            "['-121.750000', '36.920000', '48.000000', '1801.000000', '353.000000', '1071.000000', '361.000000', '3.600000', '194500.000000']\n",
            "['-117.910000', '33.650000', '24.000000', '885.000000', '321.000000', '590.000000', '254.000000', '2.625000', '217900.000000']\n",
            "['-117.200000', '32.800000', '33.000000', '2573.000000', '436.000000', '1084.000000', '443.000000', '4.241700', '294100.000000']\n",
            "['-118.230000', '34.180000', '43.000000', '1708.000000', '280.000000', '768.000000', '276.000000', '6.207000', '457400.000000']\n",
            "['-118.320000', '33.930000', '34.000000', '1536.000000', '273.000000', '804.000000', '287.000000', '4.961500', '157800.000000']\n",
            "['-117.760000', '34.120000', '16.000000', '9020.000000', '1509.000000', '3575.000000', '1486.000000', '4.241500', '275700.000000']\n",
            "['-118.450000', '34.230000', '25.000000', '4393.000000', '1369.000000', '3781.000000', '1267.000000', '2.583300', '183700.000000']\n",
            "['-122.450000', '41.280000', '15.000000', '2740.000000', '503.000000', '1188.000000', '445.000000', '3.451900', '128800.000000']\n",
            "['-118.330000', '34.010000', '43.000000', '2227.000000', '564.000000', '956.000000', '472.000000', '2.021700', '187500.000000']\n",
            "['-124.160000', '40.790000', '46.000000', '3042.000000', '597.000000', '1206.000000', '541.000000', '2.113500', '90600.000000']\n",
            "['-118.140000', '34.060000', '37.000000', '1339.000000', '258.000000', '706.000000', '238.000000', '4.756900', '253800.000000']\n",
            "['-121.140000', '38.770000', '15.000000', '10282.000000', '1333.000000', '3868.000000', '1300.000000', '6.478900', '287800.000000']\n",
            "['-117.750000', '33.830000', '14.000000', '2452.000000', '296.000000', '954.000000', '275.000000', '8.237500', '388300.000000']\n",
            "['-122.120000', '37.690000', '30.000000', '1197.000000', '269.000000', '695.000000', '279.000000', '3.437500', '157800.000000']\n",
            "['-117.790000', '34.070000', '33.000000', '1694.000000', '333.000000', '1689.000000', '301.000000', '3.758300', '116300.000000']\n",
            "['-118.410000', '34.090000', '37.000000', '2716.000000', '302.000000', '809.000000', '291.000000', '15.000100', '500001.000000']\n",
            "['-118.530000', '34.440000', '19.000000', '1285.000000', '195.000000', '650.000000', '193.000000', '6.039800', '217800.000000']\n",
            "['-120.780000', '38.740000', '28.000000', '4236.000000', '877.000000', '2008.000000', '881.000000', '2.160300', '111300.000000']\n",
            "['-122.350000', '37.580000', '26.000000', '854.000000', '246.000000', '396.000000', '231.000000', '2.839300', '375000.000000']\n",
            "['-119.720000', '36.820000', '15.000000', '946.000000', '239.000000', '550.000000', '246.000000', '2.263900', '52500.000000']\n",
            "['-118.140000', '34.010000', '42.000000', '1973.000000', '510.000000', '1841.000000', '502.000000', '2.532600', '156500.000000']\n",
            "['-117.120000', '32.750000', '25.000000', '2222.000000', '634.000000', '1025.000000', '568.000000', '1.640000', '130000.000000']\n",
            "['-117.900000', '34.130000', '37.000000', '1801.000000', '422.000000', '1564.000000', '425.000000', '3.159700', '133000.000000']\n",
            "['-117.390000', '33.690000', '5.000000', '6529.000000', '997.000000', '3464.000000', '1006.000000', '5.327500', '168700.000000']\n",
            "['-122.450000', '40.610000', '17.000000', '785.000000', '155.000000', '417.000000', '136.000000', '2.328900', '58200.000000']\n",
            "['-117.120000', '34.210000', '19.000000', '4641.000000', '994.000000', '1334.000000', '474.000000', '4.597200', '123900.000000']\n",
            "['-122.760000', '38.460000', '14.000000', '4742.000000', '756.000000', '2149.000000', '732.000000', '4.515200', '199200.000000']\n",
            "['-118.190000', '34.120000', '46.000000', '3387.000000', '820.000000', '2833.000000', '813.000000', '2.987000', '176900.000000']\n",
            "['-118.310000', '34.060000', '36.000000', '369.000000', '147.000000', '145.000000', '136.000000', '0.880400', '450000.000000']\n",
            "['-122.340000', '37.950000', '45.000000', '1128.000000', '240.000000', '702.000000', '270.000000', '3.671900', '134100.000000']\n",
            "['-118.220000', '34.660000', '17.000000', '3810.000000', '662.000000', '1867.000000', '586.000000', '4.900000', '152400.000000']\n",
            "['-118.290000', '34.050000', '40.000000', '907.000000', '349.000000', '1426.000000', '323.000000', '1.857100', '143800.000000']\n",
            "['-117.960000', '33.870000', '37.000000', '1785.000000', '360.000000', '1155.000000', '403.000000', '4.798400', '175800.000000']\n",
            "['-119.570000', '34.380000', '22.000000', '2512.000000', '426.000000', '919.000000', '341.000000', '5.759000', '425000.000000']\n",
            "['-118.280000', '33.750000', '41.000000', '1305.000000', '381.000000', '1384.000000', '369.000000', '2.450000', '186800.000000']\n",
            "['-121.890000', '38.010000', '32.000000', '1000.000000', '188.000000', '663.000000', '212.000000', '4.097200', '99200.000000']\n",
            "['-118.130000', '34.160000', '52.000000', '1872.000000', '357.000000', '984.000000', '364.000000', '4.000000', '250400.000000']\n",
            "['-118.040000', '34.180000', '37.000000', '3134.000000', '532.000000', '1220.000000', '508.000000', '5.286500', '455400.000000']\n",
            "['-123.220000', '39.160000', '32.000000', '1149.000000', '187.000000', '499.000000', '208.000000', '3.658700', '154600.000000']\n",
            "['-120.690000', '38.440000', '13.000000', '1473.000000', '265.000000', '597.000000', '228.000000', '4.291700', '121300.000000']\n",
            "['-118.040000', '33.800000', '33.000000', '2685.000000', '466.000000', '1359.000000', '476.000000', '5.026100', '245100.000000']\n",
            "['-119.800000', '36.730000', '45.000000', '925.000000', '231.000000', '797.000000', '228.000000', '1.701100', '44800.000000']\n",
            "['-117.490000', '33.910000', '17.000000', '5364.000000', '1020.000000', '3754.000000', '936.000000', '3.285700', '139100.000000']\n",
            "['-118.340000', '34.010000', '37.000000', '4291.000000', '1102.000000', '1941.000000', '953.000000', '1.794500', '106300.000000']\n",
            "['-118.370000', '34.190000', '41.000000', '2924.000000', '867.000000', '2751.000000', '836.000000', '2.100000', '171600.000000']\n",
            "['-117.270000', '34.450000', '8.000000', '6463.000000', '1095.000000', '3213.000000', '1031.000000', '3.221500', '108800.000000']\n",
            "['-120.450000', '34.870000', '4.000000', '1533.000000', '221.000000', '545.000000', '191.000000', '7.569600', '328700.000000']\n",
            "['-122.320000', '37.520000', '26.000000', '4042.000000', '591.000000', '1611.000000', '578.000000', '8.469300', '419200.000000']\n",
            "['-121.420000', '38.490000', '17.000000', '13180.000000', '2444.000000', '7235.000000', '2335.000000', '3.363000', '103000.000000']\n",
            "['-115.570000', '32.780000', '29.000000', '2321.000000', '367.000000', '1173.000000', '360.000000', '4.037500', '86400.000000']\n",
            "['-118.470000', '33.990000', '52.000000', '2167.000000', '622.000000', '1095.000000', '570.000000', '2.851400', '358700.000000']\n",
            "['-118.270000', '33.960000', '42.000000', '796.000000', '203.000000', '697.000000', '177.000000', '2.037000', '92600.000000']\n",
            "['-118.050000', '33.900000', '41.000000', '550.000000', '129.000000', '642.000000', '125.000000', '1.875000', '119900.000000']\n",
            "['-118.960000', '35.400000', '28.000000', '4667.000000', '875.000000', '2404.000000', '841.000000', '3.232500', '89000.000000']\n",
            "['-117.130000', '32.980000', '5.000000', '2276.000000', '311.000000', '1158.000000', '317.000000', '6.432100', '271900.000000']\n",
            "['-122.040000', '37.610000', '36.000000', '1151.000000', '216.000000', '727.000000', '215.000000', '4.171900', '187000.000000']\n",
            "['-116.580000', '33.090000', '36.000000', '992.000000', '224.000000', '334.000000', '126.000000', '3.008900', '134400.000000']\n",
            "['-121.980000', '38.250000', '4.000000', '2487.000000', '440.000000', '1545.000000', '452.000000', '4.910300', '140400.000000']\n",
            "['-122.300000', '37.920000', '32.000000', '3943.000000', '605.000000', '1524.000000', '614.000000', '6.067700', '321600.000000']\n",
            "['-121.570000', '39.480000', '15.000000', '202.000000', '54.000000', '145.000000', '40.000000', '0.825200', '42500.000000']\n",
            "['-118.090000', '33.920000', '36.000000', '847.000000', '185.000000', '713.000000', '194.000000', '4.854200', '167400.000000']\n",
            "['-117.710000', '33.610000', '25.000000', '3004.000000', '718.000000', '891.000000', '626.000000', '2.395000', '80300.000000']\n",
            "['-118.210000', '33.900000', '41.000000', '941.000000', '233.000000', '973.000000', '253.000000', '1.958300', '102300.000000']\n",
            "['-118.290000', '34.170000', '52.000000', '1732.000000', '305.000000', '875.000000', '311.000000', '4.325000', '292600.000000']\n",
            "['-118.950000', '35.400000', '23.000000', '4483.000000', '894.000000', '2136.000000', '883.000000', '3.687500', '101700.000000']\n",
            "['-117.410000', '34.230000', '17.000000', '889.000000', '131.000000', '439.000000', '141.000000', '6.142600', '155000.000000']\n",
            "['-121.920000', '36.570000', '42.000000', '3944.000000', '738.000000', '1374.000000', '598.000000', '4.174000', '394400.000000']\n",
            "['-121.640000', '39.150000', '15.000000', '2659.000000', '396.000000', '1159.000000', '407.000000', '5.234000', '124900.000000']\n",
            "['-120.920000', '37.630000', '39.000000', '45.000000', '8.000000', '22.000000', '9.000000', '1.767900', '450000.000000']\n",
            "['-122.270000', '37.840000', '52.000000', '1688.000000', '337.000000', '853.000000', '325.000000', '2.180600', '99700.000000']\n",
            "['-118.270000', '34.100000', '51.000000', '3149.000000', '519.000000', '1082.000000', '510.000000', '6.445900', '421600.000000']\n",
            "['-121.810000', '37.240000', '21.000000', '3250.000000', '610.000000', '1978.000000', '568.000000', '4.500000', '234400.000000']\n",
            "['-114.620000', '33.620000', '26.000000', '18.000000', '3.000000', '5.000000', '3.000000', '0.536000', '275000.000000']\n",
            "['-118.090000', '34.710000', '5.000000', '5807.000000', '1182.000000', '2602.000000', '1007.000000', '2.401200', '159400.000000']\n",
            "['-118.200000', '34.020000', '48.000000', '2230.000000', '593.000000', '2419.000000', '598.000000', '2.394400', '130700.000000']\n",
            "['-119.620000', '36.590000', '17.000000', '2287.000000', '390.000000', '1330.000000', '393.000000', '4.019700', '88000.000000']\n",
            "['-118.410000', '34.190000', '42.000000', '779.000000', '145.000000', '450.000000', '148.000000', '3.979200', '193800.000000']\n",
            "['-118.300000', '33.980000', '48.000000', '1998.000000', '410.000000', '1176.000000', '382.000000', '3.045500', '102400.000000']\n",
            "['-117.330000', '34.120000', '38.000000', '1703.000000', '385.000000', '1356.000000', '363.000000', '2.039100', '70400.000000']\n",
            "['-118.500000', '34.020000', '28.000000', '5109.000000', '1482.000000', '2313.000000', '1451.000000', '3.326600', '483300.000000']\n",
            "['-118.070000', '33.920000', '36.000000', '1560.000000', '320.000000', '1348.000000', '314.000000', '3.622000', '174000.000000']\n",
            "['-117.130000', '32.580000', '27.000000', '2511.000000', '615.000000', '1427.000000', '576.000000', '3.164500', '156000.000000']\n",
            "['-117.270000', '34.490000', '7.000000', '2344.000000', '351.000000', '846.000000', '314.000000', '4.736100', '174500.000000']\n",
            "['-121.450000', '38.600000', '44.000000', '2324.000000', '413.000000', '823.000000', '375.000000', '4.662500', '158900.000000']\n",
            "['-121.980000', '37.220000', '46.000000', '10088.000000', '1910.000000', '3728.000000', '1781.000000', '5.232100', '500001.000000']\n",
            "['-120.310000', '36.650000', '24.000000', '943.000000', '209.000000', '514.000000', '156.000000', '2.250000', '76600.000000']\n",
            "['-117.950000', '33.840000', '32.000000', '1378.000000', '492.000000', '1202.000000', '448.000000', '3.402800', '183700.000000']\n",
            "['-119.700000', '36.800000', '34.000000', '1768.000000', '303.000000', '888.000000', '314.000000', '3.808800', '87700.000000']\n",
            "['-121.880000', '37.430000', '17.000000', '3469.000000', '896.000000', '2762.000000', '808.000000', '3.388400', '245800.000000']\n",
            "['-118.430000', '34.260000', '37.000000', '1269.000000', '348.000000', '1835.000000', '335.000000', '3.258300', '147200.000000']\n",
            "['-121.890000', '37.350000', '48.000000', '1562.000000', '439.000000', '1469.000000', '424.000000', '2.567300', '177500.000000']\n",
            "['-121.330000', '38.040000', '15.000000', '2903.000000', '440.000000', '1325.000000', '423.000000', '4.517900', '145600.000000']\n",
            "['-123.730000', '39.170000', '20.000000', '4620.000000', '1042.000000', '1745.000000', '794.000000', '2.375000', '158800.000000']\n",
            "['-118.040000', '33.970000', '34.000000', '1759.000000', '431.000000', '1282.000000', '391.000000', '3.049100', '158200.000000']\n",
            "['-118.150000', '34.190000', '48.000000', '1854.000000', '360.000000', '1126.000000', '382.000000', '3.221600', '161600.000000']\n",
            "['-118.110000', '34.020000', '17.000000', '9559.000000', '1911.000000', '5279.000000', '1844.000000', '5.151500', '318900.000000']\n",
            "['-121.200000', '38.670000', '10.000000', '3875.000000', '668.000000', '1632.000000', '593.000000', '4.690200', '171000.000000']\n",
            "['-118.390000', '34.120000', '29.000000', '6447.000000', '1012.000000', '2184.000000', '960.000000', '8.281600', '500001.000000']\n",
            "['-118.370000', '34.060000', '52.000000', '2239.000000', '423.000000', '832.000000', '411.000000', '5.085800', '470000.000000']\n",
            "['-118.520000', '34.200000', '35.000000', '2891.000000', '594.000000', '1757.000000', '581.000000', '4.357100', '199800.000000']\n",
            "['-118.370000', '33.950000', '52.000000', '836.000000', '175.000000', '747.000000', '166.000000', '4.125000', '174000.000000']\n",
            "['-121.340000', '37.980000', '8.000000', '2628.000000', '428.000000', '1158.000000', '393.000000', '5.300200', '191700.000000']\n",
            "['-119.320000', '36.190000', '11.000000', '3136.000000', '620.000000', '2013.000000', '583.000000', '3.335000', '69700.000000']\n",
            "['-117.840000', '34.040000', '4.000000', '9959.000000', '1544.000000', '4904.000000', '1429.000000', '6.975400', '402500.000000']\n",
            "['-118.230000', '34.150000', '19.000000', '2294.000000', '716.000000', '1686.000000', '680.000000', '3.028800', '258300.000000']\n",
            "['-115.520000', '32.980000', '21.000000', '1302.000000', '327.000000', '1244.000000', '316.000000', '2.205400', '66400.000000']\n",
            "['-117.790000', '34.070000', '34.000000', '975.000000', '192.000000', '870.000000', '183.000000', '3.793300', '116100.000000']\n",
            "['-115.590000', '32.960000', '17.000000', '841.000000', '146.000000', '473.000000', '154.000000', '3.197900', '113500.000000']\n",
            "['-121.830000', '37.300000', '17.000000', '1299.000000', '211.000000', '825.000000', '217.000000', '4.500000', '235800.000000']\n",
            "['-117.270000', '34.500000', '8.000000', '3567.000000', '543.000000', '1133.000000', '419.000000', '5.373300', '302600.000000']\n",
            "['-118.040000', '33.930000', '35.000000', '1805.000000', '387.000000', '1505.000000', '366.000000', '4.166700', '151900.000000']\n",
            "['-122.090000', '37.950000', '32.000000', '1339.000000', '209.000000', '601.000000', '209.000000', '6.026500', '247900.000000']\n",
            "['-122.230000', '37.750000', '50.000000', '1542.000000', '289.000000', '654.000000', '268.000000', '3.963200', '240000.000000']\n",
            "['-117.880000', '33.720000', '38.000000', '1421.000000', '300.000000', '1236.000000', '263.000000', '3.984400', '165300.000000']\n",
            "['-122.420000', '37.750000', '52.000000', '2164.000000', '533.000000', '1122.000000', '469.000000', '3.263200', '306000.000000']\n",
            "['-118.050000', '34.140000', '39.000000', '2125.000000', '295.000000', '862.000000', '303.000000', '8.972800', '500001.000000']\n",
            "['-118.060000', '34.110000', '36.000000', '2178.000000', '485.000000', '914.000000', '412.000000', '2.765600', '239500.000000']\n",
            "['-118.150000', '33.870000', '33.000000', '2373.000000', '552.000000', '1673.000000', '571.000000', '3.068500', '181800.000000']\n",
            "['-117.250000', '32.760000', '38.000000', '2331.000000', '493.000000', '836.000000', '433.000000', '4.912500', '452600.000000']\n",
            "['-117.860000', '33.740000', '34.000000', '2254.000000', '630.000000', '2984.000000', '625.000000', '2.500000', '162500.000000']\n",
            "['-122.530000', '39.090000', '11.000000', '1264.000000', '271.000000', '370.000000', '177.000000', '1.300000', '69700.000000']\n",
            "['-117.970000', '33.680000', '23.000000', '1722.000000', '316.000000', '865.000000', '309.000000', '4.645200', '273800.000000']\n",
            "['-118.060000', '34.030000', '36.000000', '21.000000', '7.000000', '21.000000', '9.000000', '2.375000', '175000.000000']\n",
            "['-117.820000', '33.740000', '25.000000', '2720.000000', '680.000000', '1559.000000', '631.000000', '3.095800', '137800.000000']\n",
            "['-121.800000', '37.700000', '22.000000', '5533.000000', '943.000000', '2474.000000', '910.000000', '4.736100', '216800.000000']\n",
            "['-121.730000', '36.850000', '22.000000', '1304.000000', '278.000000', '887.000000', '227.000000', '3.660700', '206300.000000']\n",
            "['-118.320000', '33.860000', '34.000000', '495.000000', '90.000000', '269.000000', '93.000000', '6.439100', '252300.000000']\n",
            "['-118.280000', '34.040000', '24.000000', '1283.000000', '545.000000', '1932.000000', '516.000000', '1.296900', '160200.000000']\n",
            "['-117.030000', '32.950000', '19.000000', '4500.000000', '815.000000', '2456.000000', '782.000000', '4.503200', '168900.000000']\n",
            "['-117.870000', '33.830000', '27.000000', '2287.000000', '353.000000', '1140.000000', '351.000000', '5.616300', '231000.000000']\n",
            "['-122.090000', '37.650000', '35.000000', '1130.000000', '192.000000', '543.000000', '184.000000', '4.389700', '190600.000000']\n",
            "['-117.600000', '34.030000', '16.000000', '1499.000000', '232.000000', '918.000000', '239.000000', '5.567700', '175400.000000']\n",
            "['-121.460000', '38.610000', '43.000000', '1111.000000', '269.000000', '613.000000', '290.000000', '1.291700', '66300.000000']\n",
            "['-117.960000', '34.530000', '10.000000', '2907.000000', '559.000000', '1681.000000', '531.000000', '3.859400', '141000.000000']\n",
            "['-116.460000', '33.790000', '10.000000', '6960.000000', '1487.000000', '1130.000000', '661.000000', '2.141100', '136400.000000']\n",
            "['-118.540000', '34.370000', '27.000000', '2051.000000', '301.000000', '917.000000', '287.000000', '7.605900', '323700.000000']\n",
            "['-122.160000', '37.450000', '52.000000', '1135.000000', '219.000000', '441.000000', '200.000000', '7.541800', '492000.000000']\n",
            "['-117.710000', '34.060000', '27.000000', '2127.000000', '628.000000', '1970.000000', '534.000000', '1.472200', '91300.000000']\n",
            "['-118.290000', '34.030000', '42.000000', '907.000000', '378.000000', '822.000000', '288.000000', '1.287500', '179200.000000']\n",
            "['-118.180000', '33.900000', '32.000000', '1452.000000', '365.000000', '1888.000000', '366.000000', '3.546100', '146400.000000']\n",
            "['-121.360000', '38.690000', '13.000000', '6850.000000', '1400.000000', '4251.000000', '1421.000000', '3.698900', '93300.000000']\n",
            "['-122.370000', '40.520000', '18.000000', '4547.000000', '774.000000', '2269.000000', '766.000000', '3.789600', '98100.000000']\n",
            "['-122.410000', '37.710000', '49.000000', '1852.000000', '429.000000', '1615.000000', '447.000000', '3.495000', '217800.000000']\n",
            "['-118.530000', '34.240000', '24.000000', '2718.000000', '719.000000', '3018.000000', '644.000000', '2.907600', '275300.000000']\n",
            "['-121.880000', '37.670000', '16.000000', '4070.000000', '624.000000', '1543.000000', '577.000000', '6.521400', '311500.000000']\n",
            "['-120.090000', '37.000000', '11.000000', '3761.000000', '675.000000', '2374.000000', '673.000000', '3.459800', '74600.000000']\n",
            "['-117.100000', '32.750000', '17.000000', '871.000000', '379.000000', '955.000000', '351.000000', '1.437500', '96400.000000']\n",
            "['-119.640000', '36.350000', '30.000000', '1765.000000', '310.000000', '746.000000', '298.000000', '2.812500', '70200.000000']\n",
            "['-118.260000', '33.970000', '47.000000', '1504.000000', '374.000000', '1168.000000', '358.000000', '1.462500', '94200.000000']\n",
            "['-117.600000', '33.910000', '15.000000', '1864.000000', '271.000000', '1006.000000', '288.000000', '7.237900', '251000.000000']\n",
            "['-122.200000', '39.510000', '37.000000', '2358.000000', '413.000000', '1060.000000', '424.000000', '2.833300', '69700.000000']\n",
            "['-122.120000', '37.690000', '10.000000', '2227.000000', '560.000000', '1140.000000', '472.000000', '2.397300', '167300.000000']\n",
            "['-118.200000', '33.970000', '43.000000', '825.000000', '212.000000', '820.000000', '184.000000', '1.889700', '174300.000000']\n",
            "['-121.280000', '38.140000', '38.000000', '2803.000000', '500.000000', '1223.000000', '509.000000', '4.119000', '128800.000000']\n",
            "['-119.030000', '34.230000', '16.000000', '5323.000000', '795.000000', '2493.000000', '779.000000', '5.676200', '271300.000000']\n",
            "['-121.700000', '38.100000', '19.000000', '4896.000000', '1083.000000', '2150.000000', '905.000000', '3.339800', '89700.000000']\n",
            "['-117.960000', '33.830000', '30.000000', '2838.000000', '649.000000', '1758.000000', '593.000000', '3.383100', '197400.000000']\n",
            "['-120.700000', '36.990000', '32.000000', '320.000000', '73.000000', '222.000000', '78.000000', '2.927100', '87500.000000']\n",
            "['-122.390000', '37.740000', '45.000000', '1462.000000', '308.000000', '924.000000', '302.000000', '2.176700', '185300.000000']\n",
            "['-121.760000', '38.410000', '19.000000', '686.000000', '107.000000', '348.000000', '109.000000', '3.930600', '93800.000000']\n",
            "['-121.350000', '38.660000', '8.000000', '3322.000000', '805.000000', '1694.000000', '774.000000', '2.701100', '130700.000000']\n",
            "['-118.670000', '34.280000', '21.000000', '4059.000000', '598.000000', '2133.000000', '634.000000', '5.694900', '235300.000000']\n",
            "['-118.310000', '34.100000', '33.000000', '766.000000', '347.000000', '918.000000', '305.000000', '1.705000', '350000.000000']\n",
            "['-117.690000', '34.040000', '5.000000', '4459.000000', '896.000000', '2028.000000', '881.000000', '4.009600', '182600.000000']\n",
            "['-119.600000', '36.580000', '28.000000', '1452.000000', '300.000000', '919.000000', '308.000000', '2.828700', '73100.000000']\n",
            "['-121.760000', '36.750000', '21.000000', '1141.000000', '257.000000', '671.000000', '195.000000', '3.842400', '155700.000000']\n",
            "['-117.940000', '33.860000', '35.000000', '1235.000000', '227.000000', '875.000000', '220.000000', '4.696400', '183100.000000']\n",
            "['-120.860000', '37.770000', '28.000000', '1208.000000', '232.000000', '535.000000', '232.000000', '2.352300', '94700.000000']\n",
            "['-121.840000', '37.350000', '22.000000', '2914.000000', '768.000000', '2962.000000', '762.000000', '2.203100', '164000.000000']\n",
            "['-121.070000', '38.900000', '52.000000', '1280.000000', '281.000000', '523.000000', '266.000000', '1.737500', '122200.000000']\n",
            "['-118.450000', '33.960000', '24.000000', '3097.000000', '791.000000', '1075.000000', '639.000000', '5.723000', '500001.000000']\n",
            "['-118.290000', '34.180000', '52.000000', '1602.000000', '265.000000', '667.000000', '251.000000', '5.049000', '323500.000000']\n",
            "['-119.970000', '36.440000', '18.000000', '1128.000000', '237.000000', '772.000000', '220.000000', '2.177100', '39200.000000']\n",
            "['-121.930000', '38.310000', '25.000000', '185.000000', '32.000000', '85.000000', '32.000000', '4.875000', '250000.000000']\n",
            "['-118.200000', '33.930000', '38.000000', '1626.000000', '307.000000', '1280.000000', '295.000000', '3.531300', '146500.000000']\n",
            "['-122.180000', '38.230000', '21.000000', '2475.000000', '341.000000', '812.000000', '308.000000', '7.258900', '320400.000000']\n",
            "['-118.010000', '34.140000', '20.000000', '3350.000000', '831.000000', '1816.000000', '744.000000', '2.835200', '161700.000000']\n",
            "['-117.870000', '34.130000', '32.000000', '1741.000000', '373.000000', '872.000000', '333.000000', '3.421900', '194500.000000']\n",
            "['-118.530000', '34.270000', '32.000000', '1931.000000', '298.000000', '948.000000', '314.000000', '5.384700', '329200.000000']\n",
            "['-117.140000', '32.800000', '33.000000', '2670.000000', '435.000000', '1256.000000', '431.000000', '3.941700', '179800.000000']\n",
            "['-118.070000', '34.170000', '34.000000', '4062.000000', '597.000000', '1525.000000', '566.000000', '7.858800', '454800.000000']\n",
            "['-117.580000', '33.880000', '16.000000', '1739.000000', '478.000000', '1235.000000', '420.000000', '2.296900', '116100.000000']\n",
            "['-120.060000', '36.970000', '35.000000', '1859.000000', '428.000000', '1208.000000', '399.000000', '1.404400', '61700.000000']\n",
            "['-121.830000', '38.430000', '24.000000', '1307.000000', '314.000000', '917.000000', '291.000000', '2.224400', '98100.000000']\n",
            "['-122.480000', '37.720000', '45.000000', '1405.000000', '338.000000', '733.000000', '342.000000', '4.111600', '187500.000000']\n",
            "['-116.910000', '32.750000', '5.000000', '8710.000000', '1614.000000', '4372.000000', '1527.000000', '4.781300', '240900.000000']\n",
            "['-119.770000', '36.740000', '20.000000', '1855.000000', '519.000000', '1091.000000', '443.000000', '1.554700', '93900.000000']\n",
            "['-119.460000', '36.910000', '12.000000', '2980.000000', '495.000000', '1184.000000', '429.000000', '3.914100', '123900.000000']\n",
            "['-118.180000', '33.910000', '41.000000', '1260.000000', '299.000000', '1535.000000', '322.000000', '3.013400', '128100.000000']\n",
            "['-118.390000', '34.060000', '43.000000', '1879.000000', '397.000000', '873.000000', '382.000000', '3.815800', '500001.000000']\n",
            "['-118.220000', '33.990000', '4.000000', '1849.000000', '577.000000', '1529.000000', '418.000000', '2.770800', '186300.000000']\n",
            "['-116.990000', '33.200000', '17.000000', '2980.000000', '539.000000', '1531.000000', '505.000000', '3.155300', '250000.000000']\n",
            "['-117.160000', '32.730000', '52.000000', '1863.000000', '559.000000', '906.000000', '493.000000', '1.920300', '195800.000000']\n",
            "['-117.380000', '33.980000', '10.000000', '642.000000', '176.000000', '462.000000', '186.000000', '2.152800', '162500.000000']\n",
            "['-122.440000', '38.340000', '25.000000', '3106.000000', '715.000000', '1262.000000', '665.000000', '1.948700', '233500.000000']\n",
            "['-117.880000', '33.920000', '13.000000', '3292.000000', '727.000000', '1565.000000', '698.000000', '5.457000', '308800.000000']\n",
            "['-119.710000', '34.440000', '41.000000', '2220.000000', '367.000000', '927.000000', '355.000000', '5.318400', '376000.000000']\n",
            "['-119.060000', '34.370000', '32.000000', '3885.000000', '759.000000', '2504.000000', '736.000000', '3.645300', '201700.000000']\n",
            "['-121.910000', '37.310000', '16.000000', '2962.000000', '898.000000', '1555.000000', '795.000000', '2.580400', '216300.000000']\n",
            "['-121.560000', '37.000000', '20.000000', '3976.000000', '953.000000', '3866.000000', '950.000000', '2.538700', '160100.000000']\n",
            "['-122.490000', '38.000000', '26.000000', '48.000000', '8.000000', '19.000000', '8.000000', '7.719700', '400000.000000']\n",
            "['-118.330000', '34.020000', '45.000000', '1667.000000', '399.000000', '928.000000', '375.000000', '1.878300', '118200.000000']\n",
            "['-122.260000', '37.510000', '29.000000', '3703.000000', '1075.000000', '1611.000000', '1025.000000', '2.707500', '323800.000000']\n",
            "['-121.990000', '37.830000', '16.000000', '2939.000000', '380.000000', '1177.000000', '396.000000', '8.083900', '372000.000000']\n",
            "['-121.420000', '37.740000', '35.000000', '796.000000', '132.000000', '313.000000', '152.000000', '3.150000', '153200.000000']\n",
            "['-121.390000', '38.610000', '35.000000', '2024.000000', '359.000000', '786.000000', '364.000000', '2.463200', '156900.000000']\n",
            "['-122.420000', '37.620000', '36.000000', '1017.000000', '165.000000', '407.000000', '159.000000', '4.800000', '306800.000000']\n",
            "['-121.440000', '38.480000', '12.000000', '4929.000000', '1010.000000', '2621.000000', '870.000000', '2.726200', '109800.000000']\n",
            "['-117.480000', '33.980000', '20.000000', '2451.000000', '475.000000', '1785.000000', '456.000000', '3.396600', '115000.000000']\n",
            "['-122.050000', '37.380000', '24.000000', '2424.000000', '501.000000', '1367.000000', '507.000000', '4.072000', '364200.000000']\n",
            "['-123.920000', '41.540000', '22.000000', '2920.000000', '636.000000', '1382.000000', '499.000000', '2.020200', '71100.000000']\n",
            "['-119.010000', '35.400000', '11.000000', '8739.000000', '2190.000000', '4781.000000', '1919.000000', '1.710900', '44600.000000']\n",
            "['-122.330000', '37.570000', '43.000000', '2543.000000', '621.000000', '1301.000000', '606.000000', '3.111100', '318400.000000']\n",
            "['-120.990000', '37.610000', '39.000000', '512.000000', '132.000000', '443.000000', '127.000000', '1.285700', '60000.000000']\n",
            "['-121.960000', '37.580000', '15.000000', '3575.000000', '597.000000', '1777.000000', '559.000000', '5.719200', '283500.000000']\n",
            "['-121.580000', '39.160000', '33.000000', '1897.000000', '378.000000', '888.000000', '385.000000', '2.111100', '68700.000000']\n",
            "['-120.590000', '38.530000', '15.000000', '432.000000', '87.000000', '208.000000', '73.000000', '3.612500', '100000.000000']\n",
            "['-117.580000', '33.870000', '30.000000', '701.000000', '131.000000', '356.000000', '125.000000', '3.291700', '144300.000000']\n",
            "['-121.840000', '39.750000', '29.000000', '4362.000000', '1053.000000', '2053.000000', '1000.000000', '1.728400', '74500.000000']\n",
            "['-121.800000', '36.690000', '12.000000', '3877.000000', '914.000000', '2274.000000', '858.000000', '3.423900', '194800.000000']\n",
            "['-122.220000', '37.810000', '52.000000', '2944.000000', '536.000000', '1034.000000', '521.000000', '5.350900', '302100.000000']\n",
            "['-117.640000', '33.450000', '26.000000', '1528.000000', '234.000000', '607.000000', '218.000000', '6.287100', '325500.000000']\n",
            "['-120.420000', '37.980000', '18.000000', '3059.000000', '609.000000', '1335.000000', '581.000000', '2.512900', '115900.000000']\n",
            "['-118.300000', '34.060000', '47.000000', '1390.000000', '872.000000', '2860.000000', '827.000000', '1.468000', '137500.000000']\n",
            "['-122.250000', '37.870000', '52.000000', '1204.000000', '460.000000', '2016.000000', '477.000000', '0.949000', '350000.000000']\n",
            "['-120.270000', '39.350000', '11.000000', '2520.000000', '401.000000', '397.000000', '165.000000', '4.665000', '145600.000000']\n",
            "['-119.880000', '36.930000', '12.000000', '3174.000000', '520.000000', '1590.000000', '488.000000', '4.534700', '101200.000000']\n",
            "['-122.370000', '37.580000', '52.000000', '2188.000000', '361.000000', '917.000000', '357.000000', '4.400000', '500000.000000']\n",
            "['-117.820000', '33.720000', '24.000000', '3260.000000', '458.000000', '1383.000000', '442.000000', '6.598700', '272800.000000']\n",
            "['-118.220000', '33.930000', '30.000000', '443.000000', '170.000000', '903.000000', '189.000000', '2.196400', '125000.000000']\n",
            "['-120.970000', '38.650000', '9.000000', '3707.000000', '602.000000', '1601.000000', '555.000000', '4.071400', '300600.000000']\n",
            "['-122.060000', '37.700000', '33.000000', '3906.000000', '790.000000', '1912.000000', '770.000000', '3.518700', '209400.000000']\n",
            "['-118.230000', '33.920000', '32.000000', '2698.000000', '640.000000', '1953.000000', '613.000000', '1.222200', '107200.000000']\n",
            "['-117.340000', '34.460000', '9.000000', '5983.000000', '1122.000000', '3515.000000', '1064.000000', '3.150500', '102000.000000']\n",
            "['-119.240000', '36.330000', '9.000000', '3289.000000', '621.000000', '1866.000000', '631.000000', '3.159900', '95000.000000']\n",
            "['-122.180000', '37.730000', '42.000000', '4074.000000', '874.000000', '2736.000000', '780.000000', '2.455000', '82400.000000']\n",
            "['-118.200000', '33.820000', '43.000000', '1758.000000', '347.000000', '954.000000', '312.000000', '5.260600', '198900.000000']\n",
            "['-117.070000', '32.810000', '15.000000', '2000.000000', '402.000000', '778.000000', '369.000000', '4.359400', '224200.000000']\n",
            "['-122.250000', '38.020000', '16.000000', '1803.000000', '267.000000', '946.000000', '266.000000', '5.700100', '205100.000000']\n",
            "['-118.420000', '34.310000', '19.000000', '6755.000000', '1443.000000', '4205.000000', '1395.000000', '3.958300', '163200.000000']\n",
            "['-122.270000', '37.850000', '52.000000', '1966.000000', '347.000000', '793.000000', '331.000000', '2.775000', '152500.000000']\n",
            "['-117.920000', '33.650000', '28.000000', '1087.000000', '423.000000', '807.000000', '425.000000', '0.970200', '225400.000000']\n",
            "['-118.160000', '34.130000', '36.000000', '4003.000000', '647.000000', '1337.000000', '631.000000', '7.723000', '500001.000000']\n",
            "['-122.490000', '37.690000', '35.000000', '2576.000000', '443.000000', '1273.000000', '433.000000', '4.739100', '272800.000000']\n",
            "['-122.480000', '38.310000', '29.000000', '2375.000000', '560.000000', '1124.000000', '502.000000', '2.327600', '166200.000000']\n",
            "['-117.670000', '34.020000', '16.000000', '3042.000000', '524.000000', '1516.000000', '475.000000', '4.890600', '178500.000000']\n",
            "['-117.150000', '32.910000', '14.000000', '1259.000000', '238.000000', '889.000000', '247.000000', '4.946400', '174800.000000']\n",
            "['-118.340000', '34.030000', '46.000000', '2437.000000', '502.000000', '1151.000000', '477.000000', '2.444400', '134100.000000']\n",
            "['-121.540000', '38.500000', '15.000000', '6093.000000', '1051.000000', '2415.000000', '997.000000', '4.207500', '183600.000000']\n",
            "['-118.150000', '33.970000', '32.000000', '1174.000000', '373.000000', '1758.000000', '361.000000', '2.426300', '158100.000000']\n",
            "['-122.540000', '38.140000', '16.000000', '4431.000000', '603.000000', '1659.000000', '630.000000', '7.541200', '392100.000000']\n",
            "['-118.010000', '33.880000', '19.000000', '1434.000000', '391.000000', '1088.000000', '341.000000', '3.369000', '269600.000000']\n",
            "['-117.680000', '35.620000', '30.000000', '2994.000000', '741.000000', '1481.000000', '581.000000', '2.145800', '52400.000000']\n",
            "['-120.640000', '35.260000', '21.000000', '3298.000000', '716.000000', '1862.000000', '687.000000', '2.150700', '221500.000000']\n",
            "['-121.290000', '38.100000', '14.000000', '1551.000000', '297.000000', '785.000000', '281.000000', '3.775000', '163300.000000']\n",
            "['-120.190000', '37.530000', '25.000000', '1470.000000', '341.000000', '706.000000', '283.000000', '1.761400', '71300.000000']\n",
            "['-117.310000', '34.100000', '28.000000', '2899.000000', '755.000000', '2406.000000', '655.000000', '1.520800', '69500.000000']\n",
            "['-118.090000', '33.870000', '31.000000', '3498.000000', '728.000000', '2098.000000', '697.000000', '3.983700', '246000.000000']\n",
            "['-117.990000', '34.120000', '37.000000', '1527.000000', '331.000000', '1504.000000', '324.000000', '3.285700', '130100.000000']\n",
            "['-119.810000', '34.470000', '26.000000', '4382.000000', '618.000000', '1728.000000', '587.000000', '7.473400', '432200.000000']\n",
            "['-116.960000', '33.520000', '9.000000', '2802.000000', '471.000000', '1155.000000', '421.000000', '4.125000', '392100.000000']\n",
            "['-122.310000', '37.570000', '37.000000', '1437.000000', '305.000000', '979.000000', '331.000000', '4.000000', '273700.000000']\n",
            "['-117.390000', '33.970000', '52.000000', '3307.000000', '553.000000', '1269.000000', '529.000000', '4.317600', '136200.000000']\n",
            "['-118.510000', '34.190000', '38.000000', '2182.000000', '409.000000', '1141.000000', '379.000000', '4.286500', '221100.000000']\n",
            "['-117.300000', '34.120000', '34.000000', '1127.000000', '275.000000', '971.000000', '249.000000', '2.058300', '64800.000000']\n",
            "['-120.850000', '37.510000', '15.000000', '1131.000000', '285.000000', '728.000000', '281.000000', '1.553100', '93100.000000']\n",
            "['-121.310000', '37.930000', '21.000000', '1556.000000', '314.000000', '1140.000000', '304.000000', '2.466700', '81400.000000']\n",
            "['-118.160000', '34.090000', '33.000000', '1515.000000', '415.000000', '1345.000000', '346.000000', '2.375000', '175000.000000']\n",
            "['-118.030000', '33.840000', '30.000000', '4781.000000', '831.000000', '2568.000000', '797.000000', '5.474600', '226400.000000']\n",
            "['-119.880000', '34.400000', '25.000000', '2741.000000', '623.000000', '2272.000000', '624.000000', '2.264700', '216700.000000']\n",
            "['-118.570000', '34.170000', '35.000000', '2072.000000', '318.000000', '908.000000', '342.000000', '6.092800', '327300.000000']\n",
            "['-122.110000', '37.140000', '29.000000', '3201.000000', '640.000000', '1722.000000', '570.000000', '4.459700', '204100.000000']\n",
            "['-122.430000', '37.760000', '52.000000', '2332.000000', '434.000000', '861.000000', '406.000000', '4.431800', '437500.000000']\n",
            "['-118.270000', '33.960000', '38.000000', '1126.000000', '270.000000', '999.000000', '265.000000', '0.549500', '91700.000000']\n",
            "['-117.160000', '33.760000', '11.000000', '4934.000000', '929.000000', '2508.000000', '840.000000', '2.625000', '155400.000000']\n",
            "['-122.070000', '37.890000', '38.000000', '2139.000000', '343.000000', '809.000000', '340.000000', '5.563600', '268800.000000']\n",
            "['-117.090000', '34.010000', '37.000000', '106.000000', '18.000000', '27.000000', '12.000000', '4.055600', '131300.000000']\n",
            "['-122.310000', '37.920000', '12.000000', '1895.000000', '600.000000', '983.000000', '519.000000', '2.500000', '195800.000000']\n",
            "['-122.190000', '37.730000', '44.000000', '1066.000000', '253.000000', '825.000000', '244.000000', '2.153800', '79700.000000']\n",
            "['-117.000000', '32.730000', '17.000000', '6050.000000', '1143.000000', '3424.000000', '1131.000000', '3.764700', '127600.000000']\n",
            "['-117.210000', '33.190000', '21.000000', '3765.000000', '612.000000', '1722.000000', '593.000000', '4.815200', '218500.000000']\n",
            "['-118.260000', '34.140000', '51.000000', '902.000000', '320.000000', '650.000000', '334.000000', '1.541700', '268800.000000']\n",
            "['-122.100000', '37.360000', '35.000000', '2063.000000', '266.000000', '676.000000', '252.000000', '8.529400', '500001.000000']\n",
            "['-121.860000', '36.600000', '33.000000', '1409.000000', '307.000000', '633.000000', '290.000000', '3.556800', '191200.000000']\n",
            "['-117.240000', '33.110000', '10.000000', '3487.000000', '545.000000', '1410.000000', '557.000000', '6.033600', '240300.000000']\n",
            "['-116.370000', '33.720000', '19.000000', '6190.000000', '1355.000000', '2242.000000', '1043.000000', '3.002100', '152300.000000']\n",
            "['-121.320000', '38.410000', '17.000000', '4401.000000', '655.000000', '1970.000000', '639.000000', '5.823900', '247500.000000']\n",
            "['-118.700000', '34.280000', '27.000000', '3536.000000', '646.000000', '1837.000000', '580.000000', '4.496400', '238300.000000']\n",
            "['-118.150000', '33.950000', '31.000000', '1053.000000', '230.000000', '686.000000', '211.000000', '4.000000', '263200.000000']\n",
            "['-118.300000', '33.730000', '47.000000', '2852.000000', '603.000000', '1130.000000', '560.000000', '4.194000', '293900.000000']\n",
            "['-118.520000', '34.190000', '37.000000', '1892.000000', '347.000000', '1039.000000', '343.000000', '4.829500', '212100.000000']\n",
            "['-118.220000', '33.990000', '6.000000', '1499.000000', '437.000000', '1754.000000', '447.000000', '4.316400', '143200.000000']\n",
            "['-122.410000', '37.650000', '32.000000', '3436.000000', '868.000000', '2583.000000', '817.000000', '3.503900', '232400.000000']\n",
            "['-122.300000', '37.890000', '46.000000', '1520.000000', '402.000000', '815.000000', '375.000000', '2.803600', '211600.000000']\n",
            "['-121.430000', '38.560000', '50.000000', '1533.000000', '288.000000', '532.000000', '257.000000', '2.541700', '125900.000000']\n",
            "['-117.230000', '32.860000', '16.000000', '1200.000000', '468.000000', '648.000000', '443.000000', '3.045000', '100000.000000']\n",
            "['-117.230000', '32.790000', '23.000000', '2578.000000', '665.000000', '989.000000', '622.000000', '3.548400', '238000.000000']\n",
            "['-117.160000', '32.720000', '52.000000', '788.000000', '463.000000', '805.000000', '391.000000', '0.914200', '162500.000000']\n",
            "['-122.410000', '37.660000', '34.000000', '1075.000000', '318.000000', '906.000000', '294.000000', '3.005200', '242500.000000']\n",
            "['-117.230000', '32.730000', '36.000000', '2052.000000', '287.000000', '699.000000', '265.000000', '7.555700', '441400.000000']\n",
            "['-118.330000', '34.000000', '47.000000', '1671.000000', '388.000000', '895.000000', '317.000000', '2.205400', '121500.000000']\n",
            "['-117.430000', '33.550000', '8.000000', '446.000000', '62.000000', '188.000000', '68.000000', '9.435600', '465600.000000']\n",
            "['-118.360000', '34.080000', '52.000000', '1965.000000', '480.000000', '794.000000', '451.000000', '3.282400', '304800.000000']\n",
            "['-121.090000', '38.970000', '13.000000', '1467.000000', '221.000000', '688.000000', '231.000000', '5.253600', '191900.000000']\n",
            "['-119.450000', '35.150000', '33.000000', '5050.000000', '964.000000', '2293.000000', '919.000000', '3.159200', '75400.000000']\n",
            "['-121.270000', '38.640000', '22.000000', '1597.000000', '280.000000', '657.000000', '273.000000', '4.309800', '213500.000000']\n",
            "['-118.000000', '33.900000', '35.000000', '1758.000000', '309.000000', '972.000000', '338.000000', '4.383100', '209800.000000']\n",
            "['-118.210000', '34.050000', '45.000000', '2146.000000', '607.000000', '2868.000000', '625.000000', '2.121000', '144000.000000']\n",
            "['-122.500000', '37.770000', '52.000000', '2299.000000', '441.000000', '1252.000000', '415.000000', '5.056200', '336700.000000']\n",
            "['-122.310000', '37.920000', '38.000000', '1250.000000', '236.000000', '631.000000', '279.000000', '3.724000', '220100.000000']\n",
            "['-118.300000', '34.000000', '40.000000', '1131.000000', '281.000000', '859.000000', '230.000000', '1.180600', '134600.000000']\n",
            "['-121.840000', '38.020000', '46.000000', '66.000000', '22.000000', '37.000000', '21.000000', '0.536000', '87500.000000']\n",
            "['-117.250000', '32.800000', '30.000000', '2061.000000', '631.000000', '1007.000000', '577.000000', '2.581300', '253100.000000']\n",
            "['-124.140000', '40.600000', '27.000000', '1148.000000', '206.000000', '521.000000', '219.000000', '4.025000', '128100.000000']\n",
            "['-118.180000', '34.050000', '52.000000', '1070.000000', '231.000000', '925.000000', '220.000000', '1.825000', '133000.000000']\n",
            "['-119.780000', '36.800000', '34.000000', '3426.000000', '623.000000', '1938.000000', '647.000000', '2.899400', '66000.000000']\n",
            "['-122.220000', '38.080000', '37.000000', '2811.000000', '539.000000', '1574.000000', '516.000000', '3.105300', '96700.000000']\n",
            "['-118.500000', '34.260000', '33.000000', '2831.000000', '510.000000', '1340.000000', '504.000000', '4.831600', '237300.000000']\n",
            "['-118.450000', '34.180000', '34.000000', '1843.000000', '442.000000', '861.000000', '417.000000', '3.687500', '246400.000000']\n",
            "['-119.790000', '36.310000', '25.000000', '4984.000000', '1029.000000', '2414.000000', '961.000000', '2.293700', '72300.000000']\n",
            "['-117.210000', '32.740000', '45.000000', '3025.000000', '583.000000', '1980.000000', '550.000000', '2.298200', '87500.000000']\n",
            "['-122.080000', '40.640000', '14.000000', '3099.000000', '519.000000', '1447.000000', '494.000000', '4.013200', '141200.000000']\n",
            "['-122.310000', '37.520000', '24.000000', '2328.000000', '335.000000', '969.000000', '354.000000', '7.736400', '435800.000000']\n",
            "['-119.740000', '36.760000', '36.000000', '912.000000', '216.000000', '842.000000', '219.000000', '1.476600', '52800.000000']\n",
            "['-118.280000', '34.010000', '52.000000', '795.000000', '308.000000', '1118.000000', '275.000000', '1.217500', '131300.000000']\n",
            "['-118.270000', '34.110000', '39.000000', '3825.000000', '916.000000', '1378.000000', '746.000000', '4.409400', '352600.000000']\n",
            "['-117.200000', '33.160000', '13.000000', '4503.000000', '1137.000000', '3094.000000', '1091.000000', '2.315900', '91600.000000']\n",
            "['-122.330000', '37.530000', '25.000000', '1729.000000', '383.000000', '769.000000', '352.000000', '4.041700', '458500.000000']\n",
            "['-120.860000', '35.400000', '21.000000', '2787.000000', '641.000000', '1106.000000', '501.000000', '2.704300', '186200.000000']\n",
            "['-119.470000', '35.400000', '32.000000', '2167.000000', '421.000000', '1301.000000', '394.000000', '1.971800', '69800.000000']\n",
            "['-117.270000', '34.160000', '32.000000', '2894.000000', '427.000000', '1151.000000', '446.000000', '6.223600', '159700.000000']\n",
            "['-121.920000', '38.020000', '8.000000', '2750.000000', '479.000000', '1526.000000', '484.000000', '5.102000', '156500.000000']\n",
            "['-121.450000', '38.560000', '51.000000', '1250.000000', '235.000000', '452.000000', '232.000000', '2.625000', '121200.000000']\n",
            "['-117.910000', '33.840000', '16.000000', '919.000000', '253.000000', '912.000000', '249.000000', '1.590300', '165400.000000']\n",
            "['-118.480000', '35.610000', '17.000000', '4002.000000', '930.000000', '1614.000000', '731.000000', '1.623600', '67300.000000']\n",
            "['-118.030000', '33.840000', '28.000000', '3857.000000', '857.000000', '2328.000000', '830.000000', '4.015600', '196000.000000']\n",
            "['-118.320000', '34.040000', '48.000000', '1184.000000', '328.000000', '953.000000', '311.000000', '2.352600', '156300.000000']\n",
            "['-121.300000', '38.890000', '23.000000', '1750.000000', '297.000000', '1012.000000', '315.000000', '3.470600', '99300.000000']\n",
            "['-117.690000', '34.070000', '34.000000', '4055.000000', '739.000000', '2470.000000', '753.000000', '3.858600', '136000.000000']\n",
            "['-118.340000', '33.940000', '36.000000', '2796.000000', '1041.000000', '4033.000000', '944.000000', '2.488600', '160700.000000']\n",
            "['-121.920000', '36.620000', '52.000000', '2584.000000', '599.000000', '790.000000', '444.000000', '2.526300', '286400.000000']\n",
            "['-122.110000', '37.410000', '27.000000', '5110.000000', '1599.000000', '2764.000000', '1482.000000', '3.419800', '351900.000000']\n",
            "['-117.650000', '34.100000', '44.000000', '2808.000000', '585.000000', '1444.000000', '550.000000', '2.715900', '139300.000000']\n",
            "['-121.800000', '38.010000', '44.000000', '3184.000000', '581.000000', '1399.000000', '548.000000', '2.723400', '110200.000000']\n",
            "['-122.660000', '38.810000', '22.000000', '852.000000', '176.000000', '461.000000', '142.000000', '3.437500', '83300.000000']\n",
            "['-122.390000', '37.780000', '3.000000', '3464.000000', '1179.000000', '1441.000000', '919.000000', '4.710500', '275000.000000']\n",
            "['-117.060000', '34.870000', '14.000000', '3348.000000', '619.000000', '1756.000000', '557.000000', '3.598700', '91400.000000']\n",
            "['-121.340000', '38.660000', '16.000000', '3154.000000', '860.000000', '1837.000000', '793.000000', '1.980500', '92900.000000']\n",
            "['-121.920000', '36.950000', '29.000000', '3457.000000', '699.000000', '1327.000000', '563.000000', '3.659700', '252300.000000']\n",
            "['-122.590000', '38.040000', '25.000000', '3412.000000', '455.000000', '1238.000000', '406.000000', '8.364600', '397300.000000']\n",
            "['-118.280000', '34.110000', '46.000000', '1156.000000', '203.000000', '514.000000', '213.000000', '4.201900', '352100.000000']\n",
            "['-121.390000', '38.600000', '22.000000', '5773.000000', '1320.000000', '2607.000000', '1250.000000', '2.523800', '118800.000000']\n",
            "['-122.330000', '40.520000', '23.000000', '2801.000000', '507.000000', '1318.000000', '454.000000', '3.508100', '116700.000000']\n",
            "['-118.200000', '34.040000', '47.000000', '1894.000000', '408.000000', '1629.000000', '379.000000', '3.761900', '127600.000000']\n",
            "['-121.960000', '37.000000', '20.000000', '3847.000000', '727.000000', '1725.000000', '737.000000', '3.344700', '305200.000000']\n",
            "['-117.890000', '33.870000', '32.000000', '1569.000000', '422.000000', '835.000000', '386.000000', '3.046500', '148900.000000']\n",
            "['-117.230000', '32.880000', '18.000000', '5566.000000', '1465.000000', '6303.000000', '1458.000000', '1.858000', '205000.000000']\n",
            "['-122.000000', '37.120000', '17.000000', '4413.000000', '672.000000', '1674.000000', '608.000000', '6.977200', '383300.000000']\n",
            "['-118.400000', '34.280000', '22.000000', '3517.000000', '810.000000', '3134.000000', '847.000000', '2.665200', '164800.000000']\n",
            "['-122.460000', '37.760000', '52.000000', '2236.000000', '545.000000', '1186.000000', '532.000000', '3.453100', '414300.000000']\n",
            "['-121.990000', '37.540000', '18.000000', '3584.000000', '715.000000', '1673.000000', '661.000000', '3.944400', '240100.000000']\n",
            "['-117.230000', '32.740000', '16.000000', '735.000000', '139.000000', '299.000000', '134.000000', '4.635400', '179200.000000']\n",
            "['-121.840000', '37.290000', '4.000000', '2937.000000', '648.000000', '1780.000000', '665.000000', '4.385100', '160400.000000']\n",
            "['-118.150000', '34.860000', '10.000000', '4597.000000', '1009.000000', '2227.000000', '821.000000', '2.614900', '83500.000000']\n",
            "['-118.330000', '33.980000', '38.000000', '3063.000000', '796.000000', '2153.000000', '721.000000', '1.847200', '149100.000000']\n",
            "['-120.680000', '35.510000', '17.000000', '1701.000000', '298.000000', '941.000000', '293.000000', '4.321800', '209100.000000']\n",
            "['-117.950000', '33.790000', '34.000000', '2912.000000', '520.000000', '1625.000000', '501.000000', '4.466700', '190600.000000']\n",
            "['-117.970000', '34.050000', '33.000000', '1452.000000', '268.000000', '1274.000000', '278.000000', '3.656300', '162700.000000']\n",
            "['-119.750000', '36.870000', '3.000000', '13802.000000', '2244.000000', '5226.000000', '1972.000000', '5.094100', '143700.000000']\n",
            "['-122.080000', '37.350000', '35.000000', '1347.000000', '207.000000', '548.000000', '189.000000', '7.706800', '500001.000000']\n",
            "['-122.320000', '37.950000', '36.000000', '1425.000000', '245.000000', '573.000000', '239.000000', '4.350000', '185000.000000']\n",
            "['-122.220000', '38.100000', '38.000000', '931.000000', '181.000000', '566.000000', '207.000000', '3.022100', '93300.000000']\n",
            "['-124.090000', '40.550000', '24.000000', '2978.000000', '553.000000', '1370.000000', '480.000000', '2.764400', '97300.000000']\n",
            "['-121.500000', '38.570000', '41.000000', '1124.000000', '344.000000', '807.000000', '316.000000', '1.471200', '94600.000000']\n",
            "['-118.110000', '33.910000', '19.000000', '3056.000000', '759.000000', '1561.000000', '740.000000', '3.136900', '196900.000000']\n",
            "['-121.230000', '37.960000', '37.000000', '2351.000000', '564.000000', '1591.000000', '549.000000', '1.656300', '57200.000000']\n",
            "['-121.890000', '37.280000', '35.000000', '2418.000000', '375.000000', '988.000000', '374.000000', '6.093600', '365400.000000']\n",
            "['-122.480000', '37.650000', '39.000000', '3348.000000', '666.000000', '1817.000000', '668.000000', '4.259300', '227400.000000']\n",
            "['-118.310000', '34.090000', '36.000000', '2517.000000', '842.000000', '2446.000000', '689.000000', '2.152400', '187500.000000']\n",
            "['-123.020000', '38.810000', '35.000000', '956.000000', '213.000000', '488.000000', '215.000000', '3.025000', '140600.000000']\n",
            "['-120.470000', '34.650000', '32.000000', '2193.000000', '430.000000', '1074.000000', '377.000000', '2.333300', '130200.000000']\n",
            "['-122.100000', '37.680000', '37.000000', '2116.000000', '503.000000', '1109.000000', '448.000000', '2.535000', '174000.000000']\n",
            "['-122.420000', '37.790000', '52.000000', '3364.000000', '1100.000000', '2112.000000', '1045.000000', '2.134300', '400000.000000']\n",
            "['-122.640000', '41.630000', '19.000000', '2722.000000', '479.000000', '1108.000000', '430.000000', '3.106200', '100000.000000']\n",
            "['-118.020000', '33.910000', '34.000000', '2518.000000', '429.000000', '1309.000000', '421.000000', '4.786100', '210700.000000']\n",
            "['-119.020000', '35.360000', '48.000000', '1833.000000', '396.000000', '947.000000', '363.000000', '2.282700', '70000.000000']\n",
            "['-121.330000', '38.650000', '23.000000', '2446.000000', '523.000000', '1132.000000', '513.000000', '2.626600', '198500.000000']\n",
            "['-118.080000', '33.950000', '32.000000', '1962.000000', '387.000000', '1274.000000', '398.000000', '4.830400', '160600.000000']\n",
            "['-118.080000', '33.790000', '34.000000', '2840.000000', '395.000000', '1127.000000', '396.000000', '7.614400', '376200.000000']\n",
            "['-118.230000', '33.910000', '27.000000', '1694.000000', '393.000000', '1890.000000', '373.000000', '3.034100', '89100.000000']\n",
            "['-118.290000', '33.750000', '37.000000', '1319.000000', '292.000000', '766.000000', '285.000000', '2.703100', '218900.000000']\n",
            "['-118.020000', '34.130000', '34.000000', '1966.000000', '319.000000', '980.000000', '297.000000', '7.730700', '429000.000000']\n",
            "['-117.890000', '33.600000', '36.000000', '1496.000000', '247.000000', '441.000000', '203.000000', '7.816400', '500001.000000']\n",
            "['-118.230000', '34.650000', '17.000000', '1827.000000', '348.000000', '766.000000', '335.000000', '3.567300', '136300.000000']\n",
            "['-118.310000', '34.020000', '45.000000', '1423.000000', '278.000000', '822.000000', '276.000000', '2.451900', '98100.000000']\n",
            "['-118.070000', '33.800000', '34.000000', '3486.000000', '507.000000', '1311.000000', '503.000000', '7.122100', '384500.000000']\n",
            "['-118.250000', '33.940000', '43.000000', '1113.000000', '378.000000', '1305.000000', '334.000000', '1.143400', '91300.000000']\n",
            "['-122.440000', '37.710000', '52.000000', '2711.000000', '591.000000', '1848.000000', '524.000000', '3.956700', '251500.000000']\n",
            "['-119.750000', '34.500000', '26.000000', '3563.000000', '579.000000', '1479.000000', '575.000000', '5.952200', '438400.000000']\n",
            "['-117.940000', '33.940000', '26.000000', '1962.000000', '540.000000', '1236.000000', '520.000000', '2.215600', '145000.000000']\n",
            "['-119.230000', '34.170000', '18.000000', '6171.000000', '1490.000000', '2164.000000', '1210.000000', '3.687500', '500001.000000']\n",
            "['-118.110000', '34.680000', '6.000000', '7430.000000', '1184.000000', '3489.000000', '1115.000000', '5.326700', '140100.000000']\n",
            "['-122.470000', '37.770000', '52.000000', '2241.000000', '443.000000', '1042.000000', '377.000000', '4.163500', '398400.000000']\n",
            "['-120.930000', '35.760000', '11.000000', '8997.000000', '1698.000000', '1825.000000', '756.000000', '3.230000', '154300.000000']\n",
            "['-118.140000', '34.170000', '52.000000', '2667.000000', '486.000000', '1681.000000', '504.000000', '4.052400', '173100.000000']\n",
            "['-122.730000', '38.460000', '14.000000', '4042.000000', '1298.000000', '2323.000000', '1158.000000', '2.065100', '135400.000000']\n",
            "['-117.060000', '32.760000', '37.000000', '2356.000000', '476.000000', '1231.000000', '499.000000', '2.965000', '155700.000000']\n",
            "['-120.710000', '35.500000', '12.000000', '3098.000000', '453.000000', '1433.000000', '434.000000', '5.250800', '292900.000000']\n",
            "['-118.310000', '34.050000', '35.000000', '1692.000000', '423.000000', '1578.000000', '406.000000', '2.531300', '305800.000000']\n",
            "['-119.700000', '36.750000', '11.000000', '3626.000000', '779.000000', '1819.000000', '731.000000', '2.495600', '87500.000000']\n",
            "['-121.340000', '38.640000', '17.000000', '2761.000000', '501.000000', '1128.000000', '482.000000', '3.756200', '139700.000000']\n",
            "['-117.910000', '34.090000', '20.000000', '4327.000000', '1037.000000', '2296.000000', '963.000000', '3.044100', '185400.000000']\n",
            "['-119.760000', '36.790000', '32.000000', '2463.000000', '468.000000', '1261.000000', '486.000000', '3.328100', '75100.000000']\n",
            "['-120.660000', '35.490000', '17.000000', '4422.000000', '945.000000', '2307.000000', '885.000000', '2.828500', '171300.000000']\n",
            "['-118.280000', '34.080000', '42.000000', '1618.000000', '522.000000', '1454.000000', '440.000000', '3.160700', '182000.000000']\n",
            "['-122.540000', '37.900000', '48.000000', '2491.000000', '460.000000', '937.000000', '455.000000', '4.437500', '370000.000000']\n",
            "['-117.590000', '33.880000', '13.000000', '3239.000000', '849.000000', '2751.000000', '813.000000', '2.611100', '107000.000000']\n",
            "['-120.470000', '34.940000', '17.000000', '1368.000000', '308.000000', '642.000000', '303.000000', '1.863300', '109400.000000']\n",
            "['-118.250000', '33.930000', '42.000000', '819.000000', '233.000000', '899.000000', '228.000000', '1.134600', '85400.000000']\n",
            "['-121.970000', '37.290000', '25.000000', '4096.000000', '743.000000', '2027.000000', '741.000000', '5.329400', '300300.000000']\n",
            "['-122.010000', '36.970000', '43.000000', '2162.000000', '509.000000', '1208.000000', '464.000000', '2.541700', '260900.000000']\n",
            "['-122.020000', '37.600000', '32.000000', '1295.000000', '295.000000', '1097.000000', '328.000000', '3.238600', '149600.000000']\n",
            "['-118.230000', '34.090000', '49.000000', '1638.000000', '456.000000', '1500.000000', '430.000000', '2.692300', '150000.000000']\n",
            "['-117.170000', '34.280000', '13.000000', '4867.000000', '718.000000', '780.000000', '250.000000', '7.199700', '253800.000000']\n",
            "['-122.330000', '37.390000', '52.000000', '573.000000', '102.000000', '232.000000', '92.000000', '6.226300', '500001.000000']\n",
            "['-117.910000', '33.600000', '37.000000', '2088.000000', '510.000000', '673.000000', '390.000000', '5.104800', '500001.000000']\n",
            "['-117.930000', '33.860000', '35.000000', '931.000000', '181.000000', '516.000000', '174.000000', '5.586700', '182500.000000']\n",
            "['-119.860000', '34.420000', '23.000000', '1450.000000', '642.000000', '1258.000000', '607.000000', '1.179000', '225000.000000']\n",
            "['-118.140000', '34.060000', '27.000000', '5257.000000', '1082.000000', '3496.000000', '1036.000000', '3.390600', '237200.000000']\n",
            "['-119.700000', '36.300000', '10.000000', '956.000000', '201.000000', '693.000000', '220.000000', '2.289500', '62000.000000']\n",
            "['-117.120000', '34.100000', '40.000000', '96.000000', '14.000000', '46.000000', '14.000000', '3.270800', '162500.000000']\n",
            "['-119.630000', '34.420000', '42.000000', '1765.000000', '263.000000', '753.000000', '260.000000', '8.560800', '500001.000000']\n"
          ]
        }
      ]
    },
    {
      "cell_type": "code",
      "source": [
        "import csv\n",
        "\n",
        "data=[['Name','Age','Country'],\n",
        "      ['Alice',28,'USA'],\n",
        "      ['Bob',32,'Canada']]\n",
        "\n",
        "with open('output.csv', mode='w') as file:\n",
        "  csv_writer = csv_writer(file)\n",
        "  csv_writer.writerows(data)"
      ],
      "metadata": {
        "id": "EW3nn8C4A1cL"
      },
      "execution_count": null,
      "outputs": []
    },
    {
      "cell_type": "code",
      "source": [
        "#JSON FILES\n",
        "\n",
        "import json\n",
        "\n",
        "with open('/content/sample_data/anscombe.json', mode='r') as file:\n",
        "  data = json.load(file)\n",
        "  print(data)"
      ],
      "metadata": {
        "id": "Y_VVuBIvA1nS",
        "colab": {
          "base_uri": "https://localhost:8080/",
          "height": 321
        },
        "outputId": "0982011a-7cbd-4b2a-ede8-96f96e099fd1"
      },
      "execution_count": null,
      "outputs": [
        {
          "output_type": "error",
          "ename": "JSONDecodeError",
          "evalue": "Expecting value: line 1 column 1 (char 0)",
          "traceback": [
            "\u001b[0;31m---------------------------------------------------------------------------\u001b[0m",
            "\u001b[0;31mJSONDecodeError\u001b[0m                           Traceback (most recent call last)",
            "\u001b[0;32m<ipython-input-85-70b8c4033f47>\u001b[0m in \u001b[0;36m<cell line: 5>\u001b[0;34m()\u001b[0m\n\u001b[1;32m      4\u001b[0m \u001b[0;34m\u001b[0m\u001b[0m\n\u001b[1;32m      5\u001b[0m \u001b[0;32mwith\u001b[0m \u001b[0mopen\u001b[0m\u001b[0;34m(\u001b[0m\u001b[0;34m'/content/sample_data/anscombe.json'\u001b[0m\u001b[0;34m,\u001b[0m \u001b[0mmode\u001b[0m\u001b[0;34m=\u001b[0m\u001b[0;34m'r'\u001b[0m\u001b[0;34m)\u001b[0m \u001b[0;32mas\u001b[0m \u001b[0mfile\u001b[0m\u001b[0;34m:\u001b[0m\u001b[0;34m\u001b[0m\u001b[0;34m\u001b[0m\u001b[0m\n\u001b[0;32m----> 6\u001b[0;31m   \u001b[0mdata\u001b[0m \u001b[0;34m=\u001b[0m \u001b[0mjson\u001b[0m\u001b[0;34m.\u001b[0m\u001b[0mload\u001b[0m\u001b[0;34m(\u001b[0m\u001b[0mfile\u001b[0m\u001b[0;34m)\u001b[0m\u001b[0;34m\u001b[0m\u001b[0;34m\u001b[0m\u001b[0m\n\u001b[0m\u001b[1;32m      7\u001b[0m   \u001b[0mprint\u001b[0m\u001b[0;34m(\u001b[0m\u001b[0mdata\u001b[0m\u001b[0;34m)\u001b[0m\u001b[0;34m\u001b[0m\u001b[0;34m\u001b[0m\u001b[0m\n",
            "\u001b[0;32m/usr/lib/python3.10/json/__init__.py\u001b[0m in \u001b[0;36mload\u001b[0;34m(fp, cls, object_hook, parse_float, parse_int, parse_constant, object_pairs_hook, **kw)\u001b[0m\n\u001b[1;32m    291\u001b[0m     \u001b[0mkwarg\u001b[0m\u001b[0;34m;\u001b[0m \u001b[0motherwise\u001b[0m\u001b[0;31m \u001b[0m\u001b[0;31m`\u001b[0m\u001b[0;31m`\u001b[0m\u001b[0mJSONDecoder\u001b[0m\u001b[0;31m`\u001b[0m\u001b[0;31m`\u001b[0m \u001b[0;32mis\u001b[0m \u001b[0mused\u001b[0m\u001b[0;34m.\u001b[0m\u001b[0;34m\u001b[0m\u001b[0;34m\u001b[0m\u001b[0m\n\u001b[1;32m    292\u001b[0m     \"\"\"\n\u001b[0;32m--> 293\u001b[0;31m     return loads(fp.read(),\n\u001b[0m\u001b[1;32m    294\u001b[0m         \u001b[0mcls\u001b[0m\u001b[0;34m=\u001b[0m\u001b[0mcls\u001b[0m\u001b[0;34m,\u001b[0m \u001b[0mobject_hook\u001b[0m\u001b[0;34m=\u001b[0m\u001b[0mobject_hook\u001b[0m\u001b[0;34m,\u001b[0m\u001b[0;34m\u001b[0m\u001b[0;34m\u001b[0m\u001b[0m\n\u001b[1;32m    295\u001b[0m         \u001b[0mparse_float\u001b[0m\u001b[0;34m=\u001b[0m\u001b[0mparse_float\u001b[0m\u001b[0;34m,\u001b[0m \u001b[0mparse_int\u001b[0m\u001b[0;34m=\u001b[0m\u001b[0mparse_int\u001b[0m\u001b[0;34m,\u001b[0m\u001b[0;34m\u001b[0m\u001b[0;34m\u001b[0m\u001b[0m\n",
            "\u001b[0;32m/usr/lib/python3.10/json/__init__.py\u001b[0m in \u001b[0;36mloads\u001b[0;34m(s, cls, object_hook, parse_float, parse_int, parse_constant, object_pairs_hook, **kw)\u001b[0m\n\u001b[1;32m    344\u001b[0m             \u001b[0mparse_int\u001b[0m \u001b[0;32mis\u001b[0m \u001b[0;32mNone\u001b[0m \u001b[0;32mand\u001b[0m \u001b[0mparse_float\u001b[0m \u001b[0;32mis\u001b[0m \u001b[0;32mNone\u001b[0m \u001b[0;32mand\u001b[0m\u001b[0;34m\u001b[0m\u001b[0;34m\u001b[0m\u001b[0m\n\u001b[1;32m    345\u001b[0m             parse_constant is None and object_pairs_hook is None and not kw):\n\u001b[0;32m--> 346\u001b[0;31m         \u001b[0;32mreturn\u001b[0m \u001b[0m_default_decoder\u001b[0m\u001b[0;34m.\u001b[0m\u001b[0mdecode\u001b[0m\u001b[0;34m(\u001b[0m\u001b[0ms\u001b[0m\u001b[0;34m)\u001b[0m\u001b[0;34m\u001b[0m\u001b[0;34m\u001b[0m\u001b[0m\n\u001b[0m\u001b[1;32m    347\u001b[0m     \u001b[0;32mif\u001b[0m \u001b[0mcls\u001b[0m \u001b[0;32mis\u001b[0m \u001b[0;32mNone\u001b[0m\u001b[0;34m:\u001b[0m\u001b[0;34m\u001b[0m\u001b[0;34m\u001b[0m\u001b[0m\n\u001b[1;32m    348\u001b[0m         \u001b[0mcls\u001b[0m \u001b[0;34m=\u001b[0m \u001b[0mJSONDecoder\u001b[0m\u001b[0;34m\u001b[0m\u001b[0;34m\u001b[0m\u001b[0m\n",
            "\u001b[0;32m/usr/lib/python3.10/json/decoder.py\u001b[0m in \u001b[0;36mdecode\u001b[0;34m(self, s, _w)\u001b[0m\n\u001b[1;32m    335\u001b[0m \u001b[0;34m\u001b[0m\u001b[0m\n\u001b[1;32m    336\u001b[0m         \"\"\"\n\u001b[0;32m--> 337\u001b[0;31m         \u001b[0mobj\u001b[0m\u001b[0;34m,\u001b[0m \u001b[0mend\u001b[0m \u001b[0;34m=\u001b[0m \u001b[0mself\u001b[0m\u001b[0;34m.\u001b[0m\u001b[0mraw_decode\u001b[0m\u001b[0;34m(\u001b[0m\u001b[0ms\u001b[0m\u001b[0;34m,\u001b[0m \u001b[0midx\u001b[0m\u001b[0;34m=\u001b[0m\u001b[0m_w\u001b[0m\u001b[0;34m(\u001b[0m\u001b[0ms\u001b[0m\u001b[0;34m,\u001b[0m \u001b[0;36m0\u001b[0m\u001b[0;34m)\u001b[0m\u001b[0;34m.\u001b[0m\u001b[0mend\u001b[0m\u001b[0;34m(\u001b[0m\u001b[0;34m)\u001b[0m\u001b[0;34m)\u001b[0m\u001b[0;34m\u001b[0m\u001b[0;34m\u001b[0m\u001b[0m\n\u001b[0m\u001b[1;32m    338\u001b[0m         \u001b[0mend\u001b[0m \u001b[0;34m=\u001b[0m \u001b[0m_w\u001b[0m\u001b[0;34m(\u001b[0m\u001b[0ms\u001b[0m\u001b[0;34m,\u001b[0m \u001b[0mend\u001b[0m\u001b[0;34m)\u001b[0m\u001b[0;34m.\u001b[0m\u001b[0mend\u001b[0m\u001b[0;34m(\u001b[0m\u001b[0;34m)\u001b[0m\u001b[0;34m\u001b[0m\u001b[0;34m\u001b[0m\u001b[0m\n\u001b[1;32m    339\u001b[0m         \u001b[0;32mif\u001b[0m \u001b[0mend\u001b[0m \u001b[0;34m!=\u001b[0m \u001b[0mlen\u001b[0m\u001b[0;34m(\u001b[0m\u001b[0ms\u001b[0m\u001b[0;34m)\u001b[0m\u001b[0;34m:\u001b[0m\u001b[0;34m\u001b[0m\u001b[0;34m\u001b[0m\u001b[0m\n",
            "\u001b[0;32m/usr/lib/python3.10/json/decoder.py\u001b[0m in \u001b[0;36mraw_decode\u001b[0;34m(self, s, idx)\u001b[0m\n\u001b[1;32m    353\u001b[0m             \u001b[0mobj\u001b[0m\u001b[0;34m,\u001b[0m \u001b[0mend\u001b[0m \u001b[0;34m=\u001b[0m \u001b[0mself\u001b[0m\u001b[0;34m.\u001b[0m\u001b[0mscan_once\u001b[0m\u001b[0;34m(\u001b[0m\u001b[0ms\u001b[0m\u001b[0;34m,\u001b[0m \u001b[0midx\u001b[0m\u001b[0;34m)\u001b[0m\u001b[0;34m\u001b[0m\u001b[0;34m\u001b[0m\u001b[0m\n\u001b[1;32m    354\u001b[0m         \u001b[0;32mexcept\u001b[0m \u001b[0mStopIteration\u001b[0m \u001b[0;32mas\u001b[0m \u001b[0merr\u001b[0m\u001b[0;34m:\u001b[0m\u001b[0;34m\u001b[0m\u001b[0;34m\u001b[0m\u001b[0m\n\u001b[0;32m--> 355\u001b[0;31m             \u001b[0;32mraise\u001b[0m \u001b[0mJSONDecodeError\u001b[0m\u001b[0;34m(\u001b[0m\u001b[0;34m\"Expecting value\"\u001b[0m\u001b[0;34m,\u001b[0m \u001b[0ms\u001b[0m\u001b[0;34m,\u001b[0m \u001b[0merr\u001b[0m\u001b[0;34m.\u001b[0m\u001b[0mvalue\u001b[0m\u001b[0;34m)\u001b[0m \u001b[0;32mfrom\u001b[0m \u001b[0;32mNone\u001b[0m\u001b[0;34m\u001b[0m\u001b[0;34m\u001b[0m\u001b[0m\n\u001b[0m\u001b[1;32m    356\u001b[0m         \u001b[0;32mreturn\u001b[0m \u001b[0mobj\u001b[0m\u001b[0;34m,\u001b[0m \u001b[0mend\u001b[0m\u001b[0;34m\u001b[0m\u001b[0;34m\u001b[0m\u001b[0m\n",
            "\u001b[0;31mJSONDecodeError\u001b[0m: Expecting value: line 1 column 1 (char 0)"
          ]
        }
      ]
    },
    {
      "cell_type": "code",
      "source": [
        "#Pandas Library\n",
        "\n",
        "import pandas as pd\n",
        "df=pd.read_csv('/content/Crop_recommendation.csv')\n",
        "print(df)"
      ],
      "metadata": {
        "colab": {
          "base_uri": "https://localhost:8080/"
        },
        "id": "USBt_24Fx_5K",
        "outputId": "d49195fe-f8ee-46af-d5d4-1aa7e0775f63"
      },
      "execution_count": 2,
      "outputs": [
        {
          "output_type": "stream",
          "name": "stdout",
          "text": [
            "        N   P   K  temperature   humidity        ph    rainfall   label\n",
            "0      90  42  43    20.879744  82.002744  6.502985  202.935536    rice\n",
            "1      85  58  41    21.770462  80.319644  7.038096  226.655537    rice\n",
            "2      60  55  44    23.004459  82.320763  7.840207  263.964248    rice\n",
            "3      74  35  40    26.491096  80.158363  6.980401  242.864034    rice\n",
            "4      78  42  42    20.130175  81.604873  7.628473  262.717340    rice\n",
            "...   ...  ..  ..          ...        ...       ...         ...     ...\n",
            "2195  107  34  32    26.774637  66.413269  6.780064  177.774507  coffee\n",
            "2196   99  15  27    27.417112  56.636362  6.086922  127.924610  coffee\n",
            "2197  118  33  30    24.131797  67.225123  6.362608  173.322839  coffee\n",
            "2198  117  32  34    26.272418  52.127394  6.758793  127.175293  coffee\n",
            "2199  104  18  30    23.603016  60.396475  6.779833  140.937041  coffee\n",
            "\n",
            "[2200 rows x 8 columns]\n"
          ]
        }
      ]
    },
    {
      "cell_type": "code",
      "source": [
        "df.head(5)"
      ],
      "metadata": {
        "colab": {
          "base_uri": "https://localhost:8080/",
          "height": 206
        },
        "id": "qMfp6Lm8yAQT",
        "outputId": "6d9ba030-89d3-4127-d4a5-10004eaba341"
      },
      "execution_count": 3,
      "outputs": [
        {
          "output_type": "execute_result",
          "data": {
            "text/plain": [
              "    N   P   K  temperature   humidity        ph    rainfall label\n",
              "0  90  42  43    20.879744  82.002744  6.502985  202.935536  rice\n",
              "1  85  58  41    21.770462  80.319644  7.038096  226.655537  rice\n",
              "2  60  55  44    23.004459  82.320763  7.840207  263.964248  rice\n",
              "3  74  35  40    26.491096  80.158363  6.980401  242.864034  rice\n",
              "4  78  42  42    20.130175  81.604873  7.628473  262.717340  rice"
            ],
            "text/html": [
              "\n",
              "  <div id=\"df-49dda8d5-512d-4767-b7a2-7f0e03973654\" class=\"colab-df-container\">\n",
              "    <div>\n",
              "<style scoped>\n",
              "    .dataframe tbody tr th:only-of-type {\n",
              "        vertical-align: middle;\n",
              "    }\n",
              "\n",
              "    .dataframe tbody tr th {\n",
              "        vertical-align: top;\n",
              "    }\n",
              "\n",
              "    .dataframe thead th {\n",
              "        text-align: right;\n",
              "    }\n",
              "</style>\n",
              "<table border=\"1\" class=\"dataframe\">\n",
              "  <thead>\n",
              "    <tr style=\"text-align: right;\">\n",
              "      <th></th>\n",
              "      <th>N</th>\n",
              "      <th>P</th>\n",
              "      <th>K</th>\n",
              "      <th>temperature</th>\n",
              "      <th>humidity</th>\n",
              "      <th>ph</th>\n",
              "      <th>rainfall</th>\n",
              "      <th>label</th>\n",
              "    </tr>\n",
              "  </thead>\n",
              "  <tbody>\n",
              "    <tr>\n",
              "      <th>0</th>\n",
              "      <td>90</td>\n",
              "      <td>42</td>\n",
              "      <td>43</td>\n",
              "      <td>20.879744</td>\n",
              "      <td>82.002744</td>\n",
              "      <td>6.502985</td>\n",
              "      <td>202.935536</td>\n",
              "      <td>rice</td>\n",
              "    </tr>\n",
              "    <tr>\n",
              "      <th>1</th>\n",
              "      <td>85</td>\n",
              "      <td>58</td>\n",
              "      <td>41</td>\n",
              "      <td>21.770462</td>\n",
              "      <td>80.319644</td>\n",
              "      <td>7.038096</td>\n",
              "      <td>226.655537</td>\n",
              "      <td>rice</td>\n",
              "    </tr>\n",
              "    <tr>\n",
              "      <th>2</th>\n",
              "      <td>60</td>\n",
              "      <td>55</td>\n",
              "      <td>44</td>\n",
              "      <td>23.004459</td>\n",
              "      <td>82.320763</td>\n",
              "      <td>7.840207</td>\n",
              "      <td>263.964248</td>\n",
              "      <td>rice</td>\n",
              "    </tr>\n",
              "    <tr>\n",
              "      <th>3</th>\n",
              "      <td>74</td>\n",
              "      <td>35</td>\n",
              "      <td>40</td>\n",
              "      <td>26.491096</td>\n",
              "      <td>80.158363</td>\n",
              "      <td>6.980401</td>\n",
              "      <td>242.864034</td>\n",
              "      <td>rice</td>\n",
              "    </tr>\n",
              "    <tr>\n",
              "      <th>4</th>\n",
              "      <td>78</td>\n",
              "      <td>42</td>\n",
              "      <td>42</td>\n",
              "      <td>20.130175</td>\n",
              "      <td>81.604873</td>\n",
              "      <td>7.628473</td>\n",
              "      <td>262.717340</td>\n",
              "      <td>rice</td>\n",
              "    </tr>\n",
              "  </tbody>\n",
              "</table>\n",
              "</div>\n",
              "    <div class=\"colab-df-buttons\">\n",
              "\n",
              "  <div class=\"colab-df-container\">\n",
              "    <button class=\"colab-df-convert\" onclick=\"convertToInteractive('df-49dda8d5-512d-4767-b7a2-7f0e03973654')\"\n",
              "            title=\"Convert this dataframe to an interactive table.\"\n",
              "            style=\"display:none;\">\n",
              "\n",
              "  <svg xmlns=\"http://www.w3.org/2000/svg\" height=\"24px\" viewBox=\"0 -960 960 960\">\n",
              "    <path d=\"M120-120v-720h720v720H120Zm60-500h600v-160H180v160Zm220 220h160v-160H400v160Zm0 220h160v-160H400v160ZM180-400h160v-160H180v160Zm440 0h160v-160H620v160ZM180-180h160v-160H180v160Zm440 0h160v-160H620v160Z\"/>\n",
              "  </svg>\n",
              "    </button>\n",
              "\n",
              "  <style>\n",
              "    .colab-df-container {\n",
              "      display:flex;\n",
              "      gap: 12px;\n",
              "    }\n",
              "\n",
              "    .colab-df-convert {\n",
              "      background-color: #E8F0FE;\n",
              "      border: none;\n",
              "      border-radius: 50%;\n",
              "      cursor: pointer;\n",
              "      display: none;\n",
              "      fill: #1967D2;\n",
              "      height: 32px;\n",
              "      padding: 0 0 0 0;\n",
              "      width: 32px;\n",
              "    }\n",
              "\n",
              "    .colab-df-convert:hover {\n",
              "      background-color: #E2EBFA;\n",
              "      box-shadow: 0px 1px 2px rgba(60, 64, 67, 0.3), 0px 1px 3px 1px rgba(60, 64, 67, 0.15);\n",
              "      fill: #174EA6;\n",
              "    }\n",
              "\n",
              "    .colab-df-buttons div {\n",
              "      margin-bottom: 4px;\n",
              "    }\n",
              "\n",
              "    [theme=dark] .colab-df-convert {\n",
              "      background-color: #3B4455;\n",
              "      fill: #D2E3FC;\n",
              "    }\n",
              "\n",
              "    [theme=dark] .colab-df-convert:hover {\n",
              "      background-color: #434B5C;\n",
              "      box-shadow: 0px 1px 3px 1px rgba(0, 0, 0, 0.15);\n",
              "      filter: drop-shadow(0px 1px 2px rgba(0, 0, 0, 0.3));\n",
              "      fill: #FFFFFF;\n",
              "    }\n",
              "  </style>\n",
              "\n",
              "    <script>\n",
              "      const buttonEl =\n",
              "        document.querySelector('#df-49dda8d5-512d-4767-b7a2-7f0e03973654 button.colab-df-convert');\n",
              "      buttonEl.style.display =\n",
              "        google.colab.kernel.accessAllowed ? 'block' : 'none';\n",
              "\n",
              "      async function convertToInteractive(key) {\n",
              "        const element = document.querySelector('#df-49dda8d5-512d-4767-b7a2-7f0e03973654');\n",
              "        const dataTable =\n",
              "          await google.colab.kernel.invokeFunction('convertToInteractive',\n",
              "                                                    [key], {});\n",
              "        if (!dataTable) return;\n",
              "\n",
              "        const docLinkHtml = 'Like what you see? Visit the ' +\n",
              "          '<a target=\"_blank\" href=https://colab.research.google.com/notebooks/data_table.ipynb>data table notebook</a>'\n",
              "          + ' to learn more about interactive tables.';\n",
              "        element.innerHTML = '';\n",
              "        dataTable['output_type'] = 'display_data';\n",
              "        await google.colab.output.renderOutput(dataTable, element);\n",
              "        const docLink = document.createElement('div');\n",
              "        docLink.innerHTML = docLinkHtml;\n",
              "        element.appendChild(docLink);\n",
              "      }\n",
              "    </script>\n",
              "  </div>\n",
              "\n",
              "\n",
              "<div id=\"df-0f9b41b7-3e9f-458a-b4bf-1f7a3b2ef4ae\">\n",
              "  <button class=\"colab-df-quickchart\" onclick=\"quickchart('df-0f9b41b7-3e9f-458a-b4bf-1f7a3b2ef4ae')\"\n",
              "            title=\"Suggest charts\"\n",
              "            style=\"display:none;\">\n",
              "\n",
              "<svg xmlns=\"http://www.w3.org/2000/svg\" height=\"24px\"viewBox=\"0 0 24 24\"\n",
              "     width=\"24px\">\n",
              "    <g>\n",
              "        <path d=\"M19 3H5c-1.1 0-2 .9-2 2v14c0 1.1.9 2 2 2h14c1.1 0 2-.9 2-2V5c0-1.1-.9-2-2-2zM9 17H7v-7h2v7zm4 0h-2V7h2v10zm4 0h-2v-4h2v4z\"/>\n",
              "    </g>\n",
              "</svg>\n",
              "  </button>\n",
              "\n",
              "<style>\n",
              "  .colab-df-quickchart {\n",
              "      --bg-color: #E8F0FE;\n",
              "      --fill-color: #1967D2;\n",
              "      --hover-bg-color: #E2EBFA;\n",
              "      --hover-fill-color: #174EA6;\n",
              "      --disabled-fill-color: #AAA;\n",
              "      --disabled-bg-color: #DDD;\n",
              "  }\n",
              "\n",
              "  [theme=dark] .colab-df-quickchart {\n",
              "      --bg-color: #3B4455;\n",
              "      --fill-color: #D2E3FC;\n",
              "      --hover-bg-color: #434B5C;\n",
              "      --hover-fill-color: #FFFFFF;\n",
              "      --disabled-bg-color: #3B4455;\n",
              "      --disabled-fill-color: #666;\n",
              "  }\n",
              "\n",
              "  .colab-df-quickchart {\n",
              "    background-color: var(--bg-color);\n",
              "    border: none;\n",
              "    border-radius: 50%;\n",
              "    cursor: pointer;\n",
              "    display: none;\n",
              "    fill: var(--fill-color);\n",
              "    height: 32px;\n",
              "    padding: 0;\n",
              "    width: 32px;\n",
              "  }\n",
              "\n",
              "  .colab-df-quickchart:hover {\n",
              "    background-color: var(--hover-bg-color);\n",
              "    box-shadow: 0 1px 2px rgba(60, 64, 67, 0.3), 0 1px 3px 1px rgba(60, 64, 67, 0.15);\n",
              "    fill: var(--button-hover-fill-color);\n",
              "  }\n",
              "\n",
              "  .colab-df-quickchart-complete:disabled,\n",
              "  .colab-df-quickchart-complete:disabled:hover {\n",
              "    background-color: var(--disabled-bg-color);\n",
              "    fill: var(--disabled-fill-color);\n",
              "    box-shadow: none;\n",
              "  }\n",
              "\n",
              "  .colab-df-spinner {\n",
              "    border: 2px solid var(--fill-color);\n",
              "    border-color: transparent;\n",
              "    border-bottom-color: var(--fill-color);\n",
              "    animation:\n",
              "      spin 1s steps(1) infinite;\n",
              "  }\n",
              "\n",
              "  @keyframes spin {\n",
              "    0% {\n",
              "      border-color: transparent;\n",
              "      border-bottom-color: var(--fill-color);\n",
              "      border-left-color: var(--fill-color);\n",
              "    }\n",
              "    20% {\n",
              "      border-color: transparent;\n",
              "      border-left-color: var(--fill-color);\n",
              "      border-top-color: var(--fill-color);\n",
              "    }\n",
              "    30% {\n",
              "      border-color: transparent;\n",
              "      border-left-color: var(--fill-color);\n",
              "      border-top-color: var(--fill-color);\n",
              "      border-right-color: var(--fill-color);\n",
              "    }\n",
              "    40% {\n",
              "      border-color: transparent;\n",
              "      border-right-color: var(--fill-color);\n",
              "      border-top-color: var(--fill-color);\n",
              "    }\n",
              "    60% {\n",
              "      border-color: transparent;\n",
              "      border-right-color: var(--fill-color);\n",
              "    }\n",
              "    80% {\n",
              "      border-color: transparent;\n",
              "      border-right-color: var(--fill-color);\n",
              "      border-bottom-color: var(--fill-color);\n",
              "    }\n",
              "    90% {\n",
              "      border-color: transparent;\n",
              "      border-bottom-color: var(--fill-color);\n",
              "    }\n",
              "  }\n",
              "</style>\n",
              "\n",
              "  <script>\n",
              "    async function quickchart(key) {\n",
              "      const quickchartButtonEl =\n",
              "        document.querySelector('#' + key + ' button');\n",
              "      quickchartButtonEl.disabled = true;  // To prevent multiple clicks.\n",
              "      quickchartButtonEl.classList.add('colab-df-spinner');\n",
              "      try {\n",
              "        const charts = await google.colab.kernel.invokeFunction(\n",
              "            'suggestCharts', [key], {});\n",
              "      } catch (error) {\n",
              "        console.error('Error during call to suggestCharts:', error);\n",
              "      }\n",
              "      quickchartButtonEl.classList.remove('colab-df-spinner');\n",
              "      quickchartButtonEl.classList.add('colab-df-quickchart-complete');\n",
              "    }\n",
              "    (() => {\n",
              "      let quickchartButtonEl =\n",
              "        document.querySelector('#df-0f9b41b7-3e9f-458a-b4bf-1f7a3b2ef4ae button');\n",
              "      quickchartButtonEl.style.display =\n",
              "        google.colab.kernel.accessAllowed ? 'block' : 'none';\n",
              "    })();\n",
              "  </script>\n",
              "</div>\n",
              "\n",
              "    </div>\n",
              "  </div>\n"
            ],
            "application/vnd.google.colaboratory.intrinsic+json": {
              "type": "dataframe",
              "variable_name": "df",
              "summary": "{\n  \"name\": \"df\",\n  \"rows\": 2200,\n  \"fields\": [\n    {\n      \"column\": \"N\",\n      \"properties\": {\n        \"dtype\": \"number\",\n        \"std\": 36,\n        \"min\": 0,\n        \"max\": 140,\n        \"num_unique_values\": 137,\n        \"samples\": [\n          106,\n          101,\n          88\n        ],\n        \"semantic_type\": \"\",\n        \"description\": \"\"\n      }\n    },\n    {\n      \"column\": \"P\",\n      \"properties\": {\n        \"dtype\": \"number\",\n        \"std\": 32,\n        \"min\": 5,\n        \"max\": 145,\n        \"num_unique_values\": 117,\n        \"samples\": [\n          69,\n          37,\n          11\n        ],\n        \"semantic_type\": \"\",\n        \"description\": \"\"\n      }\n    },\n    {\n      \"column\": \"K\",\n      \"properties\": {\n        \"dtype\": \"number\",\n        \"std\": 50,\n        \"min\": 5,\n        \"max\": 205,\n        \"num_unique_values\": 73,\n        \"samples\": [\n          42,\n          12,\n          15\n        ],\n        \"semantic_type\": \"\",\n        \"description\": \"\"\n      }\n    },\n    {\n      \"column\": \"temperature\",\n      \"properties\": {\n        \"dtype\": \"number\",\n        \"std\": 5.063748599958843,\n        \"min\": 8.825674745,\n        \"max\": 43.67549305,\n        \"num_unique_values\": 2200,\n        \"samples\": [\n          29.49401389,\n          26.1793464,\n          43.36051537\n        ],\n        \"semantic_type\": \"\",\n        \"description\": \"\"\n      }\n    },\n    {\n      \"column\": \"humidity\",\n      \"properties\": {\n        \"dtype\": \"number\",\n        \"std\": 22.263811589761083,\n        \"min\": 14.25803981,\n        \"max\": 99.98187601,\n        \"num_unique_values\": 2200,\n        \"samples\": [\n          94.72981338,\n          86.52258079,\n          93.35191636\n        ],\n        \"semantic_type\": \"\",\n        \"description\": \"\"\n      }\n    },\n    {\n      \"column\": \"ph\",\n      \"properties\": {\n        \"dtype\": \"number\",\n        \"std\": 0.7739376880298733,\n        \"min\": 3.504752314,\n        \"max\": 9.93509073,\n        \"num_unique_values\": 2200,\n        \"samples\": [\n          6.185053234,\n          6.25933595,\n          6.941496806\n        ],\n        \"semantic_type\": \"\",\n        \"description\": \"\"\n      }\n    },\n    {\n      \"column\": \"rainfall\",\n      \"properties\": {\n        \"dtype\": \"number\",\n        \"std\": 54.95838852487813,\n        \"min\": 20.21126747,\n        \"max\": 298.5601175,\n        \"num_unique_values\": 2200,\n        \"samples\": [\n          26.30820876,\n          49.43050977,\n          114.778071\n        ],\n        \"semantic_type\": \"\",\n        \"description\": \"\"\n      }\n    },\n    {\n      \"column\": \"label\",\n      \"properties\": {\n        \"dtype\": \"category\",\n        \"num_unique_values\": 22,\n        \"samples\": [\n          \"rice\",\n          \"watermelon\",\n          \"lentil\"\n        ],\n        \"semantic_type\": \"\",\n        \"description\": \"\"\n      }\n    }\n  ]\n}"
            }
          },
          "metadata": {},
          "execution_count": 3
        }
      ]
    },
    {
      "cell_type": "code",
      "source": [
        "df.tail(5)"
      ],
      "metadata": {
        "colab": {
          "base_uri": "https://localhost:8080/",
          "height": 206
        },
        "id": "h0fMz-gJyAdn",
        "outputId": "70723683-caea-4810-f20b-08307075b6f1"
      },
      "execution_count": 4,
      "outputs": [
        {
          "output_type": "execute_result",
          "data": {
            "text/plain": [
              "        N   P   K  temperature   humidity        ph    rainfall   label\n",
              "2195  107  34  32    26.774637  66.413269  6.780064  177.774507  coffee\n",
              "2196   99  15  27    27.417112  56.636362  6.086922  127.924610  coffee\n",
              "2197  118  33  30    24.131797  67.225123  6.362608  173.322839  coffee\n",
              "2198  117  32  34    26.272418  52.127394  6.758793  127.175293  coffee\n",
              "2199  104  18  30    23.603016  60.396475  6.779833  140.937041  coffee"
            ],
            "text/html": [
              "\n",
              "  <div id=\"df-68a58ac4-a97f-498c-8880-f1e0f2e8163e\" class=\"colab-df-container\">\n",
              "    <div>\n",
              "<style scoped>\n",
              "    .dataframe tbody tr th:only-of-type {\n",
              "        vertical-align: middle;\n",
              "    }\n",
              "\n",
              "    .dataframe tbody tr th {\n",
              "        vertical-align: top;\n",
              "    }\n",
              "\n",
              "    .dataframe thead th {\n",
              "        text-align: right;\n",
              "    }\n",
              "</style>\n",
              "<table border=\"1\" class=\"dataframe\">\n",
              "  <thead>\n",
              "    <tr style=\"text-align: right;\">\n",
              "      <th></th>\n",
              "      <th>N</th>\n",
              "      <th>P</th>\n",
              "      <th>K</th>\n",
              "      <th>temperature</th>\n",
              "      <th>humidity</th>\n",
              "      <th>ph</th>\n",
              "      <th>rainfall</th>\n",
              "      <th>label</th>\n",
              "    </tr>\n",
              "  </thead>\n",
              "  <tbody>\n",
              "    <tr>\n",
              "      <th>2195</th>\n",
              "      <td>107</td>\n",
              "      <td>34</td>\n",
              "      <td>32</td>\n",
              "      <td>26.774637</td>\n",
              "      <td>66.413269</td>\n",
              "      <td>6.780064</td>\n",
              "      <td>177.774507</td>\n",
              "      <td>coffee</td>\n",
              "    </tr>\n",
              "    <tr>\n",
              "      <th>2196</th>\n",
              "      <td>99</td>\n",
              "      <td>15</td>\n",
              "      <td>27</td>\n",
              "      <td>27.417112</td>\n",
              "      <td>56.636362</td>\n",
              "      <td>6.086922</td>\n",
              "      <td>127.924610</td>\n",
              "      <td>coffee</td>\n",
              "    </tr>\n",
              "    <tr>\n",
              "      <th>2197</th>\n",
              "      <td>118</td>\n",
              "      <td>33</td>\n",
              "      <td>30</td>\n",
              "      <td>24.131797</td>\n",
              "      <td>67.225123</td>\n",
              "      <td>6.362608</td>\n",
              "      <td>173.322839</td>\n",
              "      <td>coffee</td>\n",
              "    </tr>\n",
              "    <tr>\n",
              "      <th>2198</th>\n",
              "      <td>117</td>\n",
              "      <td>32</td>\n",
              "      <td>34</td>\n",
              "      <td>26.272418</td>\n",
              "      <td>52.127394</td>\n",
              "      <td>6.758793</td>\n",
              "      <td>127.175293</td>\n",
              "      <td>coffee</td>\n",
              "    </tr>\n",
              "    <tr>\n",
              "      <th>2199</th>\n",
              "      <td>104</td>\n",
              "      <td>18</td>\n",
              "      <td>30</td>\n",
              "      <td>23.603016</td>\n",
              "      <td>60.396475</td>\n",
              "      <td>6.779833</td>\n",
              "      <td>140.937041</td>\n",
              "      <td>coffee</td>\n",
              "    </tr>\n",
              "  </tbody>\n",
              "</table>\n",
              "</div>\n",
              "    <div class=\"colab-df-buttons\">\n",
              "\n",
              "  <div class=\"colab-df-container\">\n",
              "    <button class=\"colab-df-convert\" onclick=\"convertToInteractive('df-68a58ac4-a97f-498c-8880-f1e0f2e8163e')\"\n",
              "            title=\"Convert this dataframe to an interactive table.\"\n",
              "            style=\"display:none;\">\n",
              "\n",
              "  <svg xmlns=\"http://www.w3.org/2000/svg\" height=\"24px\" viewBox=\"0 -960 960 960\">\n",
              "    <path d=\"M120-120v-720h720v720H120Zm60-500h600v-160H180v160Zm220 220h160v-160H400v160Zm0 220h160v-160H400v160ZM180-400h160v-160H180v160Zm440 0h160v-160H620v160ZM180-180h160v-160H180v160Zm440 0h160v-160H620v160Z\"/>\n",
              "  </svg>\n",
              "    </button>\n",
              "\n",
              "  <style>\n",
              "    .colab-df-container {\n",
              "      display:flex;\n",
              "      gap: 12px;\n",
              "    }\n",
              "\n",
              "    .colab-df-convert {\n",
              "      background-color: #E8F0FE;\n",
              "      border: none;\n",
              "      border-radius: 50%;\n",
              "      cursor: pointer;\n",
              "      display: none;\n",
              "      fill: #1967D2;\n",
              "      height: 32px;\n",
              "      padding: 0 0 0 0;\n",
              "      width: 32px;\n",
              "    }\n",
              "\n",
              "    .colab-df-convert:hover {\n",
              "      background-color: #E2EBFA;\n",
              "      box-shadow: 0px 1px 2px rgba(60, 64, 67, 0.3), 0px 1px 3px 1px rgba(60, 64, 67, 0.15);\n",
              "      fill: #174EA6;\n",
              "    }\n",
              "\n",
              "    .colab-df-buttons div {\n",
              "      margin-bottom: 4px;\n",
              "    }\n",
              "\n",
              "    [theme=dark] .colab-df-convert {\n",
              "      background-color: #3B4455;\n",
              "      fill: #D2E3FC;\n",
              "    }\n",
              "\n",
              "    [theme=dark] .colab-df-convert:hover {\n",
              "      background-color: #434B5C;\n",
              "      box-shadow: 0px 1px 3px 1px rgba(0, 0, 0, 0.15);\n",
              "      filter: drop-shadow(0px 1px 2px rgba(0, 0, 0, 0.3));\n",
              "      fill: #FFFFFF;\n",
              "    }\n",
              "  </style>\n",
              "\n",
              "    <script>\n",
              "      const buttonEl =\n",
              "        document.querySelector('#df-68a58ac4-a97f-498c-8880-f1e0f2e8163e button.colab-df-convert');\n",
              "      buttonEl.style.display =\n",
              "        google.colab.kernel.accessAllowed ? 'block' : 'none';\n",
              "\n",
              "      async function convertToInteractive(key) {\n",
              "        const element = document.querySelector('#df-68a58ac4-a97f-498c-8880-f1e0f2e8163e');\n",
              "        const dataTable =\n",
              "          await google.colab.kernel.invokeFunction('convertToInteractive',\n",
              "                                                    [key], {});\n",
              "        if (!dataTable) return;\n",
              "\n",
              "        const docLinkHtml = 'Like what you see? Visit the ' +\n",
              "          '<a target=\"_blank\" href=https://colab.research.google.com/notebooks/data_table.ipynb>data table notebook</a>'\n",
              "          + ' to learn more about interactive tables.';\n",
              "        element.innerHTML = '';\n",
              "        dataTable['output_type'] = 'display_data';\n",
              "        await google.colab.output.renderOutput(dataTable, element);\n",
              "        const docLink = document.createElement('div');\n",
              "        docLink.innerHTML = docLinkHtml;\n",
              "        element.appendChild(docLink);\n",
              "      }\n",
              "    </script>\n",
              "  </div>\n",
              "\n",
              "\n",
              "<div id=\"df-f1e20e1c-4466-4d88-9364-83d5f2f8fcaa\">\n",
              "  <button class=\"colab-df-quickchart\" onclick=\"quickchart('df-f1e20e1c-4466-4d88-9364-83d5f2f8fcaa')\"\n",
              "            title=\"Suggest charts\"\n",
              "            style=\"display:none;\">\n",
              "\n",
              "<svg xmlns=\"http://www.w3.org/2000/svg\" height=\"24px\"viewBox=\"0 0 24 24\"\n",
              "     width=\"24px\">\n",
              "    <g>\n",
              "        <path d=\"M19 3H5c-1.1 0-2 .9-2 2v14c0 1.1.9 2 2 2h14c1.1 0 2-.9 2-2V5c0-1.1-.9-2-2-2zM9 17H7v-7h2v7zm4 0h-2V7h2v10zm4 0h-2v-4h2v4z\"/>\n",
              "    </g>\n",
              "</svg>\n",
              "  </button>\n",
              "\n",
              "<style>\n",
              "  .colab-df-quickchart {\n",
              "      --bg-color: #E8F0FE;\n",
              "      --fill-color: #1967D2;\n",
              "      --hover-bg-color: #E2EBFA;\n",
              "      --hover-fill-color: #174EA6;\n",
              "      --disabled-fill-color: #AAA;\n",
              "      --disabled-bg-color: #DDD;\n",
              "  }\n",
              "\n",
              "  [theme=dark] .colab-df-quickchart {\n",
              "      --bg-color: #3B4455;\n",
              "      --fill-color: #D2E3FC;\n",
              "      --hover-bg-color: #434B5C;\n",
              "      --hover-fill-color: #FFFFFF;\n",
              "      --disabled-bg-color: #3B4455;\n",
              "      --disabled-fill-color: #666;\n",
              "  }\n",
              "\n",
              "  .colab-df-quickchart {\n",
              "    background-color: var(--bg-color);\n",
              "    border: none;\n",
              "    border-radius: 50%;\n",
              "    cursor: pointer;\n",
              "    display: none;\n",
              "    fill: var(--fill-color);\n",
              "    height: 32px;\n",
              "    padding: 0;\n",
              "    width: 32px;\n",
              "  }\n",
              "\n",
              "  .colab-df-quickchart:hover {\n",
              "    background-color: var(--hover-bg-color);\n",
              "    box-shadow: 0 1px 2px rgba(60, 64, 67, 0.3), 0 1px 3px 1px rgba(60, 64, 67, 0.15);\n",
              "    fill: var(--button-hover-fill-color);\n",
              "  }\n",
              "\n",
              "  .colab-df-quickchart-complete:disabled,\n",
              "  .colab-df-quickchart-complete:disabled:hover {\n",
              "    background-color: var(--disabled-bg-color);\n",
              "    fill: var(--disabled-fill-color);\n",
              "    box-shadow: none;\n",
              "  }\n",
              "\n",
              "  .colab-df-spinner {\n",
              "    border: 2px solid var(--fill-color);\n",
              "    border-color: transparent;\n",
              "    border-bottom-color: var(--fill-color);\n",
              "    animation:\n",
              "      spin 1s steps(1) infinite;\n",
              "  }\n",
              "\n",
              "  @keyframes spin {\n",
              "    0% {\n",
              "      border-color: transparent;\n",
              "      border-bottom-color: var(--fill-color);\n",
              "      border-left-color: var(--fill-color);\n",
              "    }\n",
              "    20% {\n",
              "      border-color: transparent;\n",
              "      border-left-color: var(--fill-color);\n",
              "      border-top-color: var(--fill-color);\n",
              "    }\n",
              "    30% {\n",
              "      border-color: transparent;\n",
              "      border-left-color: var(--fill-color);\n",
              "      border-top-color: var(--fill-color);\n",
              "      border-right-color: var(--fill-color);\n",
              "    }\n",
              "    40% {\n",
              "      border-color: transparent;\n",
              "      border-right-color: var(--fill-color);\n",
              "      border-top-color: var(--fill-color);\n",
              "    }\n",
              "    60% {\n",
              "      border-color: transparent;\n",
              "      border-right-color: var(--fill-color);\n",
              "    }\n",
              "    80% {\n",
              "      border-color: transparent;\n",
              "      border-right-color: var(--fill-color);\n",
              "      border-bottom-color: var(--fill-color);\n",
              "    }\n",
              "    90% {\n",
              "      border-color: transparent;\n",
              "      border-bottom-color: var(--fill-color);\n",
              "    }\n",
              "  }\n",
              "</style>\n",
              "\n",
              "  <script>\n",
              "    async function quickchart(key) {\n",
              "      const quickchartButtonEl =\n",
              "        document.querySelector('#' + key + ' button');\n",
              "      quickchartButtonEl.disabled = true;  // To prevent multiple clicks.\n",
              "      quickchartButtonEl.classList.add('colab-df-spinner');\n",
              "      try {\n",
              "        const charts = await google.colab.kernel.invokeFunction(\n",
              "            'suggestCharts', [key], {});\n",
              "      } catch (error) {\n",
              "        console.error('Error during call to suggestCharts:', error);\n",
              "      }\n",
              "      quickchartButtonEl.classList.remove('colab-df-spinner');\n",
              "      quickchartButtonEl.classList.add('colab-df-quickchart-complete');\n",
              "    }\n",
              "    (() => {\n",
              "      let quickchartButtonEl =\n",
              "        document.querySelector('#df-f1e20e1c-4466-4d88-9364-83d5f2f8fcaa button');\n",
              "      quickchartButtonEl.style.display =\n",
              "        google.colab.kernel.accessAllowed ? 'block' : 'none';\n",
              "    })();\n",
              "  </script>\n",
              "</div>\n",
              "\n",
              "    </div>\n",
              "  </div>\n"
            ],
            "application/vnd.google.colaboratory.intrinsic+json": {
              "type": "dataframe",
              "summary": "{\n  \"name\": \"df\",\n  \"rows\": 5,\n  \"fields\": [\n    {\n      \"column\": \"N\",\n      \"properties\": {\n        \"dtype\": \"number\",\n        \"std\": 8,\n        \"min\": 99,\n        \"max\": 118,\n        \"num_unique_values\": 5,\n        \"samples\": [\n          99,\n          104,\n          118\n        ],\n        \"semantic_type\": \"\",\n        \"description\": \"\"\n      }\n    },\n    {\n      \"column\": \"P\",\n      \"properties\": {\n        \"dtype\": \"number\",\n        \"std\": 9,\n        \"min\": 15,\n        \"max\": 34,\n        \"num_unique_values\": 5,\n        \"samples\": [\n          15,\n          18,\n          33\n        ],\n        \"semantic_type\": \"\",\n        \"description\": \"\"\n      }\n    },\n    {\n      \"column\": \"K\",\n      \"properties\": {\n        \"dtype\": \"number\",\n        \"std\": 2,\n        \"min\": 27,\n        \"max\": 34,\n        \"num_unique_values\": 4,\n        \"samples\": [\n          27,\n          34,\n          32\n        ],\n        \"semantic_type\": \"\",\n        \"description\": \"\"\n      }\n    },\n    {\n      \"column\": \"temperature\",\n      \"properties\": {\n        \"dtype\": \"number\",\n        \"std\": 1.6785011243388321,\n        \"min\": 23.60301571,\n        \"max\": 27.41711238,\n        \"num_unique_values\": 5,\n        \"samples\": [\n          27.41711238,\n          23.60301571,\n          24.13179691\n        ],\n        \"semantic_type\": \"\",\n        \"description\": \"\"\n      }\n    },\n    {\n      \"column\": \"humidity\",\n      \"properties\": {\n        \"dtype\": \"number\",\n        \"std\": 6.4268019594536305,\n        \"min\": 52.12739421,\n        \"max\": 67.22512329,\n        \"num_unique_values\": 5,\n        \"samples\": [\n          56.63636248,\n          60.39647474,\n          67.22512329\n        ],\n        \"semantic_type\": \"\",\n        \"description\": \"\"\n      }\n    },\n    {\n      \"column\": \"ph\",\n      \"properties\": {\n        \"dtype\": \"number\",\n        \"std\": 0.3157677427867641,\n        \"min\": 6.086922359,\n        \"max\": 6.78006386,\n        \"num_unique_values\": 5,\n        \"samples\": [\n          6.086922359,\n          6.779832611000002,\n          6.362607851\n        ],\n        \"semantic_type\": \"\",\n        \"description\": \"\"\n      }\n    },\n    {\n      \"column\": \"rainfall\",\n      \"properties\": {\n        \"dtype\": \"number\",\n        \"std\": 24.516132077254007,\n        \"min\": 127.1752928,\n        \"max\": 177.7745075,\n        \"num_unique_values\": 5,\n        \"samples\": [\n          127.92461000000002,\n          140.9370415,\n          173.32283859999995\n        ],\n        \"semantic_type\": \"\",\n        \"description\": \"\"\n      }\n    },\n    {\n      \"column\": \"label\",\n      \"properties\": {\n        \"dtype\": \"category\",\n        \"num_unique_values\": 1,\n        \"samples\": [\n          \"coffee\"\n        ],\n        \"semantic_type\": \"\",\n        \"description\": \"\"\n      }\n    }\n  ]\n}"
            }
          },
          "metadata": {},
          "execution_count": 4
        }
      ]
    },
    {
      "cell_type": "code",
      "source": [
        "df.shape"
      ],
      "metadata": {
        "colab": {
          "base_uri": "https://localhost:8080/"
        },
        "id": "jgfco-uKyArE",
        "outputId": "948b1a6d-d20a-4e84-db7e-70551d57c257"
      },
      "execution_count": 5,
      "outputs": [
        {
          "output_type": "execute_result",
          "data": {
            "text/plain": [
              "(2200, 8)"
            ]
          },
          "metadata": {},
          "execution_count": 5
        }
      ]
    },
    {
      "cell_type": "code",
      "source": [
        "df.info()"
      ],
      "metadata": {
        "colab": {
          "base_uri": "https://localhost:8080/"
        },
        "id": "EEvign9c1aws",
        "outputId": "dd9c7735-b216-4155-9161-bc2efcb55817"
      },
      "execution_count": 6,
      "outputs": [
        {
          "output_type": "stream",
          "name": "stdout",
          "text": [
            "<class 'pandas.core.frame.DataFrame'>\n",
            "RangeIndex: 2200 entries, 0 to 2199\n",
            "Data columns (total 8 columns):\n",
            " #   Column       Non-Null Count  Dtype  \n",
            "---  ------       --------------  -----  \n",
            " 0   N            2200 non-null   int64  \n",
            " 1   P            2200 non-null   int64  \n",
            " 2   K            2200 non-null   int64  \n",
            " 3   temperature  2200 non-null   float64\n",
            " 4   humidity     2200 non-null   float64\n",
            " 5   ph           2200 non-null   float64\n",
            " 6   rainfall     2200 non-null   float64\n",
            " 7   label        2200 non-null   object \n",
            "dtypes: float64(4), int64(3), object(1)\n",
            "memory usage: 137.6+ KB\n"
          ]
        }
      ]
    },
    {
      "cell_type": "code",
      "source": [
        "df=pd.read_json('/content/sample_data/anscombe.json')\n",
        "print(df)"
      ],
      "metadata": {
        "colab": {
          "base_uri": "https://localhost:8080/"
        },
        "id": "Aab2L8Wy1a92",
        "outputId": "7007068b-102f-47fc-816e-aad9b6de72cb"
      },
      "execution_count": 7,
      "outputs": [
        {
          "output_type": "stream",
          "name": "stdout",
          "text": [
            "   Series   X      Y\n",
            "0       I  10   8.04\n",
            "1       I   8   6.95\n",
            "2       I  13   7.58\n",
            "3       I   9   8.81\n",
            "4       I  11   8.33\n",
            "5       I  14   9.96\n",
            "6       I   6   7.24\n",
            "7       I   4   4.26\n",
            "8       I  12  10.84\n",
            "9       I   7   4.81\n",
            "10      I   5   5.68\n",
            "11     II  10   9.14\n",
            "12     II   8   8.14\n",
            "13     II  13   8.74\n",
            "14     II   9   8.77\n",
            "15     II  11   9.26\n",
            "16     II  14   8.10\n",
            "17     II   6   6.13\n",
            "18     II   4   3.10\n",
            "19     II  12   9.13\n",
            "20     II   7   7.26\n",
            "21     II   5   4.74\n",
            "22    III  10   7.46\n",
            "23    III   8   6.77\n",
            "24    III  13  12.74\n",
            "25    III   9   7.11\n",
            "26    III  11   7.81\n",
            "27    III  14   8.84\n",
            "28    III   6   6.08\n",
            "29    III   4   5.39\n",
            "30    III  12   8.15\n",
            "31    III   7   6.42\n",
            "32    III   5   5.73\n",
            "33     IV   8   6.58\n",
            "34     IV   8   5.76\n",
            "35     IV   8   7.71\n",
            "36     IV   8   8.84\n",
            "37     IV   8   8.47\n",
            "38     IV   8   7.04\n",
            "39     IV   8   5.25\n",
            "40     IV  19  12.50\n",
            "41     IV   8   5.56\n",
            "42     IV   8   7.91\n",
            "43     IV   8   6.89\n"
          ]
        }
      ]
    },
    {
      "cell_type": "code",
      "source": [
        "new_df=df.dropna()\n",
        "print(new_df.to_string())"
      ],
      "metadata": {
        "colab": {
          "base_uri": "https://localhost:8080/"
        },
        "id": "_Nqp_paG1ue-",
        "outputId": "a1eb62f5-9525-4c5d-dbae-5d15b1cfdfae"
      },
      "execution_count": 8,
      "outputs": [
        {
          "output_type": "stream",
          "name": "stdout",
          "text": [
            "   Series   X      Y\n",
            "0       I  10   8.04\n",
            "1       I   8   6.95\n",
            "2       I  13   7.58\n",
            "3       I   9   8.81\n",
            "4       I  11   8.33\n",
            "5       I  14   9.96\n",
            "6       I   6   7.24\n",
            "7       I   4   4.26\n",
            "8       I  12  10.84\n",
            "9       I   7   4.81\n",
            "10      I   5   5.68\n",
            "11     II  10   9.14\n",
            "12     II   8   8.14\n",
            "13     II  13   8.74\n",
            "14     II   9   8.77\n",
            "15     II  11   9.26\n",
            "16     II  14   8.10\n",
            "17     II   6   6.13\n",
            "18     II   4   3.10\n",
            "19     II  12   9.13\n",
            "20     II   7   7.26\n",
            "21     II   5   4.74\n",
            "22    III  10   7.46\n",
            "23    III   8   6.77\n",
            "24    III  13  12.74\n",
            "25    III   9   7.11\n",
            "26    III  11   7.81\n",
            "27    III  14   8.84\n",
            "28    III   6   6.08\n",
            "29    III   4   5.39\n",
            "30    III  12   8.15\n",
            "31    III   7   6.42\n",
            "32    III   5   5.73\n",
            "33     IV   8   6.58\n",
            "34     IV   8   5.76\n",
            "35     IV   8   7.71\n",
            "36     IV   8   8.84\n",
            "37     IV   8   8.47\n",
            "38     IV   8   7.04\n",
            "39     IV   8   5.25\n",
            "40     IV  19  12.50\n",
            "41     IV   8   5.56\n",
            "42     IV   8   7.91\n",
            "43     IV   8   6.89\n"
          ]
        }
      ]
    },
    {
      "cell_type": "code",
      "source": [
        "df.fillna(20,inplace=True)"
      ],
      "metadata": {
        "id": "SBVfPh8t1uur"
      },
      "execution_count": 11,
      "outputs": []
    },
    {
      "cell_type": "code",
      "source": [
        "df['X'].fillna(100,inplace=True)"
      ],
      "metadata": {
        "id": "J3FNSOHo1u58"
      },
      "execution_count": 13,
      "outputs": []
    },
    {
      "cell_type": "code",
      "source": [
        "df_new=df.drop_duplicates()"
      ],
      "metadata": {
        "id": "MTfS6Jbw2lz8"
      },
      "execution_count": 16,
      "outputs": []
    },
    {
      "cell_type": "code",
      "source": [
        "#Data Mainipulation and Agreegation\n",
        "\n",
        "avg_sale=new_df.groupby('Series')\n",
        "print(avg_sale)"
      ],
      "metadata": {
        "colab": {
          "base_uri": "https://localhost:8080/"
        },
        "id": "Gknz4r-32mEb",
        "outputId": "e8f30def-9209-41eb-c440-e15023e9a046"
      },
      "execution_count": 18,
      "outputs": [
        {
          "output_type": "stream",
          "name": "stdout",
          "text": [
            "<pandas.core.groupby.generic.DataFrameGroupBy object at 0x7d57f583eec0>\n"
          ]
        }
      ]
    },
    {
      "cell_type": "code",
      "source": [
        "#Data Visualization\n",
        "import pandas as pd\n",
        "import matplotlib.pyplot as plt\n",
        "data={'Date':['2024-05-21','2024-05-22','2024-04-02'],\n",
        "      'Price':[100,200,300]}\n",
        "df=pd.DataFrame(data)\n",
        "df['Date']=pd.to_datetime(df['Date'])\n",
        "df.plot(x='Date',y='Price',kind='line')\n",
        "plt.xlabel('Date')\n",
        "plt.ylabel('Price')\n",
        "plt.show()\n"
      ],
      "metadata": {
        "colab": {
          "base_uri": "https://localhost:8080/",
          "height": 444
        },
        "id": "FOCmsHM02mGL",
        "outputId": "be08b585-13fe-4689-cf6b-61e1ca22b4e9"
      },
      "execution_count": 23,
      "outputs": [
        {
          "output_type": "display_data",
          "data": {
            "text/plain": [
              "<Figure size 640x480 with 1 Axes>"
            ],
            "image/png": "[encoded data removed]"
          },
          "metadata": {}
        }
      ]
    },
    {
      "cell_type": "code",
      "source": [
        "data={'Hours_studies':[2,5,6,7,8,9],\n",
        "      'Exam_score':[60,70,90,87,93,97]}\n",
        "df=pd.DataFrame(data)\n",
        "df.plot(x='Hours_studies',y='Exam_score',kind='scatter')\n",
        "plt.show()\n"
      ],
      "metadata": {
        "colab": {
          "base_uri": "https://localhost:8080/",
          "height": 450
        },
        "id": "EXOf6WHM2mJa",
        "outputId": "2b393e3d-91ac-4ff9-c993-de6cc1d04759"
      },
      "execution_count": 24,
      "outputs": [
        {
          "output_type": "display_data",
          "data": {
            "text/plain": [
              "<Figure size 640x480 with 1 Axes>"
            ],
            "image/png": "[encoded data removed]"
          },
          "metadata": {}
        }
      ]
    },
    {
      "cell_type": "code",
      "source": [
        "data={'Topping':['pepperoni','mushroom','olive','sausage'],\n",
        "      'Count':[30,20,25,28]}\n",
        "df=pd.DataFrame(data)\n",
        "df.plot(x='Topping',y='Count',kind='pie')\n",
        "plt.show()\n"
      ],
      "metadata": {
        "colab": {
          "base_uri": "https://localhost:8080/",
          "height": 406
        },
        "id": "7hTZEsf7-kSQ",
        "outputId": "2da50118-f8e1-4ab1-924d-9139e975890b"
      },
      "execution_count": 25,
      "outputs": [
        {
          "output_type": "display_data",
          "data": {
            "text/plain": [
              "<Figure size 640x480 with 1 Axes>"
            ],
            "image/png": "[encoded data removed]"
          },
          "metadata": {}
        }
      ]
    },
    {
      "cell_type": "code",
      "source": [
        "#Numpy Library\n",
        "\n",
        "import numpy as np\n",
        "nums=[1,2,3,4,5]\n",
        "array1=np.array(nums)\n",
        "print(array1)\n"
      ],
      "metadata": {
        "colab": {
          "base_uri": "https://localhost:8080/"
        },
        "id": "hLcK9Zvm-k0M",
        "outputId": "2adb1970-8b2f-4d67-a659-52e95970dcc6"
      },
      "execution_count": 26,
      "outputs": [
        {
          "output_type": "stream",
          "name": "stdout",
          "text": [
            "[1 2 3 4 5]\n"
          ]
        }
      ]
    },
    {
      "cell_type": "code",
      "source": [
        "zero_array=np.zeros(5)\n",
        "print(zero_array)"
      ],
      "metadata": {
        "colab": {
          "base_uri": "https://localhost:8080/"
        },
        "id": "nAIXYttyC38q",
        "outputId": "c0f24bd5-a91a-44c4-fefc-f81d288848c0"
      },
      "execution_count": 27,
      "outputs": [
        {
          "output_type": "stream",
          "name": "stdout",
          "text": [
            "[0. 0. 0. 0. 0.]\n"
          ]
        }
      ]
    },
    {
      "cell_type": "code",
      "source": [
        "n_array=np.ones(3)\n",
        "print(n_array)"
      ],
      "metadata": {
        "colab": {
          "base_uri": "https://localhost:8080/"
        },
        "id": "5zSzYJfXC4IP",
        "outputId": "7f2d3c70-95a7-487b-a278-59c4ff9df2cf"
      },
      "execution_count": 28,
      "outputs": [
        {
          "output_type": "stream",
          "name": "stdout",
          "text": [
            "[1. 1. 1.]\n"
          ]
        }
      ]
    },
    {
      "cell_type": "code",
      "source": [
        "range_array=np.arange(1,10,2)\n",
        "print(range_array)\n"
      ],
      "metadata": {
        "colab": {
          "base_uri": "https://localhost:8080/"
        },
        "id": "-s4Qvb_MDJJJ",
        "outputId": "5343d7cf-1bae-498a-f807-c5db2c4baa2b"
      },
      "execution_count": 29,
      "outputs": [
        {
          "output_type": "stream",
          "name": "stdout",
          "text": [
            "[1 3 5 7 9]\n"
          ]
        }
      ]
    },
    {
      "cell_type": "code",
      "source": [
        "random_array=np.random.randint(1,100,5)\n",
        "print(random_array)"
      ],
      "metadata": {
        "colab": {
          "base_uri": "https://localhost:8080/"
        },
        "id": "6OC3b9L2DJUR",
        "outputId": "d542b71b-fa51-4145-b116-9544c8876562"
      },
      "execution_count": 31,
      "outputs": [
        {
          "output_type": "stream",
          "name": "stdout",
          "text": [
            "[26 33 64 18 53]\n"
          ]
        }
      ]
    },
    {
      "cell_type": "code",
      "source": [
        "random_matrix=np.random.rand(3,3)\n",
        "print(random_matrix)"
      ],
      "metadata": {
        "colab": {
          "base_uri": "https://localhost:8080/"
        },
        "id": "8BCaahKmDdKm",
        "outputId": "5e8c8bce-f7f3-4945-9c2a-162b46bc7dc3"
      },
      "execution_count": 35,
      "outputs": [
        {
          "output_type": "stream",
          "name": "stdout",
          "text": [
            "[[0.09178534 0.76069552 0.68590046]\n",
            " [0.72713721 0.70595    0.23080975]\n",
            " [0.69515556 0.35149337 0.19258678]]\n"
          ]
        }
      ]
    },
    {
      "cell_type": "code",
      "source": [
        "shape=range_array.shape\n",
        "print(shape)"
      ],
      "metadata": {
        "colab": {
          "base_uri": "https://localhost:8080/"
        },
        "id": "Br8UQhJjDdW9",
        "outputId": "3981be76-e6a0-4592-8e4a-659709bcfd9f"
      },
      "execution_count": 36,
      "outputs": [
        {
          "output_type": "stream",
          "name": "stdout",
          "text": [
            "(5,)\n"
          ]
        }
      ]
    },
    {
      "cell_type": "code",
      "source": [
        "size=range_array.size\n",
        "print(size)"
      ],
      "metadata": {
        "colab": {
          "base_uri": "https://localhost:8080/"
        },
        "id": "mJ_0GR-LEZwD",
        "outputId": "21b71b75-240f-4edf-a4bd-33abaea87074"
      },
      "execution_count": 38,
      "outputs": [
        {
          "output_type": "stream",
          "name": "stdout",
          "text": [
            "5\n"
          ]
        }
      ]
    },
    {
      "cell_type": "code",
      "source": [
        "dtype=range_array.dtype\n",
        "print(dtype)"
      ],
      "metadata": {
        "colab": {
          "base_uri": "https://localhost:8080/"
        },
        "id": "WsIEIZEgEZ-p",
        "outputId": "5248fd82-cae9-49d5-c3f3-8119d9b5931c"
      },
      "execution_count": 39,
      "outputs": [
        {
          "output_type": "stream",
          "name": "stdout",
          "text": [
            "int64\n"
          ]
        }
      ]
    },
    {
      "cell_type": "code",
      "source": [
        "#Array Operations\n",
        "import numpy as np\n",
        "array1=np.array([1,2,3,4,5])\n",
        "array2=np.array([6,7,8,9,10])\n",
        "sum=array1+array2\n",
        "print(sum)\n"
      ],
      "metadata": {
        "colab": {
          "base_uri": "https://localhost:8080/"
        },
        "id": "0YC-dU0DE1EE",
        "outputId": "13d7f15a-2457-4ed3-dcd8-92e0d4db0e30"
      },
      "execution_count": 40,
      "outputs": [
        {
          "output_type": "stream",
          "name": "stdout",
          "text": [
            "[ 7  9 11 13 15]\n"
          ]
        }
      ]
    },
    {
      "cell_type": "code",
      "source": [
        "sub=array2-array1\n",
        "print(sub)"
      ],
      "metadata": {
        "colab": {
          "base_uri": "https://localhost:8080/"
        },
        "id": "B9yC_CztE1Rs",
        "outputId": "0c3983a9-48e3-4ec6-9d97-79b0c8ae38d5"
      },
      "execution_count": 41,
      "outputs": [
        {
          "output_type": "stream",
          "name": "stdout",
          "text": [
            "[5 5 5 5 5]\n"
          ]
        }
      ]
    },
    {
      "cell_type": "code",
      "source": [
        "mul=array1*array2\n",
        "print(mul)\n"
      ],
      "metadata": {
        "colab": {
          "base_uri": "https://localhost:8080/"
        },
        "id": "EW-7d7ugFiZE",
        "outputId": "e75b0506-66a4-4cfa-dd9c-c5e456a8626b"
      },
      "execution_count": 42,
      "outputs": [
        {
          "output_type": "stream",
          "name": "stdout",
          "text": [
            "[ 6 14 24 36 50]\n"
          ]
        }
      ]
    },
    {
      "cell_type": "code",
      "source": [
        "div=array1/array2\n",
        "print(div)"
      ],
      "metadata": {
        "colab": {
          "base_uri": "https://localhost:8080/"
        },
        "id": "jtDx6pghFimQ",
        "outputId": "53e1b9c3-6baf-49d2-fc12-6b44d477f02c"
      },
      "execution_count": 43,
      "outputs": [
        {
          "output_type": "stream",
          "name": "stdout",
          "text": [
            "[0.16666667 0.28571429 0.375      0.44444444 0.5       ]\n"
          ]
        }
      ]
    },
    {
      "cell_type": "code",
      "source": [
        "mean=np.mean(array1)\n",
        "print(mean)"
      ],
      "metadata": {
        "colab": {
          "base_uri": "https://localhost:8080/"
        },
        "id": "9MQMiqbAFybS",
        "outputId": "8419c2a9-20e0-4e2a-d88c-4111d7cbe806"
      },
      "execution_count": 44,
      "outputs": [
        {
          "output_type": "stream",
          "name": "stdout",
          "text": [
            "3.0\n"
          ]
        }
      ]
    },
    {
      "cell_type": "code",
      "source": [
        "sum=np.sum(array1)\n",
        "print(sum)"
      ],
      "metadata": {
        "colab": {
          "base_uri": "https://localhost:8080/"
        },
        "id": "o2NbUW3iFylS",
        "outputId": "d3093172-0268-41df-9571-a1d4466de66b"
      },
      "execution_count": 45,
      "outputs": [
        {
          "output_type": "stream",
          "name": "stdout",
          "text": [
            "15\n"
          ]
        }
      ]
    },
    {
      "cell_type": "code",
      "source": [
        "max=np.max(array1)\n",
        "print(max)\n"
      ],
      "metadata": {
        "colab": {
          "base_uri": "https://localhost:8080/"
        },
        "id": "DHWMRqP9FyxA",
        "outputId": "967c38eb-6e4f-4b7d-f8e7-e296c30314f0"
      },
      "execution_count": 46,
      "outputs": [
        {
          "output_type": "stream",
          "name": "stdout",
          "text": [
            "5\n"
          ]
        }
      ]
    },
    {
      "cell_type": "code",
      "source": [
        "min=np.min(array1)\n",
        "print(array1)"
      ],
      "metadata": {
        "colab": {
          "base_uri": "https://localhost:8080/"
        },
        "id": "6aCJLe4cGZek",
        "outputId": "aecd8c49-67dd-4757-e58a-469bab96627e"
      },
      "execution_count": 47,
      "outputs": [
        {
          "output_type": "stream",
          "name": "stdout",
          "text": [
            "[1 2 3 4 5]\n"
          ]
        }
      ]
    },
    {
      "cell_type": "code",
      "source": [
        "greater_than=array1>3\n",
        "print(greater_than)"
      ],
      "metadata": {
        "colab": {
          "base_uri": "https://localhost:8080/"
        },
        "id": "g722QB_aGZwK",
        "outputId": "792279aa-4654-4d1d-8832-97537fbad532"
      },
      "execution_count": 48,
      "outputs": [
        {
          "output_type": "stream",
          "name": "stdout",
          "text": [
            "[False False False  True  True]\n"
          ]
        }
      ]
    },
    {
      "cell_type": "code",
      "source": [
        "#Indexing and Slicing\n",
        "\n",
        "import numpy as np\n",
        "array1=np.array([10,20,30,40,50])\n",
        "secondelement=array1[1]\n",
        "print(secondelement)"
      ],
      "metadata": {
        "colab": {
          "base_uri": "https://localhost:8080/"
        },
        "id": "sAq6NmpLGw_k",
        "outputId": "ffe6bd59-ffdd-418f-c315-a8642638789d"
      },
      "execution_count": 52,
      "outputs": [
        {
          "output_type": "stream",
          "name": "stdout",
          "text": [
            "20\n"
          ]
        }
      ]
    },
    {
      "cell_type": "code",
      "source": [
        "print(array1[-2])"
      ],
      "metadata": {
        "colab": {
          "base_uri": "https://localhost:8080/"
        },
        "id": "0UcXFMc2GxJF",
        "outputId": "272c4d74-453d-49ce-c1a2-fce62bb02d02"
      },
      "execution_count": 53,
      "outputs": [
        {
          "output_type": "stream",
          "name": "stdout",
          "text": [
            "40\n"
          ]
        }
      ]
    },
    {
      "cell_type": "code",
      "source": [
        "slice_array=array1[1:4]\n",
        "print(slice_array)\n"
      ],
      "metadata": {
        "colab": {
          "base_uri": "https://localhost:8080/"
        },
        "id": "m7AoWFbGGxVJ",
        "outputId": "3f8dce2a-e93e-457b-ca67-a869496c5fc3"
      },
      "execution_count": 54,
      "outputs": [
        {
          "output_type": "stream",
          "name": "stdout",
          "text": [
            "[20 30 40]\n"
          ]
        }
      ]
    },
    {
      "cell_type": "code",
      "source": [
        "step_array1=array1[::2]\n",
        "print(step_array1)\n"
      ],
      "metadata": {
        "colab": {
          "base_uri": "https://localhost:8080/"
        },
        "id": "IY9YvJD-GxgP",
        "outputId": "740acaf7-363a-4cbe-ba3c-5c90d4e4b636"
      },
      "execution_count": 56,
      "outputs": [
        {
          "output_type": "stream",
          "name": "stdout",
          "text": [
            "[10 30 50]\n"
          ]
        }
      ]
    },
    {
      "cell_type": "code",
      "source": [
        "matrix=np.array([[10,20,30,40,50],\n",
        "               [60,70,80,90,100],\n",
        "              [110,120,130,140,150]])\n",
        "element=matrix[1,1]\n",
        "print(matrix)"
      ],
      "metadata": {
        "colab": {
          "base_uri": "https://localhost:8080/"
        },
        "id": "1EKUdA_sH1vp",
        "outputId": "e00cf9c2-51eb-473f-b84d-6c435142caba"
      },
      "execution_count": 57,
      "outputs": [
        {
          "output_type": "stream",
          "name": "stdout",
          "text": [
            "[[ 10  20  30  40  50]\n",
            " [ 60  70  80  90 100]\n",
            " [110 120 130 140 150]]\n"
          ]
        }
      ]
    },
    {
      "cell_type": "code",
      "source": [
        "second_row=matrix[:2]\n",
        "print(second_row)"
      ],
      "metadata": {
        "colab": {
          "base_uri": "https://localhost:8080/"
        },
        "id": "68pa02nlH1_V",
        "outputId": "6c03ea69-a4b1-4f79-c4c7-251e3d8cf7c7"
      },
      "execution_count": 58,
      "outputs": [
        {
          "output_type": "stream",
          "name": "stdout",
          "text": [
            "[[ 10  20  30  40  50]\n",
            " [ 60  70  80  90 100]]\n"
          ]
        }
      ]
    },
    {
      "cell_type": "code",
      "source": [
        "data=np.array([1,2,3,np.nan,4,5])\n",
        "missing=np.isnan(data)\n",
        "print(missing)"
      ],
      "metadata": {
        "colab": {
          "base_uri": "https://localhost:8080/"
        },
        "id": "0AzrYurcH2LZ",
        "outputId": "a9c66260-58e5-4403-c474-db49ac79ca93"
      },
      "execution_count": 59,
      "outputs": [
        {
          "output_type": "stream",
          "name": "stdout",
          "text": [
            "[False False False  True False False]\n"
          ]
        }
      ]
    },
    {
      "cell_type": "code",
      "source": [
        "data_fill=np.nan_to_num(data,nan=100)\n",
        "print(data_fill)\n"
      ],
      "metadata": {
        "colab": {
          "base_uri": "https://localhost:8080/"
        },
        "id": "9oWbj9RsKEwn",
        "outputId": "0355fc41-37a4-4e9b-e229-9aac867fe137"
      },
      "execution_count": 60,
      "outputs": [
        {
          "output_type": "stream",
          "name": "stdout",
          "text": [
            "[  1.   2.   3. 100.   4.   5.]\n"
          ]
        }
      ]
    },
    {
      "cell_type": "code",
      "source": [
        "#Linear Algebra and Statistics\n",
        "\n",
        "import numpy as np\n",
        "array1=np.array(([1,2],[3,4]))\n",
        "array2=np.array(([5,6],[7,8]))\n",
        "mul=np.dot(array1,array2)\n",
        "print(mul)\n",
        "\n",
        "\n"
      ],
      "metadata": {
        "colab": {
          "base_uri": "https://localhost:8080/"
        },
        "id": "nXdEWIYjKE8-",
        "outputId": "3c995c87-7198-4f97-ba6e-85c897e8ed1d"
      },
      "execution_count": 61,
      "outputs": [
        {
          "output_type": "stream",
          "name": "stdout",
          "text": [
            "[[19 22]\n",
            " [43 50]]\n"
          ]
        }
      ]
    },
    {
      "cell_type": "code",
      "source": [
        "invr=np.linalg.eig(array1)\n",
        "print(invr)"
      ],
      "metadata": {
        "colab": {
          "base_uri": "https://localhost:8080/"
        },
        "id": "ZX8MtHrSLWW8",
        "outputId": "486b1ecf-b2b4-4bba-a4ee-121a16f09693"
      },
      "execution_count": 62,
      "outputs": [
        {
          "output_type": "stream",
          "name": "stdout",
          "text": [
            "EigResult(eigenvalues=array([-0.37228132,  5.37228132]), eigenvectors=array([[-0.82456484, -0.41597356],\n",
            "       [ 0.56576746, -0.90937671]]))\n"
          ]
        }
      ]
    },
    {
      "cell_type": "code",
      "source": [
        "data=np.array([1,2,3,4,5])\n",
        "mean=np.mean(data)\n",
        "std_dev=np.std(data)\n",
        "print(mean)\n",
        "print(std_dev)"
      ],
      "metadata": {
        "colab": {
          "base_uri": "https://localhost:8080/"
        },
        "id": "TnM0gx2oLWhk",
        "outputId": "d877b943-7b1e-4718-86bc-b55b861f4a01"
      },
      "execution_count": 65,
      "outputs": [
        {
          "output_type": "stream",
          "name": "stdout",
          "text": [
            "3.0\n",
            "1.4142135623730951\n"
          ]
        }
      ]
    },
    {
      "cell_type": "code",
      "source": [
        "data2=np.array([11,12,13,14,15])\n",
        "cor=np.corrcoef(data,data2)\n",
        "print(cor)\n"
      ],
      "metadata": {
        "colab": {
          "base_uri": "https://localhost:8080/"
        },
        "id": "V1aPrpnaLWuG",
        "outputId": "5f759949-ce97-4bb0-d34a-4c1e47191d0d"
      },
      "execution_count": 67,
      "outputs": [
        {
          "output_type": "stream",
          "name": "stdout",
          "text": [
            "[[1. 1.]\n",
            " [1. 1.]]\n"
          ]
        }
      ]
    }
  ]
}